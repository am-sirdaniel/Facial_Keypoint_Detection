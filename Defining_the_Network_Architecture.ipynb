{
 "cells": [
  {
   "cell_type": "markdown",
   "metadata": {
    "colab_type": "text",
    "id": "LG00NGfNjOny"
   },
   "source": [
    "## Define the Convolutional Neural Network\n",
    "\n",
    "After you've looked at the data you're working with and, in this case, know the shapes of the images and of the keypoints, you are ready to define a convolutional neural network that can *learn* from this data.\n",
    "\n",
    "In this notebook and in `models.py`, you will:\n",
    "1. Define a CNN with images as input and keypoints as output\n",
    "2. Construct the transformed FaceKeypointsDataset, just as before\n",
    "3. Train the CNN on the training data, tracking loss\n",
    "4. See how the trained model performs on test data\n",
    "5. If necessary, modify the CNN structure and model hyperparameters, so that it performs *well* **\\***\n",
    "\n",
    "**\\*** What does *well* mean?\n",
    "\n",
    "\"Well\" means that the model's loss decreases during training **and**, when applied to test image data, the model produces keypoints that closely match the true keypoints of each face. And you'll see examples of this later in the notebook.\n",
    "\n",
    "---\n"
   ]
  },
  {
   "cell_type": "markdown",
   "metadata": {
    "colab_type": "text",
    "id": "O_MkwdkmjOnz"
   },
   "source": [
    "## CNN Architecture\n",
    "\n",
    "Recall that CNN's are defined by a few types of layers:\n",
    "* Convolutional layers\n",
    "* Maxpooling layers\n",
    "* Fully-connected layers\n",
    "\n",
    "You are required to use the above layers and encouraged to add multiple convolutional layers and things like dropout layers that may prevent overfitting. You are also encouraged to look at literature on keypoint detection, such as [this paper](https://arxiv.org/pdf/1710.00977.pdf), to help you determine the structure of your network.\n",
    "\n",
    "\n",
    "### TODO: Define your model in the provided file `models.py` file\n",
    "\n",
    "This file is mostly empty but contains the expected name and some TODO's for creating your model.\n",
    "\n",
    "---"
   ]
  },
  {
   "cell_type": "markdown",
   "metadata": {
    "colab_type": "text",
    "id": "SwCRY3OSjOn0"
   },
   "source": [
    "## PyTorch Neural Nets\n",
    "\n",
    "To define a neural network in PyTorch, you define the layers of a model in the function `__init__` and define the feedforward behavior of a network that employs those initialized layers in the function `forward`, which takes in an input image tensor, `x`. The structure of this Net class is shown below and left for you to fill in.\n",
    "\n",
    "Note: During training, PyTorch will be able to perform backpropagation by keeping track of the network's feedforward behavior and using autograd to calculate the update to the weights in the network.\n",
    "\n",
    "#### Define the Layers in ` __init__`\n",
    "As a reminder, a conv/pool layer may be defined like this (in `__init__`):\n",
    "```\n",
    "# 1 input image channel (for grayscale images), 32 output channels/feature maps, 3x3 square convolution kernel\n",
    "self.conv1 = nn.Conv2d(1, 32, 3)\n",
    "\n",
    "# maxpool that uses a square window of kernel_size=2, stride=2\n",
    "self.pool = nn.MaxPool2d(2, 2)      \n",
    "```\n",
    "\n",
    "#### Refer to Layers in `forward`\n",
    "Then referred to in the `forward` function like this, in which the conv1 layer has a ReLu activation applied to it before maxpooling is applied:\n",
    "```\n",
    "x = self.pool(F.relu(self.conv1(x)))\n",
    "```\n",
    "\n",
    "Best practice is to place any layers whose weights will change during the training process in `__init__` and refer to them in the `forward` function; any layers or functions that always behave in the same way, such as a pre-defined activation function, should appear *only* in the `forward` function."
   ]
  },
  {
   "cell_type": "markdown",
   "metadata": {
    "colab_type": "text",
    "id": "9TcbX_6mjOn1"
   },
   "source": [
    "#### Why models.py\n",
    "\n",
    "You are tasked with defining the network in the `models.py` file so that any models you define can be saved and loaded by name in different notebooks in this project directory. For example, by defining a CNN class called `Net` in `models.py`, you can then create that same architecture in this and other notebooks by simply importing the class and instantiating a model:\n",
    "```\n",
    "    from models import Net\n",
    "    net = Net()\n",
    "```"
   ]
  },
  {
   "cell_type": "code",
   "execution_count": 1,
   "metadata": {
    "colab": {
     "base_uri": "https://localhost:8080/",
     "height": 121
    },
    "colab_type": "code",
    "id": "B-qsN_kzn3ha",
    "outputId": "720187f4-9399-4292-c3c0-75edf2e96be0"
   },
   "outputs": [
    {
     "name": "stdout",
     "output_type": "stream",
     "text": [
      "Go to this URL in a browser: https://accounts.google.com/o/oauth2/auth?client_id=947318989803-6bn6qk8qdgf4n4g3pfee6491hc0brc4i.apps.googleusercontent.com&redirect_uri=urn%3aietf%3awg%3aoauth%3a2.0%3aoob&response_type=code&scope=email%20https%3a%2f%2fwww.googleapis.com%2fauth%2fdocs.test%20https%3a%2f%2fwww.googleapis.com%2fauth%2fdrive%20https%3a%2f%2fwww.googleapis.com%2fauth%2fdrive.photos.readonly%20https%3a%2f%2fwww.googleapis.com%2fauth%2fpeopleapi.readonly\n",
      "\n",
      "Enter your authorization code:\n",
      "··········\n",
      "Mounted at /content/drive\n"
     ]
    }
   ],
   "source": [
    "from google.colab import drive\n",
    "drive.mount('/content/drive')"
   ]
  },
  {
   "cell_type": "code",
   "execution_count": 3,
   "metadata": {
    "colab": {
     "base_uri": "https://localhost:8080/",
     "height": 50
    },
    "colab_type": "code",
    "id": "c0kGncwXn9Fq",
    "outputId": "9bc835bc-5599-45d1-d9b3-58072b050d4f"
   },
   "outputs": [
    {
     "name": "stdout",
     "output_type": "stream",
     "text": [
      "[Errno 2] No such file or directory: 'drive/My Drive/Assignment_1_Facial_Keypoints'\n",
      "/content/drive/My Drive/Assignment_1_Facial_Keypoints\n"
     ]
    }
   ],
   "source": [
    "cd drive/My\\ Drive/Assignment_1_Facial_Keypoints"
   ]
  },
  {
   "cell_type": "code",
   "execution_count": 118,
   "metadata": {
    "colab": {
     "base_uri": "https://localhost:8080/",
     "height": 50
    },
    "colab_type": "code",
    "id": "YgRzevHIjOn1",
    "outputId": "f49b2c74-5db5-421e-c53c-9ded42820c63"
   },
   "outputs": [
    {
     "name": "stdout",
     "output_type": "stream",
     "text": [
      "The autoreload extension is already loaded. To reload it, use:\n",
      "  %reload_ext autoreload\n"
     ]
    }
   ],
   "source": [
    "# import the usual resources\n",
    "import matplotlib.pyplot as plt\n",
    "import numpy as np\n",
    "\n",
    "# watch for any changes in model.py, if it changes, re-load it automatically\n",
    "%load_ext autoreload\n",
    "%autoreload 2"
   ]
  },
  {
   "cell_type": "code",
   "execution_count": 119,
   "metadata": {
    "colab": {
     "base_uri": "https://localhost:8080/",
     "height": 336
    },
    "colab_type": "code",
    "id": "W48hQE3KjOn5",
    "outputId": "b2d0d828-7f23-4243-f1ca-7729c0ca3545"
   },
   "outputs": [
    {
     "name": "stdout",
     "output_type": "stream",
     "text": [
      "Net(\n",
      "  (conv1): Conv2d(1, 32, kernel_size=(4, 4), stride=(1, 1))\n",
      "  (conv2): Conv2d(32, 64, kernel_size=(3, 3), stride=(1, 1))\n",
      "  (conv3): Conv2d(64, 128, kernel_size=(2, 2), stride=(1, 1))\n",
      "  (conv4): Conv2d(128, 256, kernel_size=(1, 1), stride=(1, 1))\n",
      "  (pool1): MaxPool2d(kernel_size=2, stride=2, padding=0, dilation=1, ceil_mode=False)\n",
      "  (pool2): MaxPool2d(kernel_size=2, stride=2, padding=0, dilation=1, ceil_mode=False)\n",
      "  (pool3): MaxPool2d(kernel_size=2, stride=2, padding=0, dilation=1, ceil_mode=False)\n",
      "  (pool4): MaxPool2d(kernel_size=2, stride=2, padding=0, dilation=1, ceil_mode=False)\n",
      "  (dropout1): Dropout2d(p=0.1, inplace=False)\n",
      "  (dropout2): Dropout2d(p=0.2, inplace=False)\n",
      "  (dropout3): Dropout2d(p=0.3, inplace=False)\n",
      "  (dropout4): Dropout2d(p=0.4, inplace=False)\n",
      "  (dropout5): Dropout2d(p=0.5, inplace=False)\n",
      "  (dropout6): Dropout2d(p=0.6, inplace=False)\n",
      "  (fc1): Linear(in_features=43264, out_features=1000, bias=True)\n",
      "  (fc2): Linear(in_features=1000, out_features=1000, bias=True)\n",
      "  (fc3): Linear(in_features=1000, out_features=136, bias=True)\n",
      ")\n"
     ]
    }
   ],
   "source": [
    "## TODO: Define the Net in models.py\n",
    "\n",
    "import torch\n",
    "import torch.nn as nn\n",
    "import torch.nn.functional as F\n",
    "\n",
    "## TODO: Once you've define the network, you can instantiate it\n",
    "# one example conv layer has been provided for you\n",
    "from models import Net\n",
    "\n",
    "net = Net().cuda() #take model to GPU\n",
    "device = 'cuda:0'\n",
    "print(net)"
   ]
  },
  {
   "cell_type": "markdown",
   "metadata": {
    "colab_type": "text",
    "collapsed": true,
    "id": "Awn-HEcEjOn7"
   },
   "source": [
    "## Transform the dataset \n",
    "\n",
    "To prepare for training, create a transformed dataset of images and keypoints.\n",
    "\n",
    "### TODO: Define a data transform\n",
    "\n",
    "In PyTorch, a convolutional neural network expects a torch image of a consistent size as input. For efficient training, and so your model's loss does not blow up during training, it is also suggested that you normalize the input images and keypoints. The necessary transforms have been defined in `data_load.py` and you **do not** need to modify these; take a look at this file (you'll see the same transforms that were defined and applied in Notebook 1).\n",
    "\n",
    "To define the data transform below, use a [composition](http://pytorch.org/tutorials/beginner/data_loading_tutorial.html#compose-transforms) of:\n",
    "1. Rescaling and/or cropping the data, such that you are left with a square image (the suggested size is 224x224px)\n",
    "2. Normalizing the images and keypoints; turning each RGB image into a grayscale image with a color range of [0, 1] and transforming the given keypoints into a range of [-1, 1]\n",
    "3. Turning these images and keypoints into Tensors\n",
    "\n",
    "These transformations have been defined in `data_load.py`, but it's up to you to call them and create a `data_transform` below. **This transform will be applied to the training data and, later, the test data**. It will change how you go about displaying these images and keypoints, but these steps are essential for efficient training.\n",
    "\n",
    "As a note, should you want to perform data augmentation (which is optional in this project), and randomly rotate or shift these images, a square image size will be useful; rotating a 224x224 image by 90 degrees will result in the same shape of output."
   ]
  },
  {
   "cell_type": "code",
   "execution_count": 0,
   "metadata": {
    "colab": {},
    "colab_type": "code",
    "id": "w7Y9FOdTRpOX"
   },
   "outputs": [],
   "source": [
    "# # load the data if you need to; if you have already loaded the data, you may comment this cell out\n",
    "# # -- DO NOT CHANGE THIS CELL -- #\n",
    "# !mkdir /data\n",
    "# !wget -P /data/ https://s3.amazonaws.com/video.udacity-data.com/topher/2018/May/5aea1b91_train-test-data/train-test-data.zip\n",
    "# !unzip -n /data/train-test-data.zip -d /data"
   ]
  },
  {
   "cell_type": "code",
   "execution_count": 10,
   "metadata": {
    "colab": {},
    "colab_type": "code",
    "id": "6vZYdLIFjOn7"
   },
   "outputs": [],
   "source": [
    "from torch.utils.data import Dataset, DataLoader\n",
    "from torchvision import transforms, utils\n",
    "\n",
    "# the dataset we created in Notebook 1 is copied in the helper file `data_load.py`\n",
    "from data_load import FacialKeypointsDataset\n",
    "# the transforms we defined in Notebook 1 are in the helper file `data_load.py`\n",
    "from data_load import Rescale, RandomCrop, Rotation, Normalize, ToTensor\n",
    "\n",
    "\n",
    "## TODO: define the data_transform using transforms.Compose([all tx's, . , .])\n",
    "# order matters! i.e. rescaling should come before a smaller crop\n",
    "data_transform = transforms.Compose([Rescale(250),\n",
    "                                     RandomCrop(224),\n",
    "                                     Rotation(),\n",
    "                                     Normalize(),\n",
    "                                     ToTensor()])\n",
    "# testing that you've defined a transform\n",
    "assert(data_transform is not None), 'Define a data_transform'"
   ]
  },
  {
   "cell_type": "code",
   "execution_count": 123,
   "metadata": {
    "colab": {
     "base_uri": "https://localhost:8080/",
     "height": 151
    },
    "colab_type": "code",
    "id": "nvPxEfr-oj5y",
    "outputId": "c68f5e50-d83e-4681-cdc0-c09d28ea7d62"
   },
   "outputs": [
    {
     "name": "stdout",
     "output_type": "stream",
     "text": [
      "'1. Load and Visualize Data.ipynb'                        \u001b[0m\u001b[01;34mimages\u001b[0m/\n",
      "'2. Define the Network Architecture.ipynb'                LICENSE\n",
      "'3. Facial Keypoint Detection, Complete Pipeline.ipynb'   models.py\n",
      "'4. Fun with Keypoints.ipynb'                             \u001b[01;34m__pycache__\u001b[0m/\n",
      " \u001b[01;34mdata\u001b[0m/                                                    README.md\n",
      " data_load.py                                             requirements.txt\n",
      " \u001b[01;34mdetector_architectures\u001b[0m/                                  \u001b[01;34msaved_models\u001b[0m/\n",
      " facial_keypt_deep_cnn.pdf\n"
     ]
    }
   ],
   "source": [
    "ls"
   ]
  },
  {
   "cell_type": "code",
   "execution_count": 21,
   "metadata": {
    "colab": {
     "base_uri": "https://localhost:8080/",
     "height": 154
    },
    "colab_type": "code",
    "id": "0aHNlVttjOn9",
    "outputId": "beb507c7-d927-409b-86ff-d248f66d2eda"
   },
   "outputs": [
    {
     "name": "stdout",
     "output_type": "stream",
     "text": [
      "Number of images:  3462\n",
      "0 torch.Size([1, 224, 224]) torch.Size([68, 2])\n",
      "1 torch.Size([1, 224, 224]) torch.Size([68, 2])\n",
      "2 torch.Size([1, 224, 224]) torch.Size([68, 2])\n",
      "3 torch.Size([1, 224, 224]) torch.Size([68, 2])\n"
     ]
    }
   ],
   "source": [
    "# create the transformed dataset\n",
    "transformed_dataset = FacialKeypointsDataset(csv_file='/data/training_frames_keypoints.csv',\n",
    "                                             root_dir='/data/training/',\n",
    "                                             transform=data_transform)\n",
    "\n",
    "\n",
    "print('Number of images: ', len(transformed_dataset))\n",
    "\n",
    "# iterate through the transformed dataset and print some stats about the first few samples\n",
    "for i in range(4):\n",
    "    sample = transformed_dataset[i]\n",
    "    print(i, sample['image'].size(), sample['keypoints'].size())"
   ]
  },
  {
   "cell_type": "code",
   "execution_count": 13,
   "metadata": {
    "colab": {
     "base_uri": "https://localhost:8080/",
     "height": 34
    },
    "colab_type": "code",
    "id": "I8CxTBdsoxIl",
    "outputId": "fda8b673-98c2-492d-f4f9-782bf735b010"
   },
   "outputs": [
    {
     "data": {
      "text/plain": [
       "<data_load.FacialKeypointsDataset at 0x7fa14f878710>"
      ]
     },
     "execution_count": 13,
     "metadata": {},
     "output_type": "execute_result"
    }
   ],
   "source": [
    "transformed_dataset"
   ]
  },
  {
   "cell_type": "markdown",
   "metadata": {
    "colab_type": "text",
    "id": "QywiqHB8jOoA"
   },
   "source": [
    "## Batching and loading data\n",
    "\n",
    "Next, having defined the transformed dataset, we can use PyTorch's DataLoader class to load the training data in batches of whatever size as well as to shuffle the data for training the model. You can read more about the parameters of the DataLoader, in [this documentation](http://pytorch.org/docs/master/data.html).\n",
    "\n",
    "#### Batch size\n",
    "Decide on a good batch size for training your model. Try both small and large batch sizes and note how the loss decreases as the model trains.\n",
    "\n",
    "**Note for Windows users**: Please change the `num_workers` to 0 or you may face some issues with your DataLoader failing."
   ]
  },
  {
   "cell_type": "code",
   "execution_count": 22,
   "metadata": {
    "colab": {},
    "colab_type": "code",
    "id": "D2rT-SXMjOoB"
   },
   "outputs": [],
   "source": [
    "# load training data in batches\n",
    "batch_size = 64\n",
    "\n",
    "train_loader = DataLoader(transformed_dataset, \n",
    "                          batch_size=batch_size,\n",
    "                          shuffle=True, \n",
    "                          num_workers=4)\n"
   ]
  },
  {
   "cell_type": "markdown",
   "metadata": {
    "colab_type": "text",
    "id": "ffdjv5hIjOoD"
   },
   "source": [
    "## Before training\n",
    "\n",
    "Take a look at how this model performs before it trains. You should see that the keypoints it predicts start off in one spot and don't match the keypoints on a face at all! It's interesting to visualize this behavior so that you can compare it to the model after training and see how the model has improved.\n",
    "\n",
    "#### Load in the test dataset\n",
    "\n",
    "The test dataset is one that this model has *not* seen before, meaning it has not trained with these images. We'll load in this test data and before and after training, see how your model performs on this set!\n",
    "\n",
    "To visualize this test data, we have to go through some un-transformation steps to turn our images into python images from tensors and to turn our keypoints back into a recognizable range. "
   ]
  },
  {
   "cell_type": "code",
   "execution_count": 24,
   "metadata": {
    "colab": {},
    "colab_type": "code",
    "id": "siD-PVSMjOoF"
   },
   "outputs": [],
   "source": [
    "# load in the test data, using the dataset class\n",
    "# AND apply the data_transform you defined above\n",
    "\n",
    "# create the test dataset\n",
    "test_dataset = FacialKeypointsDataset(csv_file='/data/test_frames_keypoints.csv',\n",
    "                                             root_dir='/data/test/',\n",
    "                                             transform=data_transform)\n",
    "\n"
   ]
  },
  {
   "cell_type": "code",
   "execution_count": 25,
   "metadata": {
    "colab": {},
    "colab_type": "code",
    "id": "uGvVOhRKjOoH"
   },
   "outputs": [],
   "source": [
    "# load test data in batches\n",
    "batch_size = 64\n",
    "\n",
    "test_loader = DataLoader(test_dataset, \n",
    "                          batch_size=batch_size,\n",
    "                          shuffle=True, \n",
    "                          num_workers=4)"
   ]
  },
  {
   "cell_type": "markdown",
   "metadata": {
    "colab_type": "text",
    "id": "ptboGE6ujOoJ"
   },
   "source": [
    "## Apply the model on a test sample\n",
    "\n",
    "To test the model on a test sample of data, you have to follow these steps:\n",
    "1. Extract the image and ground truth keypoints from a sample\n",
    "2. Make sure the image is a FloatTensor, which the model expects.\n",
    "3. Forward pass the image through the net to get the predicted, output keypoints.\n",
    "\n",
    "This function test how the network performs on the first batch of test data. It returns the images, the transformed images, the predicted keypoints (produced by the model), and the ground truth keypoints."
   ]
  },
  {
   "cell_type": "code",
   "execution_count": 0,
   "metadata": {
    "colab": {},
    "colab_type": "code",
    "id": "jrr1FlwSjOoJ"
   },
   "outputs": [],
   "source": [
    "# test the model on a batch of test images\n",
    "\n",
    "def net_sample_output():\n",
    "    \n",
    "    # iterate through the test dataset\n",
    "    for i, sample in enumerate(test_loader):\n",
    "        \n",
    "        # get sample data: images and ground truth keypoints\n",
    "        images = sample['image']\n",
    "        key_pts = sample['keypoints']\n",
    "\n",
    "        # convert images to FloatTensors\n",
    "        images = images.type(torch.FloatTensor)\n",
    "\n",
    "        images = images.to(device)\n",
    "        key_pts = key_pts.to(device)\n",
    "\n",
    "        # forward pass to get net output\n",
    "        output_pts = net(images)\n",
    "        \n",
    "        # reshape to batch_size x 68 x 2 pts\n",
    "        output_pts = output_pts.view(output_pts.size()[0], 68, -1)\n",
    "        \n",
    "        # break after first image is tested\n",
    "        if i == 0:\n",
    "            return images, output_pts, key_pts\n",
    "            "
   ]
  },
  {
   "cell_type": "markdown",
   "metadata": {
    "colab_type": "text",
    "id": "tM3pr1KyjOoM"
   },
   "source": [
    "#### Debugging tips\n",
    "\n",
    "If you get a size or dimension error here, make sure that your network outputs the expected number of keypoints! Or if you get a Tensor type error, look into changing the above code that casts the data into float types: `images = images.type(torch.FloatTensor)`."
   ]
  },
  {
   "cell_type": "code",
   "execution_count": 130,
   "metadata": {
    "colab": {
     "base_uri": "https://localhost:8080/",
     "height": 222
    },
    "colab_type": "code",
    "id": "-6Ow-MvjjOoM",
    "outputId": "dafc1aa4-e665-4032-9428-5d08be1567ee"
   },
   "outputs": [
    {
     "name": "stderr",
     "output_type": "stream",
     "text": [
      "/content/drive/My Drive/Assignment_1_Facial_Keypoints/data_load.py:40: FutureWarning: Method .as_matrix will be removed in a future version. Use .values instead.\n",
      "  key_pts = self.key_pts_frame.iloc[idx, 1:].as_matrix()\n",
      "/content/drive/My Drive/Assignment_1_Facial_Keypoints/data_load.py:40: FutureWarning: Method .as_matrix will be removed in a future version. Use .values instead.\n",
      "  key_pts = self.key_pts_frame.iloc[idx, 1:].as_matrix()\n",
      "/content/drive/My Drive/Assignment_1_Facial_Keypoints/data_load.py:40: FutureWarning: Method .as_matrix will be removed in a future version. Use .values instead.\n",
      "  key_pts = self.key_pts_frame.iloc[idx, 1:].as_matrix()\n",
      "/content/drive/My Drive/Assignment_1_Facial_Keypoints/data_load.py:40: FutureWarning: Method .as_matrix will be removed in a future version. Use .values instead.\n",
      "  key_pts = self.key_pts_frame.iloc[idx, 1:].as_matrix()\n"
     ]
    },
    {
     "name": "stdout",
     "output_type": "stream",
     "text": [
      "torch.Size([64, 1, 224, 224])\n",
      "torch.Size([64, 68, 2])\n",
      "torch.Size([64, 68, 2])\n"
     ]
    }
   ],
   "source": [
    "# call the above function\n",
    "# returns: test images, test predicted keypoints, test ground truth keypoints\n",
    "test_images, test_outputs, gt_pts = net_sample_output()\n",
    "\n",
    "# print out the dimensions of the data to see if they make sense\n",
    "print(test_images.data.size())\n",
    "print(test_outputs.data.size())\n",
    "print(gt_pts.size())"
   ]
  },
  {
   "cell_type": "markdown",
   "metadata": {
    "colab_type": "text",
    "id": "lVU4DOBojOoN"
   },
   "source": [
    "## Visualize the predicted keypoints\n",
    "\n",
    "Once we've had the model produce some predicted output keypoints, we can visualize these points in a way that's similar to how we've displayed this data before, only this time, we have to \"un-transform\" the image/keypoint data to display it.\n",
    "\n",
    "Note that I've defined a *new* function, `show_all_keypoints` that displays a grayscale image, its predicted keypoints and its ground truth keypoints (if provided)."
   ]
  },
  {
   "cell_type": "code",
   "execution_count": 0,
   "metadata": {
    "colab": {},
    "colab_type": "code",
    "id": "bn0ImciCjOoO"
   },
   "outputs": [],
   "source": [
    "def show_all_keypoints(image, predicted_key_pts, gt_pts=None):\n",
    "    \"\"\"Show image with predicted keypoints\"\"\"\n",
    "    # image is grayscale\n",
    "    plt.imshow(image, cmap='gray')\n",
    "    plt.scatter(predicted_key_pts[:, 0], predicted_key_pts[:, 1], s=20, marker='.', c='m')\n",
    "    # plot ground truth points as green pts\n",
    "    if gt_pts is not None:\n",
    "        plt.scatter(gt_pts[:, 0], gt_pts[:, 1], s=20, marker='.', c='g')\n"
   ]
  },
  {
   "cell_type": "markdown",
   "metadata": {
    "colab_type": "text",
    "id": "cl6VZMPmjOoP"
   },
   "source": [
    "#### Un-transformation\n",
    "\n",
    "Next, you'll see a helper function. `visualize_output` that takes in a batch of images, predicted keypoints, and ground truth keypoints and displays a set of those images and their true/predicted keypoints.\n",
    "\n",
    "This function's main role is to take batches of image and keypoint data (the input and output of your CNN), and transform them into numpy images and un-normalized keypoints (x, y) for normal display. The un-transformation process turns keypoints and images into numpy arrays from Tensors *and* it undoes the keypoint normalization done in the Normalize() transform; it's assumed that you applied these transformations when you loaded your test data."
   ]
  },
  {
   "cell_type": "code",
   "execution_count": 132,
   "metadata": {
    "colab": {
     "base_uri": "https://localhost:8080/",
     "height": 34
    },
    "colab_type": "code",
    "id": "WRwUF7sYp9bp",
    "outputId": "04f2ca98-5dad-41aa-9f08-543d000d3437"
   },
   "outputs": [
    {
     "name": "stdout",
     "output_type": "stream",
     "text": [
      "yes\n"
     ]
    }
   ],
   "source": [
    "if torch.cuda.is_available():\n",
    "  print('yes')"
   ]
  },
  {
   "cell_type": "code",
   "execution_count": 133,
   "metadata": {
    "colab": {
     "base_uri": "https://localhost:8080/",
     "height": 617
    },
    "colab_type": "code",
    "id": "C4ujS9EdqQHW",
    "outputId": "233dac0c-df0b-43d4-b9ea-8489370c292d"
   },
   "outputs": [
    {
     "data": {
      "image/png": "[encoded data removed]",
      "text/plain": [
       "<Figure size 1440x720 with 1 Axes>"
      ]
     },
     "metadata": {
      "tags": []
     },
     "output_type": "display_data"
    },
    {
     "data": {
      "image/png": "[encoded data removed]",
      "text/plain": [
       "<Figure size 1440x720 with 1 Axes>"
      ]
     },
     "metadata": {
      "tags": []
     },
     "output_type": "display_data"
    },
    {
     "data": {
      "image/png": "[encoded data removed]",
      "text/plain": [
       "<Figure size 1440x720 with 1 Axes>"
      ]
     },
     "metadata": {
      "tags": []
     },
     "output_type": "display_data"
    },
    {
     "data": {
      "image/png": "[encoded data removed]",
      "text/plain": [
       "<Figure size 1440x720 with 1 Axes>"
      ]
     },
     "metadata": {
      "tags": []
     },
     "output_type": "display_data"
    },
    {
     "data": {
      "image/png": "[encoded data removed]",
      "text/plain": [
       "<Figure size 1440x720 with 1 Axes>"
      ]
     },
     "metadata": {
      "tags": []
     },
     "output_type": "display_data"
    },
    {
     "data": {
      "image/png": "[encoded data removed]",
      "text/plain": [
       "<Figure size 1440x720 with 1 Axes>"
      ]
     },
     "metadata": {
      "tags": []
     },
     "output_type": "display_data"
    },
    {
     "data": {
      "image/png": "[encoded data removed]",
      "text/plain": [
       "<Figure size 1440x720 with 1 Axes>"
      ]
     },
     "metadata": {
      "tags": []
     },
     "output_type": "display_data"
    },
    {
     "data": {
      "image/png": "[encoded data removed]",
      "text/plain": [
       "<Figure size 1440x720 with 1 Axes>"
      ]
     },
     "metadata": {
      "tags": []
     },
     "output_type": "display_data"
    },
    {
     "data": {
      "image/png": "[encoded data removed]",
      "text/plain": [
       "<Figure size 1440x720 with 1 Axes>"
      ]
     },
     "metadata": {
      "tags": []
     },
     "output_type": "display_data"
    },
    {
     "data": {
      "image/png": "[encoded data removed]",
      "text/plain": [
       "<Figure size 1440x720 with 1 Axes>"
      ]
     },
     "metadata": {
      "tags": []
     },
     "output_type": "display_data"
    }
   ],
   "source": [
    "# visualize the output\n",
    "# by default this shows a batch of 5 images\n",
    "def visualize_output(test_images, test_outputs, gt_pts=None, batch_size=10):\n",
    "\n",
    "    for i in range(batch_size):\n",
    "        plt.figure(figsize=(20,10))\n",
    "        ax = plt.subplot( batch_size, 1, i+1)\n",
    "        \n",
    "        # un-transform the image data\n",
    "        image = test_images[i].data   # get the image from it's Variable wrapper\n",
    "        \n",
    "        # Colab's gpu. It was working properly.\n",
    "        if torch.cuda.is_available():\n",
    "            image = image.cpu()\n",
    "            \n",
    "        image = image.data\n",
    "        image = image.numpy()   # convert to numpy array from a Tensor\n",
    "        image = np.transpose(image, (1, 2, 0))   # transpose to go from torch to numpy image\n",
    "\n",
    "        # un-transform the predicted key_pts data\n",
    "        predicted_key_pts = test_outputs[i].data\n",
    "        \n",
    "        # Colab's gpu.\n",
    "        if torch.cuda.is_available():\n",
    "            predicted_key_pts = predicted_key_pts.cpu()\n",
    "            \n",
    "        predicted_key_pts = predicted_key_pts.data\n",
    "        predicted_key_pts = predicted_key_pts.numpy()\n",
    "        \n",
    "        # undo normalization of keypoints  \n",
    "        predicted_key_pts = predicted_key_pts*50.0+100\n",
    "        \n",
    "        # plot ground truth points for comparison, if they exist\n",
    "        ground_truth_pts = None\n",
    "        \n",
    "        if gt_pts is not None:\n",
    "            \n",
    "            ground_truth_pts = gt_pts[i] \n",
    "            \n",
    "            # Colab's gpu.\n",
    "            if torch.cuda.is_available():\n",
    "                ground_truth_pts = ground_truth_pts.cpu()  \n",
    "                \n",
    "            ground_truth_pts = ground_truth_pts*50.0+100\n",
    "        \n",
    "        # call show_all_keypoints\n",
    "        show_all_keypoints(np.squeeze(image), predicted_key_pts, ground_truth_pts)\n",
    "            \n",
    "        plt.axis('off')\n",
    "\n",
    "    plt.show()\n",
    "    \n",
    "# call it\n",
    "visualize_output(test_images, test_outputs, gt_pts)"
   ]
  },
  {
   "cell_type": "markdown",
   "metadata": {
    "colab_type": "text",
    "id": "D0BIYK8xjOoS"
   },
   "source": [
    "## Training\n",
    "\n",
    "#### Loss function\n",
    "Training a network to predict keypoints is different than training a network to predict a class; instead of outputting a distribution of classes and using cross entropy loss, you may want to choose a loss function that is suited for regression, which directly compares a predicted value and target value. Read about the various kinds of loss functions (like MSE or L1/SmoothL1 loss) in [this documentation](http://pytorch.org/docs/master/_modules/torch/nn/modules/loss.html).\n",
    "\n",
    "### TODO: Define the loss and optimization\n",
    "\n",
    "Next, you'll define how the model will train by deciding on the loss function and optimizer.\n",
    "\n",
    "---"
   ]
  },
  {
   "cell_type": "code",
   "execution_count": 0,
   "metadata": {
    "colab": {},
    "colab_type": "code",
    "id": "UH_nJpiqjOoT"
   },
   "outputs": [],
   "source": [
    "\n",
    "## TODO: Define the loss and optimization\n",
    "import torch.optim as optim\n",
    "\n",
    "criterion = nn.SmoothL1Loss()\n",
    "\n",
    "optimizer = optim.Adam(net.parameters(), lr = 0.001)"
   ]
  },
  {
   "cell_type": "markdown",
   "metadata": {
    "colab_type": "text",
    "id": "xJt7wzPajOoU"
   },
   "source": [
    "## Training and Initial Observation\n",
    "\n",
    "Now, you'll train on your batched training data from `train_loader` for a number of epochs. \n",
    "\n",
    "To quickly observe how your model is training and decide on whether or not you should modify it's structure or hyperparameters, you're encouraged to start off with just one or two epochs at first. As you train, note how your the model's loss behaves over time: does it decrease quickly at first and then slow down? Does it take a while to decrease in the first place? What happens if you change the batch size of your training data or modify your loss function? etc. \n",
    "\n",
    "Use these initial observations to make changes to your model and decide on the best architecture before you train for many epochs and create a final model."
   ]
  },
  {
   "cell_type": "code",
   "execution_count": 0,
   "metadata": {
    "colab": {},
    "colab_type": "code",
    "id": "NaEvL3q7q-2t"
   },
   "outputs": [],
   "source": [
    "def train_net(n_epochs):\n",
    "\n",
    "    # prepare the net for training\n",
    "    train_losses, test_losses = [],[]\n",
    "    net.train()\n",
    "\n",
    "    for epoch in range(n_epochs):  # loop over the dataset multiple times\n",
    "        running_loss = 0.0\n",
    "\n",
    "        # train on batches of data, assumes you already have train_loader\n",
    "        for batch_i, data in enumerate(train_loader):\n",
    "            #print('Batch: {}'.format(batch_i+1)) # for debugging\n",
    "            # get the input images and their corresponding labels\n",
    "            images = data['image']\n",
    "            key_pts = data['keypoints']\n",
    "\n",
    "            # flatten pts\n",
    "            key_pts = key_pts.view(key_pts.size(0), -1)\n",
    "\n",
    "            # convert variables to floats for regression loss\n",
    "            key_pts = key_pts.type(torch.FloatTensor)\n",
    "            images = images.type(torch.FloatTensor)\n",
    "            \n",
    "            #convert to gpu mode\n",
    "            key_pts, images = key_pts.to(device), images.to(device)\n",
    "\n",
    "            # forward pass to get outputs\n",
    "            output_pts = net(images)\n",
    "\n",
    "            # calculate the loss between predicted and target keypoints\n",
    "            loss = criterion(output_pts, key_pts)\n",
    "\n",
    "            # zero the parameter (weight) gradients\n",
    "            optimizer.zero_grad()\n",
    "\n",
    "            # backward pass to calculate the weight gradients\n",
    "            loss.backward()\n",
    "\n",
    "            # update the weights\n",
    "            optimizer.step()\n",
    "\n",
    "            # print loss statistics\n",
    "            running_loss += loss.item()\n",
    "            if batch_i % 10 == 9:    # print every 10 batches\n",
    "                print('Epoch: {}, Batch: {}, Avg. Loss: {}'.format(epoch + 1, batch_i+1, running_loss/10))\n",
    "                train_losses.append( running_loss/10)\n",
    "                test_loss = evaluate_net() #evaluate test on every train on batch\n",
    "                test_losses.append(test_loss)\n",
    "\n",
    "                running_loss = 0.0\n",
    "\n",
    "    \n",
    "    return train_losses, test_losses\n",
    "    print('Finished Training')"
   ]
  },
  {
   "cell_type": "code",
   "execution_count": 136,
   "metadata": {
    "colab": {
     "base_uri": "https://localhost:8080/",
     "height": 50
    },
    "colab_type": "code",
    "id": "fPoY6gzIk-c3",
    "outputId": "17c0e82b-6703-45ae-dcbe-a51b4b5a6a85"
   },
   "outputs": [
    {
     "name": "stdout",
     "output_type": "stream",
     "text": [
      "CPU times: user 5 µs, sys: 3 µs, total: 8 µs\n",
      "Wall time: 11.7 µs\n"
     ]
    }
   ],
   "source": [
    "%%time\n",
    "\n",
    "def evaluate_net():\n",
    "\n",
    "    # prepare the net for training\n",
    "    net.eval()\n",
    "    \n",
    "    test_losses = []\n",
    "    running_loss = 0.0\n",
    "    # train on batches of data, assumes you already have test_loader\n",
    "    for batch_i, data in enumerate(test_loader):\n",
    "        # get the input images and their corresponding labels\n",
    "        images = data['image']\n",
    "        key_pts = data['keypoints']\n",
    "\n",
    "        # flatten pts\n",
    "        key_pts = key_pts.view(key_pts.size(0), -1)\n",
    "\n",
    "        # convert variables to floats for regression loss\n",
    "        key_pts = key_pts.type(torch.FloatTensor)\n",
    "        images = images.type(torch.FloatTensor)\n",
    "        \n",
    "        #convert to gpu mode\n",
    "        key_pts, images = key_pts.to(device), images.to(device)\n",
    "\n",
    "        # forward pass to get outputs\n",
    "        output_pts = net(images)\n",
    "\n",
    "        # calculate the loss between predicted and target keypoints\n",
    "        loss = criterion(output_pts, key_pts)\n",
    "\n",
    "        # print loss statistics\n",
    "        # to convert loss into a scalar and add it to the running_loss, use .item()\n",
    "        # running_loss += loss.item()\n",
    "        test_losses.append(loss.item())\n",
    "    \n",
    "    return sum(test_losses)/len(test_loader)\n",
    "\n",
    "# avg_test_loss = evaluate_net()"
   ]
  },
  {
   "cell_type": "code",
   "execution_count": 137,
   "metadata": {
    "colab": {
     "base_uri": "https://localhost:8080/",
     "height": 1000
    },
    "colab_type": "code",
    "id": "uITWEsSDjOoW",
    "outputId": "c4175a1a-47d2-4ff0-cd88-8cd93634ed1f"
   },
   "outputs": [
    {
     "name": "stderr",
     "output_type": "stream",
     "text": [
      "/content/drive/My Drive/Assignment_1_Facial_Keypoints/data_load.py:40: FutureWarning: Method .as_matrix will be removed in a future version. Use .values instead.\n",
      "  key_pts = self.key_pts_frame.iloc[idx, 1:].as_matrix()\n",
      "/content/drive/My Drive/Assignment_1_Facial_Keypoints/data_load.py:40: FutureWarning: Method .as_matrix will be removed in a future version. Use .values instead.\n",
      "  key_pts = self.key_pts_frame.iloc[idx, 1:].as_matrix()\n",
      "/content/drive/My Drive/Assignment_1_Facial_Keypoints/data_load.py:40: FutureWarning: Method .as_matrix will be removed in a future version. Use .values instead.\n",
      "  key_pts = self.key_pts_frame.iloc[idx, 1:].as_matrix()\n",
      "/content/drive/My Drive/Assignment_1_Facial_Keypoints/data_load.py:40: FutureWarning: Method .as_matrix will be removed in a future version. Use .values instead.\n",
      "  key_pts = self.key_pts_frame.iloc[idx, 1:].as_matrix()\n"
     ]
    },
    {
     "name": "stdout",
     "output_type": "stream",
     "text": [
      "Epoch: 1, Batch: 10, Avg. Loss: 0.23344867825508117\n"
     ]
    },
    {
     "name": "stderr",
     "output_type": "stream",
     "text": [
      "/content/drive/My Drive/Assignment_1_Facial_Keypoints/data_load.py:40: FutureWarning: Method .as_matrix will be removed in a future version. Use .values instead.\n",
      "  key_pts = self.key_pts_frame.iloc[idx, 1:].as_matrix()\n",
      "/content/drive/My Drive/Assignment_1_Facial_Keypoints/data_load.py:40: FutureWarning: Method .as_matrix will be removed in a future version. Use .values instead.\n",
      "  key_pts = self.key_pts_frame.iloc[idx, 1:].as_matrix()\n",
      "/content/drive/My Drive/Assignment_1_Facial_Keypoints/data_load.py:40: FutureWarning: Method .as_matrix will be removed in a future version. Use .values instead.\n",
      "  key_pts = self.key_pts_frame.iloc[idx, 1:].as_matrix()\n",
      "/content/drive/My Drive/Assignment_1_Facial_Keypoints/data_load.py:40: FutureWarning: Method .as_matrix will be removed in a future version. Use .values instead.\n",
      "  key_pts = self.key_pts_frame.iloc[idx, 1:].as_matrix()\n"
     ]
    },
    {
     "name": "stdout",
     "output_type": "stream",
     "text": [
      "Epoch: 1, Batch: 20, Avg. Loss: 0.19640584290027618\n"
     ]
    },
    {
     "name": "stderr",
     "output_type": "stream",
     "text": [
      "/content/drive/My Drive/Assignment_1_Facial_Keypoints/data_load.py:40: FutureWarning: Method .as_matrix will be removed in a future version. Use .values instead.\n",
      "  key_pts = self.key_pts_frame.iloc[idx, 1:].as_matrix()\n",
      "/content/drive/My Drive/Assignment_1_Facial_Keypoints/data_load.py:40: FutureWarning: Method .as_matrix will be removed in a future version. Use .values instead.\n",
      "  key_pts = self.key_pts_frame.iloc[idx, 1:].as_matrix()\n",
      "/content/drive/My Drive/Assignment_1_Facial_Keypoints/data_load.py:40: FutureWarning: Method .as_matrix will be removed in a future version. Use .values instead.\n",
      "  key_pts = self.key_pts_frame.iloc[idx, 1:].as_matrix()\n",
      "/content/drive/My Drive/Assignment_1_Facial_Keypoints/data_load.py:40: FutureWarning: Method .as_matrix will be removed in a future version. Use .values instead.\n",
      "  key_pts = self.key_pts_frame.iloc[idx, 1:].as_matrix()\n"
     ]
    },
    {
     "name": "stdout",
     "output_type": "stream",
     "text": [
      "Epoch: 1, Batch: 30, Avg. Loss: 0.20542486757040024\n"
     ]
    },
    {
     "name": "stderr",
     "output_type": "stream",
     "text": [
      "/content/drive/My Drive/Assignment_1_Facial_Keypoints/data_load.py:40: FutureWarning: Method .as_matrix will be removed in a future version. Use .values instead.\n",
      "  key_pts = self.key_pts_frame.iloc[idx, 1:].as_matrix()\n",
      "/content/drive/My Drive/Assignment_1_Facial_Keypoints/data_load.py:40: FutureWarning: Method .as_matrix will be removed in a future version. Use .values instead.\n",
      "  key_pts = self.key_pts_frame.iloc[idx, 1:].as_matrix()\n",
      "/content/drive/My Drive/Assignment_1_Facial_Keypoints/data_load.py:40: FutureWarning: Method .as_matrix will be removed in a future version. Use .values instead.\n",
      "  key_pts = self.key_pts_frame.iloc[idx, 1:].as_matrix()\n",
      "/content/drive/My Drive/Assignment_1_Facial_Keypoints/data_load.py:40: FutureWarning: Method .as_matrix will be removed in a future version. Use .values instead.\n",
      "  key_pts = self.key_pts_frame.iloc[idx, 1:].as_matrix()\n"
     ]
    },
    {
     "name": "stdout",
     "output_type": "stream",
     "text": [
      "Epoch: 1, Batch: 40, Avg. Loss: 0.20517544448375702\n"
     ]
    },
    {
     "name": "stderr",
     "output_type": "stream",
     "text": [
      "/content/drive/My Drive/Assignment_1_Facial_Keypoints/data_load.py:40: FutureWarning: Method .as_matrix will be removed in a future version. Use .values instead.\n",
      "  key_pts = self.key_pts_frame.iloc[idx, 1:].as_matrix()\n",
      "/content/drive/My Drive/Assignment_1_Facial_Keypoints/data_load.py:40: FutureWarning: Method .as_matrix will be removed in a future version. Use .values instead.\n",
      "  key_pts = self.key_pts_frame.iloc[idx, 1:].as_matrix()\n",
      "/content/drive/My Drive/Assignment_1_Facial_Keypoints/data_load.py:40: FutureWarning: Method .as_matrix will be removed in a future version. Use .values instead.\n",
      "  key_pts = self.key_pts_frame.iloc[idx, 1:].as_matrix()\n",
      "/content/drive/My Drive/Assignment_1_Facial_Keypoints/data_load.py:40: FutureWarning: Method .as_matrix will be removed in a future version. Use .values instead.\n",
      "  key_pts = self.key_pts_frame.iloc[idx, 1:].as_matrix()\n"
     ]
    },
    {
     "name": "stdout",
     "output_type": "stream",
     "text": [
      "Epoch: 1, Batch: 50, Avg. Loss: 0.2024076148867607\n"
     ]
    },
    {
     "name": "stderr",
     "output_type": "stream",
     "text": [
      "/content/drive/My Drive/Assignment_1_Facial_Keypoints/data_load.py:40: FutureWarning: Method .as_matrix will be removed in a future version. Use .values instead.\n",
      "  key_pts = self.key_pts_frame.iloc[idx, 1:].as_matrix()\n",
      "/content/drive/My Drive/Assignment_1_Facial_Keypoints/data_load.py:40: FutureWarning: Method .as_matrix will be removed in a future version. Use .values instead.\n",
      "  key_pts = self.key_pts_frame.iloc[idx, 1:].as_matrix()\n",
      "/content/drive/My Drive/Assignment_1_Facial_Keypoints/data_load.py:40: FutureWarning: Method .as_matrix will be removed in a future version. Use .values instead.\n",
      "  key_pts = self.key_pts_frame.iloc[idx, 1:].as_matrix()\n",
      "/content/drive/My Drive/Assignment_1_Facial_Keypoints/data_load.py:40: FutureWarning: Method .as_matrix will be removed in a future version. Use .values instead.\n",
      "  key_pts = self.key_pts_frame.iloc[idx, 1:].as_matrix()\n",
      "/content/drive/My Drive/Assignment_1_Facial_Keypoints/data_load.py:40: FutureWarning: Method .as_matrix will be removed in a future version. Use .values instead.\n",
      "  key_pts = self.key_pts_frame.iloc[idx, 1:].as_matrix()\n",
      "/content/drive/My Drive/Assignment_1_Facial_Keypoints/data_load.py:40: FutureWarning: Method .as_matrix will be removed in a future version. Use .values instead.\n",
      "  key_pts = self.key_pts_frame.iloc[idx, 1:].as_matrix()\n",
      "/content/drive/My Drive/Assignment_1_Facial_Keypoints/data_load.py:40: FutureWarning: Method .as_matrix will be removed in a future version. Use .values instead.\n",
      "  key_pts = self.key_pts_frame.iloc[idx, 1:].as_matrix()\n",
      "/content/drive/My Drive/Assignment_1_Facial_Keypoints/data_load.py:40: FutureWarning: Method .as_matrix will be removed in a future version. Use .values instead.\n",
      "  key_pts = self.key_pts_frame.iloc[idx, 1:].as_matrix()\n"
     ]
    },
    {
     "name": "stdout",
     "output_type": "stream",
     "text": [
      "Epoch: 2, Batch: 10, Avg. Loss: 0.18972847908735274\n"
     ]
    },
    {
     "name": "stderr",
     "output_type": "stream",
     "text": [
      "/content/drive/My Drive/Assignment_1_Facial_Keypoints/data_load.py:40: FutureWarning: Method .as_matrix will be removed in a future version. Use .values instead.\n",
      "  key_pts = self.key_pts_frame.iloc[idx, 1:].as_matrix()\n",
      "/content/drive/My Drive/Assignment_1_Facial_Keypoints/data_load.py:40: FutureWarning: Method .as_matrix will be removed in a future version. Use .values instead.\n",
      "  key_pts = self.key_pts_frame.iloc[idx, 1:].as_matrix()\n",
      "/content/drive/My Drive/Assignment_1_Facial_Keypoints/data_load.py:40: FutureWarning: Method .as_matrix will be removed in a future version. Use .values instead.\n",
      "  key_pts = self.key_pts_frame.iloc[idx, 1:].as_matrix()\n",
      "/content/drive/My Drive/Assignment_1_Facial_Keypoints/data_load.py:40: FutureWarning: Method .as_matrix will be removed in a future version. Use .values instead.\n",
      "  key_pts = self.key_pts_frame.iloc[idx, 1:].as_matrix()\n"
     ]
    },
    {
     "name": "stdout",
     "output_type": "stream",
     "text": [
      "Epoch: 2, Batch: 20, Avg. Loss: 0.1937718778848648\n"
     ]
    },
    {
     "name": "stderr",
     "output_type": "stream",
     "text": [
      "/content/drive/My Drive/Assignment_1_Facial_Keypoints/data_load.py:40: FutureWarning: Method .as_matrix will be removed in a future version. Use .values instead.\n",
      "  key_pts = self.key_pts_frame.iloc[idx, 1:].as_matrix()\n",
      "/content/drive/My Drive/Assignment_1_Facial_Keypoints/data_load.py:40: FutureWarning: Method .as_matrix will be removed in a future version. Use .values instead.\n",
      "  key_pts = self.key_pts_frame.iloc[idx, 1:].as_matrix()\n",
      "/content/drive/My Drive/Assignment_1_Facial_Keypoints/data_load.py:40: FutureWarning: Method .as_matrix will be removed in a future version. Use .values instead.\n",
      "  key_pts = self.key_pts_frame.iloc[idx, 1:].as_matrix()\n",
      "/content/drive/My Drive/Assignment_1_Facial_Keypoints/data_load.py:40: FutureWarning: Method .as_matrix will be removed in a future version. Use .values instead.\n",
      "  key_pts = self.key_pts_frame.iloc[idx, 1:].as_matrix()\n"
     ]
    },
    {
     "name": "stdout",
     "output_type": "stream",
     "text": [
      "Epoch: 2, Batch: 30, Avg. Loss: 0.18647654354572296\n"
     ]
    },
    {
     "name": "stderr",
     "output_type": "stream",
     "text": [
      "/content/drive/My Drive/Assignment_1_Facial_Keypoints/data_load.py:40: FutureWarning: Method .as_matrix will be removed in a future version. Use .values instead.\n",
      "  key_pts = self.key_pts_frame.iloc[idx, 1:].as_matrix()\n",
      "/content/drive/My Drive/Assignment_1_Facial_Keypoints/data_load.py:40: FutureWarning: Method .as_matrix will be removed in a future version. Use .values instead.\n",
      "  key_pts = self.key_pts_frame.iloc[idx, 1:].as_matrix()\n",
      "/content/drive/My Drive/Assignment_1_Facial_Keypoints/data_load.py:40: FutureWarning: Method .as_matrix will be removed in a future version. Use .values instead.\n",
      "  key_pts = self.key_pts_frame.iloc[idx, 1:].as_matrix()\n",
      "/content/drive/My Drive/Assignment_1_Facial_Keypoints/data_load.py:40: FutureWarning: Method .as_matrix will be removed in a future version. Use .values instead.\n",
      "  key_pts = self.key_pts_frame.iloc[idx, 1:].as_matrix()\n"
     ]
    },
    {
     "name": "stdout",
     "output_type": "stream",
     "text": [
      "Epoch: 2, Batch: 40, Avg. Loss: 0.19232473522424698\n"
     ]
    },
    {
     "name": "stderr",
     "output_type": "stream",
     "text": [
      "/content/drive/My Drive/Assignment_1_Facial_Keypoints/data_load.py:40: FutureWarning: Method .as_matrix will be removed in a future version. Use .values instead.\n",
      "  key_pts = self.key_pts_frame.iloc[idx, 1:].as_matrix()\n",
      "/content/drive/My Drive/Assignment_1_Facial_Keypoints/data_load.py:40: FutureWarning: Method .as_matrix will be removed in a future version. Use .values instead.\n",
      "  key_pts = self.key_pts_frame.iloc[idx, 1:].as_matrix()\n",
      "/content/drive/My Drive/Assignment_1_Facial_Keypoints/data_load.py:40: FutureWarning: Method .as_matrix will be removed in a future version. Use .values instead.\n",
      "  key_pts = self.key_pts_frame.iloc[idx, 1:].as_matrix()\n",
      "/content/drive/My Drive/Assignment_1_Facial_Keypoints/data_load.py:40: FutureWarning: Method .as_matrix will be removed in a future version. Use .values instead.\n",
      "  key_pts = self.key_pts_frame.iloc[idx, 1:].as_matrix()\n"
     ]
    },
    {
     "name": "stdout",
     "output_type": "stream",
     "text": [
      "Epoch: 2, Batch: 50, Avg. Loss: 0.18147721290588378\n"
     ]
    },
    {
     "name": "stderr",
     "output_type": "stream",
     "text": [
      "/content/drive/My Drive/Assignment_1_Facial_Keypoints/data_load.py:40: FutureWarning: Method .as_matrix will be removed in a future version. Use .values instead.\n",
      "  key_pts = self.key_pts_frame.iloc[idx, 1:].as_matrix()\n",
      "/content/drive/My Drive/Assignment_1_Facial_Keypoints/data_load.py:40: FutureWarning: Method .as_matrix will be removed in a future version. Use .values instead.\n",
      "  key_pts = self.key_pts_frame.iloc[idx, 1:].as_matrix()\n",
      "/content/drive/My Drive/Assignment_1_Facial_Keypoints/data_load.py:40: FutureWarning: Method .as_matrix will be removed in a future version. Use .values instead.\n",
      "  key_pts = self.key_pts_frame.iloc[idx, 1:].as_matrix()\n",
      "/content/drive/My Drive/Assignment_1_Facial_Keypoints/data_load.py:40: FutureWarning: Method .as_matrix will be removed in a future version. Use .values instead.\n",
      "  key_pts = self.key_pts_frame.iloc[idx, 1:].as_matrix()\n",
      "/content/drive/My Drive/Assignment_1_Facial_Keypoints/data_load.py:40: FutureWarning: Method .as_matrix will be removed in a future version. Use .values instead.\n",
      "  key_pts = self.key_pts_frame.iloc[idx, 1:].as_matrix()\n",
      "/content/drive/My Drive/Assignment_1_Facial_Keypoints/data_load.py:40: FutureWarning: Method .as_matrix will be removed in a future version. Use .values instead.\n",
      "  key_pts = self.key_pts_frame.iloc[idx, 1:].as_matrix()\n",
      "/content/drive/My Drive/Assignment_1_Facial_Keypoints/data_load.py:40: FutureWarning: Method .as_matrix will be removed in a future version. Use .values instead.\n",
      "  key_pts = self.key_pts_frame.iloc[idx, 1:].as_matrix()\n",
      "/content/drive/My Drive/Assignment_1_Facial_Keypoints/data_load.py:40: FutureWarning: Method .as_matrix will be removed in a future version. Use .values instead.\n",
      "  key_pts = self.key_pts_frame.iloc[idx, 1:].as_matrix()\n"
     ]
    },
    {
     "name": "stdout",
     "output_type": "stream",
     "text": [
      "Epoch: 3, Batch: 10, Avg. Loss: 0.17257504612207414\n"
     ]
    },
    {
     "name": "stderr",
     "output_type": "stream",
     "text": [
      "/content/drive/My Drive/Assignment_1_Facial_Keypoints/data_load.py:40: FutureWarning: Method .as_matrix will be removed in a future version. Use .values instead.\n",
      "  key_pts = self.key_pts_frame.iloc[idx, 1:].as_matrix()\n",
      "/content/drive/My Drive/Assignment_1_Facial_Keypoints/data_load.py:40: FutureWarning: Method .as_matrix will be removed in a future version. Use .values instead.\n",
      "  key_pts = self.key_pts_frame.iloc[idx, 1:].as_matrix()\n",
      "/content/drive/My Drive/Assignment_1_Facial_Keypoints/data_load.py:40: FutureWarning: Method .as_matrix will be removed in a future version. Use .values instead.\n",
      "  key_pts = self.key_pts_frame.iloc[idx, 1:].as_matrix()\n",
      "/content/drive/My Drive/Assignment_1_Facial_Keypoints/data_load.py:40: FutureWarning: Method .as_matrix will be removed in a future version. Use .values instead.\n",
      "  key_pts = self.key_pts_frame.iloc[idx, 1:].as_matrix()\n"
     ]
    },
    {
     "name": "stdout",
     "output_type": "stream",
     "text": [
      "Epoch: 3, Batch: 20, Avg. Loss: 0.16899833530187608\n"
     ]
    },
    {
     "name": "stderr",
     "output_type": "stream",
     "text": [
      "/content/drive/My Drive/Assignment_1_Facial_Keypoints/data_load.py:40: FutureWarning: Method .as_matrix will be removed in a future version. Use .values instead.\n",
      "  key_pts = self.key_pts_frame.iloc[idx, 1:].as_matrix()\n",
      "/content/drive/My Drive/Assignment_1_Facial_Keypoints/data_load.py:40: FutureWarning: Method .as_matrix will be removed in a future version. Use .values instead.\n",
      "  key_pts = self.key_pts_frame.iloc[idx, 1:].as_matrix()\n",
      "/content/drive/My Drive/Assignment_1_Facial_Keypoints/data_load.py:40: FutureWarning: Method .as_matrix will be removed in a future version. Use .values instead.\n",
      "  key_pts = self.key_pts_frame.iloc[idx, 1:].as_matrix()\n",
      "/content/drive/My Drive/Assignment_1_Facial_Keypoints/data_load.py:40: FutureWarning: Method .as_matrix will be removed in a future version. Use .values instead.\n",
      "  key_pts = self.key_pts_frame.iloc[idx, 1:].as_matrix()\n"
     ]
    },
    {
     "name": "stdout",
     "output_type": "stream",
     "text": [
      "Epoch: 3, Batch: 30, Avg. Loss: 0.16536137759685515\n"
     ]
    },
    {
     "name": "stderr",
     "output_type": "stream",
     "text": [
      "/content/drive/My Drive/Assignment_1_Facial_Keypoints/data_load.py:40: FutureWarning: Method .as_matrix will be removed in a future version. Use .values instead.\n",
      "  key_pts = self.key_pts_frame.iloc[idx, 1:].as_matrix()\n",
      "/content/drive/My Drive/Assignment_1_Facial_Keypoints/data_load.py:40: FutureWarning: Method .as_matrix will be removed in a future version. Use .values instead.\n",
      "  key_pts = self.key_pts_frame.iloc[idx, 1:].as_matrix()\n",
      "/content/drive/My Drive/Assignment_1_Facial_Keypoints/data_load.py:40: FutureWarning: Method .as_matrix will be removed in a future version. Use .values instead.\n",
      "  key_pts = self.key_pts_frame.iloc[idx, 1:].as_matrix()\n",
      "/content/drive/My Drive/Assignment_1_Facial_Keypoints/data_load.py:40: FutureWarning: Method .as_matrix will be removed in a future version. Use .values instead.\n",
      "  key_pts = self.key_pts_frame.iloc[idx, 1:].as_matrix()\n"
     ]
    },
    {
     "name": "stdout",
     "output_type": "stream",
     "text": [
      "Epoch: 3, Batch: 40, Avg. Loss: 0.16546482294797898\n"
     ]
    },
    {
     "name": "stderr",
     "output_type": "stream",
     "text": [
      "/content/drive/My Drive/Assignment_1_Facial_Keypoints/data_load.py:40: FutureWarning: Method .as_matrix will be removed in a future version. Use .values instead.\n",
      "  key_pts = self.key_pts_frame.iloc[idx, 1:].as_matrix()\n",
      "/content/drive/My Drive/Assignment_1_Facial_Keypoints/data_load.py:40: FutureWarning: Method .as_matrix will be removed in a future version. Use .values instead.\n",
      "  key_pts = self.key_pts_frame.iloc[idx, 1:].as_matrix()\n",
      "/content/drive/My Drive/Assignment_1_Facial_Keypoints/data_load.py:40: FutureWarning: Method .as_matrix will be removed in a future version. Use .values instead.\n",
      "  key_pts = self.key_pts_frame.iloc[idx, 1:].as_matrix()\n",
      "/content/drive/My Drive/Assignment_1_Facial_Keypoints/data_load.py:40: FutureWarning: Method .as_matrix will be removed in a future version. Use .values instead.\n",
      "  key_pts = self.key_pts_frame.iloc[idx, 1:].as_matrix()\n"
     ]
    },
    {
     "name": "stdout",
     "output_type": "stream",
     "text": [
      "Epoch: 3, Batch: 50, Avg. Loss: 0.1566523067653179\n"
     ]
    },
    {
     "name": "stderr",
     "output_type": "stream",
     "text": [
      "/content/drive/My Drive/Assignment_1_Facial_Keypoints/data_load.py:40: FutureWarning: Method .as_matrix will be removed in a future version. Use .values instead.\n",
      "  key_pts = self.key_pts_frame.iloc[idx, 1:].as_matrix()\n",
      "/content/drive/My Drive/Assignment_1_Facial_Keypoints/data_load.py:40: FutureWarning: Method .as_matrix will be removed in a future version. Use .values instead.\n",
      "  key_pts = self.key_pts_frame.iloc[idx, 1:].as_matrix()\n",
      "/content/drive/My Drive/Assignment_1_Facial_Keypoints/data_load.py:40: FutureWarning: Method .as_matrix will be removed in a future version. Use .values instead.\n",
      "  key_pts = self.key_pts_frame.iloc[idx, 1:].as_matrix()\n",
      "/content/drive/My Drive/Assignment_1_Facial_Keypoints/data_load.py:40: FutureWarning: Method .as_matrix will be removed in a future version. Use .values instead.\n",
      "  key_pts = self.key_pts_frame.iloc[idx, 1:].as_matrix()\n",
      "/content/drive/My Drive/Assignment_1_Facial_Keypoints/data_load.py:40: FutureWarning: Method .as_matrix will be removed in a future version. Use .values instead.\n",
      "  key_pts = self.key_pts_frame.iloc[idx, 1:].as_matrix()\n",
      "/content/drive/My Drive/Assignment_1_Facial_Keypoints/data_load.py:40: FutureWarning: Method .as_matrix will be removed in a future version. Use .values instead.\n",
      "  key_pts = self.key_pts_frame.iloc[idx, 1:].as_matrix()\n",
      "/content/drive/My Drive/Assignment_1_Facial_Keypoints/data_load.py:40: FutureWarning: Method .as_matrix will be removed in a future version. Use .values instead.\n",
      "  key_pts = self.key_pts_frame.iloc[idx, 1:].as_matrix()\n",
      "/content/drive/My Drive/Assignment_1_Facial_Keypoints/data_load.py:40: FutureWarning: Method .as_matrix will be removed in a future version. Use .values instead.\n",
      "  key_pts = self.key_pts_frame.iloc[idx, 1:].as_matrix()\n"
     ]
    },
    {
     "name": "stdout",
     "output_type": "stream",
     "text": [
      "Epoch: 4, Batch: 10, Avg. Loss: 0.14313875511288643\n"
     ]
    },
    {
     "name": "stderr",
     "output_type": "stream",
     "text": [
      "/content/drive/My Drive/Assignment_1_Facial_Keypoints/data_load.py:40: FutureWarning: Method .as_matrix will be removed in a future version. Use .values instead.\n",
      "  key_pts = self.key_pts_frame.iloc[idx, 1:].as_matrix()\n",
      "/content/drive/My Drive/Assignment_1_Facial_Keypoints/data_load.py:40: FutureWarning: Method .as_matrix will be removed in a future version. Use .values instead.\n",
      "  key_pts = self.key_pts_frame.iloc[idx, 1:].as_matrix()\n",
      "/content/drive/My Drive/Assignment_1_Facial_Keypoints/data_load.py:40: FutureWarning: Method .as_matrix will be removed in a future version. Use .values instead.\n",
      "  key_pts = self.key_pts_frame.iloc[idx, 1:].as_matrix()\n",
      "/content/drive/My Drive/Assignment_1_Facial_Keypoints/data_load.py:40: FutureWarning: Method .as_matrix will be removed in a future version. Use .values instead.\n",
      "  key_pts = self.key_pts_frame.iloc[idx, 1:].as_matrix()\n"
     ]
    },
    {
     "name": "stdout",
     "output_type": "stream",
     "text": [
      "Epoch: 4, Batch: 20, Avg. Loss: 0.11817592456936836\n"
     ]
    },
    {
     "name": "stderr",
     "output_type": "stream",
     "text": [
      "/content/drive/My Drive/Assignment_1_Facial_Keypoints/data_load.py:40: FutureWarning: Method .as_matrix will be removed in a future version. Use .values instead.\n",
      "  key_pts = self.key_pts_frame.iloc[idx, 1:].as_matrix()\n",
      "/content/drive/My Drive/Assignment_1_Facial_Keypoints/data_load.py:40: FutureWarning: Method .as_matrix will be removed in a future version. Use .values instead.\n",
      "  key_pts = self.key_pts_frame.iloc[idx, 1:].as_matrix()\n",
      "/content/drive/My Drive/Assignment_1_Facial_Keypoints/data_load.py:40: FutureWarning: Method .as_matrix will be removed in a future version. Use .values instead.\n",
      "  key_pts = self.key_pts_frame.iloc[idx, 1:].as_matrix()\n",
      "/content/drive/My Drive/Assignment_1_Facial_Keypoints/data_load.py:40: FutureWarning: Method .as_matrix will be removed in a future version. Use .values instead.\n",
      "  key_pts = self.key_pts_frame.iloc[idx, 1:].as_matrix()\n"
     ]
    },
    {
     "name": "stdout",
     "output_type": "stream",
     "text": [
      "Epoch: 4, Batch: 30, Avg. Loss: 0.10061191916465759\n"
     ]
    },
    {
     "name": "stderr",
     "output_type": "stream",
     "text": [
      "/content/drive/My Drive/Assignment_1_Facial_Keypoints/data_load.py:40: FutureWarning: Method .as_matrix will be removed in a future version. Use .values instead.\n",
      "  key_pts = self.key_pts_frame.iloc[idx, 1:].as_matrix()\n",
      "/content/drive/My Drive/Assignment_1_Facial_Keypoints/data_load.py:40: FutureWarning: Method .as_matrix will be removed in a future version. Use .values instead.\n",
      "  key_pts = self.key_pts_frame.iloc[idx, 1:].as_matrix()\n",
      "/content/drive/My Drive/Assignment_1_Facial_Keypoints/data_load.py:40: FutureWarning: Method .as_matrix will be removed in a future version. Use .values instead.\n",
      "  key_pts = self.key_pts_frame.iloc[idx, 1:].as_matrix()\n",
      "/content/drive/My Drive/Assignment_1_Facial_Keypoints/data_load.py:40: FutureWarning: Method .as_matrix will be removed in a future version. Use .values instead.\n",
      "  key_pts = self.key_pts_frame.iloc[idx, 1:].as_matrix()\n"
     ]
    },
    {
     "name": "stdout",
     "output_type": "stream",
     "text": [
      "Epoch: 4, Batch: 40, Avg. Loss: 0.09127899110317231\n"
     ]
    },
    {
     "name": "stderr",
     "output_type": "stream",
     "text": [
      "/content/drive/My Drive/Assignment_1_Facial_Keypoints/data_load.py:40: FutureWarning: Method .as_matrix will be removed in a future version. Use .values instead.\n",
      "  key_pts = self.key_pts_frame.iloc[idx, 1:].as_matrix()\n",
      "/content/drive/My Drive/Assignment_1_Facial_Keypoints/data_load.py:40: FutureWarning: Method .as_matrix will be removed in a future version. Use .values instead.\n",
      "  key_pts = self.key_pts_frame.iloc[idx, 1:].as_matrix()\n",
      "/content/drive/My Drive/Assignment_1_Facial_Keypoints/data_load.py:40: FutureWarning: Method .as_matrix will be removed in a future version. Use .values instead.\n",
      "  key_pts = self.key_pts_frame.iloc[idx, 1:].as_matrix()\n",
      "/content/drive/My Drive/Assignment_1_Facial_Keypoints/data_load.py:40: FutureWarning: Method .as_matrix will be removed in a future version. Use .values instead.\n",
      "  key_pts = self.key_pts_frame.iloc[idx, 1:].as_matrix()\n"
     ]
    },
    {
     "name": "stdout",
     "output_type": "stream",
     "text": [
      "Epoch: 4, Batch: 50, Avg. Loss: 0.07863799147307873\n"
     ]
    },
    {
     "name": "stderr",
     "output_type": "stream",
     "text": [
      "/content/drive/My Drive/Assignment_1_Facial_Keypoints/data_load.py:40: FutureWarning: Method .as_matrix will be removed in a future version. Use .values instead.\n",
      "  key_pts = self.key_pts_frame.iloc[idx, 1:].as_matrix()\n",
      "/content/drive/My Drive/Assignment_1_Facial_Keypoints/data_load.py:40: FutureWarning: Method .as_matrix will be removed in a future version. Use .values instead.\n",
      "  key_pts = self.key_pts_frame.iloc[idx, 1:].as_matrix()\n",
      "/content/drive/My Drive/Assignment_1_Facial_Keypoints/data_load.py:40: FutureWarning: Method .as_matrix will be removed in a future version. Use .values instead.\n",
      "  key_pts = self.key_pts_frame.iloc[idx, 1:].as_matrix()\n",
      "/content/drive/My Drive/Assignment_1_Facial_Keypoints/data_load.py:40: FutureWarning: Method .as_matrix will be removed in a future version. Use .values instead.\n",
      "  key_pts = self.key_pts_frame.iloc[idx, 1:].as_matrix()\n",
      "/content/drive/My Drive/Assignment_1_Facial_Keypoints/data_load.py:40: FutureWarning: Method .as_matrix will be removed in a future version. Use .values instead.\n",
      "  key_pts = self.key_pts_frame.iloc[idx, 1:].as_matrix()\n",
      "/content/drive/My Drive/Assignment_1_Facial_Keypoints/data_load.py:40: FutureWarning: Method .as_matrix will be removed in a future version. Use .values instead.\n",
      "  key_pts = self.key_pts_frame.iloc[idx, 1:].as_matrix()\n",
      "/content/drive/My Drive/Assignment_1_Facial_Keypoints/data_load.py:40: FutureWarning: Method .as_matrix will be removed in a future version. Use .values instead.\n",
      "  key_pts = self.key_pts_frame.iloc[idx, 1:].as_matrix()\n",
      "/content/drive/My Drive/Assignment_1_Facial_Keypoints/data_load.py:40: FutureWarning: Method .as_matrix will be removed in a future version. Use .values instead.\n",
      "  key_pts = self.key_pts_frame.iloc[idx, 1:].as_matrix()\n"
     ]
    },
    {
     "name": "stdout",
     "output_type": "stream",
     "text": [
      "Epoch: 5, Batch: 10, Avg. Loss: 0.0843677543103695\n"
     ]
    },
    {
     "name": "stderr",
     "output_type": "stream",
     "text": [
      "/content/drive/My Drive/Assignment_1_Facial_Keypoints/data_load.py:40: FutureWarning: Method .as_matrix will be removed in a future version. Use .values instead.\n",
      "  key_pts = self.key_pts_frame.iloc[idx, 1:].as_matrix()\n",
      "/content/drive/My Drive/Assignment_1_Facial_Keypoints/data_load.py:40: FutureWarning: Method .as_matrix will be removed in a future version. Use .values instead.\n",
      "  key_pts = self.key_pts_frame.iloc[idx, 1:].as_matrix()\n",
      "/content/drive/My Drive/Assignment_1_Facial_Keypoints/data_load.py:40: FutureWarning: Method .as_matrix will be removed in a future version. Use .values instead.\n",
      "  key_pts = self.key_pts_frame.iloc[idx, 1:].as_matrix()\n",
      "/content/drive/My Drive/Assignment_1_Facial_Keypoints/data_load.py:40: FutureWarning: Method .as_matrix will be removed in a future version. Use .values instead.\n",
      "  key_pts = self.key_pts_frame.iloc[idx, 1:].as_matrix()\n"
     ]
    },
    {
     "name": "stdout",
     "output_type": "stream",
     "text": [
      "Epoch: 5, Batch: 20, Avg. Loss: 0.0790866993367672\n"
     ]
    },
    {
     "name": "stderr",
     "output_type": "stream",
     "text": [
      "/content/drive/My Drive/Assignment_1_Facial_Keypoints/data_load.py:40: FutureWarning: Method .as_matrix will be removed in a future version. Use .values instead.\n",
      "  key_pts = self.key_pts_frame.iloc[idx, 1:].as_matrix()\n",
      "/content/drive/My Drive/Assignment_1_Facial_Keypoints/data_load.py:40: FutureWarning: Method .as_matrix will be removed in a future version. Use .values instead.\n",
      "  key_pts = self.key_pts_frame.iloc[idx, 1:].as_matrix()\n",
      "/content/drive/My Drive/Assignment_1_Facial_Keypoints/data_load.py:40: FutureWarning: Method .as_matrix will be removed in a future version. Use .values instead.\n",
      "  key_pts = self.key_pts_frame.iloc[idx, 1:].as_matrix()\n",
      "/content/drive/My Drive/Assignment_1_Facial_Keypoints/data_load.py:40: FutureWarning: Method .as_matrix will be removed in a future version. Use .values instead.\n",
      "  key_pts = self.key_pts_frame.iloc[idx, 1:].as_matrix()\n"
     ]
    },
    {
     "name": "stdout",
     "output_type": "stream",
     "text": [
      "Epoch: 5, Batch: 30, Avg. Loss: 0.07915680035948754\n"
     ]
    },
    {
     "name": "stderr",
     "output_type": "stream",
     "text": [
      "/content/drive/My Drive/Assignment_1_Facial_Keypoints/data_load.py:40: FutureWarning: Method .as_matrix will be removed in a future version. Use .values instead.\n",
      "  key_pts = self.key_pts_frame.iloc[idx, 1:].as_matrix()\n",
      "/content/drive/My Drive/Assignment_1_Facial_Keypoints/data_load.py:40: FutureWarning: Method .as_matrix will be removed in a future version. Use .values instead.\n",
      "  key_pts = self.key_pts_frame.iloc[idx, 1:].as_matrix()\n",
      "/content/drive/My Drive/Assignment_1_Facial_Keypoints/data_load.py:40: FutureWarning: Method .as_matrix will be removed in a future version. Use .values instead.\n",
      "  key_pts = self.key_pts_frame.iloc[idx, 1:].as_matrix()\n",
      "/content/drive/My Drive/Assignment_1_Facial_Keypoints/data_load.py:40: FutureWarning: Method .as_matrix will be removed in a future version. Use .values instead.\n",
      "  key_pts = self.key_pts_frame.iloc[idx, 1:].as_matrix()\n"
     ]
    },
    {
     "name": "stdout",
     "output_type": "stream",
     "text": [
      "Epoch: 5, Batch: 40, Avg. Loss: 0.07171226590871811\n"
     ]
    },
    {
     "name": "stderr",
     "output_type": "stream",
     "text": [
      "/content/drive/My Drive/Assignment_1_Facial_Keypoints/data_load.py:40: FutureWarning: Method .as_matrix will be removed in a future version. Use .values instead.\n",
      "  key_pts = self.key_pts_frame.iloc[idx, 1:].as_matrix()\n",
      "/content/drive/My Drive/Assignment_1_Facial_Keypoints/data_load.py:40: FutureWarning: Method .as_matrix will be removed in a future version. Use .values instead.\n",
      "  key_pts = self.key_pts_frame.iloc[idx, 1:].as_matrix()\n",
      "/content/drive/My Drive/Assignment_1_Facial_Keypoints/data_load.py:40: FutureWarning: Method .as_matrix will be removed in a future version. Use .values instead.\n",
      "  key_pts = self.key_pts_frame.iloc[idx, 1:].as_matrix()\n",
      "/content/drive/My Drive/Assignment_1_Facial_Keypoints/data_load.py:40: FutureWarning: Method .as_matrix will be removed in a future version. Use .values instead.\n",
      "  key_pts = self.key_pts_frame.iloc[idx, 1:].as_matrix()\n"
     ]
    },
    {
     "name": "stdout",
     "output_type": "stream",
     "text": [
      "Epoch: 5, Batch: 50, Avg. Loss: 0.06531595289707184\n"
     ]
    },
    {
     "name": "stderr",
     "output_type": "stream",
     "text": [
      "/content/drive/My Drive/Assignment_1_Facial_Keypoints/data_load.py:40: FutureWarning: Method .as_matrix will be removed in a future version. Use .values instead.\n",
      "  key_pts = self.key_pts_frame.iloc[idx, 1:].as_matrix()\n",
      "/content/drive/My Drive/Assignment_1_Facial_Keypoints/data_load.py:40: FutureWarning: Method .as_matrix will be removed in a future version. Use .values instead.\n",
      "  key_pts = self.key_pts_frame.iloc[idx, 1:].as_matrix()\n",
      "/content/drive/My Drive/Assignment_1_Facial_Keypoints/data_load.py:40: FutureWarning: Method .as_matrix will be removed in a future version. Use .values instead.\n",
      "  key_pts = self.key_pts_frame.iloc[idx, 1:].as_matrix()\n",
      "/content/drive/My Drive/Assignment_1_Facial_Keypoints/data_load.py:40: FutureWarning: Method .as_matrix will be removed in a future version. Use .values instead.\n",
      "  key_pts = self.key_pts_frame.iloc[idx, 1:].as_matrix()\n",
      "/content/drive/My Drive/Assignment_1_Facial_Keypoints/data_load.py:40: FutureWarning: Method .as_matrix will be removed in a future version. Use .values instead.\n",
      "  key_pts = self.key_pts_frame.iloc[idx, 1:].as_matrix()\n",
      "/content/drive/My Drive/Assignment_1_Facial_Keypoints/data_load.py:40: FutureWarning: Method .as_matrix will be removed in a future version. Use .values instead.\n",
      "  key_pts = self.key_pts_frame.iloc[idx, 1:].as_matrix()\n",
      "/content/drive/My Drive/Assignment_1_Facial_Keypoints/data_load.py:40: FutureWarning: Method .as_matrix will be removed in a future version. Use .values instead.\n",
      "  key_pts = self.key_pts_frame.iloc[idx, 1:].as_matrix()\n",
      "/content/drive/My Drive/Assignment_1_Facial_Keypoints/data_load.py:40: FutureWarning: Method .as_matrix will be removed in a future version. Use .values instead.\n",
      "  key_pts = self.key_pts_frame.iloc[idx, 1:].as_matrix()\n"
     ]
    },
    {
     "name": "stdout",
     "output_type": "stream",
     "text": [
      "Epoch: 6, Batch: 10, Avg. Loss: 0.06790924966335296\n"
     ]
    },
    {
     "name": "stderr",
     "output_type": "stream",
     "text": [
      "/content/drive/My Drive/Assignment_1_Facial_Keypoints/data_load.py:40: FutureWarning: Method .as_matrix will be removed in a future version. Use .values instead.\n",
      "  key_pts = self.key_pts_frame.iloc[idx, 1:].as_matrix()\n",
      "/content/drive/My Drive/Assignment_1_Facial_Keypoints/data_load.py:40: FutureWarning: Method .as_matrix will be removed in a future version. Use .values instead.\n",
      "  key_pts = self.key_pts_frame.iloc[idx, 1:].as_matrix()\n",
      "/content/drive/My Drive/Assignment_1_Facial_Keypoints/data_load.py:40: FutureWarning: Method .as_matrix will be removed in a future version. Use .values instead.\n",
      "  key_pts = self.key_pts_frame.iloc[idx, 1:].as_matrix()\n",
      "/content/drive/My Drive/Assignment_1_Facial_Keypoints/data_load.py:40: FutureWarning: Method .as_matrix will be removed in a future version. Use .values instead.\n",
      "  key_pts = self.key_pts_frame.iloc[idx, 1:].as_matrix()\n"
     ]
    },
    {
     "name": "stdout",
     "output_type": "stream",
     "text": [
      "Epoch: 6, Batch: 20, Avg. Loss: 0.06912963874638081\n"
     ]
    },
    {
     "name": "stderr",
     "output_type": "stream",
     "text": [
      "/content/drive/My Drive/Assignment_1_Facial_Keypoints/data_load.py:40: FutureWarning: Method .as_matrix will be removed in a future version. Use .values instead.\n",
      "  key_pts = self.key_pts_frame.iloc[idx, 1:].as_matrix()\n",
      "/content/drive/My Drive/Assignment_1_Facial_Keypoints/data_load.py:40: FutureWarning: Method .as_matrix will be removed in a future version. Use .values instead.\n",
      "  key_pts = self.key_pts_frame.iloc[idx, 1:].as_matrix()\n",
      "/content/drive/My Drive/Assignment_1_Facial_Keypoints/data_load.py:40: FutureWarning: Method .as_matrix will be removed in a future version. Use .values instead.\n",
      "  key_pts = self.key_pts_frame.iloc[idx, 1:].as_matrix()\n",
      "/content/drive/My Drive/Assignment_1_Facial_Keypoints/data_load.py:40: FutureWarning: Method .as_matrix will be removed in a future version. Use .values instead.\n",
      "  key_pts = self.key_pts_frame.iloc[idx, 1:].as_matrix()\n"
     ]
    },
    {
     "name": "stdout",
     "output_type": "stream",
     "text": [
      "Epoch: 6, Batch: 30, Avg. Loss: 0.07192353755235673\n"
     ]
    },
    {
     "name": "stderr",
     "output_type": "stream",
     "text": [
      "/content/drive/My Drive/Assignment_1_Facial_Keypoints/data_load.py:40: FutureWarning: Method .as_matrix will be removed in a future version. Use .values instead.\n",
      "  key_pts = self.key_pts_frame.iloc[idx, 1:].as_matrix()\n",
      "/content/drive/My Drive/Assignment_1_Facial_Keypoints/data_load.py:40: FutureWarning: Method .as_matrix will be removed in a future version. Use .values instead.\n",
      "  key_pts = self.key_pts_frame.iloc[idx, 1:].as_matrix()\n",
      "/content/drive/My Drive/Assignment_1_Facial_Keypoints/data_load.py:40: FutureWarning: Method .as_matrix will be removed in a future version. Use .values instead.\n",
      "  key_pts = self.key_pts_frame.iloc[idx, 1:].as_matrix()\n",
      "/content/drive/My Drive/Assignment_1_Facial_Keypoints/data_load.py:40: FutureWarning: Method .as_matrix will be removed in a future version. Use .values instead.\n",
      "  key_pts = self.key_pts_frame.iloc[idx, 1:].as_matrix()\n"
     ]
    },
    {
     "name": "stdout",
     "output_type": "stream",
     "text": [
      "Epoch: 6, Batch: 40, Avg. Loss: 0.07059314101934433\n"
     ]
    },
    {
     "name": "stderr",
     "output_type": "stream",
     "text": [
      "/content/drive/My Drive/Assignment_1_Facial_Keypoints/data_load.py:40: FutureWarning: Method .as_matrix will be removed in a future version. Use .values instead.\n",
      "  key_pts = self.key_pts_frame.iloc[idx, 1:].as_matrix()\n",
      "/content/drive/My Drive/Assignment_1_Facial_Keypoints/data_load.py:40: FutureWarning: Method .as_matrix will be removed in a future version. Use .values instead.\n",
      "  key_pts = self.key_pts_frame.iloc[idx, 1:].as_matrix()\n",
      "/content/drive/My Drive/Assignment_1_Facial_Keypoints/data_load.py:40: FutureWarning: Method .as_matrix will be removed in a future version. Use .values instead.\n",
      "  key_pts = self.key_pts_frame.iloc[idx, 1:].as_matrix()\n",
      "/content/drive/My Drive/Assignment_1_Facial_Keypoints/data_load.py:40: FutureWarning: Method .as_matrix will be removed in a future version. Use .values instead.\n",
      "  key_pts = self.key_pts_frame.iloc[idx, 1:].as_matrix()\n"
     ]
    },
    {
     "name": "stdout",
     "output_type": "stream",
     "text": [
      "Epoch: 6, Batch: 50, Avg. Loss: 0.06359807848930359\n"
     ]
    },
    {
     "name": "stderr",
     "output_type": "stream",
     "text": [
      "/content/drive/My Drive/Assignment_1_Facial_Keypoints/data_load.py:40: FutureWarning: Method .as_matrix will be removed in a future version. Use .values instead.\n",
      "  key_pts = self.key_pts_frame.iloc[idx, 1:].as_matrix()\n",
      "/content/drive/My Drive/Assignment_1_Facial_Keypoints/data_load.py:40: FutureWarning: Method .as_matrix will be removed in a future version. Use .values instead.\n",
      "  key_pts = self.key_pts_frame.iloc[idx, 1:].as_matrix()\n",
      "/content/drive/My Drive/Assignment_1_Facial_Keypoints/data_load.py:40: FutureWarning: Method .as_matrix will be removed in a future version. Use .values instead.\n",
      "  key_pts = self.key_pts_frame.iloc[idx, 1:].as_matrix()\n",
      "/content/drive/My Drive/Assignment_1_Facial_Keypoints/data_load.py:40: FutureWarning: Method .as_matrix will be removed in a future version. Use .values instead.\n",
      "  key_pts = self.key_pts_frame.iloc[idx, 1:].as_matrix()\n",
      "/content/drive/My Drive/Assignment_1_Facial_Keypoints/data_load.py:40: FutureWarning: Method .as_matrix will be removed in a future version. Use .values instead.\n",
      "  key_pts = self.key_pts_frame.iloc[idx, 1:].as_matrix()\n",
      "/content/drive/My Drive/Assignment_1_Facial_Keypoints/data_load.py:40: FutureWarning: Method .as_matrix will be removed in a future version. Use .values instead.\n",
      "  key_pts = self.key_pts_frame.iloc[idx, 1:].as_matrix()\n",
      "/content/drive/My Drive/Assignment_1_Facial_Keypoints/data_load.py:40: FutureWarning: Method .as_matrix will be removed in a future version. Use .values instead.\n",
      "  key_pts = self.key_pts_frame.iloc[idx, 1:].as_matrix()\n",
      "/content/drive/My Drive/Assignment_1_Facial_Keypoints/data_load.py:40: FutureWarning: Method .as_matrix will be removed in a future version. Use .values instead.\n",
      "  key_pts = self.key_pts_frame.iloc[idx, 1:].as_matrix()\n"
     ]
    },
    {
     "name": "stdout",
     "output_type": "stream",
     "text": [
      "Epoch: 7, Batch: 10, Avg. Loss: 0.05642590001225471\n"
     ]
    },
    {
     "name": "stderr",
     "output_type": "stream",
     "text": [
      "/content/drive/My Drive/Assignment_1_Facial_Keypoints/data_load.py:40: FutureWarning: Method .as_matrix will be removed in a future version. Use .values instead.\n",
      "  key_pts = self.key_pts_frame.iloc[idx, 1:].as_matrix()\n",
      "/content/drive/My Drive/Assignment_1_Facial_Keypoints/data_load.py:40: FutureWarning: Method .as_matrix will be removed in a future version. Use .values instead.\n",
      "  key_pts = self.key_pts_frame.iloc[idx, 1:].as_matrix()\n",
      "/content/drive/My Drive/Assignment_1_Facial_Keypoints/data_load.py:40: FutureWarning: Method .as_matrix will be removed in a future version. Use .values instead.\n",
      "  key_pts = self.key_pts_frame.iloc[idx, 1:].as_matrix()\n",
      "/content/drive/My Drive/Assignment_1_Facial_Keypoints/data_load.py:40: FutureWarning: Method .as_matrix will be removed in a future version. Use .values instead.\n",
      "  key_pts = self.key_pts_frame.iloc[idx, 1:].as_matrix()\n"
     ]
    },
    {
     "name": "stdout",
     "output_type": "stream",
     "text": [
      "Epoch: 7, Batch: 20, Avg. Loss: 0.05851680003106594\n"
     ]
    },
    {
     "name": "stderr",
     "output_type": "stream",
     "text": [
      "/content/drive/My Drive/Assignment_1_Facial_Keypoints/data_load.py:40: FutureWarning: Method .as_matrix will be removed in a future version. Use .values instead.\n",
      "  key_pts = self.key_pts_frame.iloc[idx, 1:].as_matrix()\n",
      "/content/drive/My Drive/Assignment_1_Facial_Keypoints/data_load.py:40: FutureWarning: Method .as_matrix will be removed in a future version. Use .values instead.\n",
      "  key_pts = self.key_pts_frame.iloc[idx, 1:].as_matrix()\n",
      "/content/drive/My Drive/Assignment_1_Facial_Keypoints/data_load.py:40: FutureWarning: Method .as_matrix will be removed in a future version. Use .values instead.\n",
      "  key_pts = self.key_pts_frame.iloc[idx, 1:].as_matrix()\n",
      "/content/drive/My Drive/Assignment_1_Facial_Keypoints/data_load.py:40: FutureWarning: Method .as_matrix will be removed in a future version. Use .values instead.\n",
      "  key_pts = self.key_pts_frame.iloc[idx, 1:].as_matrix()\n"
     ]
    },
    {
     "name": "stdout",
     "output_type": "stream",
     "text": [
      "Epoch: 7, Batch: 30, Avg. Loss: 0.06182634010910988\n"
     ]
    },
    {
     "name": "stderr",
     "output_type": "stream",
     "text": [
      "/content/drive/My Drive/Assignment_1_Facial_Keypoints/data_load.py:40: FutureWarning: Method .as_matrix will be removed in a future version. Use .values instead.\n",
      "  key_pts = self.key_pts_frame.iloc[idx, 1:].as_matrix()\n",
      "/content/drive/My Drive/Assignment_1_Facial_Keypoints/data_load.py:40: FutureWarning: Method .as_matrix will be removed in a future version. Use .values instead.\n",
      "  key_pts = self.key_pts_frame.iloc[idx, 1:].as_matrix()\n",
      "/content/drive/My Drive/Assignment_1_Facial_Keypoints/data_load.py:40: FutureWarning: Method .as_matrix will be removed in a future version. Use .values instead.\n",
      "  key_pts = self.key_pts_frame.iloc[idx, 1:].as_matrix()\n",
      "/content/drive/My Drive/Assignment_1_Facial_Keypoints/data_load.py:40: FutureWarning: Method .as_matrix will be removed in a future version. Use .values instead.\n",
      "  key_pts = self.key_pts_frame.iloc[idx, 1:].as_matrix()\n"
     ]
    },
    {
     "name": "stdout",
     "output_type": "stream",
     "text": [
      "Epoch: 7, Batch: 40, Avg. Loss: 0.05211657211184502\n"
     ]
    },
    {
     "name": "stderr",
     "output_type": "stream",
     "text": [
      "/content/drive/My Drive/Assignment_1_Facial_Keypoints/data_load.py:40: FutureWarning: Method .as_matrix will be removed in a future version. Use .values instead.\n",
      "  key_pts = self.key_pts_frame.iloc[idx, 1:].as_matrix()\n",
      "/content/drive/My Drive/Assignment_1_Facial_Keypoints/data_load.py:40: FutureWarning: Method .as_matrix will be removed in a future version. Use .values instead.\n",
      "  key_pts = self.key_pts_frame.iloc[idx, 1:].as_matrix()\n",
      "/content/drive/My Drive/Assignment_1_Facial_Keypoints/data_load.py:40: FutureWarning: Method .as_matrix will be removed in a future version. Use .values instead.\n",
      "  key_pts = self.key_pts_frame.iloc[idx, 1:].as_matrix()\n",
      "/content/drive/My Drive/Assignment_1_Facial_Keypoints/data_load.py:40: FutureWarning: Method .as_matrix will be removed in a future version. Use .values instead.\n",
      "  key_pts = self.key_pts_frame.iloc[idx, 1:].as_matrix()\n"
     ]
    },
    {
     "name": "stdout",
     "output_type": "stream",
     "text": [
      "Epoch: 7, Batch: 50, Avg. Loss: 0.05381623096764088\n"
     ]
    },
    {
     "name": "stderr",
     "output_type": "stream",
     "text": [
      "/content/drive/My Drive/Assignment_1_Facial_Keypoints/data_load.py:40: FutureWarning: Method .as_matrix will be removed in a future version. Use .values instead.\n",
      "  key_pts = self.key_pts_frame.iloc[idx, 1:].as_matrix()\n",
      "/content/drive/My Drive/Assignment_1_Facial_Keypoints/data_load.py:40: FutureWarning: Method .as_matrix will be removed in a future version. Use .values instead.\n",
      "  key_pts = self.key_pts_frame.iloc[idx, 1:].as_matrix()\n",
      "/content/drive/My Drive/Assignment_1_Facial_Keypoints/data_load.py:40: FutureWarning: Method .as_matrix will be removed in a future version. Use .values instead.\n",
      "  key_pts = self.key_pts_frame.iloc[idx, 1:].as_matrix()\n",
      "/content/drive/My Drive/Assignment_1_Facial_Keypoints/data_load.py:40: FutureWarning: Method .as_matrix will be removed in a future version. Use .values instead.\n",
      "  key_pts = self.key_pts_frame.iloc[idx, 1:].as_matrix()\n",
      "/content/drive/My Drive/Assignment_1_Facial_Keypoints/data_load.py:40: FutureWarning: Method .as_matrix will be removed in a future version. Use .values instead.\n",
      "  key_pts = self.key_pts_frame.iloc[idx, 1:].as_matrix()\n",
      "/content/drive/My Drive/Assignment_1_Facial_Keypoints/data_load.py:40: FutureWarning: Method .as_matrix will be removed in a future version. Use .values instead.\n",
      "  key_pts = self.key_pts_frame.iloc[idx, 1:].as_matrix()\n",
      "/content/drive/My Drive/Assignment_1_Facial_Keypoints/data_load.py:40: FutureWarning: Method .as_matrix will be removed in a future version. Use .values instead.\n",
      "  key_pts = self.key_pts_frame.iloc[idx, 1:].as_matrix()\n",
      "/content/drive/My Drive/Assignment_1_Facial_Keypoints/data_load.py:40: FutureWarning: Method .as_matrix will be removed in a future version. Use .values instead.\n",
      "  key_pts = self.key_pts_frame.iloc[idx, 1:].as_matrix()\n"
     ]
    },
    {
     "name": "stdout",
     "output_type": "stream",
     "text": [
      "Epoch: 8, Batch: 10, Avg. Loss: 0.05593029111623764\n"
     ]
    },
    {
     "name": "stderr",
     "output_type": "stream",
     "text": [
      "/content/drive/My Drive/Assignment_1_Facial_Keypoints/data_load.py:40: FutureWarning: Method .as_matrix will be removed in a future version. Use .values instead.\n",
      "  key_pts = self.key_pts_frame.iloc[idx, 1:].as_matrix()\n",
      "/content/drive/My Drive/Assignment_1_Facial_Keypoints/data_load.py:40: FutureWarning: Method .as_matrix will be removed in a future version. Use .values instead.\n",
      "  key_pts = self.key_pts_frame.iloc[idx, 1:].as_matrix()\n",
      "/content/drive/My Drive/Assignment_1_Facial_Keypoints/data_load.py:40: FutureWarning: Method .as_matrix will be removed in a future version. Use .values instead.\n",
      "  key_pts = self.key_pts_frame.iloc[idx, 1:].as_matrix()\n",
      "/content/drive/My Drive/Assignment_1_Facial_Keypoints/data_load.py:40: FutureWarning: Method .as_matrix will be removed in a future version. Use .values instead.\n",
      "  key_pts = self.key_pts_frame.iloc[idx, 1:].as_matrix()\n"
     ]
    },
    {
     "name": "stdout",
     "output_type": "stream",
     "text": [
      "Epoch: 8, Batch: 20, Avg. Loss: 0.047435597702860835\n"
     ]
    },
    {
     "name": "stderr",
     "output_type": "stream",
     "text": [
      "/content/drive/My Drive/Assignment_1_Facial_Keypoints/data_load.py:40: FutureWarning: Method .as_matrix will be removed in a future version. Use .values instead.\n",
      "  key_pts = self.key_pts_frame.iloc[idx, 1:].as_matrix()\n",
      "/content/drive/My Drive/Assignment_1_Facial_Keypoints/data_load.py:40: FutureWarning: Method .as_matrix will be removed in a future version. Use .values instead.\n",
      "  key_pts = self.key_pts_frame.iloc[idx, 1:].as_matrix()\n",
      "/content/drive/My Drive/Assignment_1_Facial_Keypoints/data_load.py:40: FutureWarning: Method .as_matrix will be removed in a future version. Use .values instead.\n",
      "  key_pts = self.key_pts_frame.iloc[idx, 1:].as_matrix()\n",
      "/content/drive/My Drive/Assignment_1_Facial_Keypoints/data_load.py:40: FutureWarning: Method .as_matrix will be removed in a future version. Use .values instead.\n",
      "  key_pts = self.key_pts_frame.iloc[idx, 1:].as_matrix()\n"
     ]
    },
    {
     "name": "stdout",
     "output_type": "stream",
     "text": [
      "Epoch: 8, Batch: 30, Avg. Loss: 0.054369499906897545\n"
     ]
    },
    {
     "name": "stderr",
     "output_type": "stream",
     "text": [
      "/content/drive/My Drive/Assignment_1_Facial_Keypoints/data_load.py:40: FutureWarning: Method .as_matrix will be removed in a future version. Use .values instead.\n",
      "  key_pts = self.key_pts_frame.iloc[idx, 1:].as_matrix()\n",
      "/content/drive/My Drive/Assignment_1_Facial_Keypoints/data_load.py:40: FutureWarning: Method .as_matrix will be removed in a future version. Use .values instead.\n",
      "  key_pts = self.key_pts_frame.iloc[idx, 1:].as_matrix()\n",
      "/content/drive/My Drive/Assignment_1_Facial_Keypoints/data_load.py:40: FutureWarning: Method .as_matrix will be removed in a future version. Use .values instead.\n",
      "  key_pts = self.key_pts_frame.iloc[idx, 1:].as_matrix()\n",
      "/content/drive/My Drive/Assignment_1_Facial_Keypoints/data_load.py:40: FutureWarning: Method .as_matrix will be removed in a future version. Use .values instead.\n",
      "  key_pts = self.key_pts_frame.iloc[idx, 1:].as_matrix()\n"
     ]
    },
    {
     "name": "stdout",
     "output_type": "stream",
     "text": [
      "Epoch: 8, Batch: 40, Avg. Loss: 0.05045991614460945\n"
     ]
    },
    {
     "name": "stderr",
     "output_type": "stream",
     "text": [
      "/content/drive/My Drive/Assignment_1_Facial_Keypoints/data_load.py:40: FutureWarning: Method .as_matrix will be removed in a future version. Use .values instead.\n",
      "  key_pts = self.key_pts_frame.iloc[idx, 1:].as_matrix()\n",
      "/content/drive/My Drive/Assignment_1_Facial_Keypoints/data_load.py:40: FutureWarning: Method .as_matrix will be removed in a future version. Use .values instead.\n",
      "  key_pts = self.key_pts_frame.iloc[idx, 1:].as_matrix()\n",
      "/content/drive/My Drive/Assignment_1_Facial_Keypoints/data_load.py:40: FutureWarning: Method .as_matrix will be removed in a future version. Use .values instead.\n",
      "  key_pts = self.key_pts_frame.iloc[idx, 1:].as_matrix()\n",
      "/content/drive/My Drive/Assignment_1_Facial_Keypoints/data_load.py:40: FutureWarning: Method .as_matrix will be removed in a future version. Use .values instead.\n",
      "  key_pts = self.key_pts_frame.iloc[idx, 1:].as_matrix()\n"
     ]
    },
    {
     "name": "stdout",
     "output_type": "stream",
     "text": [
      "Epoch: 8, Batch: 50, Avg. Loss: 0.050391046330332756\n"
     ]
    },
    {
     "name": "stderr",
     "output_type": "stream",
     "text": [
      "/content/drive/My Drive/Assignment_1_Facial_Keypoints/data_load.py:40: FutureWarning: Method .as_matrix will be removed in a future version. Use .values instead.\n",
      "  key_pts = self.key_pts_frame.iloc[idx, 1:].as_matrix()\n",
      "/content/drive/My Drive/Assignment_1_Facial_Keypoints/data_load.py:40: FutureWarning: Method .as_matrix will be removed in a future version. Use .values instead.\n",
      "  key_pts = self.key_pts_frame.iloc[idx, 1:].as_matrix()\n",
      "/content/drive/My Drive/Assignment_1_Facial_Keypoints/data_load.py:40: FutureWarning: Method .as_matrix will be removed in a future version. Use .values instead.\n",
      "  key_pts = self.key_pts_frame.iloc[idx, 1:].as_matrix()\n",
      "/content/drive/My Drive/Assignment_1_Facial_Keypoints/data_load.py:40: FutureWarning: Method .as_matrix will be removed in a future version. Use .values instead.\n",
      "  key_pts = self.key_pts_frame.iloc[idx, 1:].as_matrix()\n",
      "/content/drive/My Drive/Assignment_1_Facial_Keypoints/data_load.py:40: FutureWarning: Method .as_matrix will be removed in a future version. Use .values instead.\n",
      "  key_pts = self.key_pts_frame.iloc[idx, 1:].as_matrix()\n",
      "/content/drive/My Drive/Assignment_1_Facial_Keypoints/data_load.py:40: FutureWarning: Method .as_matrix will be removed in a future version. Use .values instead.\n",
      "  key_pts = self.key_pts_frame.iloc[idx, 1:].as_matrix()\n",
      "/content/drive/My Drive/Assignment_1_Facial_Keypoints/data_load.py:40: FutureWarning: Method .as_matrix will be removed in a future version. Use .values instead.\n",
      "  key_pts = self.key_pts_frame.iloc[idx, 1:].as_matrix()\n",
      "/content/drive/My Drive/Assignment_1_Facial_Keypoints/data_load.py:40: FutureWarning: Method .as_matrix will be removed in a future version. Use .values instead.\n",
      "  key_pts = self.key_pts_frame.iloc[idx, 1:].as_matrix()\n"
     ]
    },
    {
     "name": "stdout",
     "output_type": "stream",
     "text": [
      "Epoch: 9, Batch: 10, Avg. Loss: 0.05188449919223785\n"
     ]
    },
    {
     "name": "stderr",
     "output_type": "stream",
     "text": [
      "/content/drive/My Drive/Assignment_1_Facial_Keypoints/data_load.py:40: FutureWarning: Method .as_matrix will be removed in a future version. Use .values instead.\n",
      "  key_pts = self.key_pts_frame.iloc[idx, 1:].as_matrix()\n",
      "/content/drive/My Drive/Assignment_1_Facial_Keypoints/data_load.py:40: FutureWarning: Method .as_matrix will be removed in a future version. Use .values instead.\n",
      "  key_pts = self.key_pts_frame.iloc[idx, 1:].as_matrix()\n",
      "/content/drive/My Drive/Assignment_1_Facial_Keypoints/data_load.py:40: FutureWarning: Method .as_matrix will be removed in a future version. Use .values instead.\n",
      "  key_pts = self.key_pts_frame.iloc[idx, 1:].as_matrix()\n",
      "/content/drive/My Drive/Assignment_1_Facial_Keypoints/data_load.py:40: FutureWarning: Method .as_matrix will be removed in a future version. Use .values instead.\n",
      "  key_pts = self.key_pts_frame.iloc[idx, 1:].as_matrix()\n"
     ]
    },
    {
     "name": "stdout",
     "output_type": "stream",
     "text": [
      "Epoch: 9, Batch: 20, Avg. Loss: 0.05572894662618637\n"
     ]
    },
    {
     "name": "stderr",
     "output_type": "stream",
     "text": [
      "/content/drive/My Drive/Assignment_1_Facial_Keypoints/data_load.py:40: FutureWarning: Method .as_matrix will be removed in a future version. Use .values instead.\n",
      "  key_pts = self.key_pts_frame.iloc[idx, 1:].as_matrix()\n",
      "/content/drive/My Drive/Assignment_1_Facial_Keypoints/data_load.py:40: FutureWarning: Method .as_matrix will be removed in a future version. Use .values instead.\n",
      "  key_pts = self.key_pts_frame.iloc[idx, 1:].as_matrix()\n",
      "/content/drive/My Drive/Assignment_1_Facial_Keypoints/data_load.py:40: FutureWarning: Method .as_matrix will be removed in a future version. Use .values instead.\n",
      "  key_pts = self.key_pts_frame.iloc[idx, 1:].as_matrix()\n",
      "/content/drive/My Drive/Assignment_1_Facial_Keypoints/data_load.py:40: FutureWarning: Method .as_matrix will be removed in a future version. Use .values instead.\n",
      "  key_pts = self.key_pts_frame.iloc[idx, 1:].as_matrix()\n"
     ]
    },
    {
     "name": "stdout",
     "output_type": "stream",
     "text": [
      "Epoch: 9, Batch: 30, Avg. Loss: 0.051894845068454744\n"
     ]
    },
    {
     "name": "stderr",
     "output_type": "stream",
     "text": [
      "/content/drive/My Drive/Assignment_1_Facial_Keypoints/data_load.py:40: FutureWarning: Method .as_matrix will be removed in a future version. Use .values instead.\n",
      "  key_pts = self.key_pts_frame.iloc[idx, 1:].as_matrix()\n",
      "/content/drive/My Drive/Assignment_1_Facial_Keypoints/data_load.py:40: FutureWarning: Method .as_matrix will be removed in a future version. Use .values instead.\n",
      "  key_pts = self.key_pts_frame.iloc[idx, 1:].as_matrix()\n",
      "/content/drive/My Drive/Assignment_1_Facial_Keypoints/data_load.py:40: FutureWarning: Method .as_matrix will be removed in a future version. Use .values instead.\n",
      "  key_pts = self.key_pts_frame.iloc[idx, 1:].as_matrix()\n",
      "/content/drive/My Drive/Assignment_1_Facial_Keypoints/data_load.py:40: FutureWarning: Method .as_matrix will be removed in a future version. Use .values instead.\n",
      "  key_pts = self.key_pts_frame.iloc[idx, 1:].as_matrix()\n"
     ]
    },
    {
     "name": "stdout",
     "output_type": "stream",
     "text": [
      "Epoch: 9, Batch: 40, Avg. Loss: 0.050719958171248435\n"
     ]
    },
    {
     "name": "stderr",
     "output_type": "stream",
     "text": [
      "/content/drive/My Drive/Assignment_1_Facial_Keypoints/data_load.py:40: FutureWarning: Method .as_matrix will be removed in a future version. Use .values instead.\n",
      "  key_pts = self.key_pts_frame.iloc[idx, 1:].as_matrix()\n",
      "/content/drive/My Drive/Assignment_1_Facial_Keypoints/data_load.py:40: FutureWarning: Method .as_matrix will be removed in a future version. Use .values instead.\n",
      "  key_pts = self.key_pts_frame.iloc[idx, 1:].as_matrix()\n",
      "/content/drive/My Drive/Assignment_1_Facial_Keypoints/data_load.py:40: FutureWarning: Method .as_matrix will be removed in a future version. Use .values instead.\n",
      "  key_pts = self.key_pts_frame.iloc[idx, 1:].as_matrix()\n",
      "/content/drive/My Drive/Assignment_1_Facial_Keypoints/data_load.py:40: FutureWarning: Method .as_matrix will be removed in a future version. Use .values instead.\n",
      "  key_pts = self.key_pts_frame.iloc[idx, 1:].as_matrix()\n"
     ]
    },
    {
     "name": "stdout",
     "output_type": "stream",
     "text": [
      "Epoch: 9, Batch: 50, Avg. Loss: 0.045019665732979774\n"
     ]
    },
    {
     "name": "stderr",
     "output_type": "stream",
     "text": [
      "/content/drive/My Drive/Assignment_1_Facial_Keypoints/data_load.py:40: FutureWarning: Method .as_matrix will be removed in a future version. Use .values instead.\n",
      "  key_pts = self.key_pts_frame.iloc[idx, 1:].as_matrix()\n",
      "/content/drive/My Drive/Assignment_1_Facial_Keypoints/data_load.py:40: FutureWarning: Method .as_matrix will be removed in a future version. Use .values instead.\n",
      "  key_pts = self.key_pts_frame.iloc[idx, 1:].as_matrix()\n",
      "/content/drive/My Drive/Assignment_1_Facial_Keypoints/data_load.py:40: FutureWarning: Method .as_matrix will be removed in a future version. Use .values instead.\n",
      "  key_pts = self.key_pts_frame.iloc[idx, 1:].as_matrix()\n",
      "/content/drive/My Drive/Assignment_1_Facial_Keypoints/data_load.py:40: FutureWarning: Method .as_matrix will be removed in a future version. Use .values instead.\n",
      "  key_pts = self.key_pts_frame.iloc[idx, 1:].as_matrix()\n",
      "/content/drive/My Drive/Assignment_1_Facial_Keypoints/data_load.py:40: FutureWarning: Method .as_matrix will be removed in a future version. Use .values instead.\n",
      "  key_pts = self.key_pts_frame.iloc[idx, 1:].as_matrix()\n",
      "/content/drive/My Drive/Assignment_1_Facial_Keypoints/data_load.py:40: FutureWarning: Method .as_matrix will be removed in a future version. Use .values instead.\n",
      "  key_pts = self.key_pts_frame.iloc[idx, 1:].as_matrix()\n",
      "/content/drive/My Drive/Assignment_1_Facial_Keypoints/data_load.py:40: FutureWarning: Method .as_matrix will be removed in a future version. Use .values instead.\n",
      "  key_pts = self.key_pts_frame.iloc[idx, 1:].as_matrix()\n",
      "/content/drive/My Drive/Assignment_1_Facial_Keypoints/data_load.py:40: FutureWarning: Method .as_matrix will be removed in a future version. Use .values instead.\n",
      "  key_pts = self.key_pts_frame.iloc[idx, 1:].as_matrix()\n"
     ]
    },
    {
     "name": "stdout",
     "output_type": "stream",
     "text": [
      "Epoch: 10, Batch: 10, Avg. Loss: 0.05796337947249412\n"
     ]
    },
    {
     "name": "stderr",
     "output_type": "stream",
     "text": [
      "/content/drive/My Drive/Assignment_1_Facial_Keypoints/data_load.py:40: FutureWarning: Method .as_matrix will be removed in a future version. Use .values instead.\n",
      "  key_pts = self.key_pts_frame.iloc[idx, 1:].as_matrix()\n",
      "/content/drive/My Drive/Assignment_1_Facial_Keypoints/data_load.py:40: FutureWarning: Method .as_matrix will be removed in a future version. Use .values instead.\n",
      "  key_pts = self.key_pts_frame.iloc[idx, 1:].as_matrix()\n",
      "/content/drive/My Drive/Assignment_1_Facial_Keypoints/data_load.py:40: FutureWarning: Method .as_matrix will be removed in a future version. Use .values instead.\n",
      "  key_pts = self.key_pts_frame.iloc[idx, 1:].as_matrix()\n",
      "/content/drive/My Drive/Assignment_1_Facial_Keypoints/data_load.py:40: FutureWarning: Method .as_matrix will be removed in a future version. Use .values instead.\n",
      "  key_pts = self.key_pts_frame.iloc[idx, 1:].as_matrix()\n"
     ]
    },
    {
     "name": "stdout",
     "output_type": "stream",
     "text": [
      "Epoch: 10, Batch: 20, Avg. Loss: 0.0488633044064045\n"
     ]
    },
    {
     "name": "stderr",
     "output_type": "stream",
     "text": [
      "/content/drive/My Drive/Assignment_1_Facial_Keypoints/data_load.py:40: FutureWarning: Method .as_matrix will be removed in a future version. Use .values instead.\n",
      "  key_pts = self.key_pts_frame.iloc[idx, 1:].as_matrix()\n",
      "/content/drive/My Drive/Assignment_1_Facial_Keypoints/data_load.py:40: FutureWarning: Method .as_matrix will be removed in a future version. Use .values instead.\n",
      "  key_pts = self.key_pts_frame.iloc[idx, 1:].as_matrix()\n",
      "/content/drive/My Drive/Assignment_1_Facial_Keypoints/data_load.py:40: FutureWarning: Method .as_matrix will be removed in a future version. Use .values instead.\n",
      "  key_pts = self.key_pts_frame.iloc[idx, 1:].as_matrix()\n",
      "/content/drive/My Drive/Assignment_1_Facial_Keypoints/data_load.py:40: FutureWarning: Method .as_matrix will be removed in a future version. Use .values instead.\n",
      "  key_pts = self.key_pts_frame.iloc[idx, 1:].as_matrix()\n"
     ]
    },
    {
     "name": "stdout",
     "output_type": "stream",
     "text": [
      "Epoch: 10, Batch: 30, Avg. Loss: 0.04772453885525465\n"
     ]
    },
    {
     "name": "stderr",
     "output_type": "stream",
     "text": [
      "/content/drive/My Drive/Assignment_1_Facial_Keypoints/data_load.py:40: FutureWarning: Method .as_matrix will be removed in a future version. Use .values instead.\n",
      "  key_pts = self.key_pts_frame.iloc[idx, 1:].as_matrix()\n",
      "/content/drive/My Drive/Assignment_1_Facial_Keypoints/data_load.py:40: FutureWarning: Method .as_matrix will be removed in a future version. Use .values instead.\n",
      "  key_pts = self.key_pts_frame.iloc[idx, 1:].as_matrix()\n",
      "/content/drive/My Drive/Assignment_1_Facial_Keypoints/data_load.py:40: FutureWarning: Method .as_matrix will be removed in a future version. Use .values instead.\n",
      "  key_pts = self.key_pts_frame.iloc[idx, 1:].as_matrix()\n",
      "/content/drive/My Drive/Assignment_1_Facial_Keypoints/data_load.py:40: FutureWarning: Method .as_matrix will be removed in a future version. Use .values instead.\n",
      "  key_pts = self.key_pts_frame.iloc[idx, 1:].as_matrix()\n"
     ]
    },
    {
     "name": "stdout",
     "output_type": "stream",
     "text": [
      "Epoch: 10, Batch: 40, Avg. Loss: 0.03993675783276558\n"
     ]
    },
    {
     "name": "stderr",
     "output_type": "stream",
     "text": [
      "/content/drive/My Drive/Assignment_1_Facial_Keypoints/data_load.py:40: FutureWarning: Method .as_matrix will be removed in a future version. Use .values instead.\n",
      "  key_pts = self.key_pts_frame.iloc[idx, 1:].as_matrix()\n",
      "/content/drive/My Drive/Assignment_1_Facial_Keypoints/data_load.py:40: FutureWarning: Method .as_matrix will be removed in a future version. Use .values instead.\n",
      "  key_pts = self.key_pts_frame.iloc[idx, 1:].as_matrix()\n",
      "/content/drive/My Drive/Assignment_1_Facial_Keypoints/data_load.py:40: FutureWarning: Method .as_matrix will be removed in a future version. Use .values instead.\n",
      "  key_pts = self.key_pts_frame.iloc[idx, 1:].as_matrix()\n",
      "/content/drive/My Drive/Assignment_1_Facial_Keypoints/data_load.py:40: FutureWarning: Method .as_matrix will be removed in a future version. Use .values instead.\n",
      "  key_pts = self.key_pts_frame.iloc[idx, 1:].as_matrix()\n"
     ]
    },
    {
     "name": "stdout",
     "output_type": "stream",
     "text": [
      "Epoch: 10, Batch: 50, Avg. Loss: 0.043251915648579595\n"
     ]
    },
    {
     "name": "stderr",
     "output_type": "stream",
     "text": [
      "/content/drive/My Drive/Assignment_1_Facial_Keypoints/data_load.py:40: FutureWarning: Method .as_matrix will be removed in a future version. Use .values instead.\n",
      "  key_pts = self.key_pts_frame.iloc[idx, 1:].as_matrix()\n",
      "/content/drive/My Drive/Assignment_1_Facial_Keypoints/data_load.py:40: FutureWarning: Method .as_matrix will be removed in a future version. Use .values instead.\n",
      "  key_pts = self.key_pts_frame.iloc[idx, 1:].as_matrix()\n",
      "/content/drive/My Drive/Assignment_1_Facial_Keypoints/data_load.py:40: FutureWarning: Method .as_matrix will be removed in a future version. Use .values instead.\n",
      "  key_pts = self.key_pts_frame.iloc[idx, 1:].as_matrix()\n",
      "/content/drive/My Drive/Assignment_1_Facial_Keypoints/data_load.py:40: FutureWarning: Method .as_matrix will be removed in a future version. Use .values instead.\n",
      "  key_pts = self.key_pts_frame.iloc[idx, 1:].as_matrix()\n",
      "/content/drive/My Drive/Assignment_1_Facial_Keypoints/data_load.py:40: FutureWarning: Method .as_matrix will be removed in a future version. Use .values instead.\n",
      "  key_pts = self.key_pts_frame.iloc[idx, 1:].as_matrix()\n",
      "/content/drive/My Drive/Assignment_1_Facial_Keypoints/data_load.py:40: FutureWarning: Method .as_matrix will be removed in a future version. Use .values instead.\n",
      "  key_pts = self.key_pts_frame.iloc[idx, 1:].as_matrix()\n",
      "/content/drive/My Drive/Assignment_1_Facial_Keypoints/data_load.py:40: FutureWarning: Method .as_matrix will be removed in a future version. Use .values instead.\n",
      "  key_pts = self.key_pts_frame.iloc[idx, 1:].as_matrix()\n",
      "/content/drive/My Drive/Assignment_1_Facial_Keypoints/data_load.py:40: FutureWarning: Method .as_matrix will be removed in a future version. Use .values instead.\n",
      "  key_pts = self.key_pts_frame.iloc[idx, 1:].as_matrix()\n"
     ]
    },
    {
     "name": "stdout",
     "output_type": "stream",
     "text": [
      "Epoch: 11, Batch: 10, Avg. Loss: 0.044298979453742504\n"
     ]
    },
    {
     "name": "stderr",
     "output_type": "stream",
     "text": [
      "/content/drive/My Drive/Assignment_1_Facial_Keypoints/data_load.py:40: FutureWarning: Method .as_matrix will be removed in a future version. Use .values instead.\n",
      "  key_pts = self.key_pts_frame.iloc[idx, 1:].as_matrix()\n",
      "/content/drive/My Drive/Assignment_1_Facial_Keypoints/data_load.py:40: FutureWarning: Method .as_matrix will be removed in a future version. Use .values instead.\n",
      "  key_pts = self.key_pts_frame.iloc[idx, 1:].as_matrix()\n",
      "/content/drive/My Drive/Assignment_1_Facial_Keypoints/data_load.py:40: FutureWarning: Method .as_matrix will be removed in a future version. Use .values instead.\n",
      "  key_pts = self.key_pts_frame.iloc[idx, 1:].as_matrix()\n",
      "/content/drive/My Drive/Assignment_1_Facial_Keypoints/data_load.py:40: FutureWarning: Method .as_matrix will be removed in a future version. Use .values instead.\n",
      "  key_pts = self.key_pts_frame.iloc[idx, 1:].as_matrix()\n"
     ]
    },
    {
     "name": "stdout",
     "output_type": "stream",
     "text": [
      "Epoch: 11, Batch: 20, Avg. Loss: 0.045625189505517486\n"
     ]
    },
    {
     "name": "stderr",
     "output_type": "stream",
     "text": [
      "/content/drive/My Drive/Assignment_1_Facial_Keypoints/data_load.py:40: FutureWarning: Method .as_matrix will be removed in a future version. Use .values instead.\n",
      "  key_pts = self.key_pts_frame.iloc[idx, 1:].as_matrix()\n",
      "/content/drive/My Drive/Assignment_1_Facial_Keypoints/data_load.py:40: FutureWarning: Method .as_matrix will be removed in a future version. Use .values instead.\n",
      "  key_pts = self.key_pts_frame.iloc[idx, 1:].as_matrix()\n",
      "/content/drive/My Drive/Assignment_1_Facial_Keypoints/data_load.py:40: FutureWarning: Method .as_matrix will be removed in a future version. Use .values instead.\n",
      "  key_pts = self.key_pts_frame.iloc[idx, 1:].as_matrix()\n",
      "/content/drive/My Drive/Assignment_1_Facial_Keypoints/data_load.py:40: FutureWarning: Method .as_matrix will be removed in a future version. Use .values instead.\n",
      "  key_pts = self.key_pts_frame.iloc[idx, 1:].as_matrix()\n"
     ]
    },
    {
     "name": "stdout",
     "output_type": "stream",
     "text": [
      "Epoch: 11, Batch: 30, Avg. Loss: 0.04018007442355156\n"
     ]
    },
    {
     "name": "stderr",
     "output_type": "stream",
     "text": [
      "/content/drive/My Drive/Assignment_1_Facial_Keypoints/data_load.py:40: FutureWarning: Method .as_matrix will be removed in a future version. Use .values instead.\n",
      "  key_pts = self.key_pts_frame.iloc[idx, 1:].as_matrix()\n",
      "/content/drive/My Drive/Assignment_1_Facial_Keypoints/data_load.py:40: FutureWarning: Method .as_matrix will be removed in a future version. Use .values instead.\n",
      "  key_pts = self.key_pts_frame.iloc[idx, 1:].as_matrix()\n",
      "/content/drive/My Drive/Assignment_1_Facial_Keypoints/data_load.py:40: FutureWarning: Method .as_matrix will be removed in a future version. Use .values instead.\n",
      "  key_pts = self.key_pts_frame.iloc[idx, 1:].as_matrix()\n",
      "/content/drive/My Drive/Assignment_1_Facial_Keypoints/data_load.py:40: FutureWarning: Method .as_matrix will be removed in a future version. Use .values instead.\n",
      "  key_pts = self.key_pts_frame.iloc[idx, 1:].as_matrix()\n"
     ]
    },
    {
     "name": "stdout",
     "output_type": "stream",
     "text": [
      "Epoch: 11, Batch: 40, Avg. Loss: 0.04094852060079575\n"
     ]
    },
    {
     "name": "stderr",
     "output_type": "stream",
     "text": [
      "/content/drive/My Drive/Assignment_1_Facial_Keypoints/data_load.py:40: FutureWarning: Method .as_matrix will be removed in a future version. Use .values instead.\n",
      "  key_pts = self.key_pts_frame.iloc[idx, 1:].as_matrix()\n",
      "/content/drive/My Drive/Assignment_1_Facial_Keypoints/data_load.py:40: FutureWarning: Method .as_matrix will be removed in a future version. Use .values instead.\n",
      "  key_pts = self.key_pts_frame.iloc[idx, 1:].as_matrix()\n",
      "/content/drive/My Drive/Assignment_1_Facial_Keypoints/data_load.py:40: FutureWarning: Method .as_matrix will be removed in a future version. Use .values instead.\n",
      "  key_pts = self.key_pts_frame.iloc[idx, 1:].as_matrix()\n",
      "/content/drive/My Drive/Assignment_1_Facial_Keypoints/data_load.py:40: FutureWarning: Method .as_matrix will be removed in a future version. Use .values instead.\n",
      "  key_pts = self.key_pts_frame.iloc[idx, 1:].as_matrix()\n"
     ]
    },
    {
     "name": "stdout",
     "output_type": "stream",
     "text": [
      "Epoch: 11, Batch: 50, Avg. Loss: 0.03849851917475462\n"
     ]
    },
    {
     "name": "stderr",
     "output_type": "stream",
     "text": [
      "/content/drive/My Drive/Assignment_1_Facial_Keypoints/data_load.py:40: FutureWarning: Method .as_matrix will be removed in a future version. Use .values instead.\n",
      "  key_pts = self.key_pts_frame.iloc[idx, 1:].as_matrix()\n",
      "/content/drive/My Drive/Assignment_1_Facial_Keypoints/data_load.py:40: FutureWarning: Method .as_matrix will be removed in a future version. Use .values instead.\n",
      "  key_pts = self.key_pts_frame.iloc[idx, 1:].as_matrix()\n",
      "/content/drive/My Drive/Assignment_1_Facial_Keypoints/data_load.py:40: FutureWarning: Method .as_matrix will be removed in a future version. Use .values instead.\n",
      "  key_pts = self.key_pts_frame.iloc[idx, 1:].as_matrix()\n",
      "/content/drive/My Drive/Assignment_1_Facial_Keypoints/data_load.py:40: FutureWarning: Method .as_matrix will be removed in a future version. Use .values instead.\n",
      "  key_pts = self.key_pts_frame.iloc[idx, 1:].as_matrix()\n",
      "/content/drive/My Drive/Assignment_1_Facial_Keypoints/data_load.py:40: FutureWarning: Method .as_matrix will be removed in a future version. Use .values instead.\n",
      "  key_pts = self.key_pts_frame.iloc[idx, 1:].as_matrix()\n",
      "/content/drive/My Drive/Assignment_1_Facial_Keypoints/data_load.py:40: FutureWarning: Method .as_matrix will be removed in a future version. Use .values instead.\n",
      "  key_pts = self.key_pts_frame.iloc[idx, 1:].as_matrix()\n",
      "/content/drive/My Drive/Assignment_1_Facial_Keypoints/data_load.py:40: FutureWarning: Method .as_matrix will be removed in a future version. Use .values instead.\n",
      "  key_pts = self.key_pts_frame.iloc[idx, 1:].as_matrix()\n",
      "/content/drive/My Drive/Assignment_1_Facial_Keypoints/data_load.py:40: FutureWarning: Method .as_matrix will be removed in a future version. Use .values instead.\n",
      "  key_pts = self.key_pts_frame.iloc[idx, 1:].as_matrix()\n"
     ]
    },
    {
     "name": "stdout",
     "output_type": "stream",
     "text": [
      "Epoch: 12, Batch: 10, Avg. Loss: 0.03957039527595043\n"
     ]
    },
    {
     "name": "stderr",
     "output_type": "stream",
     "text": [
      "/content/drive/My Drive/Assignment_1_Facial_Keypoints/data_load.py:40: FutureWarning: Method .as_matrix will be removed in a future version. Use .values instead.\n",
      "  key_pts = self.key_pts_frame.iloc[idx, 1:].as_matrix()\n",
      "/content/drive/My Drive/Assignment_1_Facial_Keypoints/data_load.py:40: FutureWarning: Method .as_matrix will be removed in a future version. Use .values instead.\n",
      "  key_pts = self.key_pts_frame.iloc[idx, 1:].as_matrix()\n",
      "/content/drive/My Drive/Assignment_1_Facial_Keypoints/data_load.py:40: FutureWarning: Method .as_matrix will be removed in a future version. Use .values instead.\n",
      "  key_pts = self.key_pts_frame.iloc[idx, 1:].as_matrix()\n",
      "/content/drive/My Drive/Assignment_1_Facial_Keypoints/data_load.py:40: FutureWarning: Method .as_matrix will be removed in a future version. Use .values instead.\n",
      "  key_pts = self.key_pts_frame.iloc[idx, 1:].as_matrix()\n"
     ]
    },
    {
     "name": "stdout",
     "output_type": "stream",
     "text": [
      "Epoch: 12, Batch: 20, Avg. Loss: 0.036803769506514074\n"
     ]
    },
    {
     "name": "stderr",
     "output_type": "stream",
     "text": [
      "/content/drive/My Drive/Assignment_1_Facial_Keypoints/data_load.py:40: FutureWarning: Method .as_matrix will be removed in a future version. Use .values instead.\n",
      "  key_pts = self.key_pts_frame.iloc[idx, 1:].as_matrix()\n",
      "/content/drive/My Drive/Assignment_1_Facial_Keypoints/data_load.py:40: FutureWarning: Method .as_matrix will be removed in a future version. Use .values instead.\n",
      "  key_pts = self.key_pts_frame.iloc[idx, 1:].as_matrix()\n",
      "/content/drive/My Drive/Assignment_1_Facial_Keypoints/data_load.py:40: FutureWarning: Method .as_matrix will be removed in a future version. Use .values instead.\n",
      "  key_pts = self.key_pts_frame.iloc[idx, 1:].as_matrix()\n",
      "/content/drive/My Drive/Assignment_1_Facial_Keypoints/data_load.py:40: FutureWarning: Method .as_matrix will be removed in a future version. Use .values instead.\n",
      "  key_pts = self.key_pts_frame.iloc[idx, 1:].as_matrix()\n"
     ]
    },
    {
     "name": "stdout",
     "output_type": "stream",
     "text": [
      "Epoch: 12, Batch: 30, Avg. Loss: 0.03608073201030493\n"
     ]
    },
    {
     "name": "stderr",
     "output_type": "stream",
     "text": [
      "/content/drive/My Drive/Assignment_1_Facial_Keypoints/data_load.py:40: FutureWarning: Method .as_matrix will be removed in a future version. Use .values instead.\n",
      "  key_pts = self.key_pts_frame.iloc[idx, 1:].as_matrix()\n",
      "/content/drive/My Drive/Assignment_1_Facial_Keypoints/data_load.py:40: FutureWarning: Method .as_matrix will be removed in a future version. Use .values instead.\n",
      "  key_pts = self.key_pts_frame.iloc[idx, 1:].as_matrix()\n",
      "/content/drive/My Drive/Assignment_1_Facial_Keypoints/data_load.py:40: FutureWarning: Method .as_matrix will be removed in a future version. Use .values instead.\n",
      "  key_pts = self.key_pts_frame.iloc[idx, 1:].as_matrix()\n",
      "/content/drive/My Drive/Assignment_1_Facial_Keypoints/data_load.py:40: FutureWarning: Method .as_matrix will be removed in a future version. Use .values instead.\n",
      "  key_pts = self.key_pts_frame.iloc[idx, 1:].as_matrix()\n"
     ]
    },
    {
     "name": "stdout",
     "output_type": "stream",
     "text": [
      "Epoch: 12, Batch: 40, Avg. Loss: 0.04152743835002184\n"
     ]
    },
    {
     "name": "stderr",
     "output_type": "stream",
     "text": [
      "/content/drive/My Drive/Assignment_1_Facial_Keypoints/data_load.py:40: FutureWarning: Method .as_matrix will be removed in a future version. Use .values instead.\n",
      "  key_pts = self.key_pts_frame.iloc[idx, 1:].as_matrix()\n",
      "/content/drive/My Drive/Assignment_1_Facial_Keypoints/data_load.py:40: FutureWarning: Method .as_matrix will be removed in a future version. Use .values instead.\n",
      "  key_pts = self.key_pts_frame.iloc[idx, 1:].as_matrix()\n",
      "/content/drive/My Drive/Assignment_1_Facial_Keypoints/data_load.py:40: FutureWarning: Method .as_matrix will be removed in a future version. Use .values instead.\n",
      "  key_pts = self.key_pts_frame.iloc[idx, 1:].as_matrix()\n",
      "/content/drive/My Drive/Assignment_1_Facial_Keypoints/data_load.py:40: FutureWarning: Method .as_matrix will be removed in a future version. Use .values instead.\n",
      "  key_pts = self.key_pts_frame.iloc[idx, 1:].as_matrix()\n"
     ]
    },
    {
     "name": "stdout",
     "output_type": "stream",
     "text": [
      "Epoch: 12, Batch: 50, Avg. Loss: 0.04338733647018671\n"
     ]
    },
    {
     "name": "stderr",
     "output_type": "stream",
     "text": [
      "/content/drive/My Drive/Assignment_1_Facial_Keypoints/data_load.py:40: FutureWarning: Method .as_matrix will be removed in a future version. Use .values instead.\n",
      "  key_pts = self.key_pts_frame.iloc[idx, 1:].as_matrix()\n",
      "/content/drive/My Drive/Assignment_1_Facial_Keypoints/data_load.py:40: FutureWarning: Method .as_matrix will be removed in a future version. Use .values instead.\n",
      "  key_pts = self.key_pts_frame.iloc[idx, 1:].as_matrix()\n",
      "/content/drive/My Drive/Assignment_1_Facial_Keypoints/data_load.py:40: FutureWarning: Method .as_matrix will be removed in a future version. Use .values instead.\n",
      "  key_pts = self.key_pts_frame.iloc[idx, 1:].as_matrix()\n",
      "/content/drive/My Drive/Assignment_1_Facial_Keypoints/data_load.py:40: FutureWarning: Method .as_matrix will be removed in a future version. Use .values instead.\n",
      "  key_pts = self.key_pts_frame.iloc[idx, 1:].as_matrix()\n",
      "/content/drive/My Drive/Assignment_1_Facial_Keypoints/data_load.py:40: FutureWarning: Method .as_matrix will be removed in a future version. Use .values instead.\n",
      "  key_pts = self.key_pts_frame.iloc[idx, 1:].as_matrix()\n",
      "/content/drive/My Drive/Assignment_1_Facial_Keypoints/data_load.py:40: FutureWarning: Method .as_matrix will be removed in a future version. Use .values instead.\n",
      "  key_pts = self.key_pts_frame.iloc[idx, 1:].as_matrix()\n",
      "/content/drive/My Drive/Assignment_1_Facial_Keypoints/data_load.py:40: FutureWarning: Method .as_matrix will be removed in a future version. Use .values instead.\n",
      "  key_pts = self.key_pts_frame.iloc[idx, 1:].as_matrix()\n",
      "/content/drive/My Drive/Assignment_1_Facial_Keypoints/data_load.py:40: FutureWarning: Method .as_matrix will be removed in a future version. Use .values instead.\n",
      "  key_pts = self.key_pts_frame.iloc[idx, 1:].as_matrix()\n"
     ]
    },
    {
     "name": "stdout",
     "output_type": "stream",
     "text": [
      "Epoch: 13, Batch: 10, Avg. Loss: 0.03937078528106212\n"
     ]
    },
    {
     "name": "stderr",
     "output_type": "stream",
     "text": [
      "/content/drive/My Drive/Assignment_1_Facial_Keypoints/data_load.py:40: FutureWarning: Method .as_matrix will be removed in a future version. Use .values instead.\n",
      "  key_pts = self.key_pts_frame.iloc[idx, 1:].as_matrix()\n",
      "/content/drive/My Drive/Assignment_1_Facial_Keypoints/data_load.py:40: FutureWarning: Method .as_matrix will be removed in a future version. Use .values instead.\n",
      "  key_pts = self.key_pts_frame.iloc[idx, 1:].as_matrix()\n",
      "/content/drive/My Drive/Assignment_1_Facial_Keypoints/data_load.py:40: FutureWarning: Method .as_matrix will be removed in a future version. Use .values instead.\n",
      "  key_pts = self.key_pts_frame.iloc[idx, 1:].as_matrix()\n",
      "/content/drive/My Drive/Assignment_1_Facial_Keypoints/data_load.py:40: FutureWarning: Method .as_matrix will be removed in a future version. Use .values instead.\n",
      "  key_pts = self.key_pts_frame.iloc[idx, 1:].as_matrix()\n"
     ]
    },
    {
     "name": "stdout",
     "output_type": "stream",
     "text": [
      "Epoch: 13, Batch: 20, Avg. Loss: 0.04058136232197285\n"
     ]
    },
    {
     "name": "stderr",
     "output_type": "stream",
     "text": [
      "/content/drive/My Drive/Assignment_1_Facial_Keypoints/data_load.py:40: FutureWarning: Method .as_matrix will be removed in a future version. Use .values instead.\n",
      "  key_pts = self.key_pts_frame.iloc[idx, 1:].as_matrix()\n",
      "/content/drive/My Drive/Assignment_1_Facial_Keypoints/data_load.py:40: FutureWarning: Method .as_matrix will be removed in a future version. Use .values instead.\n",
      "  key_pts = self.key_pts_frame.iloc[idx, 1:].as_matrix()\n",
      "/content/drive/My Drive/Assignment_1_Facial_Keypoints/data_load.py:40: FutureWarning: Method .as_matrix will be removed in a future version. Use .values instead.\n",
      "  key_pts = self.key_pts_frame.iloc[idx, 1:].as_matrix()\n",
      "/content/drive/My Drive/Assignment_1_Facial_Keypoints/data_load.py:40: FutureWarning: Method .as_matrix will be removed in a future version. Use .values instead.\n",
      "  key_pts = self.key_pts_frame.iloc[idx, 1:].as_matrix()\n"
     ]
    },
    {
     "name": "stdout",
     "output_type": "stream",
     "text": [
      "Epoch: 13, Batch: 30, Avg. Loss: 0.04569882489740849\n"
     ]
    },
    {
     "name": "stderr",
     "output_type": "stream",
     "text": [
      "/content/drive/My Drive/Assignment_1_Facial_Keypoints/data_load.py:40: FutureWarning: Method .as_matrix will be removed in a future version. Use .values instead.\n",
      "  key_pts = self.key_pts_frame.iloc[idx, 1:].as_matrix()\n",
      "/content/drive/My Drive/Assignment_1_Facial_Keypoints/data_load.py:40: FutureWarning: Method .as_matrix will be removed in a future version. Use .values instead.\n",
      "  key_pts = self.key_pts_frame.iloc[idx, 1:].as_matrix()\n",
      "/content/drive/My Drive/Assignment_1_Facial_Keypoints/data_load.py:40: FutureWarning: Method .as_matrix will be removed in a future version. Use .values instead.\n",
      "  key_pts = self.key_pts_frame.iloc[idx, 1:].as_matrix()\n",
      "/content/drive/My Drive/Assignment_1_Facial_Keypoints/data_load.py:40: FutureWarning: Method .as_matrix will be removed in a future version. Use .values instead.\n",
      "  key_pts = self.key_pts_frame.iloc[idx, 1:].as_matrix()\n"
     ]
    },
    {
     "name": "stdout",
     "output_type": "stream",
     "text": [
      "Epoch: 13, Batch: 40, Avg. Loss: 0.035599655285477635\n"
     ]
    },
    {
     "name": "stderr",
     "output_type": "stream",
     "text": [
      "/content/drive/My Drive/Assignment_1_Facial_Keypoints/data_load.py:40: FutureWarning: Method .as_matrix will be removed in a future version. Use .values instead.\n",
      "  key_pts = self.key_pts_frame.iloc[idx, 1:].as_matrix()\n",
      "/content/drive/My Drive/Assignment_1_Facial_Keypoints/data_load.py:40: FutureWarning: Method .as_matrix will be removed in a future version. Use .values instead.\n",
      "  key_pts = self.key_pts_frame.iloc[idx, 1:].as_matrix()\n",
      "/content/drive/My Drive/Assignment_1_Facial_Keypoints/data_load.py:40: FutureWarning: Method .as_matrix will be removed in a future version. Use .values instead.\n",
      "  key_pts = self.key_pts_frame.iloc[idx, 1:].as_matrix()\n",
      "/content/drive/My Drive/Assignment_1_Facial_Keypoints/data_load.py:40: FutureWarning: Method .as_matrix will be removed in a future version. Use .values instead.\n",
      "  key_pts = self.key_pts_frame.iloc[idx, 1:].as_matrix()\n"
     ]
    },
    {
     "name": "stdout",
     "output_type": "stream",
     "text": [
      "Epoch: 13, Batch: 50, Avg. Loss: 0.040639229491353034\n"
     ]
    },
    {
     "name": "stderr",
     "output_type": "stream",
     "text": [
      "/content/drive/My Drive/Assignment_1_Facial_Keypoints/data_load.py:40: FutureWarning: Method .as_matrix will be removed in a future version. Use .values instead.\n",
      "  key_pts = self.key_pts_frame.iloc[idx, 1:].as_matrix()\n",
      "/content/drive/My Drive/Assignment_1_Facial_Keypoints/data_load.py:40: FutureWarning: Method .as_matrix will be removed in a future version. Use .values instead.\n",
      "  key_pts = self.key_pts_frame.iloc[idx, 1:].as_matrix()\n",
      "/content/drive/My Drive/Assignment_1_Facial_Keypoints/data_load.py:40: FutureWarning: Method .as_matrix will be removed in a future version. Use .values instead.\n",
      "  key_pts = self.key_pts_frame.iloc[idx, 1:].as_matrix()\n",
      "/content/drive/My Drive/Assignment_1_Facial_Keypoints/data_load.py:40: FutureWarning: Method .as_matrix will be removed in a future version. Use .values instead.\n",
      "  key_pts = self.key_pts_frame.iloc[idx, 1:].as_matrix()\n",
      "/content/drive/My Drive/Assignment_1_Facial_Keypoints/data_load.py:40: FutureWarning: Method .as_matrix will be removed in a future version. Use .values instead.\n",
      "  key_pts = self.key_pts_frame.iloc[idx, 1:].as_matrix()\n",
      "/content/drive/My Drive/Assignment_1_Facial_Keypoints/data_load.py:40: FutureWarning: Method .as_matrix will be removed in a future version. Use .values instead.\n",
      "  key_pts = self.key_pts_frame.iloc[idx, 1:].as_matrix()\n",
      "/content/drive/My Drive/Assignment_1_Facial_Keypoints/data_load.py:40: FutureWarning: Method .as_matrix will be removed in a future version. Use .values instead.\n",
      "  key_pts = self.key_pts_frame.iloc[idx, 1:].as_matrix()\n",
      "/content/drive/My Drive/Assignment_1_Facial_Keypoints/data_load.py:40: FutureWarning: Method .as_matrix will be removed in a future version. Use .values instead.\n",
      "  key_pts = self.key_pts_frame.iloc[idx, 1:].as_matrix()\n"
     ]
    },
    {
     "name": "stdout",
     "output_type": "stream",
     "text": [
      "Epoch: 14, Batch: 10, Avg. Loss: 0.03313138410449028\n"
     ]
    },
    {
     "name": "stderr",
     "output_type": "stream",
     "text": [
      "/content/drive/My Drive/Assignment_1_Facial_Keypoints/data_load.py:40: FutureWarning: Method .as_matrix will be removed in a future version. Use .values instead.\n",
      "  key_pts = self.key_pts_frame.iloc[idx, 1:].as_matrix()\n",
      "/content/drive/My Drive/Assignment_1_Facial_Keypoints/data_load.py:40: FutureWarning: Method .as_matrix will be removed in a future version. Use .values instead.\n",
      "  key_pts = self.key_pts_frame.iloc[idx, 1:].as_matrix()\n",
      "/content/drive/My Drive/Assignment_1_Facial_Keypoints/data_load.py:40: FutureWarning: Method .as_matrix will be removed in a future version. Use .values instead.\n",
      "  key_pts = self.key_pts_frame.iloc[idx, 1:].as_matrix()\n",
      "/content/drive/My Drive/Assignment_1_Facial_Keypoints/data_load.py:40: FutureWarning: Method .as_matrix will be removed in a future version. Use .values instead.\n",
      "  key_pts = self.key_pts_frame.iloc[idx, 1:].as_matrix()\n"
     ]
    },
    {
     "name": "stdout",
     "output_type": "stream",
     "text": [
      "Epoch: 14, Batch: 20, Avg. Loss: 0.03299007937312126\n"
     ]
    },
    {
     "name": "stderr",
     "output_type": "stream",
     "text": [
      "/content/drive/My Drive/Assignment_1_Facial_Keypoints/data_load.py:40: FutureWarning: Method .as_matrix will be removed in a future version. Use .values instead.\n",
      "  key_pts = self.key_pts_frame.iloc[idx, 1:].as_matrix()\n",
      "/content/drive/My Drive/Assignment_1_Facial_Keypoints/data_load.py:40: FutureWarning: Method .as_matrix will be removed in a future version. Use .values instead.\n",
      "  key_pts = self.key_pts_frame.iloc[idx, 1:].as_matrix()\n",
      "/content/drive/My Drive/Assignment_1_Facial_Keypoints/data_load.py:40: FutureWarning: Method .as_matrix will be removed in a future version. Use .values instead.\n",
      "  key_pts = self.key_pts_frame.iloc[idx, 1:].as_matrix()\n",
      "/content/drive/My Drive/Assignment_1_Facial_Keypoints/data_load.py:40: FutureWarning: Method .as_matrix will be removed in a future version. Use .values instead.\n",
      "  key_pts = self.key_pts_frame.iloc[idx, 1:].as_matrix()\n"
     ]
    },
    {
     "name": "stdout",
     "output_type": "stream",
     "text": [
      "Epoch: 14, Batch: 30, Avg. Loss: 0.034611278027296064\n"
     ]
    },
    {
     "name": "stderr",
     "output_type": "stream",
     "text": [
      "/content/drive/My Drive/Assignment_1_Facial_Keypoints/data_load.py:40: FutureWarning: Method .as_matrix will be removed in a future version. Use .values instead.\n",
      "  key_pts = self.key_pts_frame.iloc[idx, 1:].as_matrix()\n",
      "/content/drive/My Drive/Assignment_1_Facial_Keypoints/data_load.py:40: FutureWarning: Method .as_matrix will be removed in a future version. Use .values instead.\n",
      "  key_pts = self.key_pts_frame.iloc[idx, 1:].as_matrix()\n",
      "/content/drive/My Drive/Assignment_1_Facial_Keypoints/data_load.py:40: FutureWarning: Method .as_matrix will be removed in a future version. Use .values instead.\n",
      "  key_pts = self.key_pts_frame.iloc[idx, 1:].as_matrix()\n",
      "/content/drive/My Drive/Assignment_1_Facial_Keypoints/data_load.py:40: FutureWarning: Method .as_matrix will be removed in a future version. Use .values instead.\n",
      "  key_pts = self.key_pts_frame.iloc[idx, 1:].as_matrix()\n"
     ]
    },
    {
     "name": "stdout",
     "output_type": "stream",
     "text": [
      "Epoch: 14, Batch: 40, Avg. Loss: 0.03290069978684187\n"
     ]
    },
    {
     "name": "stderr",
     "output_type": "stream",
     "text": [
      "/content/drive/My Drive/Assignment_1_Facial_Keypoints/data_load.py:40: FutureWarning: Method .as_matrix will be removed in a future version. Use .values instead.\n",
      "  key_pts = self.key_pts_frame.iloc[idx, 1:].as_matrix()\n",
      "/content/drive/My Drive/Assignment_1_Facial_Keypoints/data_load.py:40: FutureWarning: Method .as_matrix will be removed in a future version. Use .values instead.\n",
      "  key_pts = self.key_pts_frame.iloc[idx, 1:].as_matrix()\n",
      "/content/drive/My Drive/Assignment_1_Facial_Keypoints/data_load.py:40: FutureWarning: Method .as_matrix will be removed in a future version. Use .values instead.\n",
      "  key_pts = self.key_pts_frame.iloc[idx, 1:].as_matrix()\n",
      "/content/drive/My Drive/Assignment_1_Facial_Keypoints/data_load.py:40: FutureWarning: Method .as_matrix will be removed in a future version. Use .values instead.\n",
      "  key_pts = self.key_pts_frame.iloc[idx, 1:].as_matrix()\n"
     ]
    },
    {
     "name": "stdout",
     "output_type": "stream",
     "text": [
      "Epoch: 14, Batch: 50, Avg. Loss: 0.03356182537972927\n"
     ]
    },
    {
     "name": "stderr",
     "output_type": "stream",
     "text": [
      "/content/drive/My Drive/Assignment_1_Facial_Keypoints/data_load.py:40: FutureWarning: Method .as_matrix will be removed in a future version. Use .values instead.\n",
      "  key_pts = self.key_pts_frame.iloc[idx, 1:].as_matrix()\n",
      "/content/drive/My Drive/Assignment_1_Facial_Keypoints/data_load.py:40: FutureWarning: Method .as_matrix will be removed in a future version. Use .values instead.\n",
      "  key_pts = self.key_pts_frame.iloc[idx, 1:].as_matrix()\n",
      "/content/drive/My Drive/Assignment_1_Facial_Keypoints/data_load.py:40: FutureWarning: Method .as_matrix will be removed in a future version. Use .values instead.\n",
      "  key_pts = self.key_pts_frame.iloc[idx, 1:].as_matrix()\n",
      "/content/drive/My Drive/Assignment_1_Facial_Keypoints/data_load.py:40: FutureWarning: Method .as_matrix will be removed in a future version. Use .values instead.\n",
      "  key_pts = self.key_pts_frame.iloc[idx, 1:].as_matrix()\n",
      "/content/drive/My Drive/Assignment_1_Facial_Keypoints/data_load.py:40: FutureWarning: Method .as_matrix will be removed in a future version. Use .values instead.\n",
      "  key_pts = self.key_pts_frame.iloc[idx, 1:].as_matrix()\n",
      "/content/drive/My Drive/Assignment_1_Facial_Keypoints/data_load.py:40: FutureWarning: Method .as_matrix will be removed in a future version. Use .values instead.\n",
      "  key_pts = self.key_pts_frame.iloc[idx, 1:].as_matrix()\n",
      "/content/drive/My Drive/Assignment_1_Facial_Keypoints/data_load.py:40: FutureWarning: Method .as_matrix will be removed in a future version. Use .values instead.\n",
      "  key_pts = self.key_pts_frame.iloc[idx, 1:].as_matrix()\n",
      "/content/drive/My Drive/Assignment_1_Facial_Keypoints/data_load.py:40: FutureWarning: Method .as_matrix will be removed in a future version. Use .values instead.\n",
      "  key_pts = self.key_pts_frame.iloc[idx, 1:].as_matrix()\n"
     ]
    },
    {
     "name": "stdout",
     "output_type": "stream",
     "text": [
      "Epoch: 15, Batch: 10, Avg. Loss: 0.03110461700707674\n"
     ]
    },
    {
     "name": "stderr",
     "output_type": "stream",
     "text": [
      "/content/drive/My Drive/Assignment_1_Facial_Keypoints/data_load.py:40: FutureWarning: Method .as_matrix will be removed in a future version. Use .values instead.\n",
      "  key_pts = self.key_pts_frame.iloc[idx, 1:].as_matrix()\n",
      "/content/drive/My Drive/Assignment_1_Facial_Keypoints/data_load.py:40: FutureWarning: Method .as_matrix will be removed in a future version. Use .values instead.\n",
      "  key_pts = self.key_pts_frame.iloc[idx, 1:].as_matrix()\n",
      "/content/drive/My Drive/Assignment_1_Facial_Keypoints/data_load.py:40: FutureWarning: Method .as_matrix will be removed in a future version. Use .values instead.\n",
      "  key_pts = self.key_pts_frame.iloc[idx, 1:].as_matrix()\n",
      "/content/drive/My Drive/Assignment_1_Facial_Keypoints/data_load.py:40: FutureWarning: Method .as_matrix will be removed in a future version. Use .values instead.\n",
      "  key_pts = self.key_pts_frame.iloc[idx, 1:].as_matrix()\n"
     ]
    },
    {
     "name": "stdout",
     "output_type": "stream",
     "text": [
      "Epoch: 15, Batch: 20, Avg. Loss: 0.03142858576029539\n"
     ]
    },
    {
     "name": "stderr",
     "output_type": "stream",
     "text": [
      "/content/drive/My Drive/Assignment_1_Facial_Keypoints/data_load.py:40: FutureWarning: Method .as_matrix will be removed in a future version. Use .values instead.\n",
      "  key_pts = self.key_pts_frame.iloc[idx, 1:].as_matrix()\n",
      "/content/drive/My Drive/Assignment_1_Facial_Keypoints/data_load.py:40: FutureWarning: Method .as_matrix will be removed in a future version. Use .values instead.\n",
      "  key_pts = self.key_pts_frame.iloc[idx, 1:].as_matrix()\n",
      "/content/drive/My Drive/Assignment_1_Facial_Keypoints/data_load.py:40: FutureWarning: Method .as_matrix will be removed in a future version. Use .values instead.\n",
      "  key_pts = self.key_pts_frame.iloc[idx, 1:].as_matrix()\n",
      "/content/drive/My Drive/Assignment_1_Facial_Keypoints/data_load.py:40: FutureWarning: Method .as_matrix will be removed in a future version. Use .values instead.\n",
      "  key_pts = self.key_pts_frame.iloc[idx, 1:].as_matrix()\n"
     ]
    },
    {
     "name": "stdout",
     "output_type": "stream",
     "text": [
      "Epoch: 15, Batch: 30, Avg. Loss: 0.03225059919059277\n"
     ]
    },
    {
     "name": "stderr",
     "output_type": "stream",
     "text": [
      "/content/drive/My Drive/Assignment_1_Facial_Keypoints/data_load.py:40: FutureWarning: Method .as_matrix will be removed in a future version. Use .values instead.\n",
      "  key_pts = self.key_pts_frame.iloc[idx, 1:].as_matrix()\n",
      "/content/drive/My Drive/Assignment_1_Facial_Keypoints/data_load.py:40: FutureWarning: Method .as_matrix will be removed in a future version. Use .values instead.\n",
      "  key_pts = self.key_pts_frame.iloc[idx, 1:].as_matrix()\n",
      "/content/drive/My Drive/Assignment_1_Facial_Keypoints/data_load.py:40: FutureWarning: Method .as_matrix will be removed in a future version. Use .values instead.\n",
      "  key_pts = self.key_pts_frame.iloc[idx, 1:].as_matrix()\n",
      "/content/drive/My Drive/Assignment_1_Facial_Keypoints/data_load.py:40: FutureWarning: Method .as_matrix will be removed in a future version. Use .values instead.\n",
      "  key_pts = self.key_pts_frame.iloc[idx, 1:].as_matrix()\n"
     ]
    },
    {
     "name": "stdout",
     "output_type": "stream",
     "text": [
      "Epoch: 15, Batch: 40, Avg. Loss: 0.03515321984887123\n"
     ]
    },
    {
     "name": "stderr",
     "output_type": "stream",
     "text": [
      "/content/drive/My Drive/Assignment_1_Facial_Keypoints/data_load.py:40: FutureWarning: Method .as_matrix will be removed in a future version. Use .values instead.\n",
      "  key_pts = self.key_pts_frame.iloc[idx, 1:].as_matrix()\n",
      "/content/drive/My Drive/Assignment_1_Facial_Keypoints/data_load.py:40: FutureWarning: Method .as_matrix will be removed in a future version. Use .values instead.\n",
      "  key_pts = self.key_pts_frame.iloc[idx, 1:].as_matrix()\n",
      "/content/drive/My Drive/Assignment_1_Facial_Keypoints/data_load.py:40: FutureWarning: Method .as_matrix will be removed in a future version. Use .values instead.\n",
      "  key_pts = self.key_pts_frame.iloc[idx, 1:].as_matrix()\n",
      "/content/drive/My Drive/Assignment_1_Facial_Keypoints/data_load.py:40: FutureWarning: Method .as_matrix will be removed in a future version. Use .values instead.\n",
      "  key_pts = self.key_pts_frame.iloc[idx, 1:].as_matrix()\n"
     ]
    },
    {
     "name": "stdout",
     "output_type": "stream",
     "text": [
      "Epoch: 15, Batch: 50, Avg. Loss: 0.027992883510887624\n"
     ]
    },
    {
     "name": "stderr",
     "output_type": "stream",
     "text": [
      "/content/drive/My Drive/Assignment_1_Facial_Keypoints/data_load.py:40: FutureWarning: Method .as_matrix will be removed in a future version. Use .values instead.\n",
      "  key_pts = self.key_pts_frame.iloc[idx, 1:].as_matrix()\n",
      "/content/drive/My Drive/Assignment_1_Facial_Keypoints/data_load.py:40: FutureWarning: Method .as_matrix will be removed in a future version. Use .values instead.\n",
      "  key_pts = self.key_pts_frame.iloc[idx, 1:].as_matrix()\n",
      "/content/drive/My Drive/Assignment_1_Facial_Keypoints/data_load.py:40: FutureWarning: Method .as_matrix will be removed in a future version. Use .values instead.\n",
      "  key_pts = self.key_pts_frame.iloc[idx, 1:].as_matrix()\n",
      "/content/drive/My Drive/Assignment_1_Facial_Keypoints/data_load.py:40: FutureWarning: Method .as_matrix will be removed in a future version. Use .values instead.\n",
      "  key_pts = self.key_pts_frame.iloc[idx, 1:].as_matrix()\n",
      "/content/drive/My Drive/Assignment_1_Facial_Keypoints/data_load.py:40: FutureWarning: Method .as_matrix will be removed in a future version. Use .values instead.\n",
      "  key_pts = self.key_pts_frame.iloc[idx, 1:].as_matrix()\n",
      "/content/drive/My Drive/Assignment_1_Facial_Keypoints/data_load.py:40: FutureWarning: Method .as_matrix will be removed in a future version. Use .values instead.\n",
      "  key_pts = self.key_pts_frame.iloc[idx, 1:].as_matrix()\n",
      "/content/drive/My Drive/Assignment_1_Facial_Keypoints/data_load.py:40: FutureWarning: Method .as_matrix will be removed in a future version. Use .values instead.\n",
      "  key_pts = self.key_pts_frame.iloc[idx, 1:].as_matrix()\n",
      "/content/drive/My Drive/Assignment_1_Facial_Keypoints/data_load.py:40: FutureWarning: Method .as_matrix will be removed in a future version. Use .values instead.\n",
      "  key_pts = self.key_pts_frame.iloc[idx, 1:].as_matrix()\n"
     ]
    },
    {
     "name": "stdout",
     "output_type": "stream",
     "text": [
      "Epoch: 16, Batch: 10, Avg. Loss: 0.02915323283523321\n"
     ]
    },
    {
     "name": "stderr",
     "output_type": "stream",
     "text": [
      "/content/drive/My Drive/Assignment_1_Facial_Keypoints/data_load.py:40: FutureWarning: Method .as_matrix will be removed in a future version. Use .values instead.\n",
      "  key_pts = self.key_pts_frame.iloc[idx, 1:].as_matrix()\n",
      "/content/drive/My Drive/Assignment_1_Facial_Keypoints/data_load.py:40: FutureWarning: Method .as_matrix will be removed in a future version. Use .values instead.\n",
      "  key_pts = self.key_pts_frame.iloc[idx, 1:].as_matrix()\n",
      "/content/drive/My Drive/Assignment_1_Facial_Keypoints/data_load.py:40: FutureWarning: Method .as_matrix will be removed in a future version. Use .values instead.\n",
      "  key_pts = self.key_pts_frame.iloc[idx, 1:].as_matrix()\n",
      "/content/drive/My Drive/Assignment_1_Facial_Keypoints/data_load.py:40: FutureWarning: Method .as_matrix will be removed in a future version. Use .values instead.\n",
      "  key_pts = self.key_pts_frame.iloc[idx, 1:].as_matrix()\n"
     ]
    },
    {
     "name": "stdout",
     "output_type": "stream",
     "text": [
      "Epoch: 16, Batch: 20, Avg. Loss: 0.030262413062155248\n"
     ]
    },
    {
     "name": "stderr",
     "output_type": "stream",
     "text": [
      "/content/drive/My Drive/Assignment_1_Facial_Keypoints/data_load.py:40: FutureWarning: Method .as_matrix will be removed in a future version. Use .values instead.\n",
      "  key_pts = self.key_pts_frame.iloc[idx, 1:].as_matrix()\n",
      "/content/drive/My Drive/Assignment_1_Facial_Keypoints/data_load.py:40: FutureWarning: Method .as_matrix will be removed in a future version. Use .values instead.\n",
      "  key_pts = self.key_pts_frame.iloc[idx, 1:].as_matrix()\n",
      "/content/drive/My Drive/Assignment_1_Facial_Keypoints/data_load.py:40: FutureWarning: Method .as_matrix will be removed in a future version. Use .values instead.\n",
      "  key_pts = self.key_pts_frame.iloc[idx, 1:].as_matrix()\n",
      "/content/drive/My Drive/Assignment_1_Facial_Keypoints/data_load.py:40: FutureWarning: Method .as_matrix will be removed in a future version. Use .values instead.\n",
      "  key_pts = self.key_pts_frame.iloc[idx, 1:].as_matrix()\n"
     ]
    },
    {
     "name": "stdout",
     "output_type": "stream",
     "text": [
      "Epoch: 16, Batch: 30, Avg. Loss: 0.032142432406544685\n"
     ]
    },
    {
     "name": "stderr",
     "output_type": "stream",
     "text": [
      "/content/drive/My Drive/Assignment_1_Facial_Keypoints/data_load.py:40: FutureWarning: Method .as_matrix will be removed in a future version. Use .values instead.\n",
      "  key_pts = self.key_pts_frame.iloc[idx, 1:].as_matrix()\n",
      "/content/drive/My Drive/Assignment_1_Facial_Keypoints/data_load.py:40: FutureWarning: Method .as_matrix will be removed in a future version. Use .values instead.\n",
      "  key_pts = self.key_pts_frame.iloc[idx, 1:].as_matrix()\n",
      "/content/drive/My Drive/Assignment_1_Facial_Keypoints/data_load.py:40: FutureWarning: Method .as_matrix will be removed in a future version. Use .values instead.\n",
      "  key_pts = self.key_pts_frame.iloc[idx, 1:].as_matrix()\n",
      "/content/drive/My Drive/Assignment_1_Facial_Keypoints/data_load.py:40: FutureWarning: Method .as_matrix will be removed in a future version. Use .values instead.\n",
      "  key_pts = self.key_pts_frame.iloc[idx, 1:].as_matrix()\n"
     ]
    },
    {
     "name": "stdout",
     "output_type": "stream",
     "text": [
      "Epoch: 16, Batch: 40, Avg. Loss: 0.0283796813338995\n"
     ]
    },
    {
     "name": "stderr",
     "output_type": "stream",
     "text": [
      "/content/drive/My Drive/Assignment_1_Facial_Keypoints/data_load.py:40: FutureWarning: Method .as_matrix will be removed in a future version. Use .values instead.\n",
      "  key_pts = self.key_pts_frame.iloc[idx, 1:].as_matrix()\n",
      "/content/drive/My Drive/Assignment_1_Facial_Keypoints/data_load.py:40: FutureWarning: Method .as_matrix will be removed in a future version. Use .values instead.\n",
      "  key_pts = self.key_pts_frame.iloc[idx, 1:].as_matrix()\n",
      "/content/drive/My Drive/Assignment_1_Facial_Keypoints/data_load.py:40: FutureWarning: Method .as_matrix will be removed in a future version. Use .values instead.\n",
      "  key_pts = self.key_pts_frame.iloc[idx, 1:].as_matrix()\n",
      "/content/drive/My Drive/Assignment_1_Facial_Keypoints/data_load.py:40: FutureWarning: Method .as_matrix will be removed in a future version. Use .values instead.\n",
      "  key_pts = self.key_pts_frame.iloc[idx, 1:].as_matrix()\n"
     ]
    },
    {
     "name": "stdout",
     "output_type": "stream",
     "text": [
      "Epoch: 16, Batch: 50, Avg. Loss: 0.029469952546060087\n"
     ]
    },
    {
     "name": "stderr",
     "output_type": "stream",
     "text": [
      "/content/drive/My Drive/Assignment_1_Facial_Keypoints/data_load.py:40: FutureWarning: Method .as_matrix will be removed in a future version. Use .values instead.\n",
      "  key_pts = self.key_pts_frame.iloc[idx, 1:].as_matrix()\n",
      "/content/drive/My Drive/Assignment_1_Facial_Keypoints/data_load.py:40: FutureWarning: Method .as_matrix will be removed in a future version. Use .values instead.\n",
      "  key_pts = self.key_pts_frame.iloc[idx, 1:].as_matrix()\n",
      "/content/drive/My Drive/Assignment_1_Facial_Keypoints/data_load.py:40: FutureWarning: Method .as_matrix will be removed in a future version. Use .values instead.\n",
      "  key_pts = self.key_pts_frame.iloc[idx, 1:].as_matrix()\n",
      "/content/drive/My Drive/Assignment_1_Facial_Keypoints/data_load.py:40: FutureWarning: Method .as_matrix will be removed in a future version. Use .values instead.\n",
      "  key_pts = self.key_pts_frame.iloc[idx, 1:].as_matrix()\n",
      "/content/drive/My Drive/Assignment_1_Facial_Keypoints/data_load.py:40: FutureWarning: Method .as_matrix will be removed in a future version. Use .values instead.\n",
      "  key_pts = self.key_pts_frame.iloc[idx, 1:].as_matrix()\n",
      "/content/drive/My Drive/Assignment_1_Facial_Keypoints/data_load.py:40: FutureWarning: Method .as_matrix will be removed in a future version. Use .values instead.\n",
      "  key_pts = self.key_pts_frame.iloc[idx, 1:].as_matrix()\n",
      "/content/drive/My Drive/Assignment_1_Facial_Keypoints/data_load.py:40: FutureWarning: Method .as_matrix will be removed in a future version. Use .values instead.\n",
      "  key_pts = self.key_pts_frame.iloc[idx, 1:].as_matrix()\n",
      "/content/drive/My Drive/Assignment_1_Facial_Keypoints/data_load.py:40: FutureWarning: Method .as_matrix will be removed in a future version. Use .values instead.\n",
      "  key_pts = self.key_pts_frame.iloc[idx, 1:].as_matrix()\n"
     ]
    },
    {
     "name": "stdout",
     "output_type": "stream",
     "text": [
      "Epoch: 17, Batch: 10, Avg. Loss: 0.03065028488636017\n"
     ]
    },
    {
     "name": "stderr",
     "output_type": "stream",
     "text": [
      "/content/drive/My Drive/Assignment_1_Facial_Keypoints/data_load.py:40: FutureWarning: Method .as_matrix will be removed in a future version. Use .values instead.\n",
      "  key_pts = self.key_pts_frame.iloc[idx, 1:].as_matrix()\n",
      "/content/drive/My Drive/Assignment_1_Facial_Keypoints/data_load.py:40: FutureWarning: Method .as_matrix will be removed in a future version. Use .values instead.\n",
      "  key_pts = self.key_pts_frame.iloc[idx, 1:].as_matrix()\n",
      "/content/drive/My Drive/Assignment_1_Facial_Keypoints/data_load.py:40: FutureWarning: Method .as_matrix will be removed in a future version. Use .values instead.\n",
      "  key_pts = self.key_pts_frame.iloc[idx, 1:].as_matrix()\n",
      "/content/drive/My Drive/Assignment_1_Facial_Keypoints/data_load.py:40: FutureWarning: Method .as_matrix will be removed in a future version. Use .values instead.\n",
      "  key_pts = self.key_pts_frame.iloc[idx, 1:].as_matrix()\n"
     ]
    },
    {
     "name": "stdout",
     "output_type": "stream",
     "text": [
      "Epoch: 17, Batch: 20, Avg. Loss: 0.039876917749643324\n"
     ]
    },
    {
     "name": "stderr",
     "output_type": "stream",
     "text": [
      "/content/drive/My Drive/Assignment_1_Facial_Keypoints/data_load.py:40: FutureWarning: Method .as_matrix will be removed in a future version. Use .values instead.\n",
      "  key_pts = self.key_pts_frame.iloc[idx, 1:].as_matrix()\n",
      "/content/drive/My Drive/Assignment_1_Facial_Keypoints/data_load.py:40: FutureWarning: Method .as_matrix will be removed in a future version. Use .values instead.\n",
      "  key_pts = self.key_pts_frame.iloc[idx, 1:].as_matrix()\n",
      "/content/drive/My Drive/Assignment_1_Facial_Keypoints/data_load.py:40: FutureWarning: Method .as_matrix will be removed in a future version. Use .values instead.\n",
      "  key_pts = self.key_pts_frame.iloc[idx, 1:].as_matrix()\n",
      "/content/drive/My Drive/Assignment_1_Facial_Keypoints/data_load.py:40: FutureWarning: Method .as_matrix will be removed in a future version. Use .values instead.\n",
      "  key_pts = self.key_pts_frame.iloc[idx, 1:].as_matrix()\n"
     ]
    },
    {
     "name": "stdout",
     "output_type": "stream",
     "text": [
      "Epoch: 17, Batch: 30, Avg. Loss: 0.02669610604643822\n"
     ]
    },
    {
     "name": "stderr",
     "output_type": "stream",
     "text": [
      "/content/drive/My Drive/Assignment_1_Facial_Keypoints/data_load.py:40: FutureWarning: Method .as_matrix will be removed in a future version. Use .values instead.\n",
      "  key_pts = self.key_pts_frame.iloc[idx, 1:].as_matrix()\n",
      "/content/drive/My Drive/Assignment_1_Facial_Keypoints/data_load.py:40: FutureWarning: Method .as_matrix will be removed in a future version. Use .values instead.\n",
      "  key_pts = self.key_pts_frame.iloc[idx, 1:].as_matrix()\n",
      "/content/drive/My Drive/Assignment_1_Facial_Keypoints/data_load.py:40: FutureWarning: Method .as_matrix will be removed in a future version. Use .values instead.\n",
      "  key_pts = self.key_pts_frame.iloc[idx, 1:].as_matrix()\n",
      "/content/drive/My Drive/Assignment_1_Facial_Keypoints/data_load.py:40: FutureWarning: Method .as_matrix will be removed in a future version. Use .values instead.\n",
      "  key_pts = self.key_pts_frame.iloc[idx, 1:].as_matrix()\n"
     ]
    },
    {
     "name": "stdout",
     "output_type": "stream",
     "text": [
      "Epoch: 17, Batch: 40, Avg. Loss: 0.029134388081729412\n"
     ]
    },
    {
     "name": "stderr",
     "output_type": "stream",
     "text": [
      "/content/drive/My Drive/Assignment_1_Facial_Keypoints/data_load.py:40: FutureWarning: Method .as_matrix will be removed in a future version. Use .values instead.\n",
      "  key_pts = self.key_pts_frame.iloc[idx, 1:].as_matrix()\n",
      "/content/drive/My Drive/Assignment_1_Facial_Keypoints/data_load.py:40: FutureWarning: Method .as_matrix will be removed in a future version. Use .values instead.\n",
      "  key_pts = self.key_pts_frame.iloc[idx, 1:].as_matrix()\n",
      "/content/drive/My Drive/Assignment_1_Facial_Keypoints/data_load.py:40: FutureWarning: Method .as_matrix will be removed in a future version. Use .values instead.\n",
      "  key_pts = self.key_pts_frame.iloc[idx, 1:].as_matrix()\n",
      "/content/drive/My Drive/Assignment_1_Facial_Keypoints/data_load.py:40: FutureWarning: Method .as_matrix will be removed in a future version. Use .values instead.\n",
      "  key_pts = self.key_pts_frame.iloc[idx, 1:].as_matrix()\n"
     ]
    },
    {
     "name": "stdout",
     "output_type": "stream",
     "text": [
      "Epoch: 17, Batch: 50, Avg. Loss: 0.0298275725916028\n"
     ]
    },
    {
     "name": "stderr",
     "output_type": "stream",
     "text": [
      "/content/drive/My Drive/Assignment_1_Facial_Keypoints/data_load.py:40: FutureWarning: Method .as_matrix will be removed in a future version. Use .values instead.\n",
      "  key_pts = self.key_pts_frame.iloc[idx, 1:].as_matrix()\n",
      "/content/drive/My Drive/Assignment_1_Facial_Keypoints/data_load.py:40: FutureWarning: Method .as_matrix will be removed in a future version. Use .values instead.\n",
      "  key_pts = self.key_pts_frame.iloc[idx, 1:].as_matrix()\n",
      "/content/drive/My Drive/Assignment_1_Facial_Keypoints/data_load.py:40: FutureWarning: Method .as_matrix will be removed in a future version. Use .values instead.\n",
      "  key_pts = self.key_pts_frame.iloc[idx, 1:].as_matrix()\n",
      "/content/drive/My Drive/Assignment_1_Facial_Keypoints/data_load.py:40: FutureWarning: Method .as_matrix will be removed in a future version. Use .values instead.\n",
      "  key_pts = self.key_pts_frame.iloc[idx, 1:].as_matrix()\n",
      "/content/drive/My Drive/Assignment_1_Facial_Keypoints/data_load.py:40: FutureWarning: Method .as_matrix will be removed in a future version. Use .values instead.\n",
      "  key_pts = self.key_pts_frame.iloc[idx, 1:].as_matrix()\n",
      "/content/drive/My Drive/Assignment_1_Facial_Keypoints/data_load.py:40: FutureWarning: Method .as_matrix will be removed in a future version. Use .values instead.\n",
      "  key_pts = self.key_pts_frame.iloc[idx, 1:].as_matrix()\n",
      "/content/drive/My Drive/Assignment_1_Facial_Keypoints/data_load.py:40: FutureWarning: Method .as_matrix will be removed in a future version. Use .values instead.\n",
      "  key_pts = self.key_pts_frame.iloc[idx, 1:].as_matrix()\n",
      "/content/drive/My Drive/Assignment_1_Facial_Keypoints/data_load.py:40: FutureWarning: Method .as_matrix will be removed in a future version. Use .values instead.\n",
      "  key_pts = self.key_pts_frame.iloc[idx, 1:].as_matrix()\n"
     ]
    },
    {
     "name": "stdout",
     "output_type": "stream",
     "text": [
      "Epoch: 18, Batch: 10, Avg. Loss: 0.03036786410957575\n"
     ]
    },
    {
     "name": "stderr",
     "output_type": "stream",
     "text": [
      "/content/drive/My Drive/Assignment_1_Facial_Keypoints/data_load.py:40: FutureWarning: Method .as_matrix will be removed in a future version. Use .values instead.\n",
      "  key_pts = self.key_pts_frame.iloc[idx, 1:].as_matrix()\n",
      "/content/drive/My Drive/Assignment_1_Facial_Keypoints/data_load.py:40: FutureWarning: Method .as_matrix will be removed in a future version. Use .values instead.\n",
      "  key_pts = self.key_pts_frame.iloc[idx, 1:].as_matrix()\n",
      "/content/drive/My Drive/Assignment_1_Facial_Keypoints/data_load.py:40: FutureWarning: Method .as_matrix will be removed in a future version. Use .values instead.\n",
      "  key_pts = self.key_pts_frame.iloc[idx, 1:].as_matrix()\n",
      "/content/drive/My Drive/Assignment_1_Facial_Keypoints/data_load.py:40: FutureWarning: Method .as_matrix will be removed in a future version. Use .values instead.\n",
      "  key_pts = self.key_pts_frame.iloc[idx, 1:].as_matrix()\n"
     ]
    },
    {
     "name": "stdout",
     "output_type": "stream",
     "text": [
      "Epoch: 18, Batch: 20, Avg. Loss: 0.030447967164218426\n"
     ]
    },
    {
     "name": "stderr",
     "output_type": "stream",
     "text": [
      "/content/drive/My Drive/Assignment_1_Facial_Keypoints/data_load.py:40: FutureWarning: Method .as_matrix will be removed in a future version. Use .values instead.\n",
      "  key_pts = self.key_pts_frame.iloc[idx, 1:].as_matrix()\n",
      "/content/drive/My Drive/Assignment_1_Facial_Keypoints/data_load.py:40: FutureWarning: Method .as_matrix will be removed in a future version. Use .values instead.\n",
      "  key_pts = self.key_pts_frame.iloc[idx, 1:].as_matrix()\n",
      "/content/drive/My Drive/Assignment_1_Facial_Keypoints/data_load.py:40: FutureWarning: Method .as_matrix will be removed in a future version. Use .values instead.\n",
      "  key_pts = self.key_pts_frame.iloc[idx, 1:].as_matrix()\n",
      "/content/drive/My Drive/Assignment_1_Facial_Keypoints/data_load.py:40: FutureWarning: Method .as_matrix will be removed in a future version. Use .values instead.\n",
      "  key_pts = self.key_pts_frame.iloc[idx, 1:].as_matrix()\n"
     ]
    },
    {
     "name": "stdout",
     "output_type": "stream",
     "text": [
      "Epoch: 18, Batch: 30, Avg. Loss: 0.028460739739239217\n"
     ]
    },
    {
     "name": "stderr",
     "output_type": "stream",
     "text": [
      "/content/drive/My Drive/Assignment_1_Facial_Keypoints/data_load.py:40: FutureWarning: Method .as_matrix will be removed in a future version. Use .values instead.\n",
      "  key_pts = self.key_pts_frame.iloc[idx, 1:].as_matrix()\n",
      "/content/drive/My Drive/Assignment_1_Facial_Keypoints/data_load.py:40: FutureWarning: Method .as_matrix will be removed in a future version. Use .values instead.\n",
      "  key_pts = self.key_pts_frame.iloc[idx, 1:].as_matrix()\n",
      "/content/drive/My Drive/Assignment_1_Facial_Keypoints/data_load.py:40: FutureWarning: Method .as_matrix will be removed in a future version. Use .values instead.\n",
      "  key_pts = self.key_pts_frame.iloc[idx, 1:].as_matrix()\n",
      "/content/drive/My Drive/Assignment_1_Facial_Keypoints/data_load.py:40: FutureWarning: Method .as_matrix will be removed in a future version. Use .values instead.\n",
      "  key_pts = self.key_pts_frame.iloc[idx, 1:].as_matrix()\n"
     ]
    },
    {
     "name": "stdout",
     "output_type": "stream",
     "text": [
      "Epoch: 18, Batch: 40, Avg. Loss: 0.031041882932186127\n"
     ]
    },
    {
     "name": "stderr",
     "output_type": "stream",
     "text": [
      "/content/drive/My Drive/Assignment_1_Facial_Keypoints/data_load.py:40: FutureWarning: Method .as_matrix will be removed in a future version. Use .values instead.\n",
      "  key_pts = self.key_pts_frame.iloc[idx, 1:].as_matrix()\n",
      "/content/drive/My Drive/Assignment_1_Facial_Keypoints/data_load.py:40: FutureWarning: Method .as_matrix will be removed in a future version. Use .values instead.\n",
      "  key_pts = self.key_pts_frame.iloc[idx, 1:].as_matrix()\n",
      "/content/drive/My Drive/Assignment_1_Facial_Keypoints/data_load.py:40: FutureWarning: Method .as_matrix will be removed in a future version. Use .values instead.\n",
      "  key_pts = self.key_pts_frame.iloc[idx, 1:].as_matrix()\n",
      "/content/drive/My Drive/Assignment_1_Facial_Keypoints/data_load.py:40: FutureWarning: Method .as_matrix will be removed in a future version. Use .values instead.\n",
      "  key_pts = self.key_pts_frame.iloc[idx, 1:].as_matrix()\n"
     ]
    },
    {
     "name": "stdout",
     "output_type": "stream",
     "text": [
      "Epoch: 18, Batch: 50, Avg. Loss: 0.028270133398473264\n"
     ]
    },
    {
     "name": "stderr",
     "output_type": "stream",
     "text": [
      "/content/drive/My Drive/Assignment_1_Facial_Keypoints/data_load.py:40: FutureWarning: Method .as_matrix will be removed in a future version. Use .values instead.\n",
      "  key_pts = self.key_pts_frame.iloc[idx, 1:].as_matrix()\n",
      "/content/drive/My Drive/Assignment_1_Facial_Keypoints/data_load.py:40: FutureWarning: Method .as_matrix will be removed in a future version. Use .values instead.\n",
      "  key_pts = self.key_pts_frame.iloc[idx, 1:].as_matrix()\n",
      "/content/drive/My Drive/Assignment_1_Facial_Keypoints/data_load.py:40: FutureWarning: Method .as_matrix will be removed in a future version. Use .values instead.\n",
      "  key_pts = self.key_pts_frame.iloc[idx, 1:].as_matrix()\n",
      "/content/drive/My Drive/Assignment_1_Facial_Keypoints/data_load.py:40: FutureWarning: Method .as_matrix will be removed in a future version. Use .values instead.\n",
      "  key_pts = self.key_pts_frame.iloc[idx, 1:].as_matrix()\n",
      "/content/drive/My Drive/Assignment_1_Facial_Keypoints/data_load.py:40: FutureWarning: Method .as_matrix will be removed in a future version. Use .values instead.\n",
      "  key_pts = self.key_pts_frame.iloc[idx, 1:].as_matrix()\n",
      "/content/drive/My Drive/Assignment_1_Facial_Keypoints/data_load.py:40: FutureWarning: Method .as_matrix will be removed in a future version. Use .values instead.\n",
      "  key_pts = self.key_pts_frame.iloc[idx, 1:].as_matrix()\n",
      "/content/drive/My Drive/Assignment_1_Facial_Keypoints/data_load.py:40: FutureWarning: Method .as_matrix will be removed in a future version. Use .values instead.\n",
      "  key_pts = self.key_pts_frame.iloc[idx, 1:].as_matrix()\n",
      "/content/drive/My Drive/Assignment_1_Facial_Keypoints/data_load.py:40: FutureWarning: Method .as_matrix will be removed in a future version. Use .values instead.\n",
      "  key_pts = self.key_pts_frame.iloc[idx, 1:].as_matrix()\n"
     ]
    },
    {
     "name": "stdout",
     "output_type": "stream",
     "text": [
      "Epoch: 19, Batch: 10, Avg. Loss: 0.02945358045399189\n"
     ]
    },
    {
     "name": "stderr",
     "output_type": "stream",
     "text": [
      "/content/drive/My Drive/Assignment_1_Facial_Keypoints/data_load.py:40: FutureWarning: Method .as_matrix will be removed in a future version. Use .values instead.\n",
      "  key_pts = self.key_pts_frame.iloc[idx, 1:].as_matrix()\n",
      "/content/drive/My Drive/Assignment_1_Facial_Keypoints/data_load.py:40: FutureWarning: Method .as_matrix will be removed in a future version. Use .values instead.\n",
      "  key_pts = self.key_pts_frame.iloc[idx, 1:].as_matrix()\n",
      "/content/drive/My Drive/Assignment_1_Facial_Keypoints/data_load.py:40: FutureWarning: Method .as_matrix will be removed in a future version. Use .values instead.\n",
      "  key_pts = self.key_pts_frame.iloc[idx, 1:].as_matrix()\n",
      "/content/drive/My Drive/Assignment_1_Facial_Keypoints/data_load.py:40: FutureWarning: Method .as_matrix will be removed in a future version. Use .values instead.\n",
      "  key_pts = self.key_pts_frame.iloc[idx, 1:].as_matrix()\n"
     ]
    },
    {
     "name": "stdout",
     "output_type": "stream",
     "text": [
      "Epoch: 19, Batch: 20, Avg. Loss: 0.025848761945962907\n"
     ]
    },
    {
     "name": "stderr",
     "output_type": "stream",
     "text": [
      "/content/drive/My Drive/Assignment_1_Facial_Keypoints/data_load.py:40: FutureWarning: Method .as_matrix will be removed in a future version. Use .values instead.\n",
      "  key_pts = self.key_pts_frame.iloc[idx, 1:].as_matrix()\n",
      "/content/drive/My Drive/Assignment_1_Facial_Keypoints/data_load.py:40: FutureWarning: Method .as_matrix will be removed in a future version. Use .values instead.\n",
      "  key_pts = self.key_pts_frame.iloc[idx, 1:].as_matrix()\n",
      "/content/drive/My Drive/Assignment_1_Facial_Keypoints/data_load.py:40: FutureWarning: Method .as_matrix will be removed in a future version. Use .values instead.\n",
      "  key_pts = self.key_pts_frame.iloc[idx, 1:].as_matrix()\n",
      "/content/drive/My Drive/Assignment_1_Facial_Keypoints/data_load.py:40: FutureWarning: Method .as_matrix will be removed in a future version. Use .values instead.\n",
      "  key_pts = self.key_pts_frame.iloc[idx, 1:].as_matrix()\n"
     ]
    },
    {
     "name": "stdout",
     "output_type": "stream",
     "text": [
      "Epoch: 19, Batch: 30, Avg. Loss: 0.026052000746130944\n"
     ]
    },
    {
     "name": "stderr",
     "output_type": "stream",
     "text": [
      "/content/drive/My Drive/Assignment_1_Facial_Keypoints/data_load.py:40: FutureWarning: Method .as_matrix will be removed in a future version. Use .values instead.\n",
      "  key_pts = self.key_pts_frame.iloc[idx, 1:].as_matrix()\n",
      "/content/drive/My Drive/Assignment_1_Facial_Keypoints/data_load.py:40: FutureWarning: Method .as_matrix will be removed in a future version. Use .values instead.\n",
      "  key_pts = self.key_pts_frame.iloc[idx, 1:].as_matrix()\n",
      "/content/drive/My Drive/Assignment_1_Facial_Keypoints/data_load.py:40: FutureWarning: Method .as_matrix will be removed in a future version. Use .values instead.\n",
      "  key_pts = self.key_pts_frame.iloc[idx, 1:].as_matrix()\n",
      "/content/drive/My Drive/Assignment_1_Facial_Keypoints/data_load.py:40: FutureWarning: Method .as_matrix will be removed in a future version. Use .values instead.\n",
      "  key_pts = self.key_pts_frame.iloc[idx, 1:].as_matrix()\n"
     ]
    },
    {
     "name": "stdout",
     "output_type": "stream",
     "text": [
      "Epoch: 19, Batch: 40, Avg. Loss: 0.02655946370214224\n"
     ]
    },
    {
     "name": "stderr",
     "output_type": "stream",
     "text": [
      "/content/drive/My Drive/Assignment_1_Facial_Keypoints/data_load.py:40: FutureWarning: Method .as_matrix will be removed in a future version. Use .values instead.\n",
      "  key_pts = self.key_pts_frame.iloc[idx, 1:].as_matrix()\n",
      "/content/drive/My Drive/Assignment_1_Facial_Keypoints/data_load.py:40: FutureWarning: Method .as_matrix will be removed in a future version. Use .values instead.\n",
      "  key_pts = self.key_pts_frame.iloc[idx, 1:].as_matrix()\n",
      "/content/drive/My Drive/Assignment_1_Facial_Keypoints/data_load.py:40: FutureWarning: Method .as_matrix will be removed in a future version. Use .values instead.\n",
      "  key_pts = self.key_pts_frame.iloc[idx, 1:].as_matrix()\n",
      "/content/drive/My Drive/Assignment_1_Facial_Keypoints/data_load.py:40: FutureWarning: Method .as_matrix will be removed in a future version. Use .values instead.\n",
      "  key_pts = self.key_pts_frame.iloc[idx, 1:].as_matrix()\n"
     ]
    },
    {
     "name": "stdout",
     "output_type": "stream",
     "text": [
      "Epoch: 19, Batch: 50, Avg. Loss: 0.02569013424217701\n"
     ]
    },
    {
     "name": "stderr",
     "output_type": "stream",
     "text": [
      "/content/drive/My Drive/Assignment_1_Facial_Keypoints/data_load.py:40: FutureWarning: Method .as_matrix will be removed in a future version. Use .values instead.\n",
      "  key_pts = self.key_pts_frame.iloc[idx, 1:].as_matrix()\n",
      "/content/drive/My Drive/Assignment_1_Facial_Keypoints/data_load.py:40: FutureWarning: Method .as_matrix will be removed in a future version. Use .values instead.\n",
      "  key_pts = self.key_pts_frame.iloc[idx, 1:].as_matrix()\n",
      "/content/drive/My Drive/Assignment_1_Facial_Keypoints/data_load.py:40: FutureWarning: Method .as_matrix will be removed in a future version. Use .values instead.\n",
      "  key_pts = self.key_pts_frame.iloc[idx, 1:].as_matrix()\n",
      "/content/drive/My Drive/Assignment_1_Facial_Keypoints/data_load.py:40: FutureWarning: Method .as_matrix will be removed in a future version. Use .values instead.\n",
      "  key_pts = self.key_pts_frame.iloc[idx, 1:].as_matrix()\n",
      "/content/drive/My Drive/Assignment_1_Facial_Keypoints/data_load.py:40: FutureWarning: Method .as_matrix will be removed in a future version. Use .values instead.\n",
      "  key_pts = self.key_pts_frame.iloc[idx, 1:].as_matrix()\n",
      "/content/drive/My Drive/Assignment_1_Facial_Keypoints/data_load.py:40: FutureWarning: Method .as_matrix will be removed in a future version. Use .values instead.\n",
      "  key_pts = self.key_pts_frame.iloc[idx, 1:].as_matrix()\n",
      "/content/drive/My Drive/Assignment_1_Facial_Keypoints/data_load.py:40: FutureWarning: Method .as_matrix will be removed in a future version. Use .values instead.\n",
      "  key_pts = self.key_pts_frame.iloc[idx, 1:].as_matrix()\n",
      "/content/drive/My Drive/Assignment_1_Facial_Keypoints/data_load.py:40: FutureWarning: Method .as_matrix will be removed in a future version. Use .values instead.\n",
      "  key_pts = self.key_pts_frame.iloc[idx, 1:].as_matrix()\n"
     ]
    },
    {
     "name": "stdout",
     "output_type": "stream",
     "text": [
      "Epoch: 20, Batch: 10, Avg. Loss: 0.030320240557193755\n"
     ]
    },
    {
     "name": "stderr",
     "output_type": "stream",
     "text": [
      "/content/drive/My Drive/Assignment_1_Facial_Keypoints/data_load.py:40: FutureWarning: Method .as_matrix will be removed in a future version. Use .values instead.\n",
      "  key_pts = self.key_pts_frame.iloc[idx, 1:].as_matrix()\n",
      "/content/drive/My Drive/Assignment_1_Facial_Keypoints/data_load.py:40: FutureWarning: Method .as_matrix will be removed in a future version. Use .values instead.\n",
      "  key_pts = self.key_pts_frame.iloc[idx, 1:].as_matrix()\n",
      "/content/drive/My Drive/Assignment_1_Facial_Keypoints/data_load.py:40: FutureWarning: Method .as_matrix will be removed in a future version. Use .values instead.\n",
      "  key_pts = self.key_pts_frame.iloc[idx, 1:].as_matrix()\n",
      "/content/drive/My Drive/Assignment_1_Facial_Keypoints/data_load.py:40: FutureWarning: Method .as_matrix will be removed in a future version. Use .values instead.\n",
      "  key_pts = self.key_pts_frame.iloc[idx, 1:].as_matrix()\n"
     ]
    },
    {
     "name": "stdout",
     "output_type": "stream",
     "text": [
      "Epoch: 20, Batch: 20, Avg. Loss: 0.024819703958928584\n"
     ]
    },
    {
     "name": "stderr",
     "output_type": "stream",
     "text": [
      "/content/drive/My Drive/Assignment_1_Facial_Keypoints/data_load.py:40: FutureWarning: Method .as_matrix will be removed in a future version. Use .values instead.\n",
      "  key_pts = self.key_pts_frame.iloc[idx, 1:].as_matrix()\n",
      "/content/drive/My Drive/Assignment_1_Facial_Keypoints/data_load.py:40: FutureWarning: Method .as_matrix will be removed in a future version. Use .values instead.\n",
      "  key_pts = self.key_pts_frame.iloc[idx, 1:].as_matrix()\n",
      "/content/drive/My Drive/Assignment_1_Facial_Keypoints/data_load.py:40: FutureWarning: Method .as_matrix will be removed in a future version. Use .values instead.\n",
      "  key_pts = self.key_pts_frame.iloc[idx, 1:].as_matrix()\n",
      "/content/drive/My Drive/Assignment_1_Facial_Keypoints/data_load.py:40: FutureWarning: Method .as_matrix will be removed in a future version. Use .values instead.\n",
      "  key_pts = self.key_pts_frame.iloc[idx, 1:].as_matrix()\n"
     ]
    },
    {
     "name": "stdout",
     "output_type": "stream",
     "text": [
      "Epoch: 20, Batch: 30, Avg. Loss: 0.028045679815113543\n"
     ]
    },
    {
     "name": "stderr",
     "output_type": "stream",
     "text": [
      "/content/drive/My Drive/Assignment_1_Facial_Keypoints/data_load.py:40: FutureWarning: Method .as_matrix will be removed in a future version. Use .values instead.\n",
      "  key_pts = self.key_pts_frame.iloc[idx, 1:].as_matrix()\n",
      "/content/drive/My Drive/Assignment_1_Facial_Keypoints/data_load.py:40: FutureWarning: Method .as_matrix will be removed in a future version. Use .values instead.\n",
      "  key_pts = self.key_pts_frame.iloc[idx, 1:].as_matrix()\n",
      "/content/drive/My Drive/Assignment_1_Facial_Keypoints/data_load.py:40: FutureWarning: Method .as_matrix will be removed in a future version. Use .values instead.\n",
      "  key_pts = self.key_pts_frame.iloc[idx, 1:].as_matrix()\n",
      "/content/drive/My Drive/Assignment_1_Facial_Keypoints/data_load.py:40: FutureWarning: Method .as_matrix will be removed in a future version. Use .values instead.\n",
      "  key_pts = self.key_pts_frame.iloc[idx, 1:].as_matrix()\n"
     ]
    },
    {
     "name": "stdout",
     "output_type": "stream",
     "text": [
      "Epoch: 20, Batch: 40, Avg. Loss: 0.023837441019713877\n"
     ]
    },
    {
     "name": "stderr",
     "output_type": "stream",
     "text": [
      "/content/drive/My Drive/Assignment_1_Facial_Keypoints/data_load.py:40: FutureWarning: Method .as_matrix will be removed in a future version. Use .values instead.\n",
      "  key_pts = self.key_pts_frame.iloc[idx, 1:].as_matrix()\n",
      "/content/drive/My Drive/Assignment_1_Facial_Keypoints/data_load.py:40: FutureWarning: Method .as_matrix will be removed in a future version. Use .values instead.\n",
      "  key_pts = self.key_pts_frame.iloc[idx, 1:].as_matrix()\n",
      "/content/drive/My Drive/Assignment_1_Facial_Keypoints/data_load.py:40: FutureWarning: Method .as_matrix will be removed in a future version. Use .values instead.\n",
      "  key_pts = self.key_pts_frame.iloc[idx, 1:].as_matrix()\n",
      "/content/drive/My Drive/Assignment_1_Facial_Keypoints/data_load.py:40: FutureWarning: Method .as_matrix will be removed in a future version. Use .values instead.\n",
      "  key_pts = self.key_pts_frame.iloc[idx, 1:].as_matrix()\n"
     ]
    },
    {
     "name": "stdout",
     "output_type": "stream",
     "text": [
      "Epoch: 20, Batch: 50, Avg. Loss: 0.02371619865298271\n"
     ]
    },
    {
     "name": "stderr",
     "output_type": "stream",
     "text": [
      "/content/drive/My Drive/Assignment_1_Facial_Keypoints/data_load.py:40: FutureWarning: Method .as_matrix will be removed in a future version. Use .values instead.\n",
      "  key_pts = self.key_pts_frame.iloc[idx, 1:].as_matrix()\n",
      "/content/drive/My Drive/Assignment_1_Facial_Keypoints/data_load.py:40: FutureWarning: Method .as_matrix will be removed in a future version. Use .values instead.\n",
      "  key_pts = self.key_pts_frame.iloc[idx, 1:].as_matrix()\n",
      "/content/drive/My Drive/Assignment_1_Facial_Keypoints/data_load.py:40: FutureWarning: Method .as_matrix will be removed in a future version. Use .values instead.\n",
      "  key_pts = self.key_pts_frame.iloc[idx, 1:].as_matrix()\n",
      "/content/drive/My Drive/Assignment_1_Facial_Keypoints/data_load.py:40: FutureWarning: Method .as_matrix will be removed in a future version. Use .values instead.\n",
      "  key_pts = self.key_pts_frame.iloc[idx, 1:].as_matrix()\n",
      "/content/drive/My Drive/Assignment_1_Facial_Keypoints/data_load.py:40: FutureWarning: Method .as_matrix will be removed in a future version. Use .values instead.\n",
      "  key_pts = self.key_pts_frame.iloc[idx, 1:].as_matrix()\n",
      "/content/drive/My Drive/Assignment_1_Facial_Keypoints/data_load.py:40: FutureWarning: Method .as_matrix will be removed in a future version. Use .values instead.\n",
      "  key_pts = self.key_pts_frame.iloc[idx, 1:].as_matrix()\n",
      "/content/drive/My Drive/Assignment_1_Facial_Keypoints/data_load.py:40: FutureWarning: Method .as_matrix will be removed in a future version. Use .values instead.\n",
      "  key_pts = self.key_pts_frame.iloc[idx, 1:].as_matrix()\n",
      "/content/drive/My Drive/Assignment_1_Facial_Keypoints/data_load.py:40: FutureWarning: Method .as_matrix will be removed in a future version. Use .values instead.\n",
      "  key_pts = self.key_pts_frame.iloc[idx, 1:].as_matrix()\n"
     ]
    },
    {
     "name": "stdout",
     "output_type": "stream",
     "text": [
      "Epoch: 21, Batch: 10, Avg. Loss: 0.023951091058552264\n"
     ]
    },
    {
     "name": "stderr",
     "output_type": "stream",
     "text": [
      "/content/drive/My Drive/Assignment_1_Facial_Keypoints/data_load.py:40: FutureWarning: Method .as_matrix will be removed in a future version. Use .values instead.\n",
      "  key_pts = self.key_pts_frame.iloc[idx, 1:].as_matrix()\n",
      "/content/drive/My Drive/Assignment_1_Facial_Keypoints/data_load.py:40: FutureWarning: Method .as_matrix will be removed in a future version. Use .values instead.\n",
      "  key_pts = self.key_pts_frame.iloc[idx, 1:].as_matrix()\n",
      "/content/drive/My Drive/Assignment_1_Facial_Keypoints/data_load.py:40: FutureWarning: Method .as_matrix will be removed in a future version. Use .values instead.\n",
      "  key_pts = self.key_pts_frame.iloc[idx, 1:].as_matrix()\n",
      "/content/drive/My Drive/Assignment_1_Facial_Keypoints/data_load.py:40: FutureWarning: Method .as_matrix will be removed in a future version. Use .values instead.\n",
      "  key_pts = self.key_pts_frame.iloc[idx, 1:].as_matrix()\n"
     ]
    },
    {
     "name": "stdout",
     "output_type": "stream",
     "text": [
      "Epoch: 21, Batch: 20, Avg. Loss: 0.028440242260694505\n"
     ]
    },
    {
     "name": "stderr",
     "output_type": "stream",
     "text": [
      "/content/drive/My Drive/Assignment_1_Facial_Keypoints/data_load.py:40: FutureWarning: Method .as_matrix will be removed in a future version. Use .values instead.\n",
      "  key_pts = self.key_pts_frame.iloc[idx, 1:].as_matrix()\n",
      "/content/drive/My Drive/Assignment_1_Facial_Keypoints/data_load.py:40: FutureWarning: Method .as_matrix will be removed in a future version. Use .values instead.\n",
      "  key_pts = self.key_pts_frame.iloc[idx, 1:].as_matrix()\n",
      "/content/drive/My Drive/Assignment_1_Facial_Keypoints/data_load.py:40: FutureWarning: Method .as_matrix will be removed in a future version. Use .values instead.\n",
      "  key_pts = self.key_pts_frame.iloc[idx, 1:].as_matrix()\n",
      "/content/drive/My Drive/Assignment_1_Facial_Keypoints/data_load.py:40: FutureWarning: Method .as_matrix will be removed in a future version. Use .values instead.\n",
      "  key_pts = self.key_pts_frame.iloc[idx, 1:].as_matrix()\n"
     ]
    },
    {
     "name": "stdout",
     "output_type": "stream",
     "text": [
      "Epoch: 21, Batch: 30, Avg. Loss: 0.033434143476188186\n"
     ]
    },
    {
     "name": "stderr",
     "output_type": "stream",
     "text": [
      "/content/drive/My Drive/Assignment_1_Facial_Keypoints/data_load.py:40: FutureWarning: Method .as_matrix will be removed in a future version. Use .values instead.\n",
      "  key_pts = self.key_pts_frame.iloc[idx, 1:].as_matrix()\n",
      "/content/drive/My Drive/Assignment_1_Facial_Keypoints/data_load.py:40: FutureWarning: Method .as_matrix will be removed in a future version. Use .values instead.\n",
      "  key_pts = self.key_pts_frame.iloc[idx, 1:].as_matrix()\n",
      "/content/drive/My Drive/Assignment_1_Facial_Keypoints/data_load.py:40: FutureWarning: Method .as_matrix will be removed in a future version. Use .values instead.\n",
      "  key_pts = self.key_pts_frame.iloc[idx, 1:].as_matrix()\n",
      "/content/drive/My Drive/Assignment_1_Facial_Keypoints/data_load.py:40: FutureWarning: Method .as_matrix will be removed in a future version. Use .values instead.\n",
      "  key_pts = self.key_pts_frame.iloc[idx, 1:].as_matrix()\n"
     ]
    },
    {
     "name": "stdout",
     "output_type": "stream",
     "text": [
      "Epoch: 21, Batch: 40, Avg. Loss: 0.027066308073699474\n"
     ]
    },
    {
     "name": "stderr",
     "output_type": "stream",
     "text": [
      "/content/drive/My Drive/Assignment_1_Facial_Keypoints/data_load.py:40: FutureWarning: Method .as_matrix will be removed in a future version. Use .values instead.\n",
      "  key_pts = self.key_pts_frame.iloc[idx, 1:].as_matrix()\n",
      "/content/drive/My Drive/Assignment_1_Facial_Keypoints/data_load.py:40: FutureWarning: Method .as_matrix will be removed in a future version. Use .values instead.\n",
      "  key_pts = self.key_pts_frame.iloc[idx, 1:].as_matrix()\n",
      "/content/drive/My Drive/Assignment_1_Facial_Keypoints/data_load.py:40: FutureWarning: Method .as_matrix will be removed in a future version. Use .values instead.\n",
      "  key_pts = self.key_pts_frame.iloc[idx, 1:].as_matrix()\n",
      "/content/drive/My Drive/Assignment_1_Facial_Keypoints/data_load.py:40: FutureWarning: Method .as_matrix will be removed in a future version. Use .values instead.\n",
      "  key_pts = self.key_pts_frame.iloc[idx, 1:].as_matrix()\n"
     ]
    },
    {
     "name": "stdout",
     "output_type": "stream",
     "text": [
      "Epoch: 21, Batch: 50, Avg. Loss: 0.02264248989522457\n"
     ]
    },
    {
     "name": "stderr",
     "output_type": "stream",
     "text": [
      "/content/drive/My Drive/Assignment_1_Facial_Keypoints/data_load.py:40: FutureWarning: Method .as_matrix will be removed in a future version. Use .values instead.\n",
      "  key_pts = self.key_pts_frame.iloc[idx, 1:].as_matrix()\n",
      "/content/drive/My Drive/Assignment_1_Facial_Keypoints/data_load.py:40: FutureWarning: Method .as_matrix will be removed in a future version. Use .values instead.\n",
      "  key_pts = self.key_pts_frame.iloc[idx, 1:].as_matrix()\n",
      "/content/drive/My Drive/Assignment_1_Facial_Keypoints/data_load.py:40: FutureWarning: Method .as_matrix will be removed in a future version. Use .values instead.\n",
      "  key_pts = self.key_pts_frame.iloc[idx, 1:].as_matrix()\n",
      "/content/drive/My Drive/Assignment_1_Facial_Keypoints/data_load.py:40: FutureWarning: Method .as_matrix will be removed in a future version. Use .values instead.\n",
      "  key_pts = self.key_pts_frame.iloc[idx, 1:].as_matrix()\n",
      "/content/drive/My Drive/Assignment_1_Facial_Keypoints/data_load.py:40: FutureWarning: Method .as_matrix will be removed in a future version. Use .values instead.\n",
      "  key_pts = self.key_pts_frame.iloc[idx, 1:].as_matrix()\n",
      "/content/drive/My Drive/Assignment_1_Facial_Keypoints/data_load.py:40: FutureWarning: Method .as_matrix will be removed in a future version. Use .values instead.\n",
      "  key_pts = self.key_pts_frame.iloc[idx, 1:].as_matrix()\n",
      "/content/drive/My Drive/Assignment_1_Facial_Keypoints/data_load.py:40: FutureWarning: Method .as_matrix will be removed in a future version. Use .values instead.\n",
      "  key_pts = self.key_pts_frame.iloc[idx, 1:].as_matrix()\n",
      "/content/drive/My Drive/Assignment_1_Facial_Keypoints/data_load.py:40: FutureWarning: Method .as_matrix will be removed in a future version. Use .values instead.\n",
      "  key_pts = self.key_pts_frame.iloc[idx, 1:].as_matrix()\n"
     ]
    },
    {
     "name": "stdout",
     "output_type": "stream",
     "text": [
      "Epoch: 22, Batch: 10, Avg. Loss: 0.02618066780269146\n"
     ]
    },
    {
     "name": "stderr",
     "output_type": "stream",
     "text": [
      "/content/drive/My Drive/Assignment_1_Facial_Keypoints/data_load.py:40: FutureWarning: Method .as_matrix will be removed in a future version. Use .values instead.\n",
      "  key_pts = self.key_pts_frame.iloc[idx, 1:].as_matrix()\n",
      "/content/drive/My Drive/Assignment_1_Facial_Keypoints/data_load.py:40: FutureWarning: Method .as_matrix will be removed in a future version. Use .values instead.\n",
      "  key_pts = self.key_pts_frame.iloc[idx, 1:].as_matrix()\n",
      "/content/drive/My Drive/Assignment_1_Facial_Keypoints/data_load.py:40: FutureWarning: Method .as_matrix will be removed in a future version. Use .values instead.\n",
      "  key_pts = self.key_pts_frame.iloc[idx, 1:].as_matrix()\n",
      "/content/drive/My Drive/Assignment_1_Facial_Keypoints/data_load.py:40: FutureWarning: Method .as_matrix will be removed in a future version. Use .values instead.\n",
      "  key_pts = self.key_pts_frame.iloc[idx, 1:].as_matrix()\n"
     ]
    },
    {
     "name": "stdout",
     "output_type": "stream",
     "text": [
      "Epoch: 22, Batch: 20, Avg. Loss: 0.023195143882185222\n"
     ]
    },
    {
     "name": "stderr",
     "output_type": "stream",
     "text": [
      "/content/drive/My Drive/Assignment_1_Facial_Keypoints/data_load.py:40: FutureWarning: Method .as_matrix will be removed in a future version. Use .values instead.\n",
      "  key_pts = self.key_pts_frame.iloc[idx, 1:].as_matrix()\n",
      "/content/drive/My Drive/Assignment_1_Facial_Keypoints/data_load.py:40: FutureWarning: Method .as_matrix will be removed in a future version. Use .values instead.\n",
      "  key_pts = self.key_pts_frame.iloc[idx, 1:].as_matrix()\n",
      "/content/drive/My Drive/Assignment_1_Facial_Keypoints/data_load.py:40: FutureWarning: Method .as_matrix will be removed in a future version. Use .values instead.\n",
      "  key_pts = self.key_pts_frame.iloc[idx, 1:].as_matrix()\n",
      "/content/drive/My Drive/Assignment_1_Facial_Keypoints/data_load.py:40: FutureWarning: Method .as_matrix will be removed in a future version. Use .values instead.\n",
      "  key_pts = self.key_pts_frame.iloc[idx, 1:].as_matrix()\n"
     ]
    },
    {
     "name": "stdout",
     "output_type": "stream",
     "text": [
      "Epoch: 22, Batch: 30, Avg. Loss: 0.023419621214270592\n"
     ]
    },
    {
     "name": "stderr",
     "output_type": "stream",
     "text": [
      "/content/drive/My Drive/Assignment_1_Facial_Keypoints/data_load.py:40: FutureWarning: Method .as_matrix will be removed in a future version. Use .values instead.\n",
      "  key_pts = self.key_pts_frame.iloc[idx, 1:].as_matrix()\n",
      "/content/drive/My Drive/Assignment_1_Facial_Keypoints/data_load.py:40: FutureWarning: Method .as_matrix will be removed in a future version. Use .values instead.\n",
      "  key_pts = self.key_pts_frame.iloc[idx, 1:].as_matrix()\n",
      "/content/drive/My Drive/Assignment_1_Facial_Keypoints/data_load.py:40: FutureWarning: Method .as_matrix will be removed in a future version. Use .values instead.\n",
      "  key_pts = self.key_pts_frame.iloc[idx, 1:].as_matrix()\n",
      "/content/drive/My Drive/Assignment_1_Facial_Keypoints/data_load.py:40: FutureWarning: Method .as_matrix will be removed in a future version. Use .values instead.\n",
      "  key_pts = self.key_pts_frame.iloc[idx, 1:].as_matrix()\n"
     ]
    },
    {
     "name": "stdout",
     "output_type": "stream",
     "text": [
      "Epoch: 22, Batch: 40, Avg. Loss: 0.024772374145686626\n"
     ]
    },
    {
     "name": "stderr",
     "output_type": "stream",
     "text": [
      "/content/drive/My Drive/Assignment_1_Facial_Keypoints/data_load.py:40: FutureWarning: Method .as_matrix will be removed in a future version. Use .values instead.\n",
      "  key_pts = self.key_pts_frame.iloc[idx, 1:].as_matrix()\n",
      "/content/drive/My Drive/Assignment_1_Facial_Keypoints/data_load.py:40: FutureWarning: Method .as_matrix will be removed in a future version. Use .values instead.\n",
      "  key_pts = self.key_pts_frame.iloc[idx, 1:].as_matrix()\n",
      "/content/drive/My Drive/Assignment_1_Facial_Keypoints/data_load.py:40: FutureWarning: Method .as_matrix will be removed in a future version. Use .values instead.\n",
      "  key_pts = self.key_pts_frame.iloc[idx, 1:].as_matrix()\n",
      "/content/drive/My Drive/Assignment_1_Facial_Keypoints/data_load.py:40: FutureWarning: Method .as_matrix will be removed in a future version. Use .values instead.\n",
      "  key_pts = self.key_pts_frame.iloc[idx, 1:].as_matrix()\n"
     ]
    },
    {
     "name": "stdout",
     "output_type": "stream",
     "text": [
      "Epoch: 22, Batch: 50, Avg. Loss: 0.022794748842716216\n"
     ]
    },
    {
     "name": "stderr",
     "output_type": "stream",
     "text": [
      "/content/drive/My Drive/Assignment_1_Facial_Keypoints/data_load.py:40: FutureWarning: Method .as_matrix will be removed in a future version. Use .values instead.\n",
      "  key_pts = self.key_pts_frame.iloc[idx, 1:].as_matrix()\n",
      "/content/drive/My Drive/Assignment_1_Facial_Keypoints/data_load.py:40: FutureWarning: Method .as_matrix will be removed in a future version. Use .values instead.\n",
      "  key_pts = self.key_pts_frame.iloc[idx, 1:].as_matrix()\n",
      "/content/drive/My Drive/Assignment_1_Facial_Keypoints/data_load.py:40: FutureWarning: Method .as_matrix will be removed in a future version. Use .values instead.\n",
      "  key_pts = self.key_pts_frame.iloc[idx, 1:].as_matrix()\n",
      "/content/drive/My Drive/Assignment_1_Facial_Keypoints/data_load.py:40: FutureWarning: Method .as_matrix will be removed in a future version. Use .values instead.\n",
      "  key_pts = self.key_pts_frame.iloc[idx, 1:].as_matrix()\n",
      "/content/drive/My Drive/Assignment_1_Facial_Keypoints/data_load.py:40: FutureWarning: Method .as_matrix will be removed in a future version. Use .values instead.\n",
      "  key_pts = self.key_pts_frame.iloc[idx, 1:].as_matrix()\n",
      "/content/drive/My Drive/Assignment_1_Facial_Keypoints/data_load.py:40: FutureWarning: Method .as_matrix will be removed in a future version. Use .values instead.\n",
      "  key_pts = self.key_pts_frame.iloc[idx, 1:].as_matrix()\n",
      "/content/drive/My Drive/Assignment_1_Facial_Keypoints/data_load.py:40: FutureWarning: Method .as_matrix will be removed in a future version. Use .values instead.\n",
      "  key_pts = self.key_pts_frame.iloc[idx, 1:].as_matrix()\n",
      "/content/drive/My Drive/Assignment_1_Facial_Keypoints/data_load.py:40: FutureWarning: Method .as_matrix will be removed in a future version. Use .values instead.\n",
      "  key_pts = self.key_pts_frame.iloc[idx, 1:].as_matrix()\n"
     ]
    },
    {
     "name": "stdout",
     "output_type": "stream",
     "text": [
      "Epoch: 23, Batch: 10, Avg. Loss: 0.022592720948159693\n"
     ]
    },
    {
     "name": "stderr",
     "output_type": "stream",
     "text": [
      "/content/drive/My Drive/Assignment_1_Facial_Keypoints/data_load.py:40: FutureWarning: Method .as_matrix will be removed in a future version. Use .values instead.\n",
      "  key_pts = self.key_pts_frame.iloc[idx, 1:].as_matrix()\n",
      "/content/drive/My Drive/Assignment_1_Facial_Keypoints/data_load.py:40: FutureWarning: Method .as_matrix will be removed in a future version. Use .values instead.\n",
      "  key_pts = self.key_pts_frame.iloc[idx, 1:].as_matrix()\n",
      "/content/drive/My Drive/Assignment_1_Facial_Keypoints/data_load.py:40: FutureWarning: Method .as_matrix will be removed in a future version. Use .values instead.\n",
      "  key_pts = self.key_pts_frame.iloc[idx, 1:].as_matrix()\n",
      "/content/drive/My Drive/Assignment_1_Facial_Keypoints/data_load.py:40: FutureWarning: Method .as_matrix will be removed in a future version. Use .values instead.\n",
      "  key_pts = self.key_pts_frame.iloc[idx, 1:].as_matrix()\n"
     ]
    },
    {
     "name": "stdout",
     "output_type": "stream",
     "text": [
      "Epoch: 23, Batch: 20, Avg. Loss: 0.021050519682466982\n"
     ]
    },
    {
     "name": "stderr",
     "output_type": "stream",
     "text": [
      "/content/drive/My Drive/Assignment_1_Facial_Keypoints/data_load.py:40: FutureWarning: Method .as_matrix will be removed in a future version. Use .values instead.\n",
      "  key_pts = self.key_pts_frame.iloc[idx, 1:].as_matrix()\n",
      "/content/drive/My Drive/Assignment_1_Facial_Keypoints/data_load.py:40: FutureWarning: Method .as_matrix will be removed in a future version. Use .values instead.\n",
      "  key_pts = self.key_pts_frame.iloc[idx, 1:].as_matrix()\n",
      "/content/drive/My Drive/Assignment_1_Facial_Keypoints/data_load.py:40: FutureWarning: Method .as_matrix will be removed in a future version. Use .values instead.\n",
      "  key_pts = self.key_pts_frame.iloc[idx, 1:].as_matrix()\n",
      "/content/drive/My Drive/Assignment_1_Facial_Keypoints/data_load.py:40: FutureWarning: Method .as_matrix will be removed in a future version. Use .values instead.\n",
      "  key_pts = self.key_pts_frame.iloc[idx, 1:].as_matrix()\n"
     ]
    },
    {
     "name": "stdout",
     "output_type": "stream",
     "text": [
      "Epoch: 23, Batch: 30, Avg. Loss: 0.02248681141063571\n"
     ]
    },
    {
     "name": "stderr",
     "output_type": "stream",
     "text": [
      "/content/drive/My Drive/Assignment_1_Facial_Keypoints/data_load.py:40: FutureWarning: Method .as_matrix will be removed in a future version. Use .values instead.\n",
      "  key_pts = self.key_pts_frame.iloc[idx, 1:].as_matrix()\n",
      "/content/drive/My Drive/Assignment_1_Facial_Keypoints/data_load.py:40: FutureWarning: Method .as_matrix will be removed in a future version. Use .values instead.\n",
      "  key_pts = self.key_pts_frame.iloc[idx, 1:].as_matrix()\n",
      "/content/drive/My Drive/Assignment_1_Facial_Keypoints/data_load.py:40: FutureWarning: Method .as_matrix will be removed in a future version. Use .values instead.\n",
      "  key_pts = self.key_pts_frame.iloc[idx, 1:].as_matrix()\n",
      "/content/drive/My Drive/Assignment_1_Facial_Keypoints/data_load.py:40: FutureWarning: Method .as_matrix will be removed in a future version. Use .values instead.\n",
      "  key_pts = self.key_pts_frame.iloc[idx, 1:].as_matrix()\n"
     ]
    },
    {
     "name": "stdout",
     "output_type": "stream",
     "text": [
      "Epoch: 23, Batch: 40, Avg. Loss: 0.027591241896152495\n"
     ]
    },
    {
     "name": "stderr",
     "output_type": "stream",
     "text": [
      "/content/drive/My Drive/Assignment_1_Facial_Keypoints/data_load.py:40: FutureWarning: Method .as_matrix will be removed in a future version. Use .values instead.\n",
      "  key_pts = self.key_pts_frame.iloc[idx, 1:].as_matrix()\n",
      "/content/drive/My Drive/Assignment_1_Facial_Keypoints/data_load.py:40: FutureWarning: Method .as_matrix will be removed in a future version. Use .values instead.\n",
      "  key_pts = self.key_pts_frame.iloc[idx, 1:].as_matrix()\n",
      "/content/drive/My Drive/Assignment_1_Facial_Keypoints/data_load.py:40: FutureWarning: Method .as_matrix will be removed in a future version. Use .values instead.\n",
      "  key_pts = self.key_pts_frame.iloc[idx, 1:].as_matrix()\n",
      "/content/drive/My Drive/Assignment_1_Facial_Keypoints/data_load.py:40: FutureWarning: Method .as_matrix will be removed in a future version. Use .values instead.\n",
      "  key_pts = self.key_pts_frame.iloc[idx, 1:].as_matrix()\n"
     ]
    },
    {
     "name": "stdout",
     "output_type": "stream",
     "text": [
      "Epoch: 23, Batch: 50, Avg. Loss: 0.02246810346841812\n"
     ]
    },
    {
     "name": "stderr",
     "output_type": "stream",
     "text": [
      "/content/drive/My Drive/Assignment_1_Facial_Keypoints/data_load.py:40: FutureWarning: Method .as_matrix will be removed in a future version. Use .values instead.\n",
      "  key_pts = self.key_pts_frame.iloc[idx, 1:].as_matrix()\n",
      "/content/drive/My Drive/Assignment_1_Facial_Keypoints/data_load.py:40: FutureWarning: Method .as_matrix will be removed in a future version. Use .values instead.\n",
      "  key_pts = self.key_pts_frame.iloc[idx, 1:].as_matrix()\n",
      "/content/drive/My Drive/Assignment_1_Facial_Keypoints/data_load.py:40: FutureWarning: Method .as_matrix will be removed in a future version. Use .values instead.\n",
      "  key_pts = self.key_pts_frame.iloc[idx, 1:].as_matrix()\n",
      "/content/drive/My Drive/Assignment_1_Facial_Keypoints/data_load.py:40: FutureWarning: Method .as_matrix will be removed in a future version. Use .values instead.\n",
      "  key_pts = self.key_pts_frame.iloc[idx, 1:].as_matrix()\n",
      "/content/drive/My Drive/Assignment_1_Facial_Keypoints/data_load.py:40: FutureWarning: Method .as_matrix will be removed in a future version. Use .values instead.\n",
      "  key_pts = self.key_pts_frame.iloc[idx, 1:].as_matrix()\n",
      "/content/drive/My Drive/Assignment_1_Facial_Keypoints/data_load.py:40: FutureWarning: Method .as_matrix will be removed in a future version. Use .values instead.\n",
      "  key_pts = self.key_pts_frame.iloc[idx, 1:].as_matrix()\n",
      "/content/drive/My Drive/Assignment_1_Facial_Keypoints/data_load.py:40: FutureWarning: Method .as_matrix will be removed in a future version. Use .values instead.\n",
      "  key_pts = self.key_pts_frame.iloc[idx, 1:].as_matrix()\n",
      "/content/drive/My Drive/Assignment_1_Facial_Keypoints/data_load.py:40: FutureWarning: Method .as_matrix will be removed in a future version. Use .values instead.\n",
      "  key_pts = self.key_pts_frame.iloc[idx, 1:].as_matrix()\n"
     ]
    },
    {
     "name": "stdout",
     "output_type": "stream",
     "text": [
      "Epoch: 24, Batch: 10, Avg. Loss: 0.01835422944277525\n"
     ]
    },
    {
     "name": "stderr",
     "output_type": "stream",
     "text": [
      "/content/drive/My Drive/Assignment_1_Facial_Keypoints/data_load.py:40: FutureWarning: Method .as_matrix will be removed in a future version. Use .values instead.\n",
      "  key_pts = self.key_pts_frame.iloc[idx, 1:].as_matrix()\n",
      "/content/drive/My Drive/Assignment_1_Facial_Keypoints/data_load.py:40: FutureWarning: Method .as_matrix will be removed in a future version. Use .values instead.\n",
      "  key_pts = self.key_pts_frame.iloc[idx, 1:].as_matrix()\n",
      "/content/drive/My Drive/Assignment_1_Facial_Keypoints/data_load.py:40: FutureWarning: Method .as_matrix will be removed in a future version. Use .values instead.\n",
      "  key_pts = self.key_pts_frame.iloc[idx, 1:].as_matrix()\n",
      "/content/drive/My Drive/Assignment_1_Facial_Keypoints/data_load.py:40: FutureWarning: Method .as_matrix will be removed in a future version. Use .values instead.\n",
      "  key_pts = self.key_pts_frame.iloc[idx, 1:].as_matrix()\n"
     ]
    },
    {
     "name": "stdout",
     "output_type": "stream",
     "text": [
      "Epoch: 24, Batch: 20, Avg. Loss: 0.029022357240319253\n"
     ]
    },
    {
     "name": "stderr",
     "output_type": "stream",
     "text": [
      "/content/drive/My Drive/Assignment_1_Facial_Keypoints/data_load.py:40: FutureWarning: Method .as_matrix will be removed in a future version. Use .values instead.\n",
      "  key_pts = self.key_pts_frame.iloc[idx, 1:].as_matrix()\n",
      "/content/drive/My Drive/Assignment_1_Facial_Keypoints/data_load.py:40: FutureWarning: Method .as_matrix will be removed in a future version. Use .values instead.\n",
      "  key_pts = self.key_pts_frame.iloc[idx, 1:].as_matrix()\n",
      "/content/drive/My Drive/Assignment_1_Facial_Keypoints/data_load.py:40: FutureWarning: Method .as_matrix will be removed in a future version. Use .values instead.\n",
      "  key_pts = self.key_pts_frame.iloc[idx, 1:].as_matrix()\n",
      "/content/drive/My Drive/Assignment_1_Facial_Keypoints/data_load.py:40: FutureWarning: Method .as_matrix will be removed in a future version. Use .values instead.\n",
      "  key_pts = self.key_pts_frame.iloc[idx, 1:].as_matrix()\n"
     ]
    },
    {
     "name": "stdout",
     "output_type": "stream",
     "text": [
      "Epoch: 24, Batch: 30, Avg. Loss: 0.031751635298132894\n"
     ]
    },
    {
     "name": "stderr",
     "output_type": "stream",
     "text": [
      "/content/drive/My Drive/Assignment_1_Facial_Keypoints/data_load.py:40: FutureWarning: Method .as_matrix will be removed in a future version. Use .values instead.\n",
      "  key_pts = self.key_pts_frame.iloc[idx, 1:].as_matrix()\n",
      "/content/drive/My Drive/Assignment_1_Facial_Keypoints/data_load.py:40: FutureWarning: Method .as_matrix will be removed in a future version. Use .values instead.\n",
      "  key_pts = self.key_pts_frame.iloc[idx, 1:].as_matrix()\n",
      "/content/drive/My Drive/Assignment_1_Facial_Keypoints/data_load.py:40: FutureWarning: Method .as_matrix will be removed in a future version. Use .values instead.\n",
      "  key_pts = self.key_pts_frame.iloc[idx, 1:].as_matrix()\n",
      "/content/drive/My Drive/Assignment_1_Facial_Keypoints/data_load.py:40: FutureWarning: Method .as_matrix will be removed in a future version. Use .values instead.\n",
      "  key_pts = self.key_pts_frame.iloc[idx, 1:].as_matrix()\n"
     ]
    },
    {
     "name": "stdout",
     "output_type": "stream",
     "text": [
      "Epoch: 24, Batch: 40, Avg. Loss: 0.024497932475060224\n"
     ]
    },
    {
     "name": "stderr",
     "output_type": "stream",
     "text": [
      "/content/drive/My Drive/Assignment_1_Facial_Keypoints/data_load.py:40: FutureWarning: Method .as_matrix will be removed in a future version. Use .values instead.\n",
      "  key_pts = self.key_pts_frame.iloc[idx, 1:].as_matrix()\n",
      "/content/drive/My Drive/Assignment_1_Facial_Keypoints/data_load.py:40: FutureWarning: Method .as_matrix will be removed in a future version. Use .values instead.\n",
      "  key_pts = self.key_pts_frame.iloc[idx, 1:].as_matrix()\n",
      "/content/drive/My Drive/Assignment_1_Facial_Keypoints/data_load.py:40: FutureWarning: Method .as_matrix will be removed in a future version. Use .values instead.\n",
      "  key_pts = self.key_pts_frame.iloc[idx, 1:].as_matrix()\n",
      "/content/drive/My Drive/Assignment_1_Facial_Keypoints/data_load.py:40: FutureWarning: Method .as_matrix will be removed in a future version. Use .values instead.\n",
      "  key_pts = self.key_pts_frame.iloc[idx, 1:].as_matrix()\n"
     ]
    },
    {
     "name": "stdout",
     "output_type": "stream",
     "text": [
      "Epoch: 24, Batch: 50, Avg. Loss: 0.019171943608671426\n"
     ]
    },
    {
     "name": "stderr",
     "output_type": "stream",
     "text": [
      "/content/drive/My Drive/Assignment_1_Facial_Keypoints/data_load.py:40: FutureWarning: Method .as_matrix will be removed in a future version. Use .values instead.\n",
      "  key_pts = self.key_pts_frame.iloc[idx, 1:].as_matrix()\n",
      "/content/drive/My Drive/Assignment_1_Facial_Keypoints/data_load.py:40: FutureWarning: Method .as_matrix will be removed in a future version. Use .values instead.\n",
      "  key_pts = self.key_pts_frame.iloc[idx, 1:].as_matrix()\n",
      "/content/drive/My Drive/Assignment_1_Facial_Keypoints/data_load.py:40: FutureWarning: Method .as_matrix will be removed in a future version. Use .values instead.\n",
      "  key_pts = self.key_pts_frame.iloc[idx, 1:].as_matrix()\n",
      "/content/drive/My Drive/Assignment_1_Facial_Keypoints/data_load.py:40: FutureWarning: Method .as_matrix will be removed in a future version. Use .values instead.\n",
      "  key_pts = self.key_pts_frame.iloc[idx, 1:].as_matrix()\n",
      "/content/drive/My Drive/Assignment_1_Facial_Keypoints/data_load.py:40: FutureWarning: Method .as_matrix will be removed in a future version. Use .values instead.\n",
      "  key_pts = self.key_pts_frame.iloc[idx, 1:].as_matrix()\n",
      "/content/drive/My Drive/Assignment_1_Facial_Keypoints/data_load.py:40: FutureWarning: Method .as_matrix will be removed in a future version. Use .values instead.\n",
      "  key_pts = self.key_pts_frame.iloc[idx, 1:].as_matrix()\n",
      "/content/drive/My Drive/Assignment_1_Facial_Keypoints/data_load.py:40: FutureWarning: Method .as_matrix will be removed in a future version. Use .values instead.\n",
      "  key_pts = self.key_pts_frame.iloc[idx, 1:].as_matrix()\n",
      "/content/drive/My Drive/Assignment_1_Facial_Keypoints/data_load.py:40: FutureWarning: Method .as_matrix will be removed in a future version. Use .values instead.\n",
      "  key_pts = self.key_pts_frame.iloc[idx, 1:].as_matrix()\n"
     ]
    },
    {
     "name": "stdout",
     "output_type": "stream",
     "text": [
      "Epoch: 25, Batch: 10, Avg. Loss: 0.021730785351246597\n"
     ]
    },
    {
     "name": "stderr",
     "output_type": "stream",
     "text": [
      "/content/drive/My Drive/Assignment_1_Facial_Keypoints/data_load.py:40: FutureWarning: Method .as_matrix will be removed in a future version. Use .values instead.\n",
      "  key_pts = self.key_pts_frame.iloc[idx, 1:].as_matrix()\n",
      "/content/drive/My Drive/Assignment_1_Facial_Keypoints/data_load.py:40: FutureWarning: Method .as_matrix will be removed in a future version. Use .values instead.\n",
      "  key_pts = self.key_pts_frame.iloc[idx, 1:].as_matrix()\n",
      "/content/drive/My Drive/Assignment_1_Facial_Keypoints/data_load.py:40: FutureWarning: Method .as_matrix will be removed in a future version. Use .values instead.\n",
      "  key_pts = self.key_pts_frame.iloc[idx, 1:].as_matrix()\n",
      "/content/drive/My Drive/Assignment_1_Facial_Keypoints/data_load.py:40: FutureWarning: Method .as_matrix will be removed in a future version. Use .values instead.\n",
      "  key_pts = self.key_pts_frame.iloc[idx, 1:].as_matrix()\n"
     ]
    },
    {
     "name": "stdout",
     "output_type": "stream",
     "text": [
      "Epoch: 25, Batch: 20, Avg. Loss: 0.026724264770746232\n"
     ]
    },
    {
     "name": "stderr",
     "output_type": "stream",
     "text": [
      "/content/drive/My Drive/Assignment_1_Facial_Keypoints/data_load.py:40: FutureWarning: Method .as_matrix will be removed in a future version. Use .values instead.\n",
      "  key_pts = self.key_pts_frame.iloc[idx, 1:].as_matrix()\n",
      "/content/drive/My Drive/Assignment_1_Facial_Keypoints/data_load.py:40: FutureWarning: Method .as_matrix will be removed in a future version. Use .values instead.\n",
      "  key_pts = self.key_pts_frame.iloc[idx, 1:].as_matrix()\n",
      "/content/drive/My Drive/Assignment_1_Facial_Keypoints/data_load.py:40: FutureWarning: Method .as_matrix will be removed in a future version. Use .values instead.\n",
      "  key_pts = self.key_pts_frame.iloc[idx, 1:].as_matrix()\n",
      "/content/drive/My Drive/Assignment_1_Facial_Keypoints/data_load.py:40: FutureWarning: Method .as_matrix will be removed in a future version. Use .values instead.\n",
      "  key_pts = self.key_pts_frame.iloc[idx, 1:].as_matrix()\n"
     ]
    },
    {
     "name": "stdout",
     "output_type": "stream",
     "text": [
      "Epoch: 25, Batch: 30, Avg. Loss: 0.03379268422722816\n"
     ]
    },
    {
     "name": "stderr",
     "output_type": "stream",
     "text": [
      "/content/drive/My Drive/Assignment_1_Facial_Keypoints/data_load.py:40: FutureWarning: Method .as_matrix will be removed in a future version. Use .values instead.\n",
      "  key_pts = self.key_pts_frame.iloc[idx, 1:].as_matrix()\n",
      "/content/drive/My Drive/Assignment_1_Facial_Keypoints/data_load.py:40: FutureWarning: Method .as_matrix will be removed in a future version. Use .values instead.\n",
      "  key_pts = self.key_pts_frame.iloc[idx, 1:].as_matrix()\n",
      "/content/drive/My Drive/Assignment_1_Facial_Keypoints/data_load.py:40: FutureWarning: Method .as_matrix will be removed in a future version. Use .values instead.\n",
      "  key_pts = self.key_pts_frame.iloc[idx, 1:].as_matrix()\n",
      "/content/drive/My Drive/Assignment_1_Facial_Keypoints/data_load.py:40: FutureWarning: Method .as_matrix will be removed in a future version. Use .values instead.\n",
      "  key_pts = self.key_pts_frame.iloc[idx, 1:].as_matrix()\n"
     ]
    },
    {
     "name": "stdout",
     "output_type": "stream",
     "text": [
      "Epoch: 25, Batch: 40, Avg. Loss: 0.022176640946418046\n"
     ]
    },
    {
     "name": "stderr",
     "output_type": "stream",
     "text": [
      "/content/drive/My Drive/Assignment_1_Facial_Keypoints/data_load.py:40: FutureWarning: Method .as_matrix will be removed in a future version. Use .values instead.\n",
      "  key_pts = self.key_pts_frame.iloc[idx, 1:].as_matrix()\n",
      "/content/drive/My Drive/Assignment_1_Facial_Keypoints/data_load.py:40: FutureWarning: Method .as_matrix will be removed in a future version. Use .values instead.\n",
      "  key_pts = self.key_pts_frame.iloc[idx, 1:].as_matrix()\n",
      "/content/drive/My Drive/Assignment_1_Facial_Keypoints/data_load.py:40: FutureWarning: Method .as_matrix will be removed in a future version. Use .values instead.\n",
      "  key_pts = self.key_pts_frame.iloc[idx, 1:].as_matrix()\n",
      "/content/drive/My Drive/Assignment_1_Facial_Keypoints/data_load.py:40: FutureWarning: Method .as_matrix will be removed in a future version. Use .values instead.\n",
      "  key_pts = self.key_pts_frame.iloc[idx, 1:].as_matrix()\n"
     ]
    },
    {
     "name": "stdout",
     "output_type": "stream",
     "text": [
      "Epoch: 25, Batch: 50, Avg. Loss: 0.023080113902688028\n"
     ]
    },
    {
     "name": "stderr",
     "output_type": "stream",
     "text": [
      "/content/drive/My Drive/Assignment_1_Facial_Keypoints/data_load.py:40: FutureWarning: Method .as_matrix will be removed in a future version. Use .values instead.\n",
      "  key_pts = self.key_pts_frame.iloc[idx, 1:].as_matrix()\n",
      "/content/drive/My Drive/Assignment_1_Facial_Keypoints/data_load.py:40: FutureWarning: Method .as_matrix will be removed in a future version. Use .values instead.\n",
      "  key_pts = self.key_pts_frame.iloc[idx, 1:].as_matrix()\n",
      "/content/drive/My Drive/Assignment_1_Facial_Keypoints/data_load.py:40: FutureWarning: Method .as_matrix will be removed in a future version. Use .values instead.\n",
      "  key_pts = self.key_pts_frame.iloc[idx, 1:].as_matrix()\n",
      "/content/drive/My Drive/Assignment_1_Facial_Keypoints/data_load.py:40: FutureWarning: Method .as_matrix will be removed in a future version. Use .values instead.\n",
      "  key_pts = self.key_pts_frame.iloc[idx, 1:].as_matrix()\n",
      "/content/drive/My Drive/Assignment_1_Facial_Keypoints/data_load.py:40: FutureWarning: Method .as_matrix will be removed in a future version. Use .values instead.\n",
      "  key_pts = self.key_pts_frame.iloc[idx, 1:].as_matrix()\n",
      "/content/drive/My Drive/Assignment_1_Facial_Keypoints/data_load.py:40: FutureWarning: Method .as_matrix will be removed in a future version. Use .values instead.\n",
      "  key_pts = self.key_pts_frame.iloc[idx, 1:].as_matrix()\n",
      "/content/drive/My Drive/Assignment_1_Facial_Keypoints/data_load.py:40: FutureWarning: Method .as_matrix will be removed in a future version. Use .values instead.\n",
      "  key_pts = self.key_pts_frame.iloc[idx, 1:].as_matrix()\n",
      "/content/drive/My Drive/Assignment_1_Facial_Keypoints/data_load.py:40: FutureWarning: Method .as_matrix will be removed in a future version. Use .values instead.\n",
      "  key_pts = self.key_pts_frame.iloc[idx, 1:].as_matrix()\n"
     ]
    },
    {
     "name": "stdout",
     "output_type": "stream",
     "text": [
      "Epoch: 26, Batch: 10, Avg. Loss: 0.025749814230948687\n"
     ]
    },
    {
     "name": "stderr",
     "output_type": "stream",
     "text": [
      "/content/drive/My Drive/Assignment_1_Facial_Keypoints/data_load.py:40: FutureWarning: Method .as_matrix will be removed in a future version. Use .values instead.\n",
      "  key_pts = self.key_pts_frame.iloc[idx, 1:].as_matrix()\n",
      "/content/drive/My Drive/Assignment_1_Facial_Keypoints/data_load.py:40: FutureWarning: Method .as_matrix will be removed in a future version. Use .values instead.\n",
      "  key_pts = self.key_pts_frame.iloc[idx, 1:].as_matrix()\n",
      "/content/drive/My Drive/Assignment_1_Facial_Keypoints/data_load.py:40: FutureWarning: Method .as_matrix will be removed in a future version. Use .values instead.\n",
      "  key_pts = self.key_pts_frame.iloc[idx, 1:].as_matrix()\n",
      "/content/drive/My Drive/Assignment_1_Facial_Keypoints/data_load.py:40: FutureWarning: Method .as_matrix will be removed in a future version. Use .values instead.\n",
      "  key_pts = self.key_pts_frame.iloc[idx, 1:].as_matrix()\n"
     ]
    },
    {
     "name": "stdout",
     "output_type": "stream",
     "text": [
      "Epoch: 26, Batch: 20, Avg. Loss: 0.01789351562038064\n"
     ]
    },
    {
     "name": "stderr",
     "output_type": "stream",
     "text": [
      "/content/drive/My Drive/Assignment_1_Facial_Keypoints/data_load.py:40: FutureWarning: Method .as_matrix will be removed in a future version. Use .values instead.\n",
      "  key_pts = self.key_pts_frame.iloc[idx, 1:].as_matrix()\n",
      "/content/drive/My Drive/Assignment_1_Facial_Keypoints/data_load.py:40: FutureWarning: Method .as_matrix will be removed in a future version. Use .values instead.\n",
      "  key_pts = self.key_pts_frame.iloc[idx, 1:].as_matrix()\n",
      "/content/drive/My Drive/Assignment_1_Facial_Keypoints/data_load.py:40: FutureWarning: Method .as_matrix will be removed in a future version. Use .values instead.\n",
      "  key_pts = self.key_pts_frame.iloc[idx, 1:].as_matrix()\n",
      "/content/drive/My Drive/Assignment_1_Facial_Keypoints/data_load.py:40: FutureWarning: Method .as_matrix will be removed in a future version. Use .values instead.\n",
      "  key_pts = self.key_pts_frame.iloc[idx, 1:].as_matrix()\n"
     ]
    },
    {
     "name": "stdout",
     "output_type": "stream",
     "text": [
      "Epoch: 26, Batch: 30, Avg. Loss: 0.021024181507527828\n"
     ]
    },
    {
     "name": "stderr",
     "output_type": "stream",
     "text": [
      "/content/drive/My Drive/Assignment_1_Facial_Keypoints/data_load.py:40: FutureWarning: Method .as_matrix will be removed in a future version. Use .values instead.\n",
      "  key_pts = self.key_pts_frame.iloc[idx, 1:].as_matrix()\n",
      "/content/drive/My Drive/Assignment_1_Facial_Keypoints/data_load.py:40: FutureWarning: Method .as_matrix will be removed in a future version. Use .values instead.\n",
      "  key_pts = self.key_pts_frame.iloc[idx, 1:].as_matrix()\n",
      "/content/drive/My Drive/Assignment_1_Facial_Keypoints/data_load.py:40: FutureWarning: Method .as_matrix will be removed in a future version. Use .values instead.\n",
      "  key_pts = self.key_pts_frame.iloc[idx, 1:].as_matrix()\n",
      "/content/drive/My Drive/Assignment_1_Facial_Keypoints/data_load.py:40: FutureWarning: Method .as_matrix will be removed in a future version. Use .values instead.\n",
      "  key_pts = self.key_pts_frame.iloc[idx, 1:].as_matrix()\n"
     ]
    },
    {
     "name": "stdout",
     "output_type": "stream",
     "text": [
      "Epoch: 26, Batch: 40, Avg. Loss: 0.0224183383397758\n"
     ]
    },
    {
     "name": "stderr",
     "output_type": "stream",
     "text": [
      "/content/drive/My Drive/Assignment_1_Facial_Keypoints/data_load.py:40: FutureWarning: Method .as_matrix will be removed in a future version. Use .values instead.\n",
      "  key_pts = self.key_pts_frame.iloc[idx, 1:].as_matrix()\n",
      "/content/drive/My Drive/Assignment_1_Facial_Keypoints/data_load.py:40: FutureWarning: Method .as_matrix will be removed in a future version. Use .values instead.\n",
      "  key_pts = self.key_pts_frame.iloc[idx, 1:].as_matrix()\n",
      "/content/drive/My Drive/Assignment_1_Facial_Keypoints/data_load.py:40: FutureWarning: Method .as_matrix will be removed in a future version. Use .values instead.\n",
      "  key_pts = self.key_pts_frame.iloc[idx, 1:].as_matrix()\n",
      "/content/drive/My Drive/Assignment_1_Facial_Keypoints/data_load.py:40: FutureWarning: Method .as_matrix will be removed in a future version. Use .values instead.\n",
      "  key_pts = self.key_pts_frame.iloc[idx, 1:].as_matrix()\n"
     ]
    },
    {
     "name": "stdout",
     "output_type": "stream",
     "text": [
      "Epoch: 26, Batch: 50, Avg. Loss: 0.018418040685355665\n"
     ]
    },
    {
     "name": "stderr",
     "output_type": "stream",
     "text": [
      "/content/drive/My Drive/Assignment_1_Facial_Keypoints/data_load.py:40: FutureWarning: Method .as_matrix will be removed in a future version. Use .values instead.\n",
      "  key_pts = self.key_pts_frame.iloc[idx, 1:].as_matrix()\n",
      "/content/drive/My Drive/Assignment_1_Facial_Keypoints/data_load.py:40: FutureWarning: Method .as_matrix will be removed in a future version. Use .values instead.\n",
      "  key_pts = self.key_pts_frame.iloc[idx, 1:].as_matrix()\n",
      "/content/drive/My Drive/Assignment_1_Facial_Keypoints/data_load.py:40: FutureWarning: Method .as_matrix will be removed in a future version. Use .values instead.\n",
      "  key_pts = self.key_pts_frame.iloc[idx, 1:].as_matrix()\n",
      "/content/drive/My Drive/Assignment_1_Facial_Keypoints/data_load.py:40: FutureWarning: Method .as_matrix will be removed in a future version. Use .values instead.\n",
      "  key_pts = self.key_pts_frame.iloc[idx, 1:].as_matrix()\n",
      "/content/drive/My Drive/Assignment_1_Facial_Keypoints/data_load.py:40: FutureWarning: Method .as_matrix will be removed in a future version. Use .values instead.\n",
      "  key_pts = self.key_pts_frame.iloc[idx, 1:].as_matrix()\n",
      "/content/drive/My Drive/Assignment_1_Facial_Keypoints/data_load.py:40: FutureWarning: Method .as_matrix will be removed in a future version. Use .values instead.\n",
      "  key_pts = self.key_pts_frame.iloc[idx, 1:].as_matrix()\n",
      "/content/drive/My Drive/Assignment_1_Facial_Keypoints/data_load.py:40: FutureWarning: Method .as_matrix will be removed in a future version. Use .values instead.\n",
      "  key_pts = self.key_pts_frame.iloc[idx, 1:].as_matrix()\n",
      "/content/drive/My Drive/Assignment_1_Facial_Keypoints/data_load.py:40: FutureWarning: Method .as_matrix will be removed in a future version. Use .values instead.\n",
      "  key_pts = self.key_pts_frame.iloc[idx, 1:].as_matrix()\n"
     ]
    },
    {
     "name": "stdout",
     "output_type": "stream",
     "text": [
      "Epoch: 27, Batch: 10, Avg. Loss: 0.02275644792243838\n"
     ]
    },
    {
     "name": "stderr",
     "output_type": "stream",
     "text": [
      "/content/drive/My Drive/Assignment_1_Facial_Keypoints/data_load.py:40: FutureWarning: Method .as_matrix will be removed in a future version. Use .values instead.\n",
      "  key_pts = self.key_pts_frame.iloc[idx, 1:].as_matrix()\n",
      "/content/drive/My Drive/Assignment_1_Facial_Keypoints/data_load.py:40: FutureWarning: Method .as_matrix will be removed in a future version. Use .values instead.\n",
      "  key_pts = self.key_pts_frame.iloc[idx, 1:].as_matrix()\n",
      "/content/drive/My Drive/Assignment_1_Facial_Keypoints/data_load.py:40: FutureWarning: Method .as_matrix will be removed in a future version. Use .values instead.\n",
      "  key_pts = self.key_pts_frame.iloc[idx, 1:].as_matrix()\n",
      "/content/drive/My Drive/Assignment_1_Facial_Keypoints/data_load.py:40: FutureWarning: Method .as_matrix will be removed in a future version. Use .values instead.\n",
      "  key_pts = self.key_pts_frame.iloc[idx, 1:].as_matrix()\n"
     ]
    },
    {
     "name": "stdout",
     "output_type": "stream",
     "text": [
      "Epoch: 27, Batch: 20, Avg. Loss: 0.021416439302265645\n"
     ]
    },
    {
     "name": "stderr",
     "output_type": "stream",
     "text": [
      "/content/drive/My Drive/Assignment_1_Facial_Keypoints/data_load.py:40: FutureWarning: Method .as_matrix will be removed in a future version. Use .values instead.\n",
      "  key_pts = self.key_pts_frame.iloc[idx, 1:].as_matrix()\n",
      "/content/drive/My Drive/Assignment_1_Facial_Keypoints/data_load.py:40: FutureWarning: Method .as_matrix will be removed in a future version. Use .values instead.\n",
      "  key_pts = self.key_pts_frame.iloc[idx, 1:].as_matrix()\n",
      "/content/drive/My Drive/Assignment_1_Facial_Keypoints/data_load.py:40: FutureWarning: Method .as_matrix will be removed in a future version. Use .values instead.\n",
      "  key_pts = self.key_pts_frame.iloc[idx, 1:].as_matrix()\n",
      "/content/drive/My Drive/Assignment_1_Facial_Keypoints/data_load.py:40: FutureWarning: Method .as_matrix will be removed in a future version. Use .values instead.\n",
      "  key_pts = self.key_pts_frame.iloc[idx, 1:].as_matrix()\n"
     ]
    },
    {
     "name": "stdout",
     "output_type": "stream",
     "text": [
      "Epoch: 27, Batch: 30, Avg. Loss: 0.024403325654566287\n"
     ]
    },
    {
     "name": "stderr",
     "output_type": "stream",
     "text": [
      "/content/drive/My Drive/Assignment_1_Facial_Keypoints/data_load.py:40: FutureWarning: Method .as_matrix will be removed in a future version. Use .values instead.\n",
      "  key_pts = self.key_pts_frame.iloc[idx, 1:].as_matrix()\n",
      "/content/drive/My Drive/Assignment_1_Facial_Keypoints/data_load.py:40: FutureWarning: Method .as_matrix will be removed in a future version. Use .values instead.\n",
      "  key_pts = self.key_pts_frame.iloc[idx, 1:].as_matrix()\n",
      "/content/drive/My Drive/Assignment_1_Facial_Keypoints/data_load.py:40: FutureWarning: Method .as_matrix will be removed in a future version. Use .values instead.\n",
      "  key_pts = self.key_pts_frame.iloc[idx, 1:].as_matrix()\n",
      "/content/drive/My Drive/Assignment_1_Facial_Keypoints/data_load.py:40: FutureWarning: Method .as_matrix will be removed in a future version. Use .values instead.\n",
      "  key_pts = self.key_pts_frame.iloc[idx, 1:].as_matrix()\n"
     ]
    },
    {
     "name": "stdout",
     "output_type": "stream",
     "text": [
      "Epoch: 27, Batch: 40, Avg. Loss: 0.021118273958563805\n"
     ]
    },
    {
     "name": "stderr",
     "output_type": "stream",
     "text": [
      "/content/drive/My Drive/Assignment_1_Facial_Keypoints/data_load.py:40: FutureWarning: Method .as_matrix will be removed in a future version. Use .values instead.\n",
      "  key_pts = self.key_pts_frame.iloc[idx, 1:].as_matrix()\n",
      "/content/drive/My Drive/Assignment_1_Facial_Keypoints/data_load.py:40: FutureWarning: Method .as_matrix will be removed in a future version. Use .values instead.\n",
      "  key_pts = self.key_pts_frame.iloc[idx, 1:].as_matrix()\n",
      "/content/drive/My Drive/Assignment_1_Facial_Keypoints/data_load.py:40: FutureWarning: Method .as_matrix will be removed in a future version. Use .values instead.\n",
      "  key_pts = self.key_pts_frame.iloc[idx, 1:].as_matrix()\n",
      "/content/drive/My Drive/Assignment_1_Facial_Keypoints/data_load.py:40: FutureWarning: Method .as_matrix will be removed in a future version. Use .values instead.\n",
      "  key_pts = self.key_pts_frame.iloc[idx, 1:].as_matrix()\n"
     ]
    },
    {
     "name": "stdout",
     "output_type": "stream",
     "text": [
      "Epoch: 27, Batch: 50, Avg. Loss: 0.023016068618744612\n"
     ]
    },
    {
     "name": "stderr",
     "output_type": "stream",
     "text": [
      "/content/drive/My Drive/Assignment_1_Facial_Keypoints/data_load.py:40: FutureWarning: Method .as_matrix will be removed in a future version. Use .values instead.\n",
      "  key_pts = self.key_pts_frame.iloc[idx, 1:].as_matrix()\n",
      "/content/drive/My Drive/Assignment_1_Facial_Keypoints/data_load.py:40: FutureWarning: Method .as_matrix will be removed in a future version. Use .values instead.\n",
      "  key_pts = self.key_pts_frame.iloc[idx, 1:].as_matrix()\n",
      "/content/drive/My Drive/Assignment_1_Facial_Keypoints/data_load.py:40: FutureWarning: Method .as_matrix will be removed in a future version. Use .values instead.\n",
      "  key_pts = self.key_pts_frame.iloc[idx, 1:].as_matrix()\n",
      "/content/drive/My Drive/Assignment_1_Facial_Keypoints/data_load.py:40: FutureWarning: Method .as_matrix will be removed in a future version. Use .values instead.\n",
      "  key_pts = self.key_pts_frame.iloc[idx, 1:].as_matrix()\n",
      "/content/drive/My Drive/Assignment_1_Facial_Keypoints/data_load.py:40: FutureWarning: Method .as_matrix will be removed in a future version. Use .values instead.\n",
      "  key_pts = self.key_pts_frame.iloc[idx, 1:].as_matrix()\n",
      "/content/drive/My Drive/Assignment_1_Facial_Keypoints/data_load.py:40: FutureWarning: Method .as_matrix will be removed in a future version. Use .values instead.\n",
      "  key_pts = self.key_pts_frame.iloc[idx, 1:].as_matrix()\n",
      "/content/drive/My Drive/Assignment_1_Facial_Keypoints/data_load.py:40: FutureWarning: Method .as_matrix will be removed in a future version. Use .values instead.\n",
      "  key_pts = self.key_pts_frame.iloc[idx, 1:].as_matrix()\n",
      "/content/drive/My Drive/Assignment_1_Facial_Keypoints/data_load.py:40: FutureWarning: Method .as_matrix will be removed in a future version. Use .values instead.\n",
      "  key_pts = self.key_pts_frame.iloc[idx, 1:].as_matrix()\n"
     ]
    },
    {
     "name": "stdout",
     "output_type": "stream",
     "text": [
      "Epoch: 28, Batch: 10, Avg. Loss: 0.021889880672097205\n"
     ]
    },
    {
     "name": "stderr",
     "output_type": "stream",
     "text": [
      "/content/drive/My Drive/Assignment_1_Facial_Keypoints/data_load.py:40: FutureWarning: Method .as_matrix will be removed in a future version. Use .values instead.\n",
      "  key_pts = self.key_pts_frame.iloc[idx, 1:].as_matrix()\n",
      "/content/drive/My Drive/Assignment_1_Facial_Keypoints/data_load.py:40: FutureWarning: Method .as_matrix will be removed in a future version. Use .values instead.\n",
      "  key_pts = self.key_pts_frame.iloc[idx, 1:].as_matrix()\n",
      "/content/drive/My Drive/Assignment_1_Facial_Keypoints/data_load.py:40: FutureWarning: Method .as_matrix will be removed in a future version. Use .values instead.\n",
      "  key_pts = self.key_pts_frame.iloc[idx, 1:].as_matrix()\n",
      "/content/drive/My Drive/Assignment_1_Facial_Keypoints/data_load.py:40: FutureWarning: Method .as_matrix will be removed in a future version. Use .values instead.\n",
      "  key_pts = self.key_pts_frame.iloc[idx, 1:].as_matrix()\n"
     ]
    },
    {
     "name": "stdout",
     "output_type": "stream",
     "text": [
      "Epoch: 28, Batch: 20, Avg. Loss: 0.02049513692036271\n"
     ]
    },
    {
     "name": "stderr",
     "output_type": "stream",
     "text": [
      "/content/drive/My Drive/Assignment_1_Facial_Keypoints/data_load.py:40: FutureWarning: Method .as_matrix will be removed in a future version. Use .values instead.\n",
      "  key_pts = self.key_pts_frame.iloc[idx, 1:].as_matrix()\n",
      "/content/drive/My Drive/Assignment_1_Facial_Keypoints/data_load.py:40: FutureWarning: Method .as_matrix will be removed in a future version. Use .values instead.\n",
      "  key_pts = self.key_pts_frame.iloc[idx, 1:].as_matrix()\n",
      "/content/drive/My Drive/Assignment_1_Facial_Keypoints/data_load.py:40: FutureWarning: Method .as_matrix will be removed in a future version. Use .values instead.\n",
      "  key_pts = self.key_pts_frame.iloc[idx, 1:].as_matrix()\n",
      "/content/drive/My Drive/Assignment_1_Facial_Keypoints/data_load.py:40: FutureWarning: Method .as_matrix will be removed in a future version. Use .values instead.\n",
      "  key_pts = self.key_pts_frame.iloc[idx, 1:].as_matrix()\n"
     ]
    },
    {
     "name": "stdout",
     "output_type": "stream",
     "text": [
      "Epoch: 28, Batch: 30, Avg. Loss: 0.027870129607617856\n"
     ]
    },
    {
     "name": "stderr",
     "output_type": "stream",
     "text": [
      "/content/drive/My Drive/Assignment_1_Facial_Keypoints/data_load.py:40: FutureWarning: Method .as_matrix will be removed in a future version. Use .values instead.\n",
      "  key_pts = self.key_pts_frame.iloc[idx, 1:].as_matrix()\n",
      "/content/drive/My Drive/Assignment_1_Facial_Keypoints/data_load.py:40: FutureWarning: Method .as_matrix will be removed in a future version. Use .values instead.\n",
      "  key_pts = self.key_pts_frame.iloc[idx, 1:].as_matrix()\n",
      "/content/drive/My Drive/Assignment_1_Facial_Keypoints/data_load.py:40: FutureWarning: Method .as_matrix will be removed in a future version. Use .values instead.\n",
      "  key_pts = self.key_pts_frame.iloc[idx, 1:].as_matrix()\n",
      "/content/drive/My Drive/Assignment_1_Facial_Keypoints/data_load.py:40: FutureWarning: Method .as_matrix will be removed in a future version. Use .values instead.\n",
      "  key_pts = self.key_pts_frame.iloc[idx, 1:].as_matrix()\n"
     ]
    },
    {
     "name": "stdout",
     "output_type": "stream",
     "text": [
      "Epoch: 28, Batch: 40, Avg. Loss: 0.01967951525002718\n"
     ]
    },
    {
     "name": "stderr",
     "output_type": "stream",
     "text": [
      "/content/drive/My Drive/Assignment_1_Facial_Keypoints/data_load.py:40: FutureWarning: Method .as_matrix will be removed in a future version. Use .values instead.\n",
      "  key_pts = self.key_pts_frame.iloc[idx, 1:].as_matrix()\n",
      "/content/drive/My Drive/Assignment_1_Facial_Keypoints/data_load.py:40: FutureWarning: Method .as_matrix will be removed in a future version. Use .values instead.\n",
      "  key_pts = self.key_pts_frame.iloc[idx, 1:].as_matrix()\n",
      "/content/drive/My Drive/Assignment_1_Facial_Keypoints/data_load.py:40: FutureWarning: Method .as_matrix will be removed in a future version. Use .values instead.\n",
      "  key_pts = self.key_pts_frame.iloc[idx, 1:].as_matrix()\n",
      "/content/drive/My Drive/Assignment_1_Facial_Keypoints/data_load.py:40: FutureWarning: Method .as_matrix will be removed in a future version. Use .values instead.\n",
      "  key_pts = self.key_pts_frame.iloc[idx, 1:].as_matrix()\n"
     ]
    },
    {
     "name": "stdout",
     "output_type": "stream",
     "text": [
      "Epoch: 28, Batch: 50, Avg. Loss: 0.021641437150537967\n"
     ]
    },
    {
     "name": "stderr",
     "output_type": "stream",
     "text": [
      "/content/drive/My Drive/Assignment_1_Facial_Keypoints/data_load.py:40: FutureWarning: Method .as_matrix will be removed in a future version. Use .values instead.\n",
      "  key_pts = self.key_pts_frame.iloc[idx, 1:].as_matrix()\n",
      "/content/drive/My Drive/Assignment_1_Facial_Keypoints/data_load.py:40: FutureWarning: Method .as_matrix will be removed in a future version. Use .values instead.\n",
      "  key_pts = self.key_pts_frame.iloc[idx, 1:].as_matrix()\n",
      "/content/drive/My Drive/Assignment_1_Facial_Keypoints/data_load.py:40: FutureWarning: Method .as_matrix will be removed in a future version. Use .values instead.\n",
      "  key_pts = self.key_pts_frame.iloc[idx, 1:].as_matrix()\n",
      "/content/drive/My Drive/Assignment_1_Facial_Keypoints/data_load.py:40: FutureWarning: Method .as_matrix will be removed in a future version. Use .values instead.\n",
      "  key_pts = self.key_pts_frame.iloc[idx, 1:].as_matrix()\n",
      "/content/drive/My Drive/Assignment_1_Facial_Keypoints/data_load.py:40: FutureWarning: Method .as_matrix will be removed in a future version. Use .values instead.\n",
      "  key_pts = self.key_pts_frame.iloc[idx, 1:].as_matrix()\n",
      "/content/drive/My Drive/Assignment_1_Facial_Keypoints/data_load.py:40: FutureWarning: Method .as_matrix will be removed in a future version. Use .values instead.\n",
      "  key_pts = self.key_pts_frame.iloc[idx, 1:].as_matrix()\n",
      "/content/drive/My Drive/Assignment_1_Facial_Keypoints/data_load.py:40: FutureWarning: Method .as_matrix will be removed in a future version. Use .values instead.\n",
      "  key_pts = self.key_pts_frame.iloc[idx, 1:].as_matrix()\n",
      "/content/drive/My Drive/Assignment_1_Facial_Keypoints/data_load.py:40: FutureWarning: Method .as_matrix will be removed in a future version. Use .values instead.\n",
      "  key_pts = self.key_pts_frame.iloc[idx, 1:].as_matrix()\n"
     ]
    },
    {
     "name": "stdout",
     "output_type": "stream",
     "text": [
      "Epoch: 29, Batch: 10, Avg. Loss: 0.02334506893530488\n"
     ]
    },
    {
     "name": "stderr",
     "output_type": "stream",
     "text": [
      "/content/drive/My Drive/Assignment_1_Facial_Keypoints/data_load.py:40: FutureWarning: Method .as_matrix will be removed in a future version. Use .values instead.\n",
      "  key_pts = self.key_pts_frame.iloc[idx, 1:].as_matrix()\n",
      "/content/drive/My Drive/Assignment_1_Facial_Keypoints/data_load.py:40: FutureWarning: Method .as_matrix will be removed in a future version. Use .values instead.\n",
      "  key_pts = self.key_pts_frame.iloc[idx, 1:].as_matrix()\n",
      "/content/drive/My Drive/Assignment_1_Facial_Keypoints/data_load.py:40: FutureWarning: Method .as_matrix will be removed in a future version. Use .values instead.\n",
      "  key_pts = self.key_pts_frame.iloc[idx, 1:].as_matrix()\n",
      "/content/drive/My Drive/Assignment_1_Facial_Keypoints/data_load.py:40: FutureWarning: Method .as_matrix will be removed in a future version. Use .values instead.\n",
      "  key_pts = self.key_pts_frame.iloc[idx, 1:].as_matrix()\n"
     ]
    },
    {
     "name": "stdout",
     "output_type": "stream",
     "text": [
      "Epoch: 29, Batch: 20, Avg. Loss: 0.0248222878202796\n"
     ]
    },
    {
     "name": "stderr",
     "output_type": "stream",
     "text": [
      "/content/drive/My Drive/Assignment_1_Facial_Keypoints/data_load.py:40: FutureWarning: Method .as_matrix will be removed in a future version. Use .values instead.\n",
      "  key_pts = self.key_pts_frame.iloc[idx, 1:].as_matrix()\n",
      "/content/drive/My Drive/Assignment_1_Facial_Keypoints/data_load.py:40: FutureWarning: Method .as_matrix will be removed in a future version. Use .values instead.\n",
      "  key_pts = self.key_pts_frame.iloc[idx, 1:].as_matrix()\n",
      "/content/drive/My Drive/Assignment_1_Facial_Keypoints/data_load.py:40: FutureWarning: Method .as_matrix will be removed in a future version. Use .values instead.\n",
      "  key_pts = self.key_pts_frame.iloc[idx, 1:].as_matrix()\n",
      "/content/drive/My Drive/Assignment_1_Facial_Keypoints/data_load.py:40: FutureWarning: Method .as_matrix will be removed in a future version. Use .values instead.\n",
      "  key_pts = self.key_pts_frame.iloc[idx, 1:].as_matrix()\n"
     ]
    },
    {
     "name": "stdout",
     "output_type": "stream",
     "text": [
      "Epoch: 29, Batch: 30, Avg. Loss: 0.02806410416960716\n"
     ]
    },
    {
     "name": "stderr",
     "output_type": "stream",
     "text": [
      "/content/drive/My Drive/Assignment_1_Facial_Keypoints/data_load.py:40: FutureWarning: Method .as_matrix will be removed in a future version. Use .values instead.\n",
      "  key_pts = self.key_pts_frame.iloc[idx, 1:].as_matrix()\n",
      "/content/drive/My Drive/Assignment_1_Facial_Keypoints/data_load.py:40: FutureWarning: Method .as_matrix will be removed in a future version. Use .values instead.\n",
      "  key_pts = self.key_pts_frame.iloc[idx, 1:].as_matrix()\n",
      "/content/drive/My Drive/Assignment_1_Facial_Keypoints/data_load.py:40: FutureWarning: Method .as_matrix will be removed in a future version. Use .values instead.\n",
      "  key_pts = self.key_pts_frame.iloc[idx, 1:].as_matrix()\n",
      "/content/drive/My Drive/Assignment_1_Facial_Keypoints/data_load.py:40: FutureWarning: Method .as_matrix will be removed in a future version. Use .values instead.\n",
      "  key_pts = self.key_pts_frame.iloc[idx, 1:].as_matrix()\n"
     ]
    },
    {
     "name": "stdout",
     "output_type": "stream",
     "text": [
      "Epoch: 29, Batch: 40, Avg. Loss: 0.018380434531718493\n"
     ]
    },
    {
     "name": "stderr",
     "output_type": "stream",
     "text": [
      "/content/drive/My Drive/Assignment_1_Facial_Keypoints/data_load.py:40: FutureWarning: Method .as_matrix will be removed in a future version. Use .values instead.\n",
      "  key_pts = self.key_pts_frame.iloc[idx, 1:].as_matrix()\n",
      "/content/drive/My Drive/Assignment_1_Facial_Keypoints/data_load.py:40: FutureWarning: Method .as_matrix will be removed in a future version. Use .values instead.\n",
      "  key_pts = self.key_pts_frame.iloc[idx, 1:].as_matrix()\n",
      "/content/drive/My Drive/Assignment_1_Facial_Keypoints/data_load.py:40: FutureWarning: Method .as_matrix will be removed in a future version. Use .values instead.\n",
      "  key_pts = self.key_pts_frame.iloc[idx, 1:].as_matrix()\n",
      "/content/drive/My Drive/Assignment_1_Facial_Keypoints/data_load.py:40: FutureWarning: Method .as_matrix will be removed in a future version. Use .values instead.\n",
      "  key_pts = self.key_pts_frame.iloc[idx, 1:].as_matrix()\n"
     ]
    },
    {
     "name": "stdout",
     "output_type": "stream",
     "text": [
      "Epoch: 29, Batch: 50, Avg. Loss: 0.018579744268208742\n"
     ]
    },
    {
     "name": "stderr",
     "output_type": "stream",
     "text": [
      "/content/drive/My Drive/Assignment_1_Facial_Keypoints/data_load.py:40: FutureWarning: Method .as_matrix will be removed in a future version. Use .values instead.\n",
      "  key_pts = self.key_pts_frame.iloc[idx, 1:].as_matrix()\n",
      "/content/drive/My Drive/Assignment_1_Facial_Keypoints/data_load.py:40: FutureWarning: Method .as_matrix will be removed in a future version. Use .values instead.\n",
      "  key_pts = self.key_pts_frame.iloc[idx, 1:].as_matrix()\n",
      "/content/drive/My Drive/Assignment_1_Facial_Keypoints/data_load.py:40: FutureWarning: Method .as_matrix will be removed in a future version. Use .values instead.\n",
      "  key_pts = self.key_pts_frame.iloc[idx, 1:].as_matrix()\n",
      "/content/drive/My Drive/Assignment_1_Facial_Keypoints/data_load.py:40: FutureWarning: Method .as_matrix will be removed in a future version. Use .values instead.\n",
      "  key_pts = self.key_pts_frame.iloc[idx, 1:].as_matrix()\n",
      "/content/drive/My Drive/Assignment_1_Facial_Keypoints/data_load.py:40: FutureWarning: Method .as_matrix will be removed in a future version. Use .values instead.\n",
      "  key_pts = self.key_pts_frame.iloc[idx, 1:].as_matrix()\n",
      "/content/drive/My Drive/Assignment_1_Facial_Keypoints/data_load.py:40: FutureWarning: Method .as_matrix will be removed in a future version. Use .values instead.\n",
      "  key_pts = self.key_pts_frame.iloc[idx, 1:].as_matrix()\n",
      "/content/drive/My Drive/Assignment_1_Facial_Keypoints/data_load.py:40: FutureWarning: Method .as_matrix will be removed in a future version. Use .values instead.\n",
      "  key_pts = self.key_pts_frame.iloc[idx, 1:].as_matrix()\n",
      "/content/drive/My Drive/Assignment_1_Facial_Keypoints/data_load.py:40: FutureWarning: Method .as_matrix will be removed in a future version. Use .values instead.\n",
      "  key_pts = self.key_pts_frame.iloc[idx, 1:].as_matrix()\n"
     ]
    },
    {
     "name": "stdout",
     "output_type": "stream",
     "text": [
      "Epoch: 30, Batch: 10, Avg. Loss: 0.019941192027181386\n"
     ]
    },
    {
     "name": "stderr",
     "output_type": "stream",
     "text": [
      "/content/drive/My Drive/Assignment_1_Facial_Keypoints/data_load.py:40: FutureWarning: Method .as_matrix will be removed in a future version. Use .values instead.\n",
      "  key_pts = self.key_pts_frame.iloc[idx, 1:].as_matrix()\n",
      "/content/drive/My Drive/Assignment_1_Facial_Keypoints/data_load.py:40: FutureWarning: Method .as_matrix will be removed in a future version. Use .values instead.\n",
      "  key_pts = self.key_pts_frame.iloc[idx, 1:].as_matrix()\n",
      "/content/drive/My Drive/Assignment_1_Facial_Keypoints/data_load.py:40: FutureWarning: Method .as_matrix will be removed in a future version. Use .values instead.\n",
      "  key_pts = self.key_pts_frame.iloc[idx, 1:].as_matrix()\n",
      "/content/drive/My Drive/Assignment_1_Facial_Keypoints/data_load.py:40: FutureWarning: Method .as_matrix will be removed in a future version. Use .values instead.\n",
      "  key_pts = self.key_pts_frame.iloc[idx, 1:].as_matrix()\n"
     ]
    },
    {
     "name": "stdout",
     "output_type": "stream",
     "text": [
      "Epoch: 30, Batch: 20, Avg. Loss: 0.017296086344867945\n"
     ]
    },
    {
     "name": "stderr",
     "output_type": "stream",
     "text": [
      "/content/drive/My Drive/Assignment_1_Facial_Keypoints/data_load.py:40: FutureWarning: Method .as_matrix will be removed in a future version. Use .values instead.\n",
      "  key_pts = self.key_pts_frame.iloc[idx, 1:].as_matrix()\n",
      "/content/drive/My Drive/Assignment_1_Facial_Keypoints/data_load.py:40: FutureWarning: Method .as_matrix will be removed in a future version. Use .values instead.\n",
      "  key_pts = self.key_pts_frame.iloc[idx, 1:].as_matrix()\n",
      "/content/drive/My Drive/Assignment_1_Facial_Keypoints/data_load.py:40: FutureWarning: Method .as_matrix will be removed in a future version. Use .values instead.\n",
      "  key_pts = self.key_pts_frame.iloc[idx, 1:].as_matrix()\n",
      "/content/drive/My Drive/Assignment_1_Facial_Keypoints/data_load.py:40: FutureWarning: Method .as_matrix will be removed in a future version. Use .values instead.\n",
      "  key_pts = self.key_pts_frame.iloc[idx, 1:].as_matrix()\n"
     ]
    },
    {
     "name": "stdout",
     "output_type": "stream",
     "text": [
      "Epoch: 30, Batch: 30, Avg. Loss: 0.017570969741791488\n"
     ]
    },
    {
     "name": "stderr",
     "output_type": "stream",
     "text": [
      "/content/drive/My Drive/Assignment_1_Facial_Keypoints/data_load.py:40: FutureWarning: Method .as_matrix will be removed in a future version. Use .values instead.\n",
      "  key_pts = self.key_pts_frame.iloc[idx, 1:].as_matrix()\n",
      "/content/drive/My Drive/Assignment_1_Facial_Keypoints/data_load.py:40: FutureWarning: Method .as_matrix will be removed in a future version. Use .values instead.\n",
      "  key_pts = self.key_pts_frame.iloc[idx, 1:].as_matrix()\n",
      "/content/drive/My Drive/Assignment_1_Facial_Keypoints/data_load.py:40: FutureWarning: Method .as_matrix will be removed in a future version. Use .values instead.\n",
      "  key_pts = self.key_pts_frame.iloc[idx, 1:].as_matrix()\n",
      "/content/drive/My Drive/Assignment_1_Facial_Keypoints/data_load.py:40: FutureWarning: Method .as_matrix will be removed in a future version. Use .values instead.\n",
      "  key_pts = self.key_pts_frame.iloc[idx, 1:].as_matrix()\n"
     ]
    },
    {
     "name": "stdout",
     "output_type": "stream",
     "text": [
      "Epoch: 30, Batch: 40, Avg. Loss: 0.019426836539059876\n"
     ]
    },
    {
     "name": "stderr",
     "output_type": "stream",
     "text": [
      "/content/drive/My Drive/Assignment_1_Facial_Keypoints/data_load.py:40: FutureWarning: Method .as_matrix will be removed in a future version. Use .values instead.\n",
      "  key_pts = self.key_pts_frame.iloc[idx, 1:].as_matrix()\n",
      "/content/drive/My Drive/Assignment_1_Facial_Keypoints/data_load.py:40: FutureWarning: Method .as_matrix will be removed in a future version. Use .values instead.\n",
      "  key_pts = self.key_pts_frame.iloc[idx, 1:].as_matrix()\n",
      "/content/drive/My Drive/Assignment_1_Facial_Keypoints/data_load.py:40: FutureWarning: Method .as_matrix will be removed in a future version. Use .values instead.\n",
      "  key_pts = self.key_pts_frame.iloc[idx, 1:].as_matrix()\n",
      "/content/drive/My Drive/Assignment_1_Facial_Keypoints/data_load.py:40: FutureWarning: Method .as_matrix will be removed in a future version. Use .values instead.\n",
      "  key_pts = self.key_pts_frame.iloc[idx, 1:].as_matrix()\n"
     ]
    },
    {
     "name": "stdout",
     "output_type": "stream",
     "text": [
      "Epoch: 30, Batch: 50, Avg. Loss: 0.019665901176631452\n"
     ]
    },
    {
     "name": "stderr",
     "output_type": "stream",
     "text": [
      "/content/drive/My Drive/Assignment_1_Facial_Keypoints/data_load.py:40: FutureWarning: Method .as_matrix will be removed in a future version. Use .values instead.\n",
      "  key_pts = self.key_pts_frame.iloc[idx, 1:].as_matrix()\n",
      "/content/drive/My Drive/Assignment_1_Facial_Keypoints/data_load.py:40: FutureWarning: Method .as_matrix will be removed in a future version. Use .values instead.\n",
      "  key_pts = self.key_pts_frame.iloc[idx, 1:].as_matrix()\n",
      "/content/drive/My Drive/Assignment_1_Facial_Keypoints/data_load.py:40: FutureWarning: Method .as_matrix will be removed in a future version. Use .values instead.\n",
      "  key_pts = self.key_pts_frame.iloc[idx, 1:].as_matrix()\n",
      "/content/drive/My Drive/Assignment_1_Facial_Keypoints/data_load.py:40: FutureWarning: Method .as_matrix will be removed in a future version. Use .values instead.\n",
      "  key_pts = self.key_pts_frame.iloc[idx, 1:].as_matrix()\n",
      "/content/drive/My Drive/Assignment_1_Facial_Keypoints/data_load.py:40: FutureWarning: Method .as_matrix will be removed in a future version. Use .values instead.\n",
      "  key_pts = self.key_pts_frame.iloc[idx, 1:].as_matrix()\n",
      "/content/drive/My Drive/Assignment_1_Facial_Keypoints/data_load.py:40: FutureWarning: Method .as_matrix will be removed in a future version. Use .values instead.\n",
      "  key_pts = self.key_pts_frame.iloc[idx, 1:].as_matrix()\n",
      "/content/drive/My Drive/Assignment_1_Facial_Keypoints/data_load.py:40: FutureWarning: Method .as_matrix will be removed in a future version. Use .values instead.\n",
      "  key_pts = self.key_pts_frame.iloc[idx, 1:].as_matrix()\n",
      "/content/drive/My Drive/Assignment_1_Facial_Keypoints/data_load.py:40: FutureWarning: Method .as_matrix will be removed in a future version. Use .values instead.\n",
      "  key_pts = self.key_pts_frame.iloc[idx, 1:].as_matrix()\n"
     ]
    },
    {
     "name": "stdout",
     "output_type": "stream",
     "text": [
      "Epoch: 31, Batch: 10, Avg. Loss: 0.021925454773008824\n"
     ]
    },
    {
     "name": "stderr",
     "output_type": "stream",
     "text": [
      "/content/drive/My Drive/Assignment_1_Facial_Keypoints/data_load.py:40: FutureWarning: Method .as_matrix will be removed in a future version. Use .values instead.\n",
      "  key_pts = self.key_pts_frame.iloc[idx, 1:].as_matrix()\n",
      "/content/drive/My Drive/Assignment_1_Facial_Keypoints/data_load.py:40: FutureWarning: Method .as_matrix will be removed in a future version. Use .values instead.\n",
      "  key_pts = self.key_pts_frame.iloc[idx, 1:].as_matrix()\n",
      "/content/drive/My Drive/Assignment_1_Facial_Keypoints/data_load.py:40: FutureWarning: Method .as_matrix will be removed in a future version. Use .values instead.\n",
      "  key_pts = self.key_pts_frame.iloc[idx, 1:].as_matrix()\n",
      "/content/drive/My Drive/Assignment_1_Facial_Keypoints/data_load.py:40: FutureWarning: Method .as_matrix will be removed in a future version. Use .values instead.\n",
      "  key_pts = self.key_pts_frame.iloc[idx, 1:].as_matrix()\n"
     ]
    },
    {
     "name": "stdout",
     "output_type": "stream",
     "text": [
      "Epoch: 31, Batch: 20, Avg. Loss: 0.02328592836856842\n"
     ]
    },
    {
     "name": "stderr",
     "output_type": "stream",
     "text": [
      "/content/drive/My Drive/Assignment_1_Facial_Keypoints/data_load.py:40: FutureWarning: Method .as_matrix will be removed in a future version. Use .values instead.\n",
      "  key_pts = self.key_pts_frame.iloc[idx, 1:].as_matrix()\n",
      "/content/drive/My Drive/Assignment_1_Facial_Keypoints/data_load.py:40: FutureWarning: Method .as_matrix will be removed in a future version. Use .values instead.\n",
      "  key_pts = self.key_pts_frame.iloc[idx, 1:].as_matrix()\n",
      "/content/drive/My Drive/Assignment_1_Facial_Keypoints/data_load.py:40: FutureWarning: Method .as_matrix will be removed in a future version. Use .values instead.\n",
      "  key_pts = self.key_pts_frame.iloc[idx, 1:].as_matrix()\n",
      "/content/drive/My Drive/Assignment_1_Facial_Keypoints/data_load.py:40: FutureWarning: Method .as_matrix will be removed in a future version. Use .values instead.\n",
      "  key_pts = self.key_pts_frame.iloc[idx, 1:].as_matrix()\n"
     ]
    },
    {
     "name": "stdout",
     "output_type": "stream",
     "text": [
      "Epoch: 31, Batch: 30, Avg. Loss: 0.019474746473133565\n"
     ]
    },
    {
     "name": "stderr",
     "output_type": "stream",
     "text": [
      "/content/drive/My Drive/Assignment_1_Facial_Keypoints/data_load.py:40: FutureWarning: Method .as_matrix will be removed in a future version. Use .values instead.\n",
      "  key_pts = self.key_pts_frame.iloc[idx, 1:].as_matrix()\n",
      "/content/drive/My Drive/Assignment_1_Facial_Keypoints/data_load.py:40: FutureWarning: Method .as_matrix will be removed in a future version. Use .values instead.\n",
      "  key_pts = self.key_pts_frame.iloc[idx, 1:].as_matrix()\n",
      "/content/drive/My Drive/Assignment_1_Facial_Keypoints/data_load.py:40: FutureWarning: Method .as_matrix will be removed in a future version. Use .values instead.\n",
      "  key_pts = self.key_pts_frame.iloc[idx, 1:].as_matrix()\n",
      "/content/drive/My Drive/Assignment_1_Facial_Keypoints/data_load.py:40: FutureWarning: Method .as_matrix will be removed in a future version. Use .values instead.\n",
      "  key_pts = self.key_pts_frame.iloc[idx, 1:].as_matrix()\n"
     ]
    },
    {
     "name": "stdout",
     "output_type": "stream",
     "text": [
      "Epoch: 31, Batch: 40, Avg. Loss: 0.015442816354334355\n"
     ]
    },
    {
     "name": "stderr",
     "output_type": "stream",
     "text": [
      "/content/drive/My Drive/Assignment_1_Facial_Keypoints/data_load.py:40: FutureWarning: Method .as_matrix will be removed in a future version. Use .values instead.\n",
      "  key_pts = self.key_pts_frame.iloc[idx, 1:].as_matrix()\n",
      "/content/drive/My Drive/Assignment_1_Facial_Keypoints/data_load.py:40: FutureWarning: Method .as_matrix will be removed in a future version. Use .values instead.\n",
      "  key_pts = self.key_pts_frame.iloc[idx, 1:].as_matrix()\n",
      "/content/drive/My Drive/Assignment_1_Facial_Keypoints/data_load.py:40: FutureWarning: Method .as_matrix will be removed in a future version. Use .values instead.\n",
      "  key_pts = self.key_pts_frame.iloc[idx, 1:].as_matrix()\n",
      "/content/drive/My Drive/Assignment_1_Facial_Keypoints/data_load.py:40: FutureWarning: Method .as_matrix will be removed in a future version. Use .values instead.\n",
      "  key_pts = self.key_pts_frame.iloc[idx, 1:].as_matrix()\n"
     ]
    },
    {
     "name": "stdout",
     "output_type": "stream",
     "text": [
      "Epoch: 31, Batch: 50, Avg. Loss: 0.01972962487488985\n"
     ]
    },
    {
     "name": "stderr",
     "output_type": "stream",
     "text": [
      "/content/drive/My Drive/Assignment_1_Facial_Keypoints/data_load.py:40: FutureWarning: Method .as_matrix will be removed in a future version. Use .values instead.\n",
      "  key_pts = self.key_pts_frame.iloc[idx, 1:].as_matrix()\n",
      "/content/drive/My Drive/Assignment_1_Facial_Keypoints/data_load.py:40: FutureWarning: Method .as_matrix will be removed in a future version. Use .values instead.\n",
      "  key_pts = self.key_pts_frame.iloc[idx, 1:].as_matrix()\n",
      "/content/drive/My Drive/Assignment_1_Facial_Keypoints/data_load.py:40: FutureWarning: Method .as_matrix will be removed in a future version. Use .values instead.\n",
      "  key_pts = self.key_pts_frame.iloc[idx, 1:].as_matrix()\n",
      "/content/drive/My Drive/Assignment_1_Facial_Keypoints/data_load.py:40: FutureWarning: Method .as_matrix will be removed in a future version. Use .values instead.\n",
      "  key_pts = self.key_pts_frame.iloc[idx, 1:].as_matrix()\n",
      "/content/drive/My Drive/Assignment_1_Facial_Keypoints/data_load.py:40: FutureWarning: Method .as_matrix will be removed in a future version. Use .values instead.\n",
      "  key_pts = self.key_pts_frame.iloc[idx, 1:].as_matrix()\n",
      "/content/drive/My Drive/Assignment_1_Facial_Keypoints/data_load.py:40: FutureWarning: Method .as_matrix will be removed in a future version. Use .values instead.\n",
      "  key_pts = self.key_pts_frame.iloc[idx, 1:].as_matrix()\n",
      "/content/drive/My Drive/Assignment_1_Facial_Keypoints/data_load.py:40: FutureWarning: Method .as_matrix will be removed in a future version. Use .values instead.\n",
      "  key_pts = self.key_pts_frame.iloc[idx, 1:].as_matrix()\n",
      "/content/drive/My Drive/Assignment_1_Facial_Keypoints/data_load.py:40: FutureWarning: Method .as_matrix will be removed in a future version. Use .values instead.\n",
      "  key_pts = self.key_pts_frame.iloc[idx, 1:].as_matrix()\n"
     ]
    },
    {
     "name": "stdout",
     "output_type": "stream",
     "text": [
      "Epoch: 32, Batch: 10, Avg. Loss: 0.018526711221784353\n"
     ]
    },
    {
     "name": "stderr",
     "output_type": "stream",
     "text": [
      "/content/drive/My Drive/Assignment_1_Facial_Keypoints/data_load.py:40: FutureWarning: Method .as_matrix will be removed in a future version. Use .values instead.\n",
      "  key_pts = self.key_pts_frame.iloc[idx, 1:].as_matrix()\n",
      "/content/drive/My Drive/Assignment_1_Facial_Keypoints/data_load.py:40: FutureWarning: Method .as_matrix will be removed in a future version. Use .values instead.\n",
      "  key_pts = self.key_pts_frame.iloc[idx, 1:].as_matrix()\n",
      "/content/drive/My Drive/Assignment_1_Facial_Keypoints/data_load.py:40: FutureWarning: Method .as_matrix will be removed in a future version. Use .values instead.\n",
      "  key_pts = self.key_pts_frame.iloc[idx, 1:].as_matrix()\n",
      "/content/drive/My Drive/Assignment_1_Facial_Keypoints/data_load.py:40: FutureWarning: Method .as_matrix will be removed in a future version. Use .values instead.\n",
      "  key_pts = self.key_pts_frame.iloc[idx, 1:].as_matrix()\n"
     ]
    },
    {
     "name": "stdout",
     "output_type": "stream",
     "text": [
      "Epoch: 32, Batch: 20, Avg. Loss: 0.01867760084569454\n"
     ]
    },
    {
     "name": "stderr",
     "output_type": "stream",
     "text": [
      "/content/drive/My Drive/Assignment_1_Facial_Keypoints/data_load.py:40: FutureWarning: Method .as_matrix will be removed in a future version. Use .values instead.\n",
      "  key_pts = self.key_pts_frame.iloc[idx, 1:].as_matrix()\n",
      "/content/drive/My Drive/Assignment_1_Facial_Keypoints/data_load.py:40: FutureWarning: Method .as_matrix will be removed in a future version. Use .values instead.\n",
      "  key_pts = self.key_pts_frame.iloc[idx, 1:].as_matrix()\n",
      "/content/drive/My Drive/Assignment_1_Facial_Keypoints/data_load.py:40: FutureWarning: Method .as_matrix will be removed in a future version. Use .values instead.\n",
      "  key_pts = self.key_pts_frame.iloc[idx, 1:].as_matrix()\n",
      "/content/drive/My Drive/Assignment_1_Facial_Keypoints/data_load.py:40: FutureWarning: Method .as_matrix will be removed in a future version. Use .values instead.\n",
      "  key_pts = self.key_pts_frame.iloc[idx, 1:].as_matrix()\n"
     ]
    },
    {
     "name": "stdout",
     "output_type": "stream",
     "text": [
      "Epoch: 32, Batch: 30, Avg. Loss: 0.019848169479519128\n"
     ]
    },
    {
     "name": "stderr",
     "output_type": "stream",
     "text": [
      "/content/drive/My Drive/Assignment_1_Facial_Keypoints/data_load.py:40: FutureWarning: Method .as_matrix will be removed in a future version. Use .values instead.\n",
      "  key_pts = self.key_pts_frame.iloc[idx, 1:].as_matrix()\n",
      "/content/drive/My Drive/Assignment_1_Facial_Keypoints/data_load.py:40: FutureWarning: Method .as_matrix will be removed in a future version. Use .values instead.\n",
      "  key_pts = self.key_pts_frame.iloc[idx, 1:].as_matrix()\n",
      "/content/drive/My Drive/Assignment_1_Facial_Keypoints/data_load.py:40: FutureWarning: Method .as_matrix will be removed in a future version. Use .values instead.\n",
      "  key_pts = self.key_pts_frame.iloc[idx, 1:].as_matrix()\n",
      "/content/drive/My Drive/Assignment_1_Facial_Keypoints/data_load.py:40: FutureWarning: Method .as_matrix will be removed in a future version. Use .values instead.\n",
      "  key_pts = self.key_pts_frame.iloc[idx, 1:].as_matrix()\n"
     ]
    },
    {
     "name": "stdout",
     "output_type": "stream",
     "text": [
      "Epoch: 32, Batch: 40, Avg. Loss: 0.020246402639895678\n"
     ]
    },
    {
     "name": "stderr",
     "output_type": "stream",
     "text": [
      "/content/drive/My Drive/Assignment_1_Facial_Keypoints/data_load.py:40: FutureWarning: Method .as_matrix will be removed in a future version. Use .values instead.\n",
      "  key_pts = self.key_pts_frame.iloc[idx, 1:].as_matrix()\n",
      "/content/drive/My Drive/Assignment_1_Facial_Keypoints/data_load.py:40: FutureWarning: Method .as_matrix will be removed in a future version. Use .values instead.\n",
      "  key_pts = self.key_pts_frame.iloc[idx, 1:].as_matrix()\n",
      "/content/drive/My Drive/Assignment_1_Facial_Keypoints/data_load.py:40: FutureWarning: Method .as_matrix will be removed in a future version. Use .values instead.\n",
      "  key_pts = self.key_pts_frame.iloc[idx, 1:].as_matrix()\n",
      "/content/drive/My Drive/Assignment_1_Facial_Keypoints/data_load.py:40: FutureWarning: Method .as_matrix will be removed in a future version. Use .values instead.\n",
      "  key_pts = self.key_pts_frame.iloc[idx, 1:].as_matrix()\n"
     ]
    },
    {
     "name": "stdout",
     "output_type": "stream",
     "text": [
      "Epoch: 32, Batch: 50, Avg. Loss: 0.021805364824831485\n"
     ]
    },
    {
     "name": "stderr",
     "output_type": "stream",
     "text": [
      "/content/drive/My Drive/Assignment_1_Facial_Keypoints/data_load.py:40: FutureWarning: Method .as_matrix will be removed in a future version. Use .values instead.\n",
      "  key_pts = self.key_pts_frame.iloc[idx, 1:].as_matrix()\n",
      "/content/drive/My Drive/Assignment_1_Facial_Keypoints/data_load.py:40: FutureWarning: Method .as_matrix will be removed in a future version. Use .values instead.\n",
      "  key_pts = self.key_pts_frame.iloc[idx, 1:].as_matrix()\n",
      "/content/drive/My Drive/Assignment_1_Facial_Keypoints/data_load.py:40: FutureWarning: Method .as_matrix will be removed in a future version. Use .values instead.\n",
      "  key_pts = self.key_pts_frame.iloc[idx, 1:].as_matrix()\n",
      "/content/drive/My Drive/Assignment_1_Facial_Keypoints/data_load.py:40: FutureWarning: Method .as_matrix will be removed in a future version. Use .values instead.\n",
      "  key_pts = self.key_pts_frame.iloc[idx, 1:].as_matrix()\n",
      "/content/drive/My Drive/Assignment_1_Facial_Keypoints/data_load.py:40: FutureWarning: Method .as_matrix will be removed in a future version. Use .values instead.\n",
      "  key_pts = self.key_pts_frame.iloc[idx, 1:].as_matrix()\n",
      "/content/drive/My Drive/Assignment_1_Facial_Keypoints/data_load.py:40: FutureWarning: Method .as_matrix will be removed in a future version. Use .values instead.\n",
      "  key_pts = self.key_pts_frame.iloc[idx, 1:].as_matrix()\n",
      "/content/drive/My Drive/Assignment_1_Facial_Keypoints/data_load.py:40: FutureWarning: Method .as_matrix will be removed in a future version. Use .values instead.\n",
      "  key_pts = self.key_pts_frame.iloc[idx, 1:].as_matrix()\n",
      "/content/drive/My Drive/Assignment_1_Facial_Keypoints/data_load.py:40: FutureWarning: Method .as_matrix will be removed in a future version. Use .values instead.\n",
      "  key_pts = self.key_pts_frame.iloc[idx, 1:].as_matrix()\n"
     ]
    },
    {
     "name": "stdout",
     "output_type": "stream",
     "text": [
      "Epoch: 33, Batch: 10, Avg. Loss: 0.02246366934850812\n"
     ]
    },
    {
     "name": "stderr",
     "output_type": "stream",
     "text": [
      "/content/drive/My Drive/Assignment_1_Facial_Keypoints/data_load.py:40: FutureWarning: Method .as_matrix will be removed in a future version. Use .values instead.\n",
      "  key_pts = self.key_pts_frame.iloc[idx, 1:].as_matrix()\n",
      "/content/drive/My Drive/Assignment_1_Facial_Keypoints/data_load.py:40: FutureWarning: Method .as_matrix will be removed in a future version. Use .values instead.\n",
      "  key_pts = self.key_pts_frame.iloc[idx, 1:].as_matrix()\n",
      "/content/drive/My Drive/Assignment_1_Facial_Keypoints/data_load.py:40: FutureWarning: Method .as_matrix will be removed in a future version. Use .values instead.\n",
      "  key_pts = self.key_pts_frame.iloc[idx, 1:].as_matrix()\n",
      "/content/drive/My Drive/Assignment_1_Facial_Keypoints/data_load.py:40: FutureWarning: Method .as_matrix will be removed in a future version. Use .values instead.\n",
      "  key_pts = self.key_pts_frame.iloc[idx, 1:].as_matrix()\n"
     ]
    },
    {
     "name": "stdout",
     "output_type": "stream",
     "text": [
      "Epoch: 33, Batch: 20, Avg. Loss: 0.02294785175472498\n"
     ]
    },
    {
     "name": "stderr",
     "output_type": "stream",
     "text": [
      "/content/drive/My Drive/Assignment_1_Facial_Keypoints/data_load.py:40: FutureWarning: Method .as_matrix will be removed in a future version. Use .values instead.\n",
      "  key_pts = self.key_pts_frame.iloc[idx, 1:].as_matrix()\n",
      "/content/drive/My Drive/Assignment_1_Facial_Keypoints/data_load.py:40: FutureWarning: Method .as_matrix will be removed in a future version. Use .values instead.\n",
      "  key_pts = self.key_pts_frame.iloc[idx, 1:].as_matrix()\n",
      "/content/drive/My Drive/Assignment_1_Facial_Keypoints/data_load.py:40: FutureWarning: Method .as_matrix will be removed in a future version. Use .values instead.\n",
      "  key_pts = self.key_pts_frame.iloc[idx, 1:].as_matrix()\n",
      "/content/drive/My Drive/Assignment_1_Facial_Keypoints/data_load.py:40: FutureWarning: Method .as_matrix will be removed in a future version. Use .values instead.\n",
      "  key_pts = self.key_pts_frame.iloc[idx, 1:].as_matrix()\n"
     ]
    },
    {
     "name": "stdout",
     "output_type": "stream",
     "text": [
      "Epoch: 33, Batch: 30, Avg. Loss: 0.015744976233690977\n"
     ]
    },
    {
     "name": "stderr",
     "output_type": "stream",
     "text": [
      "/content/drive/My Drive/Assignment_1_Facial_Keypoints/data_load.py:40: FutureWarning: Method .as_matrix will be removed in a future version. Use .values instead.\n",
      "  key_pts = self.key_pts_frame.iloc[idx, 1:].as_matrix()\n",
      "/content/drive/My Drive/Assignment_1_Facial_Keypoints/data_load.py:40: FutureWarning: Method .as_matrix will be removed in a future version. Use .values instead.\n",
      "  key_pts = self.key_pts_frame.iloc[idx, 1:].as_matrix()\n",
      "/content/drive/My Drive/Assignment_1_Facial_Keypoints/data_load.py:40: FutureWarning: Method .as_matrix will be removed in a future version. Use .values instead.\n",
      "  key_pts = self.key_pts_frame.iloc[idx, 1:].as_matrix()\n",
      "/content/drive/My Drive/Assignment_1_Facial_Keypoints/data_load.py:40: FutureWarning: Method .as_matrix will be removed in a future version. Use .values instead.\n",
      "  key_pts = self.key_pts_frame.iloc[idx, 1:].as_matrix()\n"
     ]
    },
    {
     "name": "stdout",
     "output_type": "stream",
     "text": [
      "Epoch: 33, Batch: 40, Avg. Loss: 0.01680958652868867\n"
     ]
    },
    {
     "name": "stderr",
     "output_type": "stream",
     "text": [
      "/content/drive/My Drive/Assignment_1_Facial_Keypoints/data_load.py:40: FutureWarning: Method .as_matrix will be removed in a future version. Use .values instead.\n",
      "  key_pts = self.key_pts_frame.iloc[idx, 1:].as_matrix()\n",
      "/content/drive/My Drive/Assignment_1_Facial_Keypoints/data_load.py:40: FutureWarning: Method .as_matrix will be removed in a future version. Use .values instead.\n",
      "  key_pts = self.key_pts_frame.iloc[idx, 1:].as_matrix()\n",
      "/content/drive/My Drive/Assignment_1_Facial_Keypoints/data_load.py:40: FutureWarning: Method .as_matrix will be removed in a future version. Use .values instead.\n",
      "  key_pts = self.key_pts_frame.iloc[idx, 1:].as_matrix()\n",
      "/content/drive/My Drive/Assignment_1_Facial_Keypoints/data_load.py:40: FutureWarning: Method .as_matrix will be removed in a future version. Use .values instead.\n",
      "  key_pts = self.key_pts_frame.iloc[idx, 1:].as_matrix()\n"
     ]
    },
    {
     "name": "stdout",
     "output_type": "stream",
     "text": [
      "Epoch: 33, Batch: 50, Avg. Loss: 0.015118972398340702\n"
     ]
    },
    {
     "name": "stderr",
     "output_type": "stream",
     "text": [
      "/content/drive/My Drive/Assignment_1_Facial_Keypoints/data_load.py:40: FutureWarning: Method .as_matrix will be removed in a future version. Use .values instead.\n",
      "  key_pts = self.key_pts_frame.iloc[idx, 1:].as_matrix()\n",
      "/content/drive/My Drive/Assignment_1_Facial_Keypoints/data_load.py:40: FutureWarning: Method .as_matrix will be removed in a future version. Use .values instead.\n",
      "  key_pts = self.key_pts_frame.iloc[idx, 1:].as_matrix()\n",
      "/content/drive/My Drive/Assignment_1_Facial_Keypoints/data_load.py:40: FutureWarning: Method .as_matrix will be removed in a future version. Use .values instead.\n",
      "  key_pts = self.key_pts_frame.iloc[idx, 1:].as_matrix()\n",
      "/content/drive/My Drive/Assignment_1_Facial_Keypoints/data_load.py:40: FutureWarning: Method .as_matrix will be removed in a future version. Use .values instead.\n",
      "  key_pts = self.key_pts_frame.iloc[idx, 1:].as_matrix()\n",
      "/content/drive/My Drive/Assignment_1_Facial_Keypoints/data_load.py:40: FutureWarning: Method .as_matrix will be removed in a future version. Use .values instead.\n",
      "  key_pts = self.key_pts_frame.iloc[idx, 1:].as_matrix()\n",
      "/content/drive/My Drive/Assignment_1_Facial_Keypoints/data_load.py:40: FutureWarning: Method .as_matrix will be removed in a future version. Use .values instead.\n",
      "  key_pts = self.key_pts_frame.iloc[idx, 1:].as_matrix()\n",
      "/content/drive/My Drive/Assignment_1_Facial_Keypoints/data_load.py:40: FutureWarning: Method .as_matrix will be removed in a future version. Use .values instead.\n",
      "  key_pts = self.key_pts_frame.iloc[idx, 1:].as_matrix()\n",
      "/content/drive/My Drive/Assignment_1_Facial_Keypoints/data_load.py:40: FutureWarning: Method .as_matrix will be removed in a future version. Use .values instead.\n",
      "  key_pts = self.key_pts_frame.iloc[idx, 1:].as_matrix()\n"
     ]
    },
    {
     "name": "stdout",
     "output_type": "stream",
     "text": [
      "Epoch: 34, Batch: 10, Avg. Loss: 0.032553506456315516\n"
     ]
    },
    {
     "name": "stderr",
     "output_type": "stream",
     "text": [
      "/content/drive/My Drive/Assignment_1_Facial_Keypoints/data_load.py:40: FutureWarning: Method .as_matrix will be removed in a future version. Use .values instead.\n",
      "  key_pts = self.key_pts_frame.iloc[idx, 1:].as_matrix()\n",
      "/content/drive/My Drive/Assignment_1_Facial_Keypoints/data_load.py:40: FutureWarning: Method .as_matrix will be removed in a future version. Use .values instead.\n",
      "  key_pts = self.key_pts_frame.iloc[idx, 1:].as_matrix()\n",
      "/content/drive/My Drive/Assignment_1_Facial_Keypoints/data_load.py:40: FutureWarning: Method .as_matrix will be removed in a future version. Use .values instead.\n",
      "  key_pts = self.key_pts_frame.iloc[idx, 1:].as_matrix()\n",
      "/content/drive/My Drive/Assignment_1_Facial_Keypoints/data_load.py:40: FutureWarning: Method .as_matrix will be removed in a future version. Use .values instead.\n",
      "  key_pts = self.key_pts_frame.iloc[idx, 1:].as_matrix()\n"
     ]
    },
    {
     "name": "stdout",
     "output_type": "stream",
     "text": [
      "Epoch: 34, Batch: 20, Avg. Loss: 0.026785756833851336\n"
     ]
    },
    {
     "name": "stderr",
     "output_type": "stream",
     "text": [
      "/content/drive/My Drive/Assignment_1_Facial_Keypoints/data_load.py:40: FutureWarning: Method .as_matrix will be removed in a future version. Use .values instead.\n",
      "  key_pts = self.key_pts_frame.iloc[idx, 1:].as_matrix()\n",
      "/content/drive/My Drive/Assignment_1_Facial_Keypoints/data_load.py:40: FutureWarning: Method .as_matrix will be removed in a future version. Use .values instead.\n",
      "  key_pts = self.key_pts_frame.iloc[idx, 1:].as_matrix()\n",
      "/content/drive/My Drive/Assignment_1_Facial_Keypoints/data_load.py:40: FutureWarning: Method .as_matrix will be removed in a future version. Use .values instead.\n",
      "  key_pts = self.key_pts_frame.iloc[idx, 1:].as_matrix()\n",
      "/content/drive/My Drive/Assignment_1_Facial_Keypoints/data_load.py:40: FutureWarning: Method .as_matrix will be removed in a future version. Use .values instead.\n",
      "  key_pts = self.key_pts_frame.iloc[idx, 1:].as_matrix()\n"
     ]
    },
    {
     "name": "stdout",
     "output_type": "stream",
     "text": [
      "Epoch: 34, Batch: 30, Avg. Loss: 0.024048161506652833\n"
     ]
    },
    {
     "name": "stderr",
     "output_type": "stream",
     "text": [
      "/content/drive/My Drive/Assignment_1_Facial_Keypoints/data_load.py:40: FutureWarning: Method .as_matrix will be removed in a future version. Use .values instead.\n",
      "  key_pts = self.key_pts_frame.iloc[idx, 1:].as_matrix()\n",
      "/content/drive/My Drive/Assignment_1_Facial_Keypoints/data_load.py:40: FutureWarning: Method .as_matrix will be removed in a future version. Use .values instead.\n",
      "  key_pts = self.key_pts_frame.iloc[idx, 1:].as_matrix()\n",
      "/content/drive/My Drive/Assignment_1_Facial_Keypoints/data_load.py:40: FutureWarning: Method .as_matrix will be removed in a future version. Use .values instead.\n",
      "  key_pts = self.key_pts_frame.iloc[idx, 1:].as_matrix()\n",
      "/content/drive/My Drive/Assignment_1_Facial_Keypoints/data_load.py:40: FutureWarning: Method .as_matrix will be removed in a future version. Use .values instead.\n",
      "  key_pts = self.key_pts_frame.iloc[idx, 1:].as_matrix()\n"
     ]
    },
    {
     "name": "stdout",
     "output_type": "stream",
     "text": [
      "Epoch: 34, Batch: 40, Avg. Loss: 0.028023158479481936\n"
     ]
    },
    {
     "name": "stderr",
     "output_type": "stream",
     "text": [
      "/content/drive/My Drive/Assignment_1_Facial_Keypoints/data_load.py:40: FutureWarning: Method .as_matrix will be removed in a future version. Use .values instead.\n",
      "  key_pts = self.key_pts_frame.iloc[idx, 1:].as_matrix()\n",
      "/content/drive/My Drive/Assignment_1_Facial_Keypoints/data_load.py:40: FutureWarning: Method .as_matrix will be removed in a future version. Use .values instead.\n",
      "  key_pts = self.key_pts_frame.iloc[idx, 1:].as_matrix()\n",
      "/content/drive/My Drive/Assignment_1_Facial_Keypoints/data_load.py:40: FutureWarning: Method .as_matrix will be removed in a future version. Use .values instead.\n",
      "  key_pts = self.key_pts_frame.iloc[idx, 1:].as_matrix()\n",
      "/content/drive/My Drive/Assignment_1_Facial_Keypoints/data_load.py:40: FutureWarning: Method .as_matrix will be removed in a future version. Use .values instead.\n",
      "  key_pts = self.key_pts_frame.iloc[idx, 1:].as_matrix()\n"
     ]
    },
    {
     "name": "stdout",
     "output_type": "stream",
     "text": [
      "Epoch: 34, Batch: 50, Avg. Loss: 0.02667865585535765\n"
     ]
    },
    {
     "name": "stderr",
     "output_type": "stream",
     "text": [
      "/content/drive/My Drive/Assignment_1_Facial_Keypoints/data_load.py:40: FutureWarning: Method .as_matrix will be removed in a future version. Use .values instead.\n",
      "  key_pts = self.key_pts_frame.iloc[idx, 1:].as_matrix()\n",
      "/content/drive/My Drive/Assignment_1_Facial_Keypoints/data_load.py:40: FutureWarning: Method .as_matrix will be removed in a future version. Use .values instead.\n",
      "  key_pts = self.key_pts_frame.iloc[idx, 1:].as_matrix()\n",
      "/content/drive/My Drive/Assignment_1_Facial_Keypoints/data_load.py:40: FutureWarning: Method .as_matrix will be removed in a future version. Use .values instead.\n",
      "  key_pts = self.key_pts_frame.iloc[idx, 1:].as_matrix()\n",
      "/content/drive/My Drive/Assignment_1_Facial_Keypoints/data_load.py:40: FutureWarning: Method .as_matrix will be removed in a future version. Use .values instead.\n",
      "  key_pts = self.key_pts_frame.iloc[idx, 1:].as_matrix()\n",
      "/content/drive/My Drive/Assignment_1_Facial_Keypoints/data_load.py:40: FutureWarning: Method .as_matrix will be removed in a future version. Use .values instead.\n",
      "  key_pts = self.key_pts_frame.iloc[idx, 1:].as_matrix()\n",
      "/content/drive/My Drive/Assignment_1_Facial_Keypoints/data_load.py:40: FutureWarning: Method .as_matrix will be removed in a future version. Use .values instead.\n",
      "  key_pts = self.key_pts_frame.iloc[idx, 1:].as_matrix()\n",
      "/content/drive/My Drive/Assignment_1_Facial_Keypoints/data_load.py:40: FutureWarning: Method .as_matrix will be removed in a future version. Use .values instead.\n",
      "  key_pts = self.key_pts_frame.iloc[idx, 1:].as_matrix()\n",
      "/content/drive/My Drive/Assignment_1_Facial_Keypoints/data_load.py:40: FutureWarning: Method .as_matrix will be removed in a future version. Use .values instead.\n",
      "  key_pts = self.key_pts_frame.iloc[idx, 1:].as_matrix()\n"
     ]
    },
    {
     "name": "stdout",
     "output_type": "stream",
     "text": [
      "Epoch: 35, Batch: 10, Avg. Loss: 0.020060382690280675\n"
     ]
    },
    {
     "name": "stderr",
     "output_type": "stream",
     "text": [
      "/content/drive/My Drive/Assignment_1_Facial_Keypoints/data_load.py:40: FutureWarning: Method .as_matrix will be removed in a future version. Use .values instead.\n",
      "  key_pts = self.key_pts_frame.iloc[idx, 1:].as_matrix()\n",
      "/content/drive/My Drive/Assignment_1_Facial_Keypoints/data_load.py:40: FutureWarning: Method .as_matrix will be removed in a future version. Use .values instead.\n",
      "  key_pts = self.key_pts_frame.iloc[idx, 1:].as_matrix()\n",
      "/content/drive/My Drive/Assignment_1_Facial_Keypoints/data_load.py:40: FutureWarning: Method .as_matrix will be removed in a future version. Use .values instead.\n",
      "  key_pts = self.key_pts_frame.iloc[idx, 1:].as_matrix()\n",
      "/content/drive/My Drive/Assignment_1_Facial_Keypoints/data_load.py:40: FutureWarning: Method .as_matrix will be removed in a future version. Use .values instead.\n",
      "  key_pts = self.key_pts_frame.iloc[idx, 1:].as_matrix()\n"
     ]
    },
    {
     "name": "stdout",
     "output_type": "stream",
     "text": [
      "Epoch: 35, Batch: 20, Avg. Loss: 0.026482160948216916\n"
     ]
    },
    {
     "name": "stderr",
     "output_type": "stream",
     "text": [
      "/content/drive/My Drive/Assignment_1_Facial_Keypoints/data_load.py:40: FutureWarning: Method .as_matrix will be removed in a future version. Use .values instead.\n",
      "  key_pts = self.key_pts_frame.iloc[idx, 1:].as_matrix()\n",
      "/content/drive/My Drive/Assignment_1_Facial_Keypoints/data_load.py:40: FutureWarning: Method .as_matrix will be removed in a future version. Use .values instead.\n",
      "  key_pts = self.key_pts_frame.iloc[idx, 1:].as_matrix()\n",
      "/content/drive/My Drive/Assignment_1_Facial_Keypoints/data_load.py:40: FutureWarning: Method .as_matrix will be removed in a future version. Use .values instead.\n",
      "  key_pts = self.key_pts_frame.iloc[idx, 1:].as_matrix()\n",
      "/content/drive/My Drive/Assignment_1_Facial_Keypoints/data_load.py:40: FutureWarning: Method .as_matrix will be removed in a future version. Use .values instead.\n",
      "  key_pts = self.key_pts_frame.iloc[idx, 1:].as_matrix()\n"
     ]
    },
    {
     "name": "stdout",
     "output_type": "stream",
     "text": [
      "Epoch: 35, Batch: 30, Avg. Loss: 0.016841798555105925\n"
     ]
    },
    {
     "name": "stderr",
     "output_type": "stream",
     "text": [
      "/content/drive/My Drive/Assignment_1_Facial_Keypoints/data_load.py:40: FutureWarning: Method .as_matrix will be removed in a future version. Use .values instead.\n",
      "  key_pts = self.key_pts_frame.iloc[idx, 1:].as_matrix()\n",
      "/content/drive/My Drive/Assignment_1_Facial_Keypoints/data_load.py:40: FutureWarning: Method .as_matrix will be removed in a future version. Use .values instead.\n",
      "  key_pts = self.key_pts_frame.iloc[idx, 1:].as_matrix()\n",
      "/content/drive/My Drive/Assignment_1_Facial_Keypoints/data_load.py:40: FutureWarning: Method .as_matrix will be removed in a future version. Use .values instead.\n",
      "  key_pts = self.key_pts_frame.iloc[idx, 1:].as_matrix()\n",
      "/content/drive/My Drive/Assignment_1_Facial_Keypoints/data_load.py:40: FutureWarning: Method .as_matrix will be removed in a future version. Use .values instead.\n",
      "  key_pts = self.key_pts_frame.iloc[idx, 1:].as_matrix()\n"
     ]
    },
    {
     "name": "stdout",
     "output_type": "stream",
     "text": [
      "Epoch: 35, Batch: 40, Avg. Loss: 0.017778258211910723\n"
     ]
    },
    {
     "name": "stderr",
     "output_type": "stream",
     "text": [
      "/content/drive/My Drive/Assignment_1_Facial_Keypoints/data_load.py:40: FutureWarning: Method .as_matrix will be removed in a future version. Use .values instead.\n",
      "  key_pts = self.key_pts_frame.iloc[idx, 1:].as_matrix()\n",
      "/content/drive/My Drive/Assignment_1_Facial_Keypoints/data_load.py:40: FutureWarning: Method .as_matrix will be removed in a future version. Use .values instead.\n",
      "  key_pts = self.key_pts_frame.iloc[idx, 1:].as_matrix()\n",
      "/content/drive/My Drive/Assignment_1_Facial_Keypoints/data_load.py:40: FutureWarning: Method .as_matrix will be removed in a future version. Use .values instead.\n",
      "  key_pts = self.key_pts_frame.iloc[idx, 1:].as_matrix()\n",
      "/content/drive/My Drive/Assignment_1_Facial_Keypoints/data_load.py:40: FutureWarning: Method .as_matrix will be removed in a future version. Use .values instead.\n",
      "  key_pts = self.key_pts_frame.iloc[idx, 1:].as_matrix()\n"
     ]
    },
    {
     "name": "stdout",
     "output_type": "stream",
     "text": [
      "Epoch: 35, Batch: 50, Avg. Loss: 0.01918227020651102\n"
     ]
    },
    {
     "name": "stderr",
     "output_type": "stream",
     "text": [
      "/content/drive/My Drive/Assignment_1_Facial_Keypoints/data_load.py:40: FutureWarning: Method .as_matrix will be removed in a future version. Use .values instead.\n",
      "  key_pts = self.key_pts_frame.iloc[idx, 1:].as_matrix()\n",
      "/content/drive/My Drive/Assignment_1_Facial_Keypoints/data_load.py:40: FutureWarning: Method .as_matrix will be removed in a future version. Use .values instead.\n",
      "  key_pts = self.key_pts_frame.iloc[idx, 1:].as_matrix()\n",
      "/content/drive/My Drive/Assignment_1_Facial_Keypoints/data_load.py:40: FutureWarning: Method .as_matrix will be removed in a future version. Use .values instead.\n",
      "  key_pts = self.key_pts_frame.iloc[idx, 1:].as_matrix()\n",
      "/content/drive/My Drive/Assignment_1_Facial_Keypoints/data_load.py:40: FutureWarning: Method .as_matrix will be removed in a future version. Use .values instead.\n",
      "  key_pts = self.key_pts_frame.iloc[idx, 1:].as_matrix()\n",
      "/content/drive/My Drive/Assignment_1_Facial_Keypoints/data_load.py:40: FutureWarning: Method .as_matrix will be removed in a future version. Use .values instead.\n",
      "  key_pts = self.key_pts_frame.iloc[idx, 1:].as_matrix()\n",
      "/content/drive/My Drive/Assignment_1_Facial_Keypoints/data_load.py:40: FutureWarning: Method .as_matrix will be removed in a future version. Use .values instead.\n",
      "  key_pts = self.key_pts_frame.iloc[idx, 1:].as_matrix()\n",
      "/content/drive/My Drive/Assignment_1_Facial_Keypoints/data_load.py:40: FutureWarning: Method .as_matrix will be removed in a future version. Use .values instead.\n",
      "  key_pts = self.key_pts_frame.iloc[idx, 1:].as_matrix()\n",
      "/content/drive/My Drive/Assignment_1_Facial_Keypoints/data_load.py:40: FutureWarning: Method .as_matrix will be removed in a future version. Use .values instead.\n",
      "  key_pts = self.key_pts_frame.iloc[idx, 1:].as_matrix()\n"
     ]
    },
    {
     "name": "stdout",
     "output_type": "stream",
     "text": [
      "Epoch: 36, Batch: 10, Avg. Loss: 0.0199315226636827\n"
     ]
    },
    {
     "name": "stderr",
     "output_type": "stream",
     "text": [
      "/content/drive/My Drive/Assignment_1_Facial_Keypoints/data_load.py:40: FutureWarning: Method .as_matrix will be removed in a future version. Use .values instead.\n",
      "  key_pts = self.key_pts_frame.iloc[idx, 1:].as_matrix()\n",
      "/content/drive/My Drive/Assignment_1_Facial_Keypoints/data_load.py:40: FutureWarning: Method .as_matrix will be removed in a future version. Use .values instead.\n",
      "  key_pts = self.key_pts_frame.iloc[idx, 1:].as_matrix()\n",
      "/content/drive/My Drive/Assignment_1_Facial_Keypoints/data_load.py:40: FutureWarning: Method .as_matrix will be removed in a future version. Use .values instead.\n",
      "  key_pts = self.key_pts_frame.iloc[idx, 1:].as_matrix()\n",
      "/content/drive/My Drive/Assignment_1_Facial_Keypoints/data_load.py:40: FutureWarning: Method .as_matrix will be removed in a future version. Use .values instead.\n",
      "  key_pts = self.key_pts_frame.iloc[idx, 1:].as_matrix()\n"
     ]
    },
    {
     "name": "stdout",
     "output_type": "stream",
     "text": [
      "Epoch: 36, Batch: 20, Avg. Loss: 0.014448046311736107\n"
     ]
    },
    {
     "name": "stderr",
     "output_type": "stream",
     "text": [
      "/content/drive/My Drive/Assignment_1_Facial_Keypoints/data_load.py:40: FutureWarning: Method .as_matrix will be removed in a future version. Use .values instead.\n",
      "  key_pts = self.key_pts_frame.iloc[idx, 1:].as_matrix()\n",
      "/content/drive/My Drive/Assignment_1_Facial_Keypoints/data_load.py:40: FutureWarning: Method .as_matrix will be removed in a future version. Use .values instead.\n",
      "  key_pts = self.key_pts_frame.iloc[idx, 1:].as_matrix()\n",
      "/content/drive/My Drive/Assignment_1_Facial_Keypoints/data_load.py:40: FutureWarning: Method .as_matrix will be removed in a future version. Use .values instead.\n",
      "  key_pts = self.key_pts_frame.iloc[idx, 1:].as_matrix()\n",
      "/content/drive/My Drive/Assignment_1_Facial_Keypoints/data_load.py:40: FutureWarning: Method .as_matrix will be removed in a future version. Use .values instead.\n",
      "  key_pts = self.key_pts_frame.iloc[idx, 1:].as_matrix()\n"
     ]
    },
    {
     "name": "stdout",
     "output_type": "stream",
     "text": [
      "Epoch: 36, Batch: 30, Avg. Loss: 0.018856119737029074\n"
     ]
    },
    {
     "name": "stderr",
     "output_type": "stream",
     "text": [
      "/content/drive/My Drive/Assignment_1_Facial_Keypoints/data_load.py:40: FutureWarning: Method .as_matrix will be removed in a future version. Use .values instead.\n",
      "  key_pts = self.key_pts_frame.iloc[idx, 1:].as_matrix()\n",
      "/content/drive/My Drive/Assignment_1_Facial_Keypoints/data_load.py:40: FutureWarning: Method .as_matrix will be removed in a future version. Use .values instead.\n",
      "  key_pts = self.key_pts_frame.iloc[idx, 1:].as_matrix()\n",
      "/content/drive/My Drive/Assignment_1_Facial_Keypoints/data_load.py:40: FutureWarning: Method .as_matrix will be removed in a future version. Use .values instead.\n",
      "  key_pts = self.key_pts_frame.iloc[idx, 1:].as_matrix()\n",
      "/content/drive/My Drive/Assignment_1_Facial_Keypoints/data_load.py:40: FutureWarning: Method .as_matrix will be removed in a future version. Use .values instead.\n",
      "  key_pts = self.key_pts_frame.iloc[idx, 1:].as_matrix()\n"
     ]
    },
    {
     "name": "stdout",
     "output_type": "stream",
     "text": [
      "Epoch: 36, Batch: 40, Avg. Loss: 0.014813822321593761\n"
     ]
    },
    {
     "name": "stderr",
     "output_type": "stream",
     "text": [
      "/content/drive/My Drive/Assignment_1_Facial_Keypoints/data_load.py:40: FutureWarning: Method .as_matrix will be removed in a future version. Use .values instead.\n",
      "  key_pts = self.key_pts_frame.iloc[idx, 1:].as_matrix()\n",
      "/content/drive/My Drive/Assignment_1_Facial_Keypoints/data_load.py:40: FutureWarning: Method .as_matrix will be removed in a future version. Use .values instead.\n",
      "  key_pts = self.key_pts_frame.iloc[idx, 1:].as_matrix()\n",
      "/content/drive/My Drive/Assignment_1_Facial_Keypoints/data_load.py:40: FutureWarning: Method .as_matrix will be removed in a future version. Use .values instead.\n",
      "  key_pts = self.key_pts_frame.iloc[idx, 1:].as_matrix()\n",
      "/content/drive/My Drive/Assignment_1_Facial_Keypoints/data_load.py:40: FutureWarning: Method .as_matrix will be removed in a future version. Use .values instead.\n",
      "  key_pts = self.key_pts_frame.iloc[idx, 1:].as_matrix()\n"
     ]
    },
    {
     "name": "stdout",
     "output_type": "stream",
     "text": [
      "Epoch: 36, Batch: 50, Avg. Loss: 0.022689842339605092\n"
     ]
    },
    {
     "name": "stderr",
     "output_type": "stream",
     "text": [
      "/content/drive/My Drive/Assignment_1_Facial_Keypoints/data_load.py:40: FutureWarning: Method .as_matrix will be removed in a future version. Use .values instead.\n",
      "  key_pts = self.key_pts_frame.iloc[idx, 1:].as_matrix()\n",
      "/content/drive/My Drive/Assignment_1_Facial_Keypoints/data_load.py:40: FutureWarning: Method .as_matrix will be removed in a future version. Use .values instead.\n",
      "  key_pts = self.key_pts_frame.iloc[idx, 1:].as_matrix()\n",
      "/content/drive/My Drive/Assignment_1_Facial_Keypoints/data_load.py:40: FutureWarning: Method .as_matrix will be removed in a future version. Use .values instead.\n",
      "  key_pts = self.key_pts_frame.iloc[idx, 1:].as_matrix()\n",
      "/content/drive/My Drive/Assignment_1_Facial_Keypoints/data_load.py:40: FutureWarning: Method .as_matrix will be removed in a future version. Use .values instead.\n",
      "  key_pts = self.key_pts_frame.iloc[idx, 1:].as_matrix()\n",
      "/content/drive/My Drive/Assignment_1_Facial_Keypoints/data_load.py:40: FutureWarning: Method .as_matrix will be removed in a future version. Use .values instead.\n",
      "  key_pts = self.key_pts_frame.iloc[idx, 1:].as_matrix()\n",
      "/content/drive/My Drive/Assignment_1_Facial_Keypoints/data_load.py:40: FutureWarning: Method .as_matrix will be removed in a future version. Use .values instead.\n",
      "  key_pts = self.key_pts_frame.iloc[idx, 1:].as_matrix()\n",
      "/content/drive/My Drive/Assignment_1_Facial_Keypoints/data_load.py:40: FutureWarning: Method .as_matrix will be removed in a future version. Use .values instead.\n",
      "  key_pts = self.key_pts_frame.iloc[idx, 1:].as_matrix()\n",
      "/content/drive/My Drive/Assignment_1_Facial_Keypoints/data_load.py:40: FutureWarning: Method .as_matrix will be removed in a future version. Use .values instead.\n",
      "  key_pts = self.key_pts_frame.iloc[idx, 1:].as_matrix()\n"
     ]
    },
    {
     "name": "stdout",
     "output_type": "stream",
     "text": [
      "Epoch: 37, Batch: 10, Avg. Loss: 0.018971263151615857\n"
     ]
    },
    {
     "name": "stderr",
     "output_type": "stream",
     "text": [
      "/content/drive/My Drive/Assignment_1_Facial_Keypoints/data_load.py:40: FutureWarning: Method .as_matrix will be removed in a future version. Use .values instead.\n",
      "  key_pts = self.key_pts_frame.iloc[idx, 1:].as_matrix()\n",
      "/content/drive/My Drive/Assignment_1_Facial_Keypoints/data_load.py:40: FutureWarning: Method .as_matrix will be removed in a future version. Use .values instead.\n",
      "  key_pts = self.key_pts_frame.iloc[idx, 1:].as_matrix()\n",
      "/content/drive/My Drive/Assignment_1_Facial_Keypoints/data_load.py:40: FutureWarning: Method .as_matrix will be removed in a future version. Use .values instead.\n",
      "  key_pts = self.key_pts_frame.iloc[idx, 1:].as_matrix()\n",
      "/content/drive/My Drive/Assignment_1_Facial_Keypoints/data_load.py:40: FutureWarning: Method .as_matrix will be removed in a future version. Use .values instead.\n",
      "  key_pts = self.key_pts_frame.iloc[idx, 1:].as_matrix()\n"
     ]
    },
    {
     "name": "stdout",
     "output_type": "stream",
     "text": [
      "Epoch: 37, Batch: 20, Avg. Loss: 0.016111217346042393\n"
     ]
    },
    {
     "name": "stderr",
     "output_type": "stream",
     "text": [
      "/content/drive/My Drive/Assignment_1_Facial_Keypoints/data_load.py:40: FutureWarning: Method .as_matrix will be removed in a future version. Use .values instead.\n",
      "  key_pts = self.key_pts_frame.iloc[idx, 1:].as_matrix()\n",
      "/content/drive/My Drive/Assignment_1_Facial_Keypoints/data_load.py:40: FutureWarning: Method .as_matrix will be removed in a future version. Use .values instead.\n",
      "  key_pts = self.key_pts_frame.iloc[idx, 1:].as_matrix()\n",
      "/content/drive/My Drive/Assignment_1_Facial_Keypoints/data_load.py:40: FutureWarning: Method .as_matrix will be removed in a future version. Use .values instead.\n",
      "  key_pts = self.key_pts_frame.iloc[idx, 1:].as_matrix()\n",
      "/content/drive/My Drive/Assignment_1_Facial_Keypoints/data_load.py:40: FutureWarning: Method .as_matrix will be removed in a future version. Use .values instead.\n",
      "  key_pts = self.key_pts_frame.iloc[idx, 1:].as_matrix()\n"
     ]
    },
    {
     "name": "stdout",
     "output_type": "stream",
     "text": [
      "Epoch: 37, Batch: 30, Avg. Loss: 0.018101663142442704\n"
     ]
    },
    {
     "name": "stderr",
     "output_type": "stream",
     "text": [
      "/content/drive/My Drive/Assignment_1_Facial_Keypoints/data_load.py:40: FutureWarning: Method .as_matrix will be removed in a future version. Use .values instead.\n",
      "  key_pts = self.key_pts_frame.iloc[idx, 1:].as_matrix()\n",
      "/content/drive/My Drive/Assignment_1_Facial_Keypoints/data_load.py:40: FutureWarning: Method .as_matrix will be removed in a future version. Use .values instead.\n",
      "  key_pts = self.key_pts_frame.iloc[idx, 1:].as_matrix()\n",
      "/content/drive/My Drive/Assignment_1_Facial_Keypoints/data_load.py:40: FutureWarning: Method .as_matrix will be removed in a future version. Use .values instead.\n",
      "  key_pts = self.key_pts_frame.iloc[idx, 1:].as_matrix()\n",
      "/content/drive/My Drive/Assignment_1_Facial_Keypoints/data_load.py:40: FutureWarning: Method .as_matrix will be removed in a future version. Use .values instead.\n",
      "  key_pts = self.key_pts_frame.iloc[idx, 1:].as_matrix()\n"
     ]
    },
    {
     "name": "stdout",
     "output_type": "stream",
     "text": [
      "Epoch: 37, Batch: 40, Avg. Loss: 0.018309979047626258\n"
     ]
    },
    {
     "name": "stderr",
     "output_type": "stream",
     "text": [
      "/content/drive/My Drive/Assignment_1_Facial_Keypoints/data_load.py:40: FutureWarning: Method .as_matrix will be removed in a future version. Use .values instead.\n",
      "  key_pts = self.key_pts_frame.iloc[idx, 1:].as_matrix()\n",
      "/content/drive/My Drive/Assignment_1_Facial_Keypoints/data_load.py:40: FutureWarning: Method .as_matrix will be removed in a future version. Use .values instead.\n",
      "  key_pts = self.key_pts_frame.iloc[idx, 1:].as_matrix()\n",
      "/content/drive/My Drive/Assignment_1_Facial_Keypoints/data_load.py:40: FutureWarning: Method .as_matrix will be removed in a future version. Use .values instead.\n",
      "  key_pts = self.key_pts_frame.iloc[idx, 1:].as_matrix()\n",
      "/content/drive/My Drive/Assignment_1_Facial_Keypoints/data_load.py:40: FutureWarning: Method .as_matrix will be removed in a future version. Use .values instead.\n",
      "  key_pts = self.key_pts_frame.iloc[idx, 1:].as_matrix()\n"
     ]
    },
    {
     "name": "stdout",
     "output_type": "stream",
     "text": [
      "Epoch: 37, Batch: 50, Avg. Loss: 0.01596984202042222\n"
     ]
    },
    {
     "name": "stderr",
     "output_type": "stream",
     "text": [
      "/content/drive/My Drive/Assignment_1_Facial_Keypoints/data_load.py:40: FutureWarning: Method .as_matrix will be removed in a future version. Use .values instead.\n",
      "  key_pts = self.key_pts_frame.iloc[idx, 1:].as_matrix()\n",
      "/content/drive/My Drive/Assignment_1_Facial_Keypoints/data_load.py:40: FutureWarning: Method .as_matrix will be removed in a future version. Use .values instead.\n",
      "  key_pts = self.key_pts_frame.iloc[idx, 1:].as_matrix()\n",
      "/content/drive/My Drive/Assignment_1_Facial_Keypoints/data_load.py:40: FutureWarning: Method .as_matrix will be removed in a future version. Use .values instead.\n",
      "  key_pts = self.key_pts_frame.iloc[idx, 1:].as_matrix()\n",
      "/content/drive/My Drive/Assignment_1_Facial_Keypoints/data_load.py:40: FutureWarning: Method .as_matrix will be removed in a future version. Use .values instead.\n",
      "  key_pts = self.key_pts_frame.iloc[idx, 1:].as_matrix()\n",
      "/content/drive/My Drive/Assignment_1_Facial_Keypoints/data_load.py:40: FutureWarning: Method .as_matrix will be removed in a future version. Use .values instead.\n",
      "  key_pts = self.key_pts_frame.iloc[idx, 1:].as_matrix()\n",
      "/content/drive/My Drive/Assignment_1_Facial_Keypoints/data_load.py:40: FutureWarning: Method .as_matrix will be removed in a future version. Use .values instead.\n",
      "  key_pts = self.key_pts_frame.iloc[idx, 1:].as_matrix()\n",
      "/content/drive/My Drive/Assignment_1_Facial_Keypoints/data_load.py:40: FutureWarning: Method .as_matrix will be removed in a future version. Use .values instead.\n",
      "  key_pts = self.key_pts_frame.iloc[idx, 1:].as_matrix()\n",
      "/content/drive/My Drive/Assignment_1_Facial_Keypoints/data_load.py:40: FutureWarning: Method .as_matrix will be removed in a future version. Use .values instead.\n",
      "  key_pts = self.key_pts_frame.iloc[idx, 1:].as_matrix()\n"
     ]
    },
    {
     "name": "stdout",
     "output_type": "stream",
     "text": [
      "Epoch: 38, Batch: 10, Avg. Loss: 0.017607931699603795\n"
     ]
    },
    {
     "name": "stderr",
     "output_type": "stream",
     "text": [
      "/content/drive/My Drive/Assignment_1_Facial_Keypoints/data_load.py:40: FutureWarning: Method .as_matrix will be removed in a future version. Use .values instead.\n",
      "  key_pts = self.key_pts_frame.iloc[idx, 1:].as_matrix()\n",
      "/content/drive/My Drive/Assignment_1_Facial_Keypoints/data_load.py:40: FutureWarning: Method .as_matrix will be removed in a future version. Use .values instead.\n",
      "  key_pts = self.key_pts_frame.iloc[idx, 1:].as_matrix()\n",
      "/content/drive/My Drive/Assignment_1_Facial_Keypoints/data_load.py:40: FutureWarning: Method .as_matrix will be removed in a future version. Use .values instead.\n",
      "  key_pts = self.key_pts_frame.iloc[idx, 1:].as_matrix()\n",
      "/content/drive/My Drive/Assignment_1_Facial_Keypoints/data_load.py:40: FutureWarning: Method .as_matrix will be removed in a future version. Use .values instead.\n",
      "  key_pts = self.key_pts_frame.iloc[idx, 1:].as_matrix()\n"
     ]
    },
    {
     "name": "stdout",
     "output_type": "stream",
     "text": [
      "Epoch: 38, Batch: 20, Avg. Loss: 0.019058199133723974\n"
     ]
    },
    {
     "name": "stderr",
     "output_type": "stream",
     "text": [
      "/content/drive/My Drive/Assignment_1_Facial_Keypoints/data_load.py:40: FutureWarning: Method .as_matrix will be removed in a future version. Use .values instead.\n",
      "  key_pts = self.key_pts_frame.iloc[idx, 1:].as_matrix()\n",
      "/content/drive/My Drive/Assignment_1_Facial_Keypoints/data_load.py:40: FutureWarning: Method .as_matrix will be removed in a future version. Use .values instead.\n",
      "  key_pts = self.key_pts_frame.iloc[idx, 1:].as_matrix()\n",
      "/content/drive/My Drive/Assignment_1_Facial_Keypoints/data_load.py:40: FutureWarning: Method .as_matrix will be removed in a future version. Use .values instead.\n",
      "  key_pts = self.key_pts_frame.iloc[idx, 1:].as_matrix()\n",
      "/content/drive/My Drive/Assignment_1_Facial_Keypoints/data_load.py:40: FutureWarning: Method .as_matrix will be removed in a future version. Use .values instead.\n",
      "  key_pts = self.key_pts_frame.iloc[idx, 1:].as_matrix()\n"
     ]
    },
    {
     "name": "stdout",
     "output_type": "stream",
     "text": [
      "Epoch: 38, Batch: 30, Avg. Loss: 0.016185732278972863\n"
     ]
    },
    {
     "name": "stderr",
     "output_type": "stream",
     "text": [
      "/content/drive/My Drive/Assignment_1_Facial_Keypoints/data_load.py:40: FutureWarning: Method .as_matrix will be removed in a future version. Use .values instead.\n",
      "  key_pts = self.key_pts_frame.iloc[idx, 1:].as_matrix()\n",
      "/content/drive/My Drive/Assignment_1_Facial_Keypoints/data_load.py:40: FutureWarning: Method .as_matrix will be removed in a future version. Use .values instead.\n",
      "  key_pts = self.key_pts_frame.iloc[idx, 1:].as_matrix()\n",
      "/content/drive/My Drive/Assignment_1_Facial_Keypoints/data_load.py:40: FutureWarning: Method .as_matrix will be removed in a future version. Use .values instead.\n",
      "  key_pts = self.key_pts_frame.iloc[idx, 1:].as_matrix()\n",
      "/content/drive/My Drive/Assignment_1_Facial_Keypoints/data_load.py:40: FutureWarning: Method .as_matrix will be removed in a future version. Use .values instead.\n",
      "  key_pts = self.key_pts_frame.iloc[idx, 1:].as_matrix()\n"
     ]
    },
    {
     "name": "stdout",
     "output_type": "stream",
     "text": [
      "Epoch: 38, Batch: 40, Avg. Loss: 0.024855494126677515\n"
     ]
    },
    {
     "name": "stderr",
     "output_type": "stream",
     "text": [
      "/content/drive/My Drive/Assignment_1_Facial_Keypoints/data_load.py:40: FutureWarning: Method .as_matrix will be removed in a future version. Use .values instead.\n",
      "  key_pts = self.key_pts_frame.iloc[idx, 1:].as_matrix()\n",
      "/content/drive/My Drive/Assignment_1_Facial_Keypoints/data_load.py:40: FutureWarning: Method .as_matrix will be removed in a future version. Use .values instead.\n",
      "  key_pts = self.key_pts_frame.iloc[idx, 1:].as_matrix()\n",
      "/content/drive/My Drive/Assignment_1_Facial_Keypoints/data_load.py:40: FutureWarning: Method .as_matrix will be removed in a future version. Use .values instead.\n",
      "  key_pts = self.key_pts_frame.iloc[idx, 1:].as_matrix()\n",
      "/content/drive/My Drive/Assignment_1_Facial_Keypoints/data_load.py:40: FutureWarning: Method .as_matrix will be removed in a future version. Use .values instead.\n",
      "  key_pts = self.key_pts_frame.iloc[idx, 1:].as_matrix()\n"
     ]
    },
    {
     "name": "stdout",
     "output_type": "stream",
     "text": [
      "Epoch: 38, Batch: 50, Avg. Loss: 0.019124699663370846\n"
     ]
    },
    {
     "name": "stderr",
     "output_type": "stream",
     "text": [
      "/content/drive/My Drive/Assignment_1_Facial_Keypoints/data_load.py:40: FutureWarning: Method .as_matrix will be removed in a future version. Use .values instead.\n",
      "  key_pts = self.key_pts_frame.iloc[idx, 1:].as_matrix()\n",
      "/content/drive/My Drive/Assignment_1_Facial_Keypoints/data_load.py:40: FutureWarning: Method .as_matrix will be removed in a future version. Use .values instead.\n",
      "  key_pts = self.key_pts_frame.iloc[idx, 1:].as_matrix()\n",
      "/content/drive/My Drive/Assignment_1_Facial_Keypoints/data_load.py:40: FutureWarning: Method .as_matrix will be removed in a future version. Use .values instead.\n",
      "  key_pts = self.key_pts_frame.iloc[idx, 1:].as_matrix()\n",
      "/content/drive/My Drive/Assignment_1_Facial_Keypoints/data_load.py:40: FutureWarning: Method .as_matrix will be removed in a future version. Use .values instead.\n",
      "  key_pts = self.key_pts_frame.iloc[idx, 1:].as_matrix()\n",
      "/content/drive/My Drive/Assignment_1_Facial_Keypoints/data_load.py:40: FutureWarning: Method .as_matrix will be removed in a future version. Use .values instead.\n",
      "  key_pts = self.key_pts_frame.iloc[idx, 1:].as_matrix()\n",
      "/content/drive/My Drive/Assignment_1_Facial_Keypoints/data_load.py:40: FutureWarning: Method .as_matrix will be removed in a future version. Use .values instead.\n",
      "  key_pts = self.key_pts_frame.iloc[idx, 1:].as_matrix()\n",
      "/content/drive/My Drive/Assignment_1_Facial_Keypoints/data_load.py:40: FutureWarning: Method .as_matrix will be removed in a future version. Use .values instead.\n",
      "  key_pts = self.key_pts_frame.iloc[idx, 1:].as_matrix()\n",
      "/content/drive/My Drive/Assignment_1_Facial_Keypoints/data_load.py:40: FutureWarning: Method .as_matrix will be removed in a future version. Use .values instead.\n",
      "  key_pts = self.key_pts_frame.iloc[idx, 1:].as_matrix()\n"
     ]
    },
    {
     "name": "stdout",
     "output_type": "stream",
     "text": [
      "Epoch: 39, Batch: 10, Avg. Loss: 0.016884907707571985\n"
     ]
    },
    {
     "name": "stderr",
     "output_type": "stream",
     "text": [
      "/content/drive/My Drive/Assignment_1_Facial_Keypoints/data_load.py:40: FutureWarning: Method .as_matrix will be removed in a future version. Use .values instead.\n",
      "  key_pts = self.key_pts_frame.iloc[idx, 1:].as_matrix()\n",
      "/content/drive/My Drive/Assignment_1_Facial_Keypoints/data_load.py:40: FutureWarning: Method .as_matrix will be removed in a future version. Use .values instead.\n",
      "  key_pts = self.key_pts_frame.iloc[idx, 1:].as_matrix()\n",
      "/content/drive/My Drive/Assignment_1_Facial_Keypoints/data_load.py:40: FutureWarning: Method .as_matrix will be removed in a future version. Use .values instead.\n",
      "  key_pts = self.key_pts_frame.iloc[idx, 1:].as_matrix()\n",
      "/content/drive/My Drive/Assignment_1_Facial_Keypoints/data_load.py:40: FutureWarning: Method .as_matrix will be removed in a future version. Use .values instead.\n",
      "  key_pts = self.key_pts_frame.iloc[idx, 1:].as_matrix()\n"
     ]
    },
    {
     "name": "stdout",
     "output_type": "stream",
     "text": [
      "Epoch: 39, Batch: 20, Avg. Loss: 0.014213986694812775\n"
     ]
    },
    {
     "name": "stderr",
     "output_type": "stream",
     "text": [
      "/content/drive/My Drive/Assignment_1_Facial_Keypoints/data_load.py:40: FutureWarning: Method .as_matrix will be removed in a future version. Use .values instead.\n",
      "  key_pts = self.key_pts_frame.iloc[idx, 1:].as_matrix()\n",
      "/content/drive/My Drive/Assignment_1_Facial_Keypoints/data_load.py:40: FutureWarning: Method .as_matrix will be removed in a future version. Use .values instead.\n",
      "  key_pts = self.key_pts_frame.iloc[idx, 1:].as_matrix()\n",
      "/content/drive/My Drive/Assignment_1_Facial_Keypoints/data_load.py:40: FutureWarning: Method .as_matrix will be removed in a future version. Use .values instead.\n",
      "  key_pts = self.key_pts_frame.iloc[idx, 1:].as_matrix()\n",
      "/content/drive/My Drive/Assignment_1_Facial_Keypoints/data_load.py:40: FutureWarning: Method .as_matrix will be removed in a future version. Use .values instead.\n",
      "  key_pts = self.key_pts_frame.iloc[idx, 1:].as_matrix()\n"
     ]
    },
    {
     "name": "stdout",
     "output_type": "stream",
     "text": [
      "Epoch: 39, Batch: 30, Avg. Loss: 0.020708236005157234\n"
     ]
    },
    {
     "name": "stderr",
     "output_type": "stream",
     "text": [
      "/content/drive/My Drive/Assignment_1_Facial_Keypoints/data_load.py:40: FutureWarning: Method .as_matrix will be removed in a future version. Use .values instead.\n",
      "  key_pts = self.key_pts_frame.iloc[idx, 1:].as_matrix()\n",
      "/content/drive/My Drive/Assignment_1_Facial_Keypoints/data_load.py:40: FutureWarning: Method .as_matrix will be removed in a future version. Use .values instead.\n",
      "  key_pts = self.key_pts_frame.iloc[idx, 1:].as_matrix()\n",
      "/content/drive/My Drive/Assignment_1_Facial_Keypoints/data_load.py:40: FutureWarning: Method .as_matrix will be removed in a future version. Use .values instead.\n",
      "  key_pts = self.key_pts_frame.iloc[idx, 1:].as_matrix()\n",
      "/content/drive/My Drive/Assignment_1_Facial_Keypoints/data_load.py:40: FutureWarning: Method .as_matrix will be removed in a future version. Use .values instead.\n",
      "  key_pts = self.key_pts_frame.iloc[idx, 1:].as_matrix()\n"
     ]
    },
    {
     "name": "stdout",
     "output_type": "stream",
     "text": [
      "Epoch: 39, Batch: 40, Avg. Loss: 0.01741821225732565\n"
     ]
    },
    {
     "name": "stderr",
     "output_type": "stream",
     "text": [
      "/content/drive/My Drive/Assignment_1_Facial_Keypoints/data_load.py:40: FutureWarning: Method .as_matrix will be removed in a future version. Use .values instead.\n",
      "  key_pts = self.key_pts_frame.iloc[idx, 1:].as_matrix()\n",
      "/content/drive/My Drive/Assignment_1_Facial_Keypoints/data_load.py:40: FutureWarning: Method .as_matrix will be removed in a future version. Use .values instead.\n",
      "  key_pts = self.key_pts_frame.iloc[idx, 1:].as_matrix()\n",
      "/content/drive/My Drive/Assignment_1_Facial_Keypoints/data_load.py:40: FutureWarning: Method .as_matrix will be removed in a future version. Use .values instead.\n",
      "  key_pts = self.key_pts_frame.iloc[idx, 1:].as_matrix()\n",
      "/content/drive/My Drive/Assignment_1_Facial_Keypoints/data_load.py:40: FutureWarning: Method .as_matrix will be removed in a future version. Use .values instead.\n",
      "  key_pts = self.key_pts_frame.iloc[idx, 1:].as_matrix()\n"
     ]
    },
    {
     "name": "stdout",
     "output_type": "stream",
     "text": [
      "Epoch: 39, Batch: 50, Avg. Loss: 0.016565188858658077\n"
     ]
    },
    {
     "name": "stderr",
     "output_type": "stream",
     "text": [
      "/content/drive/My Drive/Assignment_1_Facial_Keypoints/data_load.py:40: FutureWarning: Method .as_matrix will be removed in a future version. Use .values instead.\n",
      "  key_pts = self.key_pts_frame.iloc[idx, 1:].as_matrix()\n",
      "/content/drive/My Drive/Assignment_1_Facial_Keypoints/data_load.py:40: FutureWarning: Method .as_matrix will be removed in a future version. Use .values instead.\n",
      "  key_pts = self.key_pts_frame.iloc[idx, 1:].as_matrix()\n",
      "/content/drive/My Drive/Assignment_1_Facial_Keypoints/data_load.py:40: FutureWarning: Method .as_matrix will be removed in a future version. Use .values instead.\n",
      "  key_pts = self.key_pts_frame.iloc[idx, 1:].as_matrix()\n",
      "/content/drive/My Drive/Assignment_1_Facial_Keypoints/data_load.py:40: FutureWarning: Method .as_matrix will be removed in a future version. Use .values instead.\n",
      "  key_pts = self.key_pts_frame.iloc[idx, 1:].as_matrix()\n",
      "/content/drive/My Drive/Assignment_1_Facial_Keypoints/data_load.py:40: FutureWarning: Method .as_matrix will be removed in a future version. Use .values instead.\n",
      "  key_pts = self.key_pts_frame.iloc[idx, 1:].as_matrix()\n",
      "/content/drive/My Drive/Assignment_1_Facial_Keypoints/data_load.py:40: FutureWarning: Method .as_matrix will be removed in a future version. Use .values instead.\n",
      "  key_pts = self.key_pts_frame.iloc[idx, 1:].as_matrix()\n",
      "/content/drive/My Drive/Assignment_1_Facial_Keypoints/data_load.py:40: FutureWarning: Method .as_matrix will be removed in a future version. Use .values instead.\n",
      "  key_pts = self.key_pts_frame.iloc[idx, 1:].as_matrix()\n",
      "/content/drive/My Drive/Assignment_1_Facial_Keypoints/data_load.py:40: FutureWarning: Method .as_matrix will be removed in a future version. Use .values instead.\n",
      "  key_pts = self.key_pts_frame.iloc[idx, 1:].as_matrix()\n"
     ]
    },
    {
     "name": "stdout",
     "output_type": "stream",
     "text": [
      "Epoch: 40, Batch: 10, Avg. Loss: 0.014820244535803795\n"
     ]
    },
    {
     "name": "stderr",
     "output_type": "stream",
     "text": [
      "/content/drive/My Drive/Assignment_1_Facial_Keypoints/data_load.py:40: FutureWarning: Method .as_matrix will be removed in a future version. Use .values instead.\n",
      "  key_pts = self.key_pts_frame.iloc[idx, 1:].as_matrix()\n",
      "/content/drive/My Drive/Assignment_1_Facial_Keypoints/data_load.py:40: FutureWarning: Method .as_matrix will be removed in a future version. Use .values instead.\n",
      "  key_pts = self.key_pts_frame.iloc[idx, 1:].as_matrix()\n",
      "/content/drive/My Drive/Assignment_1_Facial_Keypoints/data_load.py:40: FutureWarning: Method .as_matrix will be removed in a future version. Use .values instead.\n",
      "  key_pts = self.key_pts_frame.iloc[idx, 1:].as_matrix()\n",
      "/content/drive/My Drive/Assignment_1_Facial_Keypoints/data_load.py:40: FutureWarning: Method .as_matrix will be removed in a future version. Use .values instead.\n",
      "  key_pts = self.key_pts_frame.iloc[idx, 1:].as_matrix()\n"
     ]
    },
    {
     "name": "stdout",
     "output_type": "stream",
     "text": [
      "Epoch: 40, Batch: 20, Avg. Loss: 0.01496756738051772\n"
     ]
    },
    {
     "name": "stderr",
     "output_type": "stream",
     "text": [
      "/content/drive/My Drive/Assignment_1_Facial_Keypoints/data_load.py:40: FutureWarning: Method .as_matrix will be removed in a future version. Use .values instead.\n",
      "  key_pts = self.key_pts_frame.iloc[idx, 1:].as_matrix()\n",
      "/content/drive/My Drive/Assignment_1_Facial_Keypoints/data_load.py:40: FutureWarning: Method .as_matrix will be removed in a future version. Use .values instead.\n",
      "  key_pts = self.key_pts_frame.iloc[idx, 1:].as_matrix()\n",
      "/content/drive/My Drive/Assignment_1_Facial_Keypoints/data_load.py:40: FutureWarning: Method .as_matrix will be removed in a future version. Use .values instead.\n",
      "  key_pts = self.key_pts_frame.iloc[idx, 1:].as_matrix()\n",
      "/content/drive/My Drive/Assignment_1_Facial_Keypoints/data_load.py:40: FutureWarning: Method .as_matrix will be removed in a future version. Use .values instead.\n",
      "  key_pts = self.key_pts_frame.iloc[idx, 1:].as_matrix()\n"
     ]
    },
    {
     "name": "stdout",
     "output_type": "stream",
     "text": [
      "Epoch: 40, Batch: 30, Avg. Loss: 0.014077916461974382\n"
     ]
    },
    {
     "name": "stderr",
     "output_type": "stream",
     "text": [
      "/content/drive/My Drive/Assignment_1_Facial_Keypoints/data_load.py:40: FutureWarning: Method .as_matrix will be removed in a future version. Use .values instead.\n",
      "  key_pts = self.key_pts_frame.iloc[idx, 1:].as_matrix()\n",
      "/content/drive/My Drive/Assignment_1_Facial_Keypoints/data_load.py:40: FutureWarning: Method .as_matrix will be removed in a future version. Use .values instead.\n",
      "  key_pts = self.key_pts_frame.iloc[idx, 1:].as_matrix()\n",
      "/content/drive/My Drive/Assignment_1_Facial_Keypoints/data_load.py:40: FutureWarning: Method .as_matrix will be removed in a future version. Use .values instead.\n",
      "  key_pts = self.key_pts_frame.iloc[idx, 1:].as_matrix()\n",
      "/content/drive/My Drive/Assignment_1_Facial_Keypoints/data_load.py:40: FutureWarning: Method .as_matrix will be removed in a future version. Use .values instead.\n",
      "  key_pts = self.key_pts_frame.iloc[idx, 1:].as_matrix()\n"
     ]
    },
    {
     "name": "stdout",
     "output_type": "stream",
     "text": [
      "Epoch: 40, Batch: 40, Avg. Loss: 0.015025698579847813\n"
     ]
    },
    {
     "name": "stderr",
     "output_type": "stream",
     "text": [
      "/content/drive/My Drive/Assignment_1_Facial_Keypoints/data_load.py:40: FutureWarning: Method .as_matrix will be removed in a future version. Use .values instead.\n",
      "  key_pts = self.key_pts_frame.iloc[idx, 1:].as_matrix()\n",
      "/content/drive/My Drive/Assignment_1_Facial_Keypoints/data_load.py:40: FutureWarning: Method .as_matrix will be removed in a future version. Use .values instead.\n",
      "  key_pts = self.key_pts_frame.iloc[idx, 1:].as_matrix()\n",
      "/content/drive/My Drive/Assignment_1_Facial_Keypoints/data_load.py:40: FutureWarning: Method .as_matrix will be removed in a future version. Use .values instead.\n",
      "  key_pts = self.key_pts_frame.iloc[idx, 1:].as_matrix()\n",
      "/content/drive/My Drive/Assignment_1_Facial_Keypoints/data_load.py:40: FutureWarning: Method .as_matrix will be removed in a future version. Use .values instead.\n",
      "  key_pts = self.key_pts_frame.iloc[idx, 1:].as_matrix()\n"
     ]
    },
    {
     "name": "stdout",
     "output_type": "stream",
     "text": [
      "Epoch: 40, Batch: 50, Avg. Loss: 0.014614200033247472\n"
     ]
    },
    {
     "name": "stderr",
     "output_type": "stream",
     "text": [
      "/content/drive/My Drive/Assignment_1_Facial_Keypoints/data_load.py:40: FutureWarning: Method .as_matrix will be removed in a future version. Use .values instead.\n",
      "  key_pts = self.key_pts_frame.iloc[idx, 1:].as_matrix()\n",
      "/content/drive/My Drive/Assignment_1_Facial_Keypoints/data_load.py:40: FutureWarning: Method .as_matrix will be removed in a future version. Use .values instead.\n",
      "  key_pts = self.key_pts_frame.iloc[idx, 1:].as_matrix()\n",
      "/content/drive/My Drive/Assignment_1_Facial_Keypoints/data_load.py:40: FutureWarning: Method .as_matrix will be removed in a future version. Use .values instead.\n",
      "  key_pts = self.key_pts_frame.iloc[idx, 1:].as_matrix()\n",
      "/content/drive/My Drive/Assignment_1_Facial_Keypoints/data_load.py:40: FutureWarning: Method .as_matrix will be removed in a future version. Use .values instead.\n",
      "  key_pts = self.key_pts_frame.iloc[idx, 1:].as_matrix()\n",
      "/content/drive/My Drive/Assignment_1_Facial_Keypoints/data_load.py:40: FutureWarning: Method .as_matrix will be removed in a future version. Use .values instead.\n",
      "  key_pts = self.key_pts_frame.iloc[idx, 1:].as_matrix()\n",
      "/content/drive/My Drive/Assignment_1_Facial_Keypoints/data_load.py:40: FutureWarning: Method .as_matrix will be removed in a future version. Use .values instead.\n",
      "  key_pts = self.key_pts_frame.iloc[idx, 1:].as_matrix()\n",
      "/content/drive/My Drive/Assignment_1_Facial_Keypoints/data_load.py:40: FutureWarning: Method .as_matrix will be removed in a future version. Use .values instead.\n",
      "  key_pts = self.key_pts_frame.iloc[idx, 1:].as_matrix()\n",
      "/content/drive/My Drive/Assignment_1_Facial_Keypoints/data_load.py:40: FutureWarning: Method .as_matrix will be removed in a future version. Use .values instead.\n",
      "  key_pts = self.key_pts_frame.iloc[idx, 1:].as_matrix()\n"
     ]
    },
    {
     "name": "stdout",
     "output_type": "stream",
     "text": [
      "Epoch: 41, Batch: 10, Avg. Loss: 0.017602067440748215\n"
     ]
    },
    {
     "name": "stderr",
     "output_type": "stream",
     "text": [
      "/content/drive/My Drive/Assignment_1_Facial_Keypoints/data_load.py:40: FutureWarning: Method .as_matrix will be removed in a future version. Use .values instead.\n",
      "  key_pts = self.key_pts_frame.iloc[idx, 1:].as_matrix()\n",
      "/content/drive/My Drive/Assignment_1_Facial_Keypoints/data_load.py:40: FutureWarning: Method .as_matrix will be removed in a future version. Use .values instead.\n",
      "  key_pts = self.key_pts_frame.iloc[idx, 1:].as_matrix()\n",
      "/content/drive/My Drive/Assignment_1_Facial_Keypoints/data_load.py:40: FutureWarning: Method .as_matrix will be removed in a future version. Use .values instead.\n",
      "  key_pts = self.key_pts_frame.iloc[idx, 1:].as_matrix()\n",
      "/content/drive/My Drive/Assignment_1_Facial_Keypoints/data_load.py:40: FutureWarning: Method .as_matrix will be removed in a future version. Use .values instead.\n",
      "  key_pts = self.key_pts_frame.iloc[idx, 1:].as_matrix()\n"
     ]
    },
    {
     "name": "stdout",
     "output_type": "stream",
     "text": [
      "Epoch: 41, Batch: 20, Avg. Loss: 0.016975197196006774\n"
     ]
    },
    {
     "name": "stderr",
     "output_type": "stream",
     "text": [
      "/content/drive/My Drive/Assignment_1_Facial_Keypoints/data_load.py:40: FutureWarning: Method .as_matrix will be removed in a future version. Use .values instead.\n",
      "  key_pts = self.key_pts_frame.iloc[idx, 1:].as_matrix()\n",
      "/content/drive/My Drive/Assignment_1_Facial_Keypoints/data_load.py:40: FutureWarning: Method .as_matrix will be removed in a future version. Use .values instead.\n",
      "  key_pts = self.key_pts_frame.iloc[idx, 1:].as_matrix()\n",
      "/content/drive/My Drive/Assignment_1_Facial_Keypoints/data_load.py:40: FutureWarning: Method .as_matrix will be removed in a future version. Use .values instead.\n",
      "  key_pts = self.key_pts_frame.iloc[idx, 1:].as_matrix()\n",
      "/content/drive/My Drive/Assignment_1_Facial_Keypoints/data_load.py:40: FutureWarning: Method .as_matrix will be removed in a future version. Use .values instead.\n",
      "  key_pts = self.key_pts_frame.iloc[idx, 1:].as_matrix()\n"
     ]
    },
    {
     "name": "stdout",
     "output_type": "stream",
     "text": [
      "Epoch: 41, Batch: 30, Avg. Loss: 0.019504632614552975\n"
     ]
    },
    {
     "name": "stderr",
     "output_type": "stream",
     "text": [
      "/content/drive/My Drive/Assignment_1_Facial_Keypoints/data_load.py:40: FutureWarning: Method .as_matrix will be removed in a future version. Use .values instead.\n",
      "  key_pts = self.key_pts_frame.iloc[idx, 1:].as_matrix()\n",
      "/content/drive/My Drive/Assignment_1_Facial_Keypoints/data_load.py:40: FutureWarning: Method .as_matrix will be removed in a future version. Use .values instead.\n",
      "  key_pts = self.key_pts_frame.iloc[idx, 1:].as_matrix()\n",
      "/content/drive/My Drive/Assignment_1_Facial_Keypoints/data_load.py:40: FutureWarning: Method .as_matrix will be removed in a future version. Use .values instead.\n",
      "  key_pts = self.key_pts_frame.iloc[idx, 1:].as_matrix()\n",
      "/content/drive/My Drive/Assignment_1_Facial_Keypoints/data_load.py:40: FutureWarning: Method .as_matrix will be removed in a future version. Use .values instead.\n",
      "  key_pts = self.key_pts_frame.iloc[idx, 1:].as_matrix()\n"
     ]
    },
    {
     "name": "stdout",
     "output_type": "stream",
     "text": [
      "Epoch: 41, Batch: 40, Avg. Loss: 0.019266571290791033\n"
     ]
    },
    {
     "name": "stderr",
     "output_type": "stream",
     "text": [
      "/content/drive/My Drive/Assignment_1_Facial_Keypoints/data_load.py:40: FutureWarning: Method .as_matrix will be removed in a future version. Use .values instead.\n",
      "  key_pts = self.key_pts_frame.iloc[idx, 1:].as_matrix()\n",
      "/content/drive/My Drive/Assignment_1_Facial_Keypoints/data_load.py:40: FutureWarning: Method .as_matrix will be removed in a future version. Use .values instead.\n",
      "  key_pts = self.key_pts_frame.iloc[idx, 1:].as_matrix()\n",
      "/content/drive/My Drive/Assignment_1_Facial_Keypoints/data_load.py:40: FutureWarning: Method .as_matrix will be removed in a future version. Use .values instead.\n",
      "  key_pts = self.key_pts_frame.iloc[idx, 1:].as_matrix()\n",
      "/content/drive/My Drive/Assignment_1_Facial_Keypoints/data_load.py:40: FutureWarning: Method .as_matrix will be removed in a future version. Use .values instead.\n",
      "  key_pts = self.key_pts_frame.iloc[idx, 1:].as_matrix()\n"
     ]
    },
    {
     "name": "stdout",
     "output_type": "stream",
     "text": [
      "Epoch: 41, Batch: 50, Avg. Loss: 0.015388608537614345\n"
     ]
    },
    {
     "name": "stderr",
     "output_type": "stream",
     "text": [
      "/content/drive/My Drive/Assignment_1_Facial_Keypoints/data_load.py:40: FutureWarning: Method .as_matrix will be removed in a future version. Use .values instead.\n",
      "  key_pts = self.key_pts_frame.iloc[idx, 1:].as_matrix()\n",
      "/content/drive/My Drive/Assignment_1_Facial_Keypoints/data_load.py:40: FutureWarning: Method .as_matrix will be removed in a future version. Use .values instead.\n",
      "  key_pts = self.key_pts_frame.iloc[idx, 1:].as_matrix()\n",
      "/content/drive/My Drive/Assignment_1_Facial_Keypoints/data_load.py:40: FutureWarning: Method .as_matrix will be removed in a future version. Use .values instead.\n",
      "  key_pts = self.key_pts_frame.iloc[idx, 1:].as_matrix()\n",
      "/content/drive/My Drive/Assignment_1_Facial_Keypoints/data_load.py:40: FutureWarning: Method .as_matrix will be removed in a future version. Use .values instead.\n",
      "  key_pts = self.key_pts_frame.iloc[idx, 1:].as_matrix()\n",
      "/content/drive/My Drive/Assignment_1_Facial_Keypoints/data_load.py:40: FutureWarning: Method .as_matrix will be removed in a future version. Use .values instead.\n",
      "  key_pts = self.key_pts_frame.iloc[idx, 1:].as_matrix()\n",
      "/content/drive/My Drive/Assignment_1_Facial_Keypoints/data_load.py:40: FutureWarning: Method .as_matrix will be removed in a future version. Use .values instead.\n",
      "  key_pts = self.key_pts_frame.iloc[idx, 1:].as_matrix()\n",
      "/content/drive/My Drive/Assignment_1_Facial_Keypoints/data_load.py:40: FutureWarning: Method .as_matrix will be removed in a future version. Use .values instead.\n",
      "  key_pts = self.key_pts_frame.iloc[idx, 1:].as_matrix()\n",
      "/content/drive/My Drive/Assignment_1_Facial_Keypoints/data_load.py:40: FutureWarning: Method .as_matrix will be removed in a future version. Use .values instead.\n",
      "  key_pts = self.key_pts_frame.iloc[idx, 1:].as_matrix()\n"
     ]
    },
    {
     "name": "stdout",
     "output_type": "stream",
     "text": [
      "Epoch: 42, Batch: 10, Avg. Loss: 0.015428720694035291\n"
     ]
    },
    {
     "name": "stderr",
     "output_type": "stream",
     "text": [
      "/content/drive/My Drive/Assignment_1_Facial_Keypoints/data_load.py:40: FutureWarning: Method .as_matrix will be removed in a future version. Use .values instead.\n",
      "  key_pts = self.key_pts_frame.iloc[idx, 1:].as_matrix()\n",
      "/content/drive/My Drive/Assignment_1_Facial_Keypoints/data_load.py:40: FutureWarning: Method .as_matrix will be removed in a future version. Use .values instead.\n",
      "  key_pts = self.key_pts_frame.iloc[idx, 1:].as_matrix()\n",
      "/content/drive/My Drive/Assignment_1_Facial_Keypoints/data_load.py:40: FutureWarning: Method .as_matrix will be removed in a future version. Use .values instead.\n",
      "  key_pts = self.key_pts_frame.iloc[idx, 1:].as_matrix()\n",
      "/content/drive/My Drive/Assignment_1_Facial_Keypoints/data_load.py:40: FutureWarning: Method .as_matrix will be removed in a future version. Use .values instead.\n",
      "  key_pts = self.key_pts_frame.iloc[idx, 1:].as_matrix()\n"
     ]
    },
    {
     "name": "stdout",
     "output_type": "stream",
     "text": [
      "Epoch: 42, Batch: 20, Avg. Loss: 0.01549922488629818\n"
     ]
    },
    {
     "name": "stderr",
     "output_type": "stream",
     "text": [
      "/content/drive/My Drive/Assignment_1_Facial_Keypoints/data_load.py:40: FutureWarning: Method .as_matrix will be removed in a future version. Use .values instead.\n",
      "  key_pts = self.key_pts_frame.iloc[idx, 1:].as_matrix()\n",
      "/content/drive/My Drive/Assignment_1_Facial_Keypoints/data_load.py:40: FutureWarning: Method .as_matrix will be removed in a future version. Use .values instead.\n",
      "  key_pts = self.key_pts_frame.iloc[idx, 1:].as_matrix()\n",
      "/content/drive/My Drive/Assignment_1_Facial_Keypoints/data_load.py:40: FutureWarning: Method .as_matrix will be removed in a future version. Use .values instead.\n",
      "  key_pts = self.key_pts_frame.iloc[idx, 1:].as_matrix()\n",
      "/content/drive/My Drive/Assignment_1_Facial_Keypoints/data_load.py:40: FutureWarning: Method .as_matrix will be removed in a future version. Use .values instead.\n",
      "  key_pts = self.key_pts_frame.iloc[idx, 1:].as_matrix()\n"
     ]
    },
    {
     "name": "stdout",
     "output_type": "stream",
     "text": [
      "Epoch: 42, Batch: 30, Avg. Loss: 0.014062068052589893\n"
     ]
    },
    {
     "name": "stderr",
     "output_type": "stream",
     "text": [
      "/content/drive/My Drive/Assignment_1_Facial_Keypoints/data_load.py:40: FutureWarning: Method .as_matrix will be removed in a future version. Use .values instead.\n",
      "  key_pts = self.key_pts_frame.iloc[idx, 1:].as_matrix()\n",
      "/content/drive/My Drive/Assignment_1_Facial_Keypoints/data_load.py:40: FutureWarning: Method .as_matrix will be removed in a future version. Use .values instead.\n",
      "  key_pts = self.key_pts_frame.iloc[idx, 1:].as_matrix()\n",
      "/content/drive/My Drive/Assignment_1_Facial_Keypoints/data_load.py:40: FutureWarning: Method .as_matrix will be removed in a future version. Use .values instead.\n",
      "  key_pts = self.key_pts_frame.iloc[idx, 1:].as_matrix()\n",
      "/content/drive/My Drive/Assignment_1_Facial_Keypoints/data_load.py:40: FutureWarning: Method .as_matrix will be removed in a future version. Use .values instead.\n",
      "  key_pts = self.key_pts_frame.iloc[idx, 1:].as_matrix()\n"
     ]
    },
    {
     "name": "stdout",
     "output_type": "stream",
     "text": [
      "Epoch: 42, Batch: 40, Avg. Loss: 0.014192647021263837\n"
     ]
    },
    {
     "name": "stderr",
     "output_type": "stream",
     "text": [
      "/content/drive/My Drive/Assignment_1_Facial_Keypoints/data_load.py:40: FutureWarning: Method .as_matrix will be removed in a future version. Use .values instead.\n",
      "  key_pts = self.key_pts_frame.iloc[idx, 1:].as_matrix()\n",
      "/content/drive/My Drive/Assignment_1_Facial_Keypoints/data_load.py:40: FutureWarning: Method .as_matrix will be removed in a future version. Use .values instead.\n",
      "  key_pts = self.key_pts_frame.iloc[idx, 1:].as_matrix()\n",
      "/content/drive/My Drive/Assignment_1_Facial_Keypoints/data_load.py:40: FutureWarning: Method .as_matrix will be removed in a future version. Use .values instead.\n",
      "  key_pts = self.key_pts_frame.iloc[idx, 1:].as_matrix()\n",
      "/content/drive/My Drive/Assignment_1_Facial_Keypoints/data_load.py:40: FutureWarning: Method .as_matrix will be removed in a future version. Use .values instead.\n",
      "  key_pts = self.key_pts_frame.iloc[idx, 1:].as_matrix()\n"
     ]
    },
    {
     "name": "stdout",
     "output_type": "stream",
     "text": [
      "Epoch: 42, Batch: 50, Avg. Loss: 0.012143687438219785\n"
     ]
    },
    {
     "name": "stderr",
     "output_type": "stream",
     "text": [
      "/content/drive/My Drive/Assignment_1_Facial_Keypoints/data_load.py:40: FutureWarning: Method .as_matrix will be removed in a future version. Use .values instead.\n",
      "  key_pts = self.key_pts_frame.iloc[idx, 1:].as_matrix()\n",
      "/content/drive/My Drive/Assignment_1_Facial_Keypoints/data_load.py:40: FutureWarning: Method .as_matrix will be removed in a future version. Use .values instead.\n",
      "  key_pts = self.key_pts_frame.iloc[idx, 1:].as_matrix()\n",
      "/content/drive/My Drive/Assignment_1_Facial_Keypoints/data_load.py:40: FutureWarning: Method .as_matrix will be removed in a future version. Use .values instead.\n",
      "  key_pts = self.key_pts_frame.iloc[idx, 1:].as_matrix()\n",
      "/content/drive/My Drive/Assignment_1_Facial_Keypoints/data_load.py:40: FutureWarning: Method .as_matrix will be removed in a future version. Use .values instead.\n",
      "  key_pts = self.key_pts_frame.iloc[idx, 1:].as_matrix()\n",
      "/content/drive/My Drive/Assignment_1_Facial_Keypoints/data_load.py:40: FutureWarning: Method .as_matrix will be removed in a future version. Use .values instead.\n",
      "  key_pts = self.key_pts_frame.iloc[idx, 1:].as_matrix()\n",
      "/content/drive/My Drive/Assignment_1_Facial_Keypoints/data_load.py:40: FutureWarning: Method .as_matrix will be removed in a future version. Use .values instead.\n",
      "  key_pts = self.key_pts_frame.iloc[idx, 1:].as_matrix()\n",
      "/content/drive/My Drive/Assignment_1_Facial_Keypoints/data_load.py:40: FutureWarning: Method .as_matrix will be removed in a future version. Use .values instead.\n",
      "  key_pts = self.key_pts_frame.iloc[idx, 1:].as_matrix()\n",
      "/content/drive/My Drive/Assignment_1_Facial_Keypoints/data_load.py:40: FutureWarning: Method .as_matrix will be removed in a future version. Use .values instead.\n",
      "  key_pts = self.key_pts_frame.iloc[idx, 1:].as_matrix()\n"
     ]
    },
    {
     "name": "stdout",
     "output_type": "stream",
     "text": [
      "Epoch: 43, Batch: 10, Avg. Loss: 0.01752125285565853\n"
     ]
    },
    {
     "name": "stderr",
     "output_type": "stream",
     "text": [
      "/content/drive/My Drive/Assignment_1_Facial_Keypoints/data_load.py:40: FutureWarning: Method .as_matrix will be removed in a future version. Use .values instead.\n",
      "  key_pts = self.key_pts_frame.iloc[idx, 1:].as_matrix()\n",
      "/content/drive/My Drive/Assignment_1_Facial_Keypoints/data_load.py:40: FutureWarning: Method .as_matrix will be removed in a future version. Use .values instead.\n",
      "  key_pts = self.key_pts_frame.iloc[idx, 1:].as_matrix()\n",
      "/content/drive/My Drive/Assignment_1_Facial_Keypoints/data_load.py:40: FutureWarning: Method .as_matrix will be removed in a future version. Use .values instead.\n",
      "  key_pts = self.key_pts_frame.iloc[idx, 1:].as_matrix()\n",
      "/content/drive/My Drive/Assignment_1_Facial_Keypoints/data_load.py:40: FutureWarning: Method .as_matrix will be removed in a future version. Use .values instead.\n",
      "  key_pts = self.key_pts_frame.iloc[idx, 1:].as_matrix()\n"
     ]
    },
    {
     "name": "stdout",
     "output_type": "stream",
     "text": [
      "Epoch: 43, Batch: 20, Avg. Loss: 0.016952382680028678\n"
     ]
    },
    {
     "name": "stderr",
     "output_type": "stream",
     "text": [
      "/content/drive/My Drive/Assignment_1_Facial_Keypoints/data_load.py:40: FutureWarning: Method .as_matrix will be removed in a future version. Use .values instead.\n",
      "  key_pts = self.key_pts_frame.iloc[idx, 1:].as_matrix()\n",
      "/content/drive/My Drive/Assignment_1_Facial_Keypoints/data_load.py:40: FutureWarning: Method .as_matrix will be removed in a future version. Use .values instead.\n",
      "  key_pts = self.key_pts_frame.iloc[idx, 1:].as_matrix()\n",
      "/content/drive/My Drive/Assignment_1_Facial_Keypoints/data_load.py:40: FutureWarning: Method .as_matrix will be removed in a future version. Use .values instead.\n",
      "  key_pts = self.key_pts_frame.iloc[idx, 1:].as_matrix()\n",
      "/content/drive/My Drive/Assignment_1_Facial_Keypoints/data_load.py:40: FutureWarning: Method .as_matrix will be removed in a future version. Use .values instead.\n",
      "  key_pts = self.key_pts_frame.iloc[idx, 1:].as_matrix()\n"
     ]
    },
    {
     "name": "stdout",
     "output_type": "stream",
     "text": [
      "Epoch: 43, Batch: 30, Avg. Loss: 0.015218779351562262\n"
     ]
    },
    {
     "name": "stderr",
     "output_type": "stream",
     "text": [
      "/content/drive/My Drive/Assignment_1_Facial_Keypoints/data_load.py:40: FutureWarning: Method .as_matrix will be removed in a future version. Use .values instead.\n",
      "  key_pts = self.key_pts_frame.iloc[idx, 1:].as_matrix()\n",
      "/content/drive/My Drive/Assignment_1_Facial_Keypoints/data_load.py:40: FutureWarning: Method .as_matrix will be removed in a future version. Use .values instead.\n",
      "  key_pts = self.key_pts_frame.iloc[idx, 1:].as_matrix()\n",
      "/content/drive/My Drive/Assignment_1_Facial_Keypoints/data_load.py:40: FutureWarning: Method .as_matrix will be removed in a future version. Use .values instead.\n",
      "  key_pts = self.key_pts_frame.iloc[idx, 1:].as_matrix()\n",
      "/content/drive/My Drive/Assignment_1_Facial_Keypoints/data_load.py:40: FutureWarning: Method .as_matrix will be removed in a future version. Use .values instead.\n",
      "  key_pts = self.key_pts_frame.iloc[idx, 1:].as_matrix()\n"
     ]
    },
    {
     "name": "stdout",
     "output_type": "stream",
     "text": [
      "Epoch: 43, Batch: 40, Avg. Loss: 0.01761435214430094\n"
     ]
    },
    {
     "name": "stderr",
     "output_type": "stream",
     "text": [
      "/content/drive/My Drive/Assignment_1_Facial_Keypoints/data_load.py:40: FutureWarning: Method .as_matrix will be removed in a future version. Use .values instead.\n",
      "  key_pts = self.key_pts_frame.iloc[idx, 1:].as_matrix()\n",
      "/content/drive/My Drive/Assignment_1_Facial_Keypoints/data_load.py:40: FutureWarning: Method .as_matrix will be removed in a future version. Use .values instead.\n",
      "  key_pts = self.key_pts_frame.iloc[idx, 1:].as_matrix()\n",
      "/content/drive/My Drive/Assignment_1_Facial_Keypoints/data_load.py:40: FutureWarning: Method .as_matrix will be removed in a future version. Use .values instead.\n",
      "  key_pts = self.key_pts_frame.iloc[idx, 1:].as_matrix()\n",
      "/content/drive/My Drive/Assignment_1_Facial_Keypoints/data_load.py:40: FutureWarning: Method .as_matrix will be removed in a future version. Use .values instead.\n",
      "  key_pts = self.key_pts_frame.iloc[idx, 1:].as_matrix()\n"
     ]
    },
    {
     "name": "stdout",
     "output_type": "stream",
     "text": [
      "Epoch: 43, Batch: 50, Avg. Loss: 0.015976371150463818\n"
     ]
    },
    {
     "name": "stderr",
     "output_type": "stream",
     "text": [
      "/content/drive/My Drive/Assignment_1_Facial_Keypoints/data_load.py:40: FutureWarning: Method .as_matrix will be removed in a future version. Use .values instead.\n",
      "  key_pts = self.key_pts_frame.iloc[idx, 1:].as_matrix()\n",
      "/content/drive/My Drive/Assignment_1_Facial_Keypoints/data_load.py:40: FutureWarning: Method .as_matrix will be removed in a future version. Use .values instead.\n",
      "  key_pts = self.key_pts_frame.iloc[idx, 1:].as_matrix()\n",
      "/content/drive/My Drive/Assignment_1_Facial_Keypoints/data_load.py:40: FutureWarning: Method .as_matrix will be removed in a future version. Use .values instead.\n",
      "  key_pts = self.key_pts_frame.iloc[idx, 1:].as_matrix()\n",
      "/content/drive/My Drive/Assignment_1_Facial_Keypoints/data_load.py:40: FutureWarning: Method .as_matrix will be removed in a future version. Use .values instead.\n",
      "  key_pts = self.key_pts_frame.iloc[idx, 1:].as_matrix()\n",
      "/content/drive/My Drive/Assignment_1_Facial_Keypoints/data_load.py:40: FutureWarning: Method .as_matrix will be removed in a future version. Use .values instead.\n",
      "  key_pts = self.key_pts_frame.iloc[idx, 1:].as_matrix()\n",
      "/content/drive/My Drive/Assignment_1_Facial_Keypoints/data_load.py:40: FutureWarning: Method .as_matrix will be removed in a future version. Use .values instead.\n",
      "  key_pts = self.key_pts_frame.iloc[idx, 1:].as_matrix()\n",
      "/content/drive/My Drive/Assignment_1_Facial_Keypoints/data_load.py:40: FutureWarning: Method .as_matrix will be removed in a future version. Use .values instead.\n",
      "  key_pts = self.key_pts_frame.iloc[idx, 1:].as_matrix()\n",
      "/content/drive/My Drive/Assignment_1_Facial_Keypoints/data_load.py:40: FutureWarning: Method .as_matrix will be removed in a future version. Use .values instead.\n",
      "  key_pts = self.key_pts_frame.iloc[idx, 1:].as_matrix()\n"
     ]
    },
    {
     "name": "stdout",
     "output_type": "stream",
     "text": [
      "Epoch: 44, Batch: 10, Avg. Loss: 0.0152282590046525\n"
     ]
    },
    {
     "name": "stderr",
     "output_type": "stream",
     "text": [
      "/content/drive/My Drive/Assignment_1_Facial_Keypoints/data_load.py:40: FutureWarning: Method .as_matrix will be removed in a future version. Use .values instead.\n",
      "  key_pts = self.key_pts_frame.iloc[idx, 1:].as_matrix()\n",
      "/content/drive/My Drive/Assignment_1_Facial_Keypoints/data_load.py:40: FutureWarning: Method .as_matrix will be removed in a future version. Use .values instead.\n",
      "  key_pts = self.key_pts_frame.iloc[idx, 1:].as_matrix()\n",
      "/content/drive/My Drive/Assignment_1_Facial_Keypoints/data_load.py:40: FutureWarning: Method .as_matrix will be removed in a future version. Use .values instead.\n",
      "  key_pts = self.key_pts_frame.iloc[idx, 1:].as_matrix()\n",
      "/content/drive/My Drive/Assignment_1_Facial_Keypoints/data_load.py:40: FutureWarning: Method .as_matrix will be removed in a future version. Use .values instead.\n",
      "  key_pts = self.key_pts_frame.iloc[idx, 1:].as_matrix()\n"
     ]
    },
    {
     "name": "stdout",
     "output_type": "stream",
     "text": [
      "Epoch: 44, Batch: 20, Avg. Loss: 0.018070957250893117\n"
     ]
    },
    {
     "name": "stderr",
     "output_type": "stream",
     "text": [
      "/content/drive/My Drive/Assignment_1_Facial_Keypoints/data_load.py:40: FutureWarning: Method .as_matrix will be removed in a future version. Use .values instead.\n",
      "  key_pts = self.key_pts_frame.iloc[idx, 1:].as_matrix()\n",
      "/content/drive/My Drive/Assignment_1_Facial_Keypoints/data_load.py:40: FutureWarning: Method .as_matrix will be removed in a future version. Use .values instead.\n",
      "  key_pts = self.key_pts_frame.iloc[idx, 1:].as_matrix()\n",
      "/content/drive/My Drive/Assignment_1_Facial_Keypoints/data_load.py:40: FutureWarning: Method .as_matrix will be removed in a future version. Use .values instead.\n",
      "  key_pts = self.key_pts_frame.iloc[idx, 1:].as_matrix()\n",
      "/content/drive/My Drive/Assignment_1_Facial_Keypoints/data_load.py:40: FutureWarning: Method .as_matrix will be removed in a future version. Use .values instead.\n",
      "  key_pts = self.key_pts_frame.iloc[idx, 1:].as_matrix()\n"
     ]
    },
    {
     "name": "stdout",
     "output_type": "stream",
     "text": [
      "Epoch: 44, Batch: 30, Avg. Loss: 0.017531686183065175\n"
     ]
    },
    {
     "name": "stderr",
     "output_type": "stream",
     "text": [
      "/content/drive/My Drive/Assignment_1_Facial_Keypoints/data_load.py:40: FutureWarning: Method .as_matrix will be removed in a future version. Use .values instead.\n",
      "  key_pts = self.key_pts_frame.iloc[idx, 1:].as_matrix()\n",
      "/content/drive/My Drive/Assignment_1_Facial_Keypoints/data_load.py:40: FutureWarning: Method .as_matrix will be removed in a future version. Use .values instead.\n",
      "  key_pts = self.key_pts_frame.iloc[idx, 1:].as_matrix()\n",
      "/content/drive/My Drive/Assignment_1_Facial_Keypoints/data_load.py:40: FutureWarning: Method .as_matrix will be removed in a future version. Use .values instead.\n",
      "  key_pts = self.key_pts_frame.iloc[idx, 1:].as_matrix()\n",
      "/content/drive/My Drive/Assignment_1_Facial_Keypoints/data_load.py:40: FutureWarning: Method .as_matrix will be removed in a future version. Use .values instead.\n",
      "  key_pts = self.key_pts_frame.iloc[idx, 1:].as_matrix()\n"
     ]
    },
    {
     "name": "stdout",
     "output_type": "stream",
     "text": [
      "Epoch: 44, Batch: 40, Avg. Loss: 0.01669159475713968\n"
     ]
    },
    {
     "name": "stderr",
     "output_type": "stream",
     "text": [
      "/content/drive/My Drive/Assignment_1_Facial_Keypoints/data_load.py:40: FutureWarning: Method .as_matrix will be removed in a future version. Use .values instead.\n",
      "  key_pts = self.key_pts_frame.iloc[idx, 1:].as_matrix()\n",
      "/content/drive/My Drive/Assignment_1_Facial_Keypoints/data_load.py:40: FutureWarning: Method .as_matrix will be removed in a future version. Use .values instead.\n",
      "  key_pts = self.key_pts_frame.iloc[idx, 1:].as_matrix()\n",
      "/content/drive/My Drive/Assignment_1_Facial_Keypoints/data_load.py:40: FutureWarning: Method .as_matrix will be removed in a future version. Use .values instead.\n",
      "  key_pts = self.key_pts_frame.iloc[idx, 1:].as_matrix()\n",
      "/content/drive/My Drive/Assignment_1_Facial_Keypoints/data_load.py:40: FutureWarning: Method .as_matrix will be removed in a future version. Use .values instead.\n",
      "  key_pts = self.key_pts_frame.iloc[idx, 1:].as_matrix()\n"
     ]
    },
    {
     "name": "stdout",
     "output_type": "stream",
     "text": [
      "Epoch: 44, Batch: 50, Avg. Loss: 0.013938631769269705\n"
     ]
    },
    {
     "name": "stderr",
     "output_type": "stream",
     "text": [
      "/content/drive/My Drive/Assignment_1_Facial_Keypoints/data_load.py:40: FutureWarning: Method .as_matrix will be removed in a future version. Use .values instead.\n",
      "  key_pts = self.key_pts_frame.iloc[idx, 1:].as_matrix()\n",
      "/content/drive/My Drive/Assignment_1_Facial_Keypoints/data_load.py:40: FutureWarning: Method .as_matrix will be removed in a future version. Use .values instead.\n",
      "  key_pts = self.key_pts_frame.iloc[idx, 1:].as_matrix()\n",
      "/content/drive/My Drive/Assignment_1_Facial_Keypoints/data_load.py:40: FutureWarning: Method .as_matrix will be removed in a future version. Use .values instead.\n",
      "  key_pts = self.key_pts_frame.iloc[idx, 1:].as_matrix()\n",
      "/content/drive/My Drive/Assignment_1_Facial_Keypoints/data_load.py:40: FutureWarning: Method .as_matrix will be removed in a future version. Use .values instead.\n",
      "  key_pts = self.key_pts_frame.iloc[idx, 1:].as_matrix()\n",
      "/content/drive/My Drive/Assignment_1_Facial_Keypoints/data_load.py:40: FutureWarning: Method .as_matrix will be removed in a future version. Use .values instead.\n",
      "  key_pts = self.key_pts_frame.iloc[idx, 1:].as_matrix()\n",
      "/content/drive/My Drive/Assignment_1_Facial_Keypoints/data_load.py:40: FutureWarning: Method .as_matrix will be removed in a future version. Use .values instead.\n",
      "  key_pts = self.key_pts_frame.iloc[idx, 1:].as_matrix()\n",
      "/content/drive/My Drive/Assignment_1_Facial_Keypoints/data_load.py:40: FutureWarning: Method .as_matrix will be removed in a future version. Use .values instead.\n",
      "  key_pts = self.key_pts_frame.iloc[idx, 1:].as_matrix()\n",
      "/content/drive/My Drive/Assignment_1_Facial_Keypoints/data_load.py:40: FutureWarning: Method .as_matrix will be removed in a future version. Use .values instead.\n",
      "  key_pts = self.key_pts_frame.iloc[idx, 1:].as_matrix()\n"
     ]
    },
    {
     "name": "stdout",
     "output_type": "stream",
     "text": [
      "Epoch: 45, Batch: 10, Avg. Loss: 0.01499333456158638\n"
     ]
    },
    {
     "name": "stderr",
     "output_type": "stream",
     "text": [
      "/content/drive/My Drive/Assignment_1_Facial_Keypoints/data_load.py:40: FutureWarning: Method .as_matrix will be removed in a future version. Use .values instead.\n",
      "  key_pts = self.key_pts_frame.iloc[idx, 1:].as_matrix()\n",
      "/content/drive/My Drive/Assignment_1_Facial_Keypoints/data_load.py:40: FutureWarning: Method .as_matrix will be removed in a future version. Use .values instead.\n",
      "  key_pts = self.key_pts_frame.iloc[idx, 1:].as_matrix()\n",
      "/content/drive/My Drive/Assignment_1_Facial_Keypoints/data_load.py:40: FutureWarning: Method .as_matrix will be removed in a future version. Use .values instead.\n",
      "  key_pts = self.key_pts_frame.iloc[idx, 1:].as_matrix()\n",
      "/content/drive/My Drive/Assignment_1_Facial_Keypoints/data_load.py:40: FutureWarning: Method .as_matrix will be removed in a future version. Use .values instead.\n",
      "  key_pts = self.key_pts_frame.iloc[idx, 1:].as_matrix()\n"
     ]
    },
    {
     "name": "stdout",
     "output_type": "stream",
     "text": [
      "Epoch: 45, Batch: 20, Avg. Loss: 0.015521051175892354\n"
     ]
    },
    {
     "name": "stderr",
     "output_type": "stream",
     "text": [
      "/content/drive/My Drive/Assignment_1_Facial_Keypoints/data_load.py:40: FutureWarning: Method .as_matrix will be removed in a future version. Use .values instead.\n",
      "  key_pts = self.key_pts_frame.iloc[idx, 1:].as_matrix()\n",
      "/content/drive/My Drive/Assignment_1_Facial_Keypoints/data_load.py:40: FutureWarning: Method .as_matrix will be removed in a future version. Use .values instead.\n",
      "  key_pts = self.key_pts_frame.iloc[idx, 1:].as_matrix()\n",
      "/content/drive/My Drive/Assignment_1_Facial_Keypoints/data_load.py:40: FutureWarning: Method .as_matrix will be removed in a future version. Use .values instead.\n",
      "  key_pts = self.key_pts_frame.iloc[idx, 1:].as_matrix()\n",
      "/content/drive/My Drive/Assignment_1_Facial_Keypoints/data_load.py:40: FutureWarning: Method .as_matrix will be removed in a future version. Use .values instead.\n",
      "  key_pts = self.key_pts_frame.iloc[idx, 1:].as_matrix()\n"
     ]
    },
    {
     "name": "stdout",
     "output_type": "stream",
     "text": [
      "Epoch: 45, Batch: 30, Avg. Loss: 0.014846065640449524\n"
     ]
    },
    {
     "name": "stderr",
     "output_type": "stream",
     "text": [
      "/content/drive/My Drive/Assignment_1_Facial_Keypoints/data_load.py:40: FutureWarning: Method .as_matrix will be removed in a future version. Use .values instead.\n",
      "  key_pts = self.key_pts_frame.iloc[idx, 1:].as_matrix()\n",
      "/content/drive/My Drive/Assignment_1_Facial_Keypoints/data_load.py:40: FutureWarning: Method .as_matrix will be removed in a future version. Use .values instead.\n",
      "  key_pts = self.key_pts_frame.iloc[idx, 1:].as_matrix()\n",
      "/content/drive/My Drive/Assignment_1_Facial_Keypoints/data_load.py:40: FutureWarning: Method .as_matrix will be removed in a future version. Use .values instead.\n",
      "  key_pts = self.key_pts_frame.iloc[idx, 1:].as_matrix()\n",
      "/content/drive/My Drive/Assignment_1_Facial_Keypoints/data_load.py:40: FutureWarning: Method .as_matrix will be removed in a future version. Use .values instead.\n",
      "  key_pts = self.key_pts_frame.iloc[idx, 1:].as_matrix()\n"
     ]
    },
    {
     "name": "stdout",
     "output_type": "stream",
     "text": [
      "Epoch: 45, Batch: 40, Avg. Loss: 0.01826138561591506\n"
     ]
    },
    {
     "name": "stderr",
     "output_type": "stream",
     "text": [
      "/content/drive/My Drive/Assignment_1_Facial_Keypoints/data_load.py:40: FutureWarning: Method .as_matrix will be removed in a future version. Use .values instead.\n",
      "  key_pts = self.key_pts_frame.iloc[idx, 1:].as_matrix()\n",
      "/content/drive/My Drive/Assignment_1_Facial_Keypoints/data_load.py:40: FutureWarning: Method .as_matrix will be removed in a future version. Use .values instead.\n",
      "  key_pts = self.key_pts_frame.iloc[idx, 1:].as_matrix()\n",
      "/content/drive/My Drive/Assignment_1_Facial_Keypoints/data_load.py:40: FutureWarning: Method .as_matrix will be removed in a future version. Use .values instead.\n",
      "  key_pts = self.key_pts_frame.iloc[idx, 1:].as_matrix()\n",
      "/content/drive/My Drive/Assignment_1_Facial_Keypoints/data_load.py:40: FutureWarning: Method .as_matrix will be removed in a future version. Use .values instead.\n",
      "  key_pts = self.key_pts_frame.iloc[idx, 1:].as_matrix()\n"
     ]
    },
    {
     "name": "stdout",
     "output_type": "stream",
     "text": [
      "Epoch: 45, Batch: 50, Avg. Loss: 0.018850114941596986\n"
     ]
    },
    {
     "name": "stderr",
     "output_type": "stream",
     "text": [
      "/content/drive/My Drive/Assignment_1_Facial_Keypoints/data_load.py:40: FutureWarning: Method .as_matrix will be removed in a future version. Use .values instead.\n",
      "  key_pts = self.key_pts_frame.iloc[idx, 1:].as_matrix()\n",
      "/content/drive/My Drive/Assignment_1_Facial_Keypoints/data_load.py:40: FutureWarning: Method .as_matrix will be removed in a future version. Use .values instead.\n",
      "  key_pts = self.key_pts_frame.iloc[idx, 1:].as_matrix()\n",
      "/content/drive/My Drive/Assignment_1_Facial_Keypoints/data_load.py:40: FutureWarning: Method .as_matrix will be removed in a future version. Use .values instead.\n",
      "  key_pts = self.key_pts_frame.iloc[idx, 1:].as_matrix()\n",
      "/content/drive/My Drive/Assignment_1_Facial_Keypoints/data_load.py:40: FutureWarning: Method .as_matrix will be removed in a future version. Use .values instead.\n",
      "  key_pts = self.key_pts_frame.iloc[idx, 1:].as_matrix()\n",
      "/content/drive/My Drive/Assignment_1_Facial_Keypoints/data_load.py:40: FutureWarning: Method .as_matrix will be removed in a future version. Use .values instead.\n",
      "  key_pts = self.key_pts_frame.iloc[idx, 1:].as_matrix()\n",
      "/content/drive/My Drive/Assignment_1_Facial_Keypoints/data_load.py:40: FutureWarning: Method .as_matrix will be removed in a future version. Use .values instead.\n",
      "  key_pts = self.key_pts_frame.iloc[idx, 1:].as_matrix()\n",
      "/content/drive/My Drive/Assignment_1_Facial_Keypoints/data_load.py:40: FutureWarning: Method .as_matrix will be removed in a future version. Use .values instead.\n",
      "  key_pts = self.key_pts_frame.iloc[idx, 1:].as_matrix()\n",
      "/content/drive/My Drive/Assignment_1_Facial_Keypoints/data_load.py:40: FutureWarning: Method .as_matrix will be removed in a future version. Use .values instead.\n",
      "  key_pts = self.key_pts_frame.iloc[idx, 1:].as_matrix()\n"
     ]
    },
    {
     "name": "stdout",
     "output_type": "stream",
     "text": [
      "Epoch: 46, Batch: 10, Avg. Loss: 0.01331929862499237\n"
     ]
    },
    {
     "name": "stderr",
     "output_type": "stream",
     "text": [
      "/content/drive/My Drive/Assignment_1_Facial_Keypoints/data_load.py:40: FutureWarning: Method .as_matrix will be removed in a future version. Use .values instead.\n",
      "  key_pts = self.key_pts_frame.iloc[idx, 1:].as_matrix()\n",
      "/content/drive/My Drive/Assignment_1_Facial_Keypoints/data_load.py:40: FutureWarning: Method .as_matrix will be removed in a future version. Use .values instead.\n",
      "  key_pts = self.key_pts_frame.iloc[idx, 1:].as_matrix()\n",
      "/content/drive/My Drive/Assignment_1_Facial_Keypoints/data_load.py:40: FutureWarning: Method .as_matrix will be removed in a future version. Use .values instead.\n",
      "  key_pts = self.key_pts_frame.iloc[idx, 1:].as_matrix()\n",
      "/content/drive/My Drive/Assignment_1_Facial_Keypoints/data_load.py:40: FutureWarning: Method .as_matrix will be removed in a future version. Use .values instead.\n",
      "  key_pts = self.key_pts_frame.iloc[idx, 1:].as_matrix()\n"
     ]
    },
    {
     "name": "stdout",
     "output_type": "stream",
     "text": [
      "Epoch: 46, Batch: 20, Avg. Loss: 0.012623667251318693\n"
     ]
    },
    {
     "name": "stderr",
     "output_type": "stream",
     "text": [
      "/content/drive/My Drive/Assignment_1_Facial_Keypoints/data_load.py:40: FutureWarning: Method .as_matrix will be removed in a future version. Use .values instead.\n",
      "  key_pts = self.key_pts_frame.iloc[idx, 1:].as_matrix()\n",
      "/content/drive/My Drive/Assignment_1_Facial_Keypoints/data_load.py:40: FutureWarning: Method .as_matrix will be removed in a future version. Use .values instead.\n",
      "  key_pts = self.key_pts_frame.iloc[idx, 1:].as_matrix()\n",
      "/content/drive/My Drive/Assignment_1_Facial_Keypoints/data_load.py:40: FutureWarning: Method .as_matrix will be removed in a future version. Use .values instead.\n",
      "  key_pts = self.key_pts_frame.iloc[idx, 1:].as_matrix()\n",
      "/content/drive/My Drive/Assignment_1_Facial_Keypoints/data_load.py:40: FutureWarning: Method .as_matrix will be removed in a future version. Use .values instead.\n",
      "  key_pts = self.key_pts_frame.iloc[idx, 1:].as_matrix()\n"
     ]
    },
    {
     "name": "stdout",
     "output_type": "stream",
     "text": [
      "Epoch: 46, Batch: 30, Avg. Loss: 0.016298511438071726\n"
     ]
    },
    {
     "name": "stderr",
     "output_type": "stream",
     "text": [
      "/content/drive/My Drive/Assignment_1_Facial_Keypoints/data_load.py:40: FutureWarning: Method .as_matrix will be removed in a future version. Use .values instead.\n",
      "  key_pts = self.key_pts_frame.iloc[idx, 1:].as_matrix()\n",
      "/content/drive/My Drive/Assignment_1_Facial_Keypoints/data_load.py:40: FutureWarning: Method .as_matrix will be removed in a future version. Use .values instead.\n",
      "  key_pts = self.key_pts_frame.iloc[idx, 1:].as_matrix()\n",
      "/content/drive/My Drive/Assignment_1_Facial_Keypoints/data_load.py:40: FutureWarning: Method .as_matrix will be removed in a future version. Use .values instead.\n",
      "  key_pts = self.key_pts_frame.iloc[idx, 1:].as_matrix()\n",
      "/content/drive/My Drive/Assignment_1_Facial_Keypoints/data_load.py:40: FutureWarning: Method .as_matrix will be removed in a future version. Use .values instead.\n",
      "  key_pts = self.key_pts_frame.iloc[idx, 1:].as_matrix()\n"
     ]
    },
    {
     "name": "stdout",
     "output_type": "stream",
     "text": [
      "Epoch: 46, Batch: 40, Avg. Loss: 0.017731184232980014\n"
     ]
    },
    {
     "name": "stderr",
     "output_type": "stream",
     "text": [
      "/content/drive/My Drive/Assignment_1_Facial_Keypoints/data_load.py:40: FutureWarning: Method .as_matrix will be removed in a future version. Use .values instead.\n",
      "  key_pts = self.key_pts_frame.iloc[idx, 1:].as_matrix()\n",
      "/content/drive/My Drive/Assignment_1_Facial_Keypoints/data_load.py:40: FutureWarning: Method .as_matrix will be removed in a future version. Use .values instead.\n",
      "  key_pts = self.key_pts_frame.iloc[idx, 1:].as_matrix()\n",
      "/content/drive/My Drive/Assignment_1_Facial_Keypoints/data_load.py:40: FutureWarning: Method .as_matrix will be removed in a future version. Use .values instead.\n",
      "  key_pts = self.key_pts_frame.iloc[idx, 1:].as_matrix()\n",
      "/content/drive/My Drive/Assignment_1_Facial_Keypoints/data_load.py:40: FutureWarning: Method .as_matrix will be removed in a future version. Use .values instead.\n",
      "  key_pts = self.key_pts_frame.iloc[idx, 1:].as_matrix()\n"
     ]
    },
    {
     "name": "stdout",
     "output_type": "stream",
     "text": [
      "Epoch: 46, Batch: 50, Avg. Loss: 0.017653018794953824\n"
     ]
    },
    {
     "name": "stderr",
     "output_type": "stream",
     "text": [
      "/content/drive/My Drive/Assignment_1_Facial_Keypoints/data_load.py:40: FutureWarning: Method .as_matrix will be removed in a future version. Use .values instead.\n",
      "  key_pts = self.key_pts_frame.iloc[idx, 1:].as_matrix()\n",
      "/content/drive/My Drive/Assignment_1_Facial_Keypoints/data_load.py:40: FutureWarning: Method .as_matrix will be removed in a future version. Use .values instead.\n",
      "  key_pts = self.key_pts_frame.iloc[idx, 1:].as_matrix()\n",
      "/content/drive/My Drive/Assignment_1_Facial_Keypoints/data_load.py:40: FutureWarning: Method .as_matrix will be removed in a future version. Use .values instead.\n",
      "  key_pts = self.key_pts_frame.iloc[idx, 1:].as_matrix()\n",
      "/content/drive/My Drive/Assignment_1_Facial_Keypoints/data_load.py:40: FutureWarning: Method .as_matrix will be removed in a future version. Use .values instead.\n",
      "  key_pts = self.key_pts_frame.iloc[idx, 1:].as_matrix()\n",
      "/content/drive/My Drive/Assignment_1_Facial_Keypoints/data_load.py:40: FutureWarning: Method .as_matrix will be removed in a future version. Use .values instead.\n",
      "  key_pts = self.key_pts_frame.iloc[idx, 1:].as_matrix()\n",
      "/content/drive/My Drive/Assignment_1_Facial_Keypoints/data_load.py:40: FutureWarning: Method .as_matrix will be removed in a future version. Use .values instead.\n",
      "  key_pts = self.key_pts_frame.iloc[idx, 1:].as_matrix()\n",
      "/content/drive/My Drive/Assignment_1_Facial_Keypoints/data_load.py:40: FutureWarning: Method .as_matrix will be removed in a future version. Use .values instead.\n",
      "  key_pts = self.key_pts_frame.iloc[idx, 1:].as_matrix()\n",
      "/content/drive/My Drive/Assignment_1_Facial_Keypoints/data_load.py:40: FutureWarning: Method .as_matrix will be removed in a future version. Use .values instead.\n",
      "  key_pts = self.key_pts_frame.iloc[idx, 1:].as_matrix()\n"
     ]
    },
    {
     "name": "stdout",
     "output_type": "stream",
     "text": [
      "Epoch: 47, Batch: 10, Avg. Loss: 0.017555730789899825\n"
     ]
    },
    {
     "name": "stderr",
     "output_type": "stream",
     "text": [
      "/content/drive/My Drive/Assignment_1_Facial_Keypoints/data_load.py:40: FutureWarning: Method .as_matrix will be removed in a future version. Use .values instead.\n",
      "  key_pts = self.key_pts_frame.iloc[idx, 1:].as_matrix()\n",
      "/content/drive/My Drive/Assignment_1_Facial_Keypoints/data_load.py:40: FutureWarning: Method .as_matrix will be removed in a future version. Use .values instead.\n",
      "  key_pts = self.key_pts_frame.iloc[idx, 1:].as_matrix()\n",
      "/content/drive/My Drive/Assignment_1_Facial_Keypoints/data_load.py:40: FutureWarning: Method .as_matrix will be removed in a future version. Use .values instead.\n",
      "  key_pts = self.key_pts_frame.iloc[idx, 1:].as_matrix()\n",
      "/content/drive/My Drive/Assignment_1_Facial_Keypoints/data_load.py:40: FutureWarning: Method .as_matrix will be removed in a future version. Use .values instead.\n",
      "  key_pts = self.key_pts_frame.iloc[idx, 1:].as_matrix()\n"
     ]
    },
    {
     "name": "stdout",
     "output_type": "stream",
     "text": [
      "Epoch: 47, Batch: 20, Avg. Loss: 0.018481741845607757\n"
     ]
    },
    {
     "name": "stderr",
     "output_type": "stream",
     "text": [
      "/content/drive/My Drive/Assignment_1_Facial_Keypoints/data_load.py:40: FutureWarning: Method .as_matrix will be removed in a future version. Use .values instead.\n",
      "  key_pts = self.key_pts_frame.iloc[idx, 1:].as_matrix()\n",
      "/content/drive/My Drive/Assignment_1_Facial_Keypoints/data_load.py:40: FutureWarning: Method .as_matrix will be removed in a future version. Use .values instead.\n",
      "  key_pts = self.key_pts_frame.iloc[idx, 1:].as_matrix()\n",
      "/content/drive/My Drive/Assignment_1_Facial_Keypoints/data_load.py:40: FutureWarning: Method .as_matrix will be removed in a future version. Use .values instead.\n",
      "  key_pts = self.key_pts_frame.iloc[idx, 1:].as_matrix()\n",
      "/content/drive/My Drive/Assignment_1_Facial_Keypoints/data_load.py:40: FutureWarning: Method .as_matrix will be removed in a future version. Use .values instead.\n",
      "  key_pts = self.key_pts_frame.iloc[idx, 1:].as_matrix()\n"
     ]
    },
    {
     "name": "stdout",
     "output_type": "stream",
     "text": [
      "Epoch: 47, Batch: 30, Avg. Loss: 0.014628053084015847\n"
     ]
    },
    {
     "name": "stderr",
     "output_type": "stream",
     "text": [
      "/content/drive/My Drive/Assignment_1_Facial_Keypoints/data_load.py:40: FutureWarning: Method .as_matrix will be removed in a future version. Use .values instead.\n",
      "  key_pts = self.key_pts_frame.iloc[idx, 1:].as_matrix()\n",
      "/content/drive/My Drive/Assignment_1_Facial_Keypoints/data_load.py:40: FutureWarning: Method .as_matrix will be removed in a future version. Use .values instead.\n",
      "  key_pts = self.key_pts_frame.iloc[idx, 1:].as_matrix()\n",
      "/content/drive/My Drive/Assignment_1_Facial_Keypoints/data_load.py:40: FutureWarning: Method .as_matrix will be removed in a future version. Use .values instead.\n",
      "  key_pts = self.key_pts_frame.iloc[idx, 1:].as_matrix()\n",
      "/content/drive/My Drive/Assignment_1_Facial_Keypoints/data_load.py:40: FutureWarning: Method .as_matrix will be removed in a future version. Use .values instead.\n",
      "  key_pts = self.key_pts_frame.iloc[idx, 1:].as_matrix()\n"
     ]
    },
    {
     "name": "stdout",
     "output_type": "stream",
     "text": [
      "Epoch: 47, Batch: 40, Avg. Loss: 0.013577945716679096\n"
     ]
    },
    {
     "name": "stderr",
     "output_type": "stream",
     "text": [
      "/content/drive/My Drive/Assignment_1_Facial_Keypoints/data_load.py:40: FutureWarning: Method .as_matrix will be removed in a future version. Use .values instead.\n",
      "  key_pts = self.key_pts_frame.iloc[idx, 1:].as_matrix()\n",
      "/content/drive/My Drive/Assignment_1_Facial_Keypoints/data_load.py:40: FutureWarning: Method .as_matrix will be removed in a future version. Use .values instead.\n",
      "  key_pts = self.key_pts_frame.iloc[idx, 1:].as_matrix()\n",
      "/content/drive/My Drive/Assignment_1_Facial_Keypoints/data_load.py:40: FutureWarning: Method .as_matrix will be removed in a future version. Use .values instead.\n",
      "  key_pts = self.key_pts_frame.iloc[idx, 1:].as_matrix()\n",
      "/content/drive/My Drive/Assignment_1_Facial_Keypoints/data_load.py:40: FutureWarning: Method .as_matrix will be removed in a future version. Use .values instead.\n",
      "  key_pts = self.key_pts_frame.iloc[idx, 1:].as_matrix()\n"
     ]
    },
    {
     "name": "stdout",
     "output_type": "stream",
     "text": [
      "Epoch: 47, Batch: 50, Avg. Loss: 0.016187560837715866\n"
     ]
    },
    {
     "name": "stderr",
     "output_type": "stream",
     "text": [
      "/content/drive/My Drive/Assignment_1_Facial_Keypoints/data_load.py:40: FutureWarning: Method .as_matrix will be removed in a future version. Use .values instead.\n",
      "  key_pts = self.key_pts_frame.iloc[idx, 1:].as_matrix()\n",
      "/content/drive/My Drive/Assignment_1_Facial_Keypoints/data_load.py:40: FutureWarning: Method .as_matrix will be removed in a future version. Use .values instead.\n",
      "  key_pts = self.key_pts_frame.iloc[idx, 1:].as_matrix()\n",
      "/content/drive/My Drive/Assignment_1_Facial_Keypoints/data_load.py:40: FutureWarning: Method .as_matrix will be removed in a future version. Use .values instead.\n",
      "  key_pts = self.key_pts_frame.iloc[idx, 1:].as_matrix()\n",
      "/content/drive/My Drive/Assignment_1_Facial_Keypoints/data_load.py:40: FutureWarning: Method .as_matrix will be removed in a future version. Use .values instead.\n",
      "  key_pts = self.key_pts_frame.iloc[idx, 1:].as_matrix()\n",
      "/content/drive/My Drive/Assignment_1_Facial_Keypoints/data_load.py:40: FutureWarning: Method .as_matrix will be removed in a future version. Use .values instead.\n",
      "  key_pts = self.key_pts_frame.iloc[idx, 1:].as_matrix()\n",
      "/content/drive/My Drive/Assignment_1_Facial_Keypoints/data_load.py:40: FutureWarning: Method .as_matrix will be removed in a future version. Use .values instead.\n",
      "  key_pts = self.key_pts_frame.iloc[idx, 1:].as_matrix()\n",
      "/content/drive/My Drive/Assignment_1_Facial_Keypoints/data_load.py:40: FutureWarning: Method .as_matrix will be removed in a future version. Use .values instead.\n",
      "  key_pts = self.key_pts_frame.iloc[idx, 1:].as_matrix()\n",
      "/content/drive/My Drive/Assignment_1_Facial_Keypoints/data_load.py:40: FutureWarning: Method .as_matrix will be removed in a future version. Use .values instead.\n",
      "  key_pts = self.key_pts_frame.iloc[idx, 1:].as_matrix()\n"
     ]
    },
    {
     "name": "stdout",
     "output_type": "stream",
     "text": [
      "Epoch: 48, Batch: 10, Avg. Loss: 0.018755400273948907\n"
     ]
    },
    {
     "name": "stderr",
     "output_type": "stream",
     "text": [
      "/content/drive/My Drive/Assignment_1_Facial_Keypoints/data_load.py:40: FutureWarning: Method .as_matrix will be removed in a future version. Use .values instead.\n",
      "  key_pts = self.key_pts_frame.iloc[idx, 1:].as_matrix()\n",
      "/content/drive/My Drive/Assignment_1_Facial_Keypoints/data_load.py:40: FutureWarning: Method .as_matrix will be removed in a future version. Use .values instead.\n",
      "  key_pts = self.key_pts_frame.iloc[idx, 1:].as_matrix()\n",
      "/content/drive/My Drive/Assignment_1_Facial_Keypoints/data_load.py:40: FutureWarning: Method .as_matrix will be removed in a future version. Use .values instead.\n",
      "  key_pts = self.key_pts_frame.iloc[idx, 1:].as_matrix()\n",
      "/content/drive/My Drive/Assignment_1_Facial_Keypoints/data_load.py:40: FutureWarning: Method .as_matrix will be removed in a future version. Use .values instead.\n",
      "  key_pts = self.key_pts_frame.iloc[idx, 1:].as_matrix()\n"
     ]
    },
    {
     "name": "stdout",
     "output_type": "stream",
     "text": [
      "Epoch: 48, Batch: 20, Avg. Loss: 0.019514132663607596\n"
     ]
    },
    {
     "name": "stderr",
     "output_type": "stream",
     "text": [
      "/content/drive/My Drive/Assignment_1_Facial_Keypoints/data_load.py:40: FutureWarning: Method .as_matrix will be removed in a future version. Use .values instead.\n",
      "  key_pts = self.key_pts_frame.iloc[idx, 1:].as_matrix()\n",
      "/content/drive/My Drive/Assignment_1_Facial_Keypoints/data_load.py:40: FutureWarning: Method .as_matrix will be removed in a future version. Use .values instead.\n",
      "  key_pts = self.key_pts_frame.iloc[idx, 1:].as_matrix()\n",
      "/content/drive/My Drive/Assignment_1_Facial_Keypoints/data_load.py:40: FutureWarning: Method .as_matrix will be removed in a future version. Use .values instead.\n",
      "  key_pts = self.key_pts_frame.iloc[idx, 1:].as_matrix()\n",
      "/content/drive/My Drive/Assignment_1_Facial_Keypoints/data_load.py:40: FutureWarning: Method .as_matrix will be removed in a future version. Use .values instead.\n",
      "  key_pts = self.key_pts_frame.iloc[idx, 1:].as_matrix()\n"
     ]
    },
    {
     "name": "stdout",
     "output_type": "stream",
     "text": [
      "Epoch: 48, Batch: 30, Avg. Loss: 0.012712404690682888\n"
     ]
    },
    {
     "name": "stderr",
     "output_type": "stream",
     "text": [
      "/content/drive/My Drive/Assignment_1_Facial_Keypoints/data_load.py:40: FutureWarning: Method .as_matrix will be removed in a future version. Use .values instead.\n",
      "  key_pts = self.key_pts_frame.iloc[idx, 1:].as_matrix()\n",
      "/content/drive/My Drive/Assignment_1_Facial_Keypoints/data_load.py:40: FutureWarning: Method .as_matrix will be removed in a future version. Use .values instead.\n",
      "  key_pts = self.key_pts_frame.iloc[idx, 1:].as_matrix()\n",
      "/content/drive/My Drive/Assignment_1_Facial_Keypoints/data_load.py:40: FutureWarning: Method .as_matrix will be removed in a future version. Use .values instead.\n",
      "  key_pts = self.key_pts_frame.iloc[idx, 1:].as_matrix()\n",
      "/content/drive/My Drive/Assignment_1_Facial_Keypoints/data_load.py:40: FutureWarning: Method .as_matrix will be removed in a future version. Use .values instead.\n",
      "  key_pts = self.key_pts_frame.iloc[idx, 1:].as_matrix()\n"
     ]
    },
    {
     "name": "stdout",
     "output_type": "stream",
     "text": [
      "Epoch: 48, Batch: 40, Avg. Loss: 0.015393081493675709\n"
     ]
    },
    {
     "name": "stderr",
     "output_type": "stream",
     "text": [
      "/content/drive/My Drive/Assignment_1_Facial_Keypoints/data_load.py:40: FutureWarning: Method .as_matrix will be removed in a future version. Use .values instead.\n",
      "  key_pts = self.key_pts_frame.iloc[idx, 1:].as_matrix()\n",
      "/content/drive/My Drive/Assignment_1_Facial_Keypoints/data_load.py:40: FutureWarning: Method .as_matrix will be removed in a future version. Use .values instead.\n",
      "  key_pts = self.key_pts_frame.iloc[idx, 1:].as_matrix()\n",
      "/content/drive/My Drive/Assignment_1_Facial_Keypoints/data_load.py:40: FutureWarning: Method .as_matrix will be removed in a future version. Use .values instead.\n",
      "  key_pts = self.key_pts_frame.iloc[idx, 1:].as_matrix()\n",
      "/content/drive/My Drive/Assignment_1_Facial_Keypoints/data_load.py:40: FutureWarning: Method .as_matrix will be removed in a future version. Use .values instead.\n",
      "  key_pts = self.key_pts_frame.iloc[idx, 1:].as_matrix()\n"
     ]
    },
    {
     "name": "stdout",
     "output_type": "stream",
     "text": [
      "Epoch: 48, Batch: 50, Avg. Loss: 0.012913723196834325\n"
     ]
    },
    {
     "name": "stderr",
     "output_type": "stream",
     "text": [
      "/content/drive/My Drive/Assignment_1_Facial_Keypoints/data_load.py:40: FutureWarning: Method .as_matrix will be removed in a future version. Use .values instead.\n",
      "  key_pts = self.key_pts_frame.iloc[idx, 1:].as_matrix()\n",
      "/content/drive/My Drive/Assignment_1_Facial_Keypoints/data_load.py:40: FutureWarning: Method .as_matrix will be removed in a future version. Use .values instead.\n",
      "  key_pts = self.key_pts_frame.iloc[idx, 1:].as_matrix()\n",
      "/content/drive/My Drive/Assignment_1_Facial_Keypoints/data_load.py:40: FutureWarning: Method .as_matrix will be removed in a future version. Use .values instead.\n",
      "  key_pts = self.key_pts_frame.iloc[idx, 1:].as_matrix()\n",
      "/content/drive/My Drive/Assignment_1_Facial_Keypoints/data_load.py:40: FutureWarning: Method .as_matrix will be removed in a future version. Use .values instead.\n",
      "  key_pts = self.key_pts_frame.iloc[idx, 1:].as_matrix()\n",
      "/content/drive/My Drive/Assignment_1_Facial_Keypoints/data_load.py:40: FutureWarning: Method .as_matrix will be removed in a future version. Use .values instead.\n",
      "  key_pts = self.key_pts_frame.iloc[idx, 1:].as_matrix()\n",
      "/content/drive/My Drive/Assignment_1_Facial_Keypoints/data_load.py:40: FutureWarning: Method .as_matrix will be removed in a future version. Use .values instead.\n",
      "  key_pts = self.key_pts_frame.iloc[idx, 1:].as_matrix()\n",
      "/content/drive/My Drive/Assignment_1_Facial_Keypoints/data_load.py:40: FutureWarning: Method .as_matrix will be removed in a future version. Use .values instead.\n",
      "  key_pts = self.key_pts_frame.iloc[idx, 1:].as_matrix()\n",
      "/content/drive/My Drive/Assignment_1_Facial_Keypoints/data_load.py:40: FutureWarning: Method .as_matrix will be removed in a future version. Use .values instead.\n",
      "  key_pts = self.key_pts_frame.iloc[idx, 1:].as_matrix()\n"
     ]
    },
    {
     "name": "stdout",
     "output_type": "stream",
     "text": [
      "Epoch: 49, Batch: 10, Avg. Loss: 0.015677801705896853\n"
     ]
    },
    {
     "name": "stderr",
     "output_type": "stream",
     "text": [
      "/content/drive/My Drive/Assignment_1_Facial_Keypoints/data_load.py:40: FutureWarning: Method .as_matrix will be removed in a future version. Use .values instead.\n",
      "  key_pts = self.key_pts_frame.iloc[idx, 1:].as_matrix()\n",
      "/content/drive/My Drive/Assignment_1_Facial_Keypoints/data_load.py:40: FutureWarning: Method .as_matrix will be removed in a future version. Use .values instead.\n",
      "  key_pts = self.key_pts_frame.iloc[idx, 1:].as_matrix()\n",
      "/content/drive/My Drive/Assignment_1_Facial_Keypoints/data_load.py:40: FutureWarning: Method .as_matrix will be removed in a future version. Use .values instead.\n",
      "  key_pts = self.key_pts_frame.iloc[idx, 1:].as_matrix()\n",
      "/content/drive/My Drive/Assignment_1_Facial_Keypoints/data_load.py:40: FutureWarning: Method .as_matrix will be removed in a future version. Use .values instead.\n",
      "  key_pts = self.key_pts_frame.iloc[idx, 1:].as_matrix()\n"
     ]
    },
    {
     "name": "stdout",
     "output_type": "stream",
     "text": [
      "Epoch: 49, Batch: 20, Avg. Loss: 0.01361172990873456\n"
     ]
    },
    {
     "name": "stderr",
     "output_type": "stream",
     "text": [
      "/content/drive/My Drive/Assignment_1_Facial_Keypoints/data_load.py:40: FutureWarning: Method .as_matrix will be removed in a future version. Use .values instead.\n",
      "  key_pts = self.key_pts_frame.iloc[idx, 1:].as_matrix()\n",
      "/content/drive/My Drive/Assignment_1_Facial_Keypoints/data_load.py:40: FutureWarning: Method .as_matrix will be removed in a future version. Use .values instead.\n",
      "  key_pts = self.key_pts_frame.iloc[idx, 1:].as_matrix()\n",
      "/content/drive/My Drive/Assignment_1_Facial_Keypoints/data_load.py:40: FutureWarning: Method .as_matrix will be removed in a future version. Use .values instead.\n",
      "  key_pts = self.key_pts_frame.iloc[idx, 1:].as_matrix()\n",
      "/content/drive/My Drive/Assignment_1_Facial_Keypoints/data_load.py:40: FutureWarning: Method .as_matrix will be removed in a future version. Use .values instead.\n",
      "  key_pts = self.key_pts_frame.iloc[idx, 1:].as_matrix()\n"
     ]
    },
    {
     "name": "stdout",
     "output_type": "stream",
     "text": [
      "Epoch: 49, Batch: 30, Avg. Loss: 0.01195980403572321\n"
     ]
    },
    {
     "name": "stderr",
     "output_type": "stream",
     "text": [
      "/content/drive/My Drive/Assignment_1_Facial_Keypoints/data_load.py:40: FutureWarning: Method .as_matrix will be removed in a future version. Use .values instead.\n",
      "  key_pts = self.key_pts_frame.iloc[idx, 1:].as_matrix()\n",
      "/content/drive/My Drive/Assignment_1_Facial_Keypoints/data_load.py:40: FutureWarning: Method .as_matrix will be removed in a future version. Use .values instead.\n",
      "  key_pts = self.key_pts_frame.iloc[idx, 1:].as_matrix()\n",
      "/content/drive/My Drive/Assignment_1_Facial_Keypoints/data_load.py:40: FutureWarning: Method .as_matrix will be removed in a future version. Use .values instead.\n",
      "  key_pts = self.key_pts_frame.iloc[idx, 1:].as_matrix()\n",
      "/content/drive/My Drive/Assignment_1_Facial_Keypoints/data_load.py:40: FutureWarning: Method .as_matrix will be removed in a future version. Use .values instead.\n",
      "  key_pts = self.key_pts_frame.iloc[idx, 1:].as_matrix()\n"
     ]
    },
    {
     "name": "stdout",
     "output_type": "stream",
     "text": [
      "Epoch: 49, Batch: 40, Avg. Loss: 0.017328510992228985\n"
     ]
    },
    {
     "name": "stderr",
     "output_type": "stream",
     "text": [
      "/content/drive/My Drive/Assignment_1_Facial_Keypoints/data_load.py:40: FutureWarning: Method .as_matrix will be removed in a future version. Use .values instead.\n",
      "  key_pts = self.key_pts_frame.iloc[idx, 1:].as_matrix()\n",
      "/content/drive/My Drive/Assignment_1_Facial_Keypoints/data_load.py:40: FutureWarning: Method .as_matrix will be removed in a future version. Use .values instead.\n",
      "  key_pts = self.key_pts_frame.iloc[idx, 1:].as_matrix()\n",
      "/content/drive/My Drive/Assignment_1_Facial_Keypoints/data_load.py:40: FutureWarning: Method .as_matrix will be removed in a future version. Use .values instead.\n",
      "  key_pts = self.key_pts_frame.iloc[idx, 1:].as_matrix()\n",
      "/content/drive/My Drive/Assignment_1_Facial_Keypoints/data_load.py:40: FutureWarning: Method .as_matrix will be removed in a future version. Use .values instead.\n",
      "  key_pts = self.key_pts_frame.iloc[idx, 1:].as_matrix()\n"
     ]
    },
    {
     "name": "stdout",
     "output_type": "stream",
     "text": [
      "Epoch: 49, Batch: 50, Avg. Loss: 0.015611343458294869\n"
     ]
    },
    {
     "name": "stderr",
     "output_type": "stream",
     "text": [
      "/content/drive/My Drive/Assignment_1_Facial_Keypoints/data_load.py:40: FutureWarning: Method .as_matrix will be removed in a future version. Use .values instead.\n",
      "  key_pts = self.key_pts_frame.iloc[idx, 1:].as_matrix()\n",
      "/content/drive/My Drive/Assignment_1_Facial_Keypoints/data_load.py:40: FutureWarning: Method .as_matrix will be removed in a future version. Use .values instead.\n",
      "  key_pts = self.key_pts_frame.iloc[idx, 1:].as_matrix()\n",
      "/content/drive/My Drive/Assignment_1_Facial_Keypoints/data_load.py:40: FutureWarning: Method .as_matrix will be removed in a future version. Use .values instead.\n",
      "  key_pts = self.key_pts_frame.iloc[idx, 1:].as_matrix()\n",
      "/content/drive/My Drive/Assignment_1_Facial_Keypoints/data_load.py:40: FutureWarning: Method .as_matrix will be removed in a future version. Use .values instead.\n",
      "  key_pts = self.key_pts_frame.iloc[idx, 1:].as_matrix()\n",
      "/content/drive/My Drive/Assignment_1_Facial_Keypoints/data_load.py:40: FutureWarning: Method .as_matrix will be removed in a future version. Use .values instead.\n",
      "  key_pts = self.key_pts_frame.iloc[idx, 1:].as_matrix()\n",
      "/content/drive/My Drive/Assignment_1_Facial_Keypoints/data_load.py:40: FutureWarning: Method .as_matrix will be removed in a future version. Use .values instead.\n",
      "  key_pts = self.key_pts_frame.iloc[idx, 1:].as_matrix()\n",
      "/content/drive/My Drive/Assignment_1_Facial_Keypoints/data_load.py:40: FutureWarning: Method .as_matrix will be removed in a future version. Use .values instead.\n",
      "  key_pts = self.key_pts_frame.iloc[idx, 1:].as_matrix()\n",
      "/content/drive/My Drive/Assignment_1_Facial_Keypoints/data_load.py:40: FutureWarning: Method .as_matrix will be removed in a future version. Use .values instead.\n",
      "  key_pts = self.key_pts_frame.iloc[idx, 1:].as_matrix()\n"
     ]
    },
    {
     "name": "stdout",
     "output_type": "stream",
     "text": [
      "Epoch: 50, Batch: 10, Avg. Loss: 0.015404599625617266\n"
     ]
    },
    {
     "name": "stderr",
     "output_type": "stream",
     "text": [
      "/content/drive/My Drive/Assignment_1_Facial_Keypoints/data_load.py:40: FutureWarning: Method .as_matrix will be removed in a future version. Use .values instead.\n",
      "  key_pts = self.key_pts_frame.iloc[idx, 1:].as_matrix()\n",
      "/content/drive/My Drive/Assignment_1_Facial_Keypoints/data_load.py:40: FutureWarning: Method .as_matrix will be removed in a future version. Use .values instead.\n",
      "  key_pts = self.key_pts_frame.iloc[idx, 1:].as_matrix()\n",
      "/content/drive/My Drive/Assignment_1_Facial_Keypoints/data_load.py:40: FutureWarning: Method .as_matrix will be removed in a future version. Use .values instead.\n",
      "  key_pts = self.key_pts_frame.iloc[idx, 1:].as_matrix()\n",
      "/content/drive/My Drive/Assignment_1_Facial_Keypoints/data_load.py:40: FutureWarning: Method .as_matrix will be removed in a future version. Use .values instead.\n",
      "  key_pts = self.key_pts_frame.iloc[idx, 1:].as_matrix()\n"
     ]
    },
    {
     "name": "stdout",
     "output_type": "stream",
     "text": [
      "Epoch: 50, Batch: 20, Avg. Loss: 0.012161093670874834\n"
     ]
    },
    {
     "name": "stderr",
     "output_type": "stream",
     "text": [
      "/content/drive/My Drive/Assignment_1_Facial_Keypoints/data_load.py:40: FutureWarning: Method .as_matrix will be removed in a future version. Use .values instead.\n",
      "  key_pts = self.key_pts_frame.iloc[idx, 1:].as_matrix()\n",
      "/content/drive/My Drive/Assignment_1_Facial_Keypoints/data_load.py:40: FutureWarning: Method .as_matrix will be removed in a future version. Use .values instead.\n",
      "  key_pts = self.key_pts_frame.iloc[idx, 1:].as_matrix()\n",
      "/content/drive/My Drive/Assignment_1_Facial_Keypoints/data_load.py:40: FutureWarning: Method .as_matrix will be removed in a future version. Use .values instead.\n",
      "  key_pts = self.key_pts_frame.iloc[idx, 1:].as_matrix()\n",
      "/content/drive/My Drive/Assignment_1_Facial_Keypoints/data_load.py:40: FutureWarning: Method .as_matrix will be removed in a future version. Use .values instead.\n",
      "  key_pts = self.key_pts_frame.iloc[idx, 1:].as_matrix()\n"
     ]
    },
    {
     "name": "stdout",
     "output_type": "stream",
     "text": [
      "Epoch: 50, Batch: 30, Avg. Loss: 0.012653593346476555\n"
     ]
    },
    {
     "name": "stderr",
     "output_type": "stream",
     "text": [
      "/content/drive/My Drive/Assignment_1_Facial_Keypoints/data_load.py:40: FutureWarning: Method .as_matrix will be removed in a future version. Use .values instead.\n",
      "  key_pts = self.key_pts_frame.iloc[idx, 1:].as_matrix()\n",
      "/content/drive/My Drive/Assignment_1_Facial_Keypoints/data_load.py:40: FutureWarning: Method .as_matrix will be removed in a future version. Use .values instead.\n",
      "  key_pts = self.key_pts_frame.iloc[idx, 1:].as_matrix()\n",
      "/content/drive/My Drive/Assignment_1_Facial_Keypoints/data_load.py:40: FutureWarning: Method .as_matrix will be removed in a future version. Use .values instead.\n",
      "  key_pts = self.key_pts_frame.iloc[idx, 1:].as_matrix()\n",
      "/content/drive/My Drive/Assignment_1_Facial_Keypoints/data_load.py:40: FutureWarning: Method .as_matrix will be removed in a future version. Use .values instead.\n",
      "  key_pts = self.key_pts_frame.iloc[idx, 1:].as_matrix()\n"
     ]
    },
    {
     "name": "stdout",
     "output_type": "stream",
     "text": [
      "Epoch: 50, Batch: 40, Avg. Loss: 0.012695332244038581\n"
     ]
    },
    {
     "name": "stderr",
     "output_type": "stream",
     "text": [
      "/content/drive/My Drive/Assignment_1_Facial_Keypoints/data_load.py:40: FutureWarning: Method .as_matrix will be removed in a future version. Use .values instead.\n",
      "  key_pts = self.key_pts_frame.iloc[idx, 1:].as_matrix()\n",
      "/content/drive/My Drive/Assignment_1_Facial_Keypoints/data_load.py:40: FutureWarning: Method .as_matrix will be removed in a future version. Use .values instead.\n",
      "  key_pts = self.key_pts_frame.iloc[idx, 1:].as_matrix()\n",
      "/content/drive/My Drive/Assignment_1_Facial_Keypoints/data_load.py:40: FutureWarning: Method .as_matrix will be removed in a future version. Use .values instead.\n",
      "  key_pts = self.key_pts_frame.iloc[idx, 1:].as_matrix()\n",
      "/content/drive/My Drive/Assignment_1_Facial_Keypoints/data_load.py:40: FutureWarning: Method .as_matrix will be removed in a future version. Use .values instead.\n",
      "  key_pts = self.key_pts_frame.iloc[idx, 1:].as_matrix()\n"
     ]
    },
    {
     "name": "stdout",
     "output_type": "stream",
     "text": [
      "Epoch: 50, Batch: 50, Avg. Loss: 0.014791813399642705\n"
     ]
    },
    {
     "name": "stderr",
     "output_type": "stream",
     "text": [
      "/content/drive/My Drive/Assignment_1_Facial_Keypoints/data_load.py:40: FutureWarning: Method .as_matrix will be removed in a future version. Use .values instead.\n",
      "  key_pts = self.key_pts_frame.iloc[idx, 1:].as_matrix()\n",
      "/content/drive/My Drive/Assignment_1_Facial_Keypoints/data_load.py:40: FutureWarning: Method .as_matrix will be removed in a future version. Use .values instead.\n",
      "  key_pts = self.key_pts_frame.iloc[idx, 1:].as_matrix()\n",
      "/content/drive/My Drive/Assignment_1_Facial_Keypoints/data_load.py:40: FutureWarning: Method .as_matrix will be removed in a future version. Use .values instead.\n",
      "  key_pts = self.key_pts_frame.iloc[idx, 1:].as_matrix()\n",
      "/content/drive/My Drive/Assignment_1_Facial_Keypoints/data_load.py:40: FutureWarning: Method .as_matrix will be removed in a future version. Use .values instead.\n",
      "  key_pts = self.key_pts_frame.iloc[idx, 1:].as_matrix()\n"
     ]
    }
   ],
   "source": [
    "# train your network\n",
    "n_epochs = 50 # start small, and increase when you've decided on your model structure and hyperparams\n",
    "\n",
    "train_losses, test_losses = train_net(n_epochs)"
   ]
  },
  {
   "cell_type": "code",
   "execution_count": 138,
   "metadata": {
    "colab": {
     "base_uri": "https://localhost:8080/",
     "height": 282
    },
    "colab_type": "code",
    "id": "_qpvaNi00qD4",
    "outputId": "b4c5c588-003d-4449-e912-b96542dc9ebd"
   },
   "outputs": [
    {
     "data": {
      "text/plain": [
       "[<matplotlib.lines.Line2D at 0x7f4cef1d2ac8>]"
      ]
     },
     "execution_count": 138,
     "metadata": {
      "tags": []
     },
     "output_type": "execute_result"
    },
    {
     "data": {
      "image/png": "[encoded data removed]",
      "text/plain": [
       "<Figure size 432x288 with 1 Axes>"
      ]
     },
     "metadata": {
      "tags": []
     },
     "output_type": "display_data"
    }
   ],
   "source": [
    "plt.plot(train_losses, label = 'train loss')"
   ]
  },
  {
   "cell_type": "code",
   "execution_count": 139,
   "metadata": {
    "colab": {
     "base_uri": "https://localhost:8080/",
     "height": 282
    },
    "colab_type": "code",
    "id": "25OYyuGHrpZS",
    "outputId": "50bd0b3b-16be-4b1a-f3a4-0b3b2b0bde42"
   },
   "outputs": [
    {
     "data": {
      "text/plain": [
       "[<matplotlib.lines.Line2D at 0x7f4cef10c160>]"
      ]
     },
     "execution_count": 139,
     "metadata": {
      "tags": []
     },
     "output_type": "execute_result"
    },
    {
     "data": {
      "image/png": "[encoded data removed]",
      "text/plain": [
       "<Figure size 432x288 with 1 Axes>"
      ]
     },
     "metadata": {
      "tags": []
     },
     "output_type": "display_data"
    }
   ],
   "source": [
    "plt.plot(test_losses, label = 'test loss')"
   ]
  },
  {
   "cell_type": "code",
   "execution_count": 141,
   "metadata": {
    "colab": {
     "base_uri": "https://localhost:8080/",
     "height": 281
    },
    "colab_type": "code",
    "id": "M1eMUQ3_k-Zk",
    "outputId": "8b8bd7bc-7918-4a2f-912a-67c4ed75448c"
   },
   "outputs": [
    {
     "data": {
      "image/png": "[encoded data removed]",
      "text/plain": [
       "<Figure size 1152x288 with 1 Axes>"
      ]
     },
     "metadata": {
      "tags": []
     },
     "output_type": "display_data"
    }
   ],
   "source": [
    "fig, ax = plt.subplots(1,1,figsize = (16,4))\n",
    "\n",
    "ax.set_title('Train vs Test')\n",
    "ax.plot(train_losses, label = 'train loss')\n",
    "ax.plot(test_losses, label = 'test loss')\n",
    "ax.legend()\n",
    "plt.show()"
   ]
  },
  {
   "cell_type": "markdown",
   "metadata": {
    "colab_type": "text",
    "id": "YX7Tomo7jOoX"
   },
   "source": [
    "## Test data\n",
    "\n",
    "See how your model performs on previously unseen, test data. We've already loaded and transformed this data, similar to the training data. Next, run your trained model on these images to see what kind of keypoints are produced. You should be able to see if your model is fitting each new face it sees, if the points are distributed randomly, or if the points have actually overfitted the training data and do not generalize."
   ]
  },
  {
   "cell_type": "code",
   "execution_count": 142,
   "metadata": {
    "colab": {
     "base_uri": "https://localhost:8080/",
     "height": 222
    },
    "colab_type": "code",
    "id": "cL3Z_ufsjOoY",
    "outputId": "62995c60-39cb-4b30-eeee-03e87db351f0"
   },
   "outputs": [
    {
     "name": "stderr",
     "output_type": "stream",
     "text": [
      "/content/drive/My Drive/Assignment_1_Facial_Keypoints/data_load.py:40: FutureWarning: Method .as_matrix will be removed in a future version. Use .values instead.\n",
      "  key_pts = self.key_pts_frame.iloc[idx, 1:].as_matrix()\n",
      "/content/drive/My Drive/Assignment_1_Facial_Keypoints/data_load.py:40: FutureWarning: Method .as_matrix will be removed in a future version. Use .values instead.\n",
      "  key_pts = self.key_pts_frame.iloc[idx, 1:].as_matrix()\n",
      "/content/drive/My Drive/Assignment_1_Facial_Keypoints/data_load.py:40: FutureWarning: Method .as_matrix will be removed in a future version. Use .values instead.\n",
      "  key_pts = self.key_pts_frame.iloc[idx, 1:].as_matrix()\n",
      "/content/drive/My Drive/Assignment_1_Facial_Keypoints/data_load.py:40: FutureWarning: Method .as_matrix will be removed in a future version. Use .values instead.\n",
      "  key_pts = self.key_pts_frame.iloc[idx, 1:].as_matrix()\n"
     ]
    },
    {
     "name": "stdout",
     "output_type": "stream",
     "text": [
      "torch.Size([64, 1, 224, 224])\n",
      "torch.Size([64, 68, 2])\n",
      "torch.Size([64, 68, 2])\n"
     ]
    }
   ],
   "source": [
    "# get a sample of test data again\n",
    "test_images, test_outputs, gt_pts = net_sample_output()\n",
    "\n",
    "print(test_images.data.size())\n",
    "print(test_outputs.data.size())\n",
    "print(gt_pts.size())"
   ]
  },
  {
   "cell_type": "code",
   "execution_count": 143,
   "metadata": {
    "colab": {
     "base_uri": "https://localhost:8080/",
     "height": 557
    },
    "colab_type": "code",
    "id": "hSZZaQXusoX8",
    "outputId": "0d1479d6-cf19-4ab8-8fa3-e43e2fdde21a"
   },
   "outputs": [
    {
     "data": {
      "image/png": "[encoded data removed]",
      "text/plain": [
       "<Figure size 1440x720 with 1 Axes>"
      ]
     },
     "metadata": {
      "tags": []
     },
     "output_type": "display_data"
    },
    {
     "data": {
      "image/png": "[encoded data removed]",
      "text/plain": [
       "<Figure size 1440x720 with 1 Axes>"
      ]
     },
     "metadata": {
      "tags": []
     },
     "output_type": "display_data"
    },
    {
     "data": {
      "image/png": "[encoded data removed]",
      "text/plain": [
       "<Figure size 1440x720 with 1 Axes>"
      ]
     },
     "metadata": {
      "tags": []
     },
     "output_type": "display_data"
    },
    {
     "data": {
      "image/png": "[encoded data removed]",
      "text/plain": [
       "<Figure size 1440x720 with 1 Axes>"
      ]
     },
     "metadata": {
      "tags": []
     },
     "output_type": "display_data"
    },
    {
     "data": {
      "image/png": "[encoded data removed]",
      "text/plain": [
       "<Figure size 1440x720 with 1 Axes>"
      ]
     },
     "metadata": {
      "tags": []
     },
     "output_type": "display_data"
    }
   ],
   "source": [
    "## TODO: visualize your test output\n",
    "# you can use the same function as before, by un-commenting the line below:\n",
    "\n",
    "visualize_output(test_images, test_outputs, gt_pts, 5)\n"
   ]
  },
  {
   "cell_type": "markdown",
   "metadata": {
    "colab_type": "text",
    "id": "3ocVd654jOoc"
   },
   "source": [
    "Once you've found a good model (or two), save your model so you can load it and use it later!"
   ]
  },
  {
   "cell_type": "code",
   "execution_count": 0,
   "metadata": {
    "colab": {},
    "colab_type": "code",
    "id": "ypVar_hIjOoc"
   },
   "outputs": [],
   "source": [
    "## TODO: change the name to something uniqe for each new model\n",
    "model_dir = 'saved_models/'\n",
    "model_name = 'keypoints_model_50epochs_bs_64_gpu.pt'\n",
    "\n",
    "# after training, save your model parameters in the dir 'saved_models'\n",
    "torch.save(net.state_dict(), model_dir+model_name)"
   ]
  },
  {
   "cell_type": "code",
   "execution_count": 0,
   "metadata": {
    "colab": {},
    "colab_type": "code",
    "id": "pN_lo9Ye2a2x"
   },
   "outputs": [],
   "source": [
    "#save in cpu mode \n",
    "torch.save(net.cpu().state_dict(), model_dir+ 'keypoints_model_50epochs_bs_64_cpu.pt')"
   ]
  },
  {
   "cell_type": "code",
   "execution_count": 0,
   "metadata": {
    "colab": {},
    "colab_type": "code",
    "id": "pmQ-K02BmSbi"
   },
   "outputs": [],
   "source": [
    "# from google.colab import files\n",
    "# files.download(model_dir+model_name)"
   ]
  },
  {
   "cell_type": "markdown",
   "metadata": {
    "colab_type": "text",
    "id": "VjHHnYwCjOod"
   },
   "source": [
    "After you've trained a well-performing model, answer the following questions so that we have some insight into your training and architecture selection process. Answering all questions is required to pass this project."
   ]
  },
  {
   "cell_type": "markdown",
   "metadata": {
    "colab_type": "text",
    "id": "QQthYrbJjOoe"
   },
   "source": [
    "### Question 1: What optimization and loss functions did you choose and why?\n"
   ]
  },
  {
   "cell_type": "markdown",
   "metadata": {
    "colab_type": "text",
    "id": "wbrIwMNRjOoe"
   },
   "source": [
    "**Answer**: **Answer**: As a start, I chose the MSE loss as my loss function because its suitable for this regression task. The MSE loss measures the difference between the predicted value and target value by calculating the mean squared error (squared L2 norm) between them. However, I noticed the MSE loss was not decreasing well. The predicted keypoints were not good. I switched to L1/SmoothL1 loss and had better results.\n",
    "\n",
    "For the optimizer, I started with the Adam optimizer from the Facial keypoint paper as my baseline. I finally tweaked the Adam optimizer with a learning rate of 0.001 after doing some trials on a no of epochs.  "
   ]
  },
  {
   "cell_type": "markdown",
   "metadata": {
    "colab_type": "text",
    "id": "gSzjafkijOoe"
   },
   "source": [
    "### Question 2: What kind of network architecture did you start with and how did it change as you tried different architectures? Did you decide to add more convolutional layers or any layers to avoid overfitting the data?"
   ]
  },
  {
   "cell_type": "markdown",
   "metadata": {
    "colab_type": "text",
    "id": "WPR9yKfjjOof"
   },
   "source": [
    "**Answer**: I designed my initial architecture using the configuration from the facial keypoint paper. It was a good start. I later made changes to the kernel size for the first 4 conv layers to suit my own dimensions and also reduce huge downsampling. I also modified the no of neurons in the fully connected layers to balance up dimension mismatch and used droppout layers to avoid overfitting the data."
   ]
  },
  {
   "cell_type": "markdown",
   "metadata": {
    "colab_type": "text",
    "id": "bnCOiPuejOof"
   },
   "source": [
    "### Question 3: How did you decide on the number of epochs and batch_size to train your model?"
   ]
  },
  {
   "cell_type": "markdown",
   "metadata": {
    "colab_type": "text",
    "id": "RqPVwFkmjOog"
   },
   "source": [
    "**Answer**: I started with just 2 epochs to get my hyperparameters right since I was first on CPU. When I was satisfied with the configurations of this initial run, I switched to gpu. The loss reduced significantly at the early phase and saturated around the 20th epoch. At the end of my 50th epoch, I was able to gain some little improvements. I chose the batch size of 64 which was also good as it utilized the memory usage I had on the gpu."
   ]
  },
  {
   "cell_type": "markdown",
   "metadata": {
    "colab_type": "text",
    "id": "3Jj5wpMWjOog"
   },
   "source": [
    "## Feature Visualization\n",
    "\n",
    "Sometimes, neural networks are thought of as a black box, given some input, they learn to produce some output. CNN's are actually learning to recognize a variety of spatial patterns and you can visualize what each convolutional layer has been trained to recognize by looking at the weights that make up each convolutional kernel and applying those one at a time to a sample image. This technique is called feature visualization and it's useful for understanding the inner workings of a CNN."
   ]
  },
  {
   "cell_type": "code",
   "execution_count": 3,
   "metadata": {
    "colab": {
     "base_uri": "https://localhost:8080/",
     "height": 34
    },
    "colab_type": "code",
    "id": "FGshQbCkjOom",
    "outputId": "8050427d-d65e-445e-f946-57441cde0694"
   },
   "outputs": [
    {
     "data": {
      "text/plain": [
       "<All keys matched successfully>"
      ]
     },
     "execution_count": 3,
     "metadata": {},
     "output_type": "execute_result"
    }
   ],
   "source": [
    "## TODO: Define the Net in models.py\n",
    "\n",
    "import torch\n",
    "import torch.nn as nn\n",
    "import torch.nn.functional as F\n",
    "\n",
    "# import the usual resources\n",
    "import matplotlib.pyplot as plt\n",
    "import numpy as np\n",
    "\n",
    "## TODO: Once you've define the network, you can instantiate it\n",
    "# one example conv layer has been provided for you\n",
    "from models import Net\n",
    "\n",
    "net = Net() \n",
    "\n",
    "model_dir = 'saved_models/'\n",
    "model_name = 'keypoints_model_50epochs_bs_64_cpu.pt'\n",
    "\n",
    "net.load_state_dict(torch.load(model_dir + model_name))"
   ]
  },
  {
   "cell_type": "markdown",
   "metadata": {
    "colab_type": "text",
    "id": "JZTenn8-jOoh"
   },
   "source": [
    "In the cell below, you can see how to extract a single filter (by index) from your first convolutional layer. The filter should appear as a grayscale grid."
   ]
  },
  {
   "cell_type": "code",
   "execution_count": 100,
   "metadata": {
    "colab": {
     "base_uri": "https://localhost:8080/",
     "height": 370
    },
    "colab_type": "code",
    "id": "18qe1NfRjOoh",
    "outputId": "52526703-c675-4ea5-fb5e-1be426be1bb0"
   },
   "outputs": [
    {
     "name": "stdout",
     "output_type": "stream",
     "text": [
      "[[ 0.20172553 -0.17725003 -0.35116392 -0.36699241]\n",
      " [ 0.30334729  0.02891639  0.257458   -0.22835463]\n",
      " [-0.01015871  0.15074682 -0.18511227 -0.0452806 ]\n",
      " [ 0.27062428 -0.0131095  -0.00697183  0.18906222]]\n",
      "(4, 4)\n"
     ]
    },
    {
     "data": {
      "text/plain": [
       "<matplotlib.image.AxesImage at 0x7fa1b733c198>"
      ]
     },
     "execution_count": 100,
     "metadata": {},
     "output_type": "execute_result"
    },
    {
     "data": {
      "image/png": "[encoded data removed]",
      "text/plain": [
       "<matplotlib.figure.Figure at 0x7fa1b71653c8>"
      ]
     },
     "metadata": {
      "needs_background": "light"
     },
     "output_type": "display_data"
    }
   ],
   "source": [
    "# Get the weights in the first conv layer, \"conv1\"\n",
    "# if necessary, change this to reflect the name of your first conv layer\n",
    "weights1 = net.conv1.weight.data\n",
    "\n",
    "w = weights1.numpy()\n",
    "\n",
    "filter_index = 1\n",
    "\n",
    "print(w[filter_index][0])\n",
    "print(w[filter_index][0].shape)\n",
    "\n",
    "# display the filter weights\n",
    "plt.imshow(w[filter_index][0], cmap='gray')\n"
   ]
  },
  {
   "cell_type": "markdown",
   "metadata": {
    "colab_type": "text",
    "id": "BNypLuZajOoj"
   },
   "source": [
    "## Feature maps\n",
    "\n",
    "Each CNN has at least one convolutional layer that is composed of stacked filters (also known as convolutional kernels). As a CNN trains, it learns what weights to include in it's convolutional kernels and when these kernels are applied to some input image, they produce a set of **feature maps**. So, feature maps are just sets of filtered images; they are the images produced by applying a convolutional kernel to an input image. These maps show us the features that the different layers of the neural network learn to extract. For example, you might imagine a convolutional kernel that detects the vertical edges of a face or another one that detects the corners of eyes. You can see what kind of features each of these kernels detects by applying them to an image. One such example is shown below; from the way it brings out the lines in an the image, you might characterize this as an edge detection filter.\n",
    "\n",
    "<img src='images/feature_map_ex.png' width=50% height=50%/>\n",
    "\n",
    "\n",
    "Next, choose a test image and filter it with one of the convolutional kernels in your trained CNN; look at the filtered output to get an idea what that particular kernel detects.\n",
    "\n",
    "### TODO: Filter an image to see the effect of a convolutional kernel\n",
    "---"
   ]
  },
  {
   "cell_type": "code",
   "execution_count": 106,
   "metadata": {
    "colab": {},
    "colab_type": "code",
    "id": "fG42oMgsjOoj"
   },
   "outputs": [
    {
     "data": {
      "image/png": "[encoded data removed]",
      "text/plain": [
       "<matplotlib.figure.Figure at 0x7fa1b77aa400>"
      ]
     },
     "metadata": {
      "needs_background": "light"
     },
     "output_type": "display_data"
    },
    {
     "data": {
      "image/png": "[encoded data removed]",
      "text/plain": [
       "<matplotlib.figure.Figure at 0x7fa1b77aa4a8>"
      ]
     },
     "metadata": {
      "needs_background": "light"
     },
     "output_type": "display_data"
    }
   ],
   "source": [
    "import cv2 \n",
    "\n",
    "##TODO: load in and display any image from the transformed test dataset\n",
    "dataiter = iter(test_loader)\n",
    "data = dataiter.next()\n",
    "images, keypts  = data['image'], data['keypoints']\n",
    "\n",
    "\n",
    "## TODO: Using cv's filter2D function,\n",
    "## apply a specific set of filter weights (like the one displayed above) to the test image\n",
    "\n",
    "images = images.numpy()\n",
    "\n",
    "# select an image by index\n",
    "idx = 2\n",
    "img = np.squeeze(images[idx])\n",
    "\n",
    "plt.imshow(img, cmap='gray')\n",
    "\n",
    "# # 1st conv layer, conv1\n",
    "# weights2 = net.conv1.weight.data\n",
    "# w = weights2.numpy()\n",
    "\n",
    "# 1. first conv layer\n",
    "# for 5 filters\n",
    "fig=plt.figure(figsize=(30, 10))\n",
    "columns = 2\n",
    "rows = 1\n",
    "for i in range(0, columns*rows):\n",
    "    fig.add_subplot(rows, columns, i+1)\n",
    "    if ((i%2)==0):\n",
    "        plt.imshow(w[filter_index][0], cmap='gray')\n",
    "    else:\n",
    "        c = cv2.filter2D(img, -1, w[filter_index][0])\n",
    "        plt.imshow(c, cmap='gray')\n",
    "plt.show()"
   ]
  },
  {
   "cell_type": "markdown",
   "metadata": {
    "colab_type": "text",
    "id": "ahdX1MS8jOol"
   },
   "source": [
    "### Question 4: Choose one filter from your trained CNN and apply it to a test image; what purpose do you think it plays? What kind of feature do you think it detects?\n"
   ]
  },
  {
   "cell_type": "markdown",
   "metadata": {
    "colab_type": "text",
    "id": "lP6PqoeDjOol"
   },
   "source": [
    "**Answer**:  It's like a vertical edge detector. It detects vertical lines by calculating the intensity difference between the left and right pixel values"
   ]
  },
  {
   "cell_type": "markdown",
   "metadata": {
    "colab_type": "text",
    "id": "Jo1JUkEjjOol"
   },
   "source": [
    "---\n",
    "## Moving on!\n",
    "\n",
    "Now that you've defined and trained your model (and saved the best model), you are ready to move on to the last notebook, which combines a face detector with your saved model to create a facial keypoint detection system that can predict the keypoints on *any* face in an image!"
   ]
  },
  {
   "cell_type": "code",
   "execution_count": 0,
   "metadata": {
    "colab": {},
    "colab_type": "code",
    "id": "S9Bkf5b-GVvJ"
   },
   "outputs": [],
   "source": []
  }
 ],
 "metadata": {
  "accelerator": "GPU",
  "colab": {
   "collapsed_sections": [],
   "name": "2. Define the Network Architecture.ipynb",
   "provenance": [],
   "toc_visible": true
  },
  "kernelspec": {
   "display_name": "Python 3",
   "language": "python",
   "name": "python3"
  },
  "language_info": {
   "codemirror_mode": {
    "name": "ipython",
    "version": 3
   },
   "file_extension": ".py",
   "mimetype": "text/x-python",
   "name": "python",
   "nbconvert_exporter": "python",
   "pygments_lexer": "ipython3",
   "version": "3.7.3"
  }
 },
 "nbformat": 4,
 "nbformat_minor": 1
}
